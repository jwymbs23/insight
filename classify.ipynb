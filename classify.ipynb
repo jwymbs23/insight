{
 "cells": [
  {
   "cell_type": "code",
   "execution_count": 1,
   "metadata": {},
   "outputs": [],
   "source": [
    "import glob\n",
    "import pandas as pd\n",
    "import numpy as np\n",
    "import pickle\n",
    "import seaborn as sns\n",
    "\n",
    "import matplotlib.pyplot as plt\n",
    "%matplotlib inline\n",
    "\n",
    "import random\n"
   ]
  },
  {
   "cell_type": "code",
   "execution_count": 3,
   "metadata": {},
   "outputs": [
    {
     "name": "stdout",
     "output_type": "stream",
     "text": [
      "['label', 'word_count', 'sent_len', 'word_len', 'sent_len_std', 'unique_word_frac', 'cps', 'qps', 'exps', 'adverbs', 'verbs', 'adjectives', 'foreign', 'flesch', 'said_ps', 'and_ps', 'but_ps', 'flesch_five', 'flesch_sec', 'total_adv', 'total_verb', 'total_adj', 'sent_count', 'adv_ps', 'verb_ps', 'adj_ps', 'RB_ps', 'RBR_ps', 'RBS_ps', 'WRB_ps', 'VB_ps', 'VBD_ps', 'VBG_ps', 'VBN_ps', 'VBP_ps', 'VBZ_ps', 'JJ_ps', 'JJS_ps', 'JJR_ps', 'told_ps', 'ngram_NN IN DT NN', 'ngram_IN DT NN PP', 'ngram_JJ NN IN DT', 'ngram_NN PP DT NN', 'ngram_IN DT JJ NN', 'ngram_VB DT JJ NN', 'ngram_NN IN NN PP', 'ngram_JJ NN IN NN', 'ngram_VB IN DT NN', 'ngram_IN DT NN IN', 'ngram_NN IN JJ NN', 'ngram_VB DT NN IN', 'ngram_DT JJ NN IN', 'ngram_DT NN IN DT', 'ngram_DT NN IN NN', 'ngram_NN PP PRP VB', 'ngram_JJ NN PP VB', 'ngram_PP DT JJ NN', 'ngram_JJ NN PP PP', 'ngram_NN NN NN NN', 'ngram_CD PP CD NN', 'ngram_NN NN NN VB', 'ngram_NN NN VB CD', 'ngram_NN IN NN NN', 'ngram_IN DT NN NN', 'ngram_PP NN NN PP', 'ngram_NN NN NN PP', 'ngram_VB DT NN PP', 'ngram_DT JJ NN PP', 'ngram_PP DT NN NN', 'ngram_DT NN NN NN', 'ngram_PP PP PRP VB', 'ngram_$ CD PP CD', 'ngram_CD PP CD CD', 'ngram_DT NN PP PP', 'ngram_PRP VB JJ NN', 'ngram_NN VB IN NN', 'ngram_NN IN DT JJ', 'ngram_NN VB VB IN', 'ngram_PP DT NN VB', 'ngram_DT JJ NN NN', 'ngram_JJ NN NN VB', 'ngram_NN NN IN NN', 'ngram_NN NN NN IN', 'ngram_VB PRP$ JJ NN', 'ngram_DT NN NN PP', 'ngram_JJ NN PP NN', 'ngram_NN VB DT NN', 'ngram_JJ NN PP IN', 'ngram_JJ NN VB VB', 'ngram_PP JJ NN PP', 'ngram_NN PP PP JJ', 'ngram_IN JJ NN PP', 'ngram_IN PRP$ NN PP', 'ngram_NN PP NN NN', 'ngram_NN PP NN VB', 'ngram_IN DT NN VB', 'ngram_NN NN PP NN', 'ngram_JJ NN NN NN', 'ngram_IN PRP VB JJ', 'ngram_NN NN VB NN', 'ngram_NN CC NN PP', 'ngram_NN PP PRP$ NN', 'ngram_NN NN PP PP', 'ngram_NN PP PP NN', 'ngram_NN IN PRP$ NN', 'ngram_NN VB IN DT', 'ngram_JJ JJ NN PP', 'ngram_JJ NN NN PP', 'ngram_IN NN NN NN', 'ngram_NN PP PP PRP', 'ngram_DT NN VB JJ', 'ngram_PP DT NN IN', 'ngram_NN IN PP JJ', 'ngram_PP PRP VB PP', 'ngram_PP PP NN PP', 'ngram_PRP$ NN CC NN', 'ngram_NN PP JJ NN', 'ngram_JJ NN PP DT', 'ngram_NN NN PP VB', 'ngram_NN VB JJ NN', 'ngram_PP NN NN VB', 'ngram_NN PP DT JJ', 'ngram_DT JJ NN VB', 'ngram_NN IN NN IN', 'ngram_NN PP VB DT', 'ngram_NN NN PP PRP', 'ngram_$ CD CD PP', 'ngram_VB JJ NN PP', 'ngram_JJ JJ NN NN', 'ngram_DT JJ JJ NN', 'ngram_PP CD PP NN', 'ngram_NN PP NN IN', 'ngram_NN PP NN PP', 'ngram_PP NN PP NN', 'ngram_NN PP IN DT', 'ngram_PP DT NN PP', 'ngram_NN PP PP DT', 'ngram_CD NN PP CD', 'ngram_WRB PP NN CD', 'ngram_PP NN CD NN', 'ngram_VB RB RB JJ', 'ngram_CC JJ NN PP', 'ngram_NN IN NN VB', 'ngram_PP IN DT NN', 'ngram_IN NN PP DT', 'ngram_DT NN NN IN', 'ngram_NN PP VB IN', 'ngram_NN PP CD NN', 'ngram_PP NN VB PP', 'ngram_IN NN NN PP', 'ngram_$ CD DT NN', 'ngram_NN NN PP DT', 'ngram_VB IN DT JJ', 'ngram_VB NN IN NN', 'ngram_PP NN PP PP', 'ngram_NN IN CD PP', 'ngram_PP PRP$ NN VB', 'ngram_VB IN PRP VB', 'ngram_VB JJ NN NN', 'ngram_VB JJ NN IN', 'ngram_NN NN CC NN', 'ngram_PP CC PRP VB', 'ngram_NN VB RB VB', 'ngram_TO VB DT NN', 'ngram_IN NN PP PP', 'ngram_DT NN VB IN', 'ngram_VB JJ NN VB', 'ngram_JJ VB JJ NN', 'ngram_NN VB TO VB', 'ngram_VB VB IN NN', 'ngram_NN CC NN NN', 'ngram_CD PP CD PP', 'ngram_PP $ CD PP', 'ngram_VB VB TO VB', 'ngram_NN NN NN RB', 'ngram_NN PP $ CD', 'ngram_VB DT NN NN', 'ngram_IN $ CD PP', 'ngram_IN PP JJ NN', 'ngram_JJ NN IN JJ', 'ngram_JJ NN PP PRP', 'ngram_TO DT NN IN', 'ngram_IN JJ NN VB', 'ngram_NN WRB PRP VB', 'ngram_WP PRP VB PP', 'ngram_WRB PRP VB NN', 'ngram_NN NN VB JJ', 'ngram_PP NN VB IN', 'ngram_VB IN JJ NN', 'ngram_IN PRP MD VB', 'ngram_PP NN MD VB', 'ngram_CD NN IN NN', 'ngram_PP CD NN PP', 'ngram_PRP VB TO VB', 'ngram_NN PP IN NN', 'ngram_PP NN CD PP', 'ngram_NN PP NN CD', 'ngram_DT NN JJ NN', 'ngram_VB IN NN IN', 'ngram_VB $ CD PP', 'ngram_NN IN DT CD', 'ngram_NN NN IN DT', 'ngram_NN VB VB VB', 'ngram_IN JJ NN NN', 'ngram_JJ CC JJ NN', 'ngram_VB IN PRP$ NN', 'ngram_PRP VB RB VB', 'ngram_NN CC JJ NN', 'ngram_IN NN IN NN', 'ngram_DT NN NN VB', 'ngram_PP JJ NN NN', 'ngram_NN PP VB VB', 'ngram_PP PP JJ VB', 'ngram_IN NN PP NN', 'ngram_NN NN PP CC', 'ngram_JJ NN NN IN', 'ngram_VB TO VB DT', 'ngram_IN NN CC NN', 'ngram_DT JJ NN CC', 'ngram_IN CD NN NN', 'ngram_NN IN CD NN', 'ngram_PP NN IN CD', 'ngram_DT NN VB DT', 'ngram_DT NN VB RB', 'ngram_JJ NN PP CC', 'ngram_PP PP CD PP', 'ngram_PP PP DT NN', 'ngram_PP NN PP PRP', 'ngram_PRP$ JJ NN PP', 'ngram_IN $ CD CD', 'ngram_$ CD CD IN', 'ngram_NN TO VB NN', 'ngram_VB TO DT NN', 'ngram_PRP VB DT NN', 'ngram_CD CD NN PP', 'ngram_PP PP NN NN', 'ngram_NN NN PP $', 'ngram_VB NN IN DT', 'ngram_PP JJ NN IN', 'ngram_DT NN VB PP', 'ngram_NN VB NN NN', 'ngram_TO VB PRP$ NN', 'ngram_CD NN JJ PP', 'ngram_NN PP PP PP', 'ngram_PP PRP VB JJ', 'ngram_NN PP PP VB', 'ngram_NN PP WP VB', 'ngram_VB VB IN DT', 'ngram_VB PRP$ NN PP', 'ngram_NN NN MD VB', 'ngram_NN PP VB RB', 'ngram_PP IN PRP VB', 'ngram_PP JJ NN VB', 'ngram_PP VB DT NN', 'ngram_NN MD VB VB', 'ngram_IN NN IN DT', 'ngram_DT NN DT NN', 'ngram_NN NN VB PP', 'ngram_PRP$ NN PP CC', 'ngram_PP NN CC VB', 'ngram_PP NN IN NN', 'ngram_JJ NN PP RB', 'ngram_PP DT VB PRP', 'ngram_DT VB PRP PP', 'ngram_PP IN NN PP', 'ngram_NN PP RB IN', 'ngram_NN PP CD PP', 'ngram_PP PRP VB NN', 'ngram_PP PRP MD VB', 'ngram_NN PP CC VB', 'ngram_PP IN DT JJ', 'ngram_DT NN IN CD', 'ngram_PP VB JJ IN', 'ngram_VB JJ IN NN', 'ngram_PP PP NN VB', 'ngram_JJ PP NN VB', 'ngram_PRP VB PP PP', 'ngram_NN IN NN CC']\n"
     ]
    }
   ],
   "source": [
    "f_list = glob.glob('*_data_df.p')\n",
    "df_list = []\n",
    "for fname in f_list:\n",
    "    if 'jupyter' not in fname:\n",
    "        #if 'guard' in fname:\n",
    "        df_list.append(pickle.load(open( fname, 'rb' )))\n",
    "#print(df_list[5])\n",
    "print(list(df_list[0]))"
   ]
  },
  {
   "cell_type": "code",
   "execution_count": 5,
   "metadata": {},
   "outputs": [
    {
     "name": "stderr",
     "output_type": "stream",
     "text": [
      "/home/joseph/anaconda3/envs/insight/lib/python3.6/site-packages/ipykernel_launcher.py:2: FutureWarning: Sorting because non-concatenation axis is not aligned. A future version\n",
      "of pandas will change to not sort by default.\n",
      "\n",
      "To accept the future behavior, pass 'sort=True'.\n",
      "\n",
      "To retain the current behavior and silence the warning, pass sort=False\n",
      "\n",
      "  \n"
     ]
    },
    {
     "name": "stdout",
     "output_type": "stream",
     "text": [
      "1515\n"
     ]
    }
   ],
   "source": [
    "#print(df_list)\n",
    "full_feature_df = pd.concat(df_list)\n",
    "#print(full_feature_df)\n",
    "print(len(list(full_feature_df)))"
   ]
  },
  {
   "cell_type": "code",
   "execution_count": 6,
   "metadata": {},
   "outputs": [],
   "source": [
    "full_feature_df = full_feature_df.loc[full_feature_df['sent_count'] > 5]"
   ]
  },
  {
   "cell_type": "code",
   "execution_count": 45,
   "metadata": {},
   "outputs": [],
   "source": [
    "full_feature_df['sent_len_mean_over_std'] = full_feature_df['sent_len']/full_feature_df['sent_len_std']\n",
    "full_feature_df = full_feature_df.loc[(full_feature_df['sent_len_std'] > 0) & (full_feature_df['sent_len'] > 0)]"
   ]
  },
  {
   "cell_type": "code",
   "execution_count": null,
   "metadata": {},
   "outputs": [],
   "source": []
  },
  {
   "cell_type": "code",
   "execution_count": null,
   "metadata": {},
   "outputs": [],
   "source": [
    "feat_list = ['sent_len', 'word_len', 'sent_len_std', 'unique_word_frac', \n",
    "             'cps', 'qps', 'exps', 'foreign', 'flesch',  'flesch_five',\n",
    "             'RB_ps', 'RBR_ps', 'RBS_ps', 'WRB_ps', 'VB_ps', \n",
    "             'VBD_ps', 'VBG_ps', 'VBN_ps', 'VBP_ps', 'VBZ_ps', 'JJ_ps', 'JJS_ps', 'JJR_ps',\n",
    "             'said_ps', 'and_ps', 'but_ps', 'told_ps', 'ngram_NN IN DT NN', 'ngram_IN DT NN PP',\n",
    "             'ngram_JJ NN IN DT', 'ngram_NN PP DT NN', 'ngram_IN DT JJ NN', 'ngram_VB DT JJ NN',\n",
    "             'ngram_NN IN NN PP', 'ngram_JJ NN IN NN', 'ngram_VB IN DT NN', 'ngram_IN DT NN IN',\n",
    "             'ngram_NN IN JJ NN', 'ngram_VB DT NN IN', 'ngram_DT JJ NN IN', 'ngram_DT NN IN DT',\n",
    "             'ngram_DT NN IN NN', 'ngram_NN PP PRP VB', 'ngram_JJ NN PP VB', 'ngram_PP DT JJ NN',\n",
    "             'ngram_JJ NN PP PP', 'ngram_NN NN NN NN', 'ngram_CD PP CD NN', 'ngram_NN NN NN VB',\n",
    "             'ngram_NN NN VB CD', 'ngram_NN IN NN NN', 'ngram_IN DT NN NN', 'ngram_PP NN NN PP',\n",
    "             'ngram_NN NN NN PP', 'ngram_VB DT NN PP', 'ngram_DT JJ NN PP', 'ngram_PP DT NN NN',\n",
    "             'ngram_DT NN NN NN', 'ngram_PP PP PRP VB', 'ngram_$ CD PP CD', 'ngram_CD PP CD CD',\n",
    "             'ngram_DT NN PP PP', 'ngram_PRP VB JJ NN', 'ngram_NN VB IN NN', 'ngram_NN IN DT JJ',\n",
    "             'ngram_NN VB VB IN', 'ngram_PP DT NN VB', 'ngram_DT JJ NN NN', 'ngram_JJ NN NN VB',\n",
    "             'ngram_NN NN IN NN', 'ngram_NN NN NN IN', 'ngram_VB PRP$ JJ NN', 'ngram_DT NN NN PP',\n",
    "             'ngram_JJ NN PP NN', 'ngram_NN VB DT NN', 'ngram_JJ NN PP IN', 'ngram_JJ NN VB VB',\n",
    "             'ngram_PP JJ NN PP', 'ngram_NN PP PP JJ', 'ngram_IN JJ NN PP', 'ngram_IN PRP$ NN PP',\n",
    "             'ngram_NN PP NN NN', 'ngram_NN PP NN VB', 'ngram_IN DT NN VB', 'ngram_NN NN PP NN',\n",
    "             'ngram_JJ NN NN NN', 'ngram_IN PRP VB JJ', 'ngram_NN NN VB NN', 'ngram_NN CC NN PP',\n",
    "             'ngram_NN PP PRP$ NN', 'ngram_NN NN PP PP', 'ngram_NN PP PP NN', 'ngram_NN IN PRP$ NN',\n",
    "             'ngram_NN VB IN DT', 'ngram_JJ JJ NN PP', 'ngram_JJ NN NN PP', 'ngram_IN NN NN NN',\n",
    "             'ngram_NN PP PP PRP', 'ngram_DT NN VB JJ', 'ngram_PP DT NN IN', 'ngram_NN IN PP JJ',\n",
    "             'ngram_PP PRP VB PP', 'ngram_PP PP NN PP', 'ngram_PRP$ NN CC NN', 'ngram_NN PP JJ NN',\n",
    "             'ngram_JJ NN PP DT', 'ngram_NN NN PP VB', 'ngram_NN VB JJ NN', 'ngram_PP NN NN VB',\n",
    "             'ngram_NN PP DT JJ', 'ngram_DT JJ NN VB', 'ngram_NN IN NN IN', 'ngram_NN PP VB DT',\n",
    "             'ngram_NN NN PP PRP', 'ngram_$ CD CD PP', 'ngram_VB JJ NN PP', 'ngram_JJ JJ NN NN',\n",
    "             'ngram_DT JJ JJ NN', 'ngram_PP CD PP NN', 'ngram_NN PP NN IN', 'ngram_NN PP NN PP',\n",
    "             'ngram_PP NN PP NN', 'ngram_NN PP IN DT', 'ngram_PP DT NN PP', 'ngram_NN PP PP DT',\n",
    "             'ngram_CD NN PP CD', 'ngram_WRB PP NN CD', 'ngram_PP NN CD NN', 'ngram_VB RB RB JJ',\n",
    "             'ngram_CC JJ NN PP', 'ngram_NN IN NN VB', 'ngram_PP IN DT NN', 'ngram_IN NN PP DT',\n",
    "             'ngram_DT NN NN IN', 'ngram_NN PP VB IN', 'ngram_NN PP CD NN', 'ngram_PP NN VB PP',\n",
    "             'ngram_IN NN NN PP', 'ngram_$ CD DT NN', 'ngram_NN NN PP DT', 'ngram_VB IN DT JJ',\n",
    "             'ngram_VB NN IN NN', 'ngram_PP NN PP PP', 'ngram_NN IN CD PP', 'ngram_PP PRP$ NN VB',\n",
    "             'ngram_VB IN PRP VB', 'ngram_VB JJ NN NN', 'ngram_VB JJ NN IN', 'ngram_NN NN CC NN',\n",
    "             'ngram_PP CC PRP VB', 'ngram_NN VB RB VB', 'ngram_TO VB DT NN', 'ngram_IN NN PP PP',\n",
    "             'ngram_DT NN VB IN', 'ngram_VB JJ NN VB', 'ngram_JJ VB JJ NN', 'ngram_NN VB TO VB',\n",
    "             'ngram_VB VB IN NN', 'ngram_NN CC NN NN', 'ngram_CD PP CD PP', 'ngram_PP $ CD PP',\n",
    "             'ngram_VB VB TO VB', 'ngram_NN NN NN RB', 'ngram_NN PP $ CD', 'ngram_VB DT NN NN',\n",
    "             'ngram_IN $ CD PP', 'ngram_IN PP JJ NN', 'ngram_JJ NN IN JJ', 'ngram_JJ NN PP PRP',\n",
    "             'ngram_TO DT NN IN', 'ngram_IN JJ NN VB', 'ngram_NN WRB PRP VB', 'ngram_WP PRP VB PP',\n",
    "             'ngram_WRB PRP VB NN', 'ngram_NN NN VB JJ', 'ngram_PP NN VB IN', 'ngram_VB IN JJ NN',\n",
    "             'ngram_IN PRP MD VB', 'ngram_PP NN MD VB', 'ngram_CD NN IN NN', 'ngram_PP CD NN PP',\n",
    "             'ngram_PRP VB TO VB', 'ngram_NN PP IN NN', 'ngram_PP NN CD PP', 'ngram_NN PP NN CD',\n",
    "             'ngram_DT NN JJ NN', 'ngram_VB IN NN IN', 'ngram_VB $ CD PP', 'ngram_NN IN DT CD',\n",
    "             'ngram_NN NN IN DT', 'ngram_NN VB VB VB', 'ngram_IN JJ NN NN', 'ngram_JJ CC JJ NN',\n",
    "             'ngram_VB IN PRP$ NN', 'ngram_PRP VB RB VB', 'ngram_NN CC JJ NN', 'ngram_IN NN IN NN',\n",
    "             'ngram_DT NN NN VB', 'ngram_PP JJ NN NN', 'ngram_NN PP VB VB', 'ngram_PP PP JJ VB',\n",
    "             'ngram_IN NN PP NN', 'ngram_NN NN PP CC', 'ngram_JJ NN NN IN', 'ngram_VB TO VB DT',\n",
    "             'ngram_IN NN CC NN', 'ngram_DT JJ NN CC', 'ngram_IN CD NN NN', 'ngram_NN IN CD NN',\n",
    "             'ngram_PP NN IN CD', 'ngram_DT NN VB DT', 'ngram_DT NN VB RB', 'ngram_JJ NN PP CC',\n",
    "             'ngram_PP PP CD PP', 'ngram_PP PP DT NN', 'ngram_PP NN PP PRP', 'ngram_PRP$ JJ NN PP',\n",
    "             'ngram_IN $ CD CD', 'ngram_$ CD CD IN', 'ngram_NN TO VB NN', 'ngram_VB TO DT NN',\n",
    "             'ngram_PRP VB DT NN', 'ngram_CD CD NN PP', 'ngram_PP PP NN NN', 'ngram_NN NN PP $',\n",
    "             'ngram_VB NN IN DT', 'ngram_PP JJ NN IN', 'ngram_DT NN VB PP', 'ngram_NN VB NN NN',\n",
    "             'ngram_TO VB PRP$ NN', 'ngram_CD NN JJ PP', 'ngram_NN PP PP PP', 'ngram_PP PRP VB JJ',\n",
    "             'ngram_NN PP PP VB', 'ngram_NN PP WP VB', 'ngram_VB VB IN DT', 'ngram_VB PRP$ NN PP',\n",
    "             'ngram_NN NN MD VB', 'ngram_NN PP VB RB', 'ngram_PP IN PRP VB', 'ngram_PP JJ NN VB',\n",
    "             'ngram_PP VB DT NN', 'ngram_NN MD VB VB', 'ngram_IN NN IN DT', 'ngram_DT NN DT NN',\n",
    "             'ngram_NN NN VB PP', 'ngram_PRP$ NN PP CC', 'ngram_PP NN CC VB', 'ngram_PP NN IN NN',\n",
    "             'ngram_JJ NN PP RB', 'ngram_PP DT VB PRP', 'ngram_DT VB PRP PP', 'ngram_PP IN NN PP',\n",
    "             'ngram_NN PP RB IN', 'ngram_NN PP CD PP', 'ngram_PP PRP VB NN', 'ngram_PP PRP MD VB',\n",
    "             'ngram_NN PP CC VB', 'ngram_PP IN DT JJ', 'ngram_DT NN IN CD', 'ngram_PP VB JJ IN',\n",
    "             'ngram_VB JJ IN NN', 'ngram_PP PP NN VB', 'ngram_JJ PP NN VB', 'ngram_PRP VB PP PP', 'ngram_NN IN NN CC']"
   ]
  },
  {
   "cell_type": "code",
   "execution_count": 17,
   "metadata": {},
   "outputs": [],
   "source": [
    "#full_feature_df = pd.concat(df_list)\n",
    "full_feature_df = full_feature_df.fillna(0)\n",
    "for i in feat_list:\n",
    "    if 'ngram_' in i:\n",
    "        full_feature_df[i] = full_feature_df[i]/full_feature_df['word_count']\n",
    "\n",
    "\n",
    "import matplotlib.ticker as ticker\n",
    "#corr = full_feature_df[feat_list].corr()\n",
    "\n",
    "#mask = np.zeros_like(corr, dtype=np.bool)\n",
    "#mask[np.triu_indices_from(mask)] = True\n",
    "\n",
    "#cmap = sns.diverging_palette(220, 10, as_cmap=True)\n",
    "#plt.figure(figsize=(10,10))\n",
    "# Draw the heatmap with the mask and correct aspect ratio\n",
    "#sns.heatmap(corr,cmap=cmap, center=0,\n",
    "#            square=True, linewidths=.3, cbar_kws={\"shrink\": .8})\n",
    "\n",
    "\n",
    "\n",
    "\n",
    "full_feature_df[feat_list].head()\n",
    "\n",
    "min_word_count = 0\n",
    "\n",
    "feature_array = full_feature_df.loc[(full_feature_df['word_count'] > min_word_count)][feat_list].values\n",
    "label_array =   full_feature_df.loc[(full_feature_df['word_count'] > min_word_count)]['label'].values\n",
    "#print(full_feature_df[feat_list][(full_feature_df >= 0).all(1)].head())\n",
    "\n",
    "article_counts = full_feature_df.groupby('label')['label'].count().tolist()\n",
    "class_names = [i.loc[0,'label'] for i in df_list]"
   ]
  },
  {
   "cell_type": "code",
   "execution_count": 18,
   "metadata": {},
   "outputs": [
    {
     "name": "stdout",
     "output_type": "stream",
     "text": [
      "['atl', 'breit', 'buzz', 'fox', 'guard', 'natrev', 'nyt', 'vox', 'wapo']\n",
      "[4921, 4667, 4605, 4229, 4856, 4903, 4970, 4933, 4864]\n",
      "['nyt', 'atl', 'fox', 'natrev', 'breit', 'wapo', 'buzz', 'vox', 'guard']\n",
      "[0, 4921, 9588, 14193, 18422, 23278, 28181, 33151, 38084, 42948]\n",
      "42948\n",
      "42948\n"
     ]
    }
   ],
   "source": [
    "#combine features\n",
    "#X = [[i, j, k, l, m, n, o] for i, j, k, l, m, n, o in zip(\n",
    "#    sent_len_std, unique_word_frac, word_len, cps, qps, exps, flesch)]#, sup_adv_ps, verb_ps, sent_compound)]\n",
    "#feature_names = ['sentence variability', 'unique word fraction', \n",
    "#                 'mean word length', 'commas per sentence', 'questions per sentence', \n",
    "#                 'exclamations per sentence', 'flesch']#, 'adverbs per sentence', \n",
    "                 #'verbs per sentence', 'sent_compound']\n",
    "\n",
    "\n",
    "\n",
    "X = feature_array\n",
    "feature_names = feat_list\n",
    "#print(label_array)\n",
    "\n",
    "from sklearn import preprocessing\n",
    "le = preprocessing.LabelEncoder()\n",
    "le.fit(class_names)\n",
    "\n",
    "print(list(le.classes_))\n",
    "\n",
    "#print(le.transform([\"tokyo\", \"tokyo\", \"paris\"]))\n",
    "\n",
    "#print(list(le.inverse_transform([2, 2, 1])))\n",
    "\n",
    "\n",
    "\n",
    "Y = le.transform(label_array)#[np.where(label_array, i)[0] for i in label_array]\n",
    "\n",
    "n_samples = len(X)\n",
    "\n",
    "data_boundaries = article_counts\n",
    "#data_boundaries = [n_articles for i in [nyt, breit, wapo, guard]]\n",
    "print(data_boundaries)\n",
    "print(class_names)\n",
    "cumulative_bounds = [0]\n",
    "for ci, i in enumerate(data_boundaries):\n",
    "    cumulative_bounds.append(i+cumulative_bounds[ci])\n",
    "print(cumulative_bounds)\n",
    "#cumulative_bounds = [0]\n",
    "#cumulative_bounds = [cumulative_bounds[i-1] + i for i in data_boundaries]\n",
    "print(len(X))\n",
    "#X = np.asarray(wc).reshape(-1,1)\n",
    "\n",
    "#labels\n",
    "#Y = [0 for i in range(len(nyt_feature_df.word_count))] + \\\n",
    "#    [1 for i in range(len(breit_feature_df.word_count))] + \\\n",
    "#    [2 for i in range(len(wapo_feature_df.word_count))] + \\\n",
    "#    [3 for i in range(len(guard_feature_df.word_count))]\n",
    "#Y = [0 for i in range(n_articles)] + [1 for i in range(n_articles)] + [2 for i in range(n_articles)] + [3 for i in range(n_articles)]\n",
    "print(len(Y))\n"
   ]
  },
  {
   "cell_type": "code",
   "execution_count": 19,
   "metadata": {},
   "outputs": [
    {
     "name": "stdout",
     "output_type": "stream",
     "text": [
      "[22008 36867 26640 ... 15014   351 32307]\n",
      "[35215 15522 22457 ... 20747 18160  4398]\n",
      "1554.7850936705047\n"
     ]
    }
   ],
   "source": [
    "#test train split\n",
    "from sklearn.model_selection import train_test_split\n",
    "\n",
    "indices = np.arange(n_samples)\n",
    "\n",
    "X_train, X_test, y_train, y_test, idx_train, idx_test = train_test_split(X, Y, indices, test_size=0.3)\n",
    "print(idx_train)\n",
    "print(idx_test)\n",
    "print(X_train.max())\n",
    "#text_list = nyt_sent + breit_sent + wapo_sent +guard_sent\n",
    "#print(len(text_list))"
   ]
  },
  {
   "cell_type": "code",
   "execution_count": 53,
   "metadata": {},
   "outputs": [
    {
     "name": "stdout",
     "output_type": "stream",
     "text": [
      "[6.25e-01 2.96e-01 4.20e-02 2.90e-02 7.92e-03 1.41e-04 1.01e-04 8.09e-05\n",
      " 4.00e-05 3.46e-05 2.58e-05 2.34e-05 2.21e-05 1.83e-05 1.56e-05]\n",
      "[7746.3  5333.41 2007.78 1667.77  872.1   116.48   98.62   88.15   61.98\n",
      "   57.63   49.75   47.45   46.05   41.95   38.65]\n"
     ]
    }
   ],
   "source": [
    "#pca\n",
    "\n",
    "from sklearn.decomposition import PCA\n",
    "pca = PCA(n_components=15)\n",
    "pca.fit(X)\n",
    "\n",
    "print(pca.explained_variance_ratio_)  \n",
    "\n",
    "print(pca.singular_values_)  "
   ]
  },
  {
   "cell_type": "code",
   "execution_count": 15,
   "metadata": {},
   "outputs": [
    {
     "ename": "NameError",
     "evalue": "name 'pca' is not defined",
     "output_type": "error",
     "traceback": [
      "\u001b[0;31m---------------------------------------------------------------------------\u001b[0m",
      "\u001b[0;31mNameError\u001b[0m                                 Traceback (most recent call last)",
      "\u001b[0;32m<ipython-input-15-14b103b9b533>\u001b[0m in \u001b[0;36m<module>\u001b[0;34m()\u001b[0m\n\u001b[1;32m      1\u001b[0m \u001b[0;31m#rf with pca\u001b[0m\u001b[0;34m\u001b[0m\u001b[0;34m\u001b[0m\u001b[0m\n\u001b[1;32m      2\u001b[0m \u001b[0;34m\u001b[0m\u001b[0m\n\u001b[0;32m----> 3\u001b[0;31m \u001b[0mX_t_train\u001b[0m \u001b[0;34m=\u001b[0m \u001b[0mpca\u001b[0m\u001b[0;34m.\u001b[0m\u001b[0mtransform\u001b[0m\u001b[0;34m(\u001b[0m\u001b[0mX_train\u001b[0m\u001b[0;34m)\u001b[0m\u001b[0;34m\u001b[0m\u001b[0m\n\u001b[0m\u001b[1;32m      4\u001b[0m \u001b[0mX_t_test\u001b[0m \u001b[0;34m=\u001b[0m \u001b[0mpca\u001b[0m\u001b[0;34m.\u001b[0m\u001b[0mtransform\u001b[0m\u001b[0;34m(\u001b[0m\u001b[0mX_test\u001b[0m\u001b[0;34m)\u001b[0m\u001b[0;34m\u001b[0m\u001b[0m\n\u001b[1;32m      5\u001b[0m \u001b[0;34m\u001b[0m\u001b[0m\n",
      "\u001b[0;31mNameError\u001b[0m: name 'pca' is not defined"
     ]
    }
   ],
   "source": [
    "#rf with pca\n",
    "\n",
    "X_t_train = pca.transform(X_train)\n",
    "X_t_test = pca.transform(X_test)\n",
    "\n",
    "from sklearn.ensemble import RandomForestClassifier\n",
    "rf_clf = RandomForestClassifier(n_estimators=30)\n",
    "for i in range(100,4500, 400):\n",
    "    rand_start = random.randint(0,4500 - i)\n",
    "    rf_clf = rf_clf.fit(X_t_train[rand_start:rand_start + i], y_train[rand_start:rand_start + i])\n",
    "\n",
    "    print(rf_clf.score(X_t_test, y_test))\n",
    "rf_clf = rf_clf.fit(X_t_train, y_train)\n",
    "print(rf_clf.score(X_t_test, y_test))\n",
    "\n",
    "y_pred = rf_clf.predict(X_t_test)\n",
    "#chance = [0 if random.random() > 0.5 else 1 for _ in range(len(y_pred))]"
   ]
  },
  {
   "cell_type": "code",
   "execution_count": 20,
   "metadata": {},
   "outputs": [
    {
     "name": "stdout",
     "output_type": "stream",
     "text": [
      "0.42017850213426466\n"
     ]
    }
   ],
   "source": [
    "#from sklearn.model_selection import GridSearchCV\n",
    "#parameters = {'max_depth':range(3,20)}\n",
    "#clf = GridSearchCV(tree.DecisionTreeClassifier(), parameters, n_jobs=4)\n",
    "#clf.fit(X=X_train, y=y_train)\n",
    "#tree_model = clf.best_estimator_\n",
    "#print (clf.best_score_, clf.best_params_) \n",
    "\n",
    "\n",
    "#clf = tree.DecisionTreeClassifier(max_depth = 5)\n",
    "#clf = clf.fit(X_train, y_train)\n",
    "\n",
    "from sklearn.ensemble import RandomForestClassifier\n",
    "rf_clf = RandomForestClassifier(n_estimators=30)\n",
    "#for i in range(100,4500, 400):\n",
    "#    rand_start = random.randint(0,4500 - i)\n",
    "#    rf_clf = rf_clf.fit(X_train[rand_start:rand_start + i], y_train[rand_start:rand_start + i])\n",
    "\n",
    "#    print(rf_clf.score(X_test, y_test))\n",
    "rf_clf = rf_clf.fit(X_train, y_train)\n",
    "print(rf_clf.score(X_test, y_test))\n",
    "\n",
    "y_pred = rf_clf.predict(X_test)\n",
    "#chance = [0 if random.random() > 0.5 else 1 for _ in range(len(y_pred))]"
   ]
  },
  {
   "cell_type": "code",
   "execution_count": null,
   "metadata": {
    "scrolled": true
   },
   "outputs": [],
   "source": [
    "from sklearn.ensemble import GradientBoostingClassifier\n",
    "\n",
    "xg_clf = GradientBoostingClassifier(n_estimators=100, learning_rate=0.25,\n",
    "                                 max_depth=6, random_state=0).fit(X_train, y_train)\n",
    "print(xg_clf.score(X_test, y_test))\n",
    "\n",
    "y_pred = xg_clf.predict(X_test)\n"
   ]
  },
  {
   "cell_type": "code",
   "execution_count": 93,
   "metadata": {},
   "outputs": [
    {
     "name": "stderr",
     "output_type": "stream",
     "text": [
      "/home/joseph/anaconda3/envs/insight/lib/python3.6/site-packages/ipykernel_launcher.py:3: SettingWithCopyWarning: \n",
      "A value is trying to be set on a copy of a slice from a DataFrame.\n",
      "Try using .loc[row_indexer,col_indexer] = value instead\n",
      "\n",
      "See the caveats in the documentation: http://pandas.pydata.org/pandas-docs/stable/indexing.html#indexing-view-versus-copy\n",
      "  This is separate from the ipykernel package so we can avoid doing imports until\n",
      "/home/joseph/anaconda3/envs/insight/lib/python3.6/site-packages/ipykernel_launcher.py:4: SettingWithCopyWarning: \n",
      "A value is trying to be set on a copy of a slice from a DataFrame.\n",
      "Try using .loc[row_indexer,col_indexer] = value instead\n",
      "\n",
      "See the caveats in the documentation: http://pandas.pydata.org/pandas-docs/stable/indexing.html#indexing-view-versus-copy\n",
      "  after removing the cwd from sys.path.\n"
     ]
    },
    {
     "name": "stdout",
     "output_type": "stream",
     "text": [
      "[6 5 0 ... 7 5 8]\n",
      "5883 7221\n",
      "        word_count     sent_len     word_len  sent_len_std  unique_word_frac  \\\n",
      "count -1338.000000 -1338.000000 -1338.000000  -1338.000000      -1338.000000   \n",
      "mean    121.513158     0.530597     0.000654      3.598797         -0.010134   \n",
      "std     183.484339     1.182381    -0.001303      8.116275          0.005866   \n",
      "min      -2.000000     1.166667    -0.140445      2.000000         -0.002116   \n",
      "25%      45.000000     0.141466     0.013699      0.888085         -0.016722   \n",
      "50%      86.000000     0.329825     0.004561      1.180834         -0.012260   \n",
      "75%     196.500000     0.284341    -0.001385      2.028644         -0.003929   \n",
      "max    4939.000000  -101.866667    -0.715752   -454.667907          0.000000   \n",
      "\n",
      "               cps          qps         exps      foreign       flesch  \\\n",
      "count -1338.000000 -1338.000000 -1338.000000 -1338.000000 -1338.000000   \n",
      "mean      0.012166     0.001631     0.000648     0.392059     0.064967   \n",
      "std      -0.350101     0.006460     0.003474     4.383486     0.172031   \n",
      "min       0.000000     0.000000     0.000000     0.000000   -42.090000   \n",
      "25%      -0.010762     0.000000     0.000000     0.000000    -0.100000   \n",
      "50%       0.015152     0.005236     0.000000     0.000000    -0.100000   \n",
      "75%       0.053158     0.000000     0.000000     0.000000     0.100000   \n",
      "max     -49.291667     0.385965    -0.085714   262.000000    -0.440000   \n",
      "\n",
      "           said_ps       and_ps       but_ps  flesch_five    total_adv  \\\n",
      "count -1338.000000 -1338.000000 -1338.000000 -1338.000000 -1338.000000   \n",
      "mean      0.009349     0.004994     0.005551     1.077858     6.796440   \n",
      "std       0.009436     0.047892     0.008981    -0.760811    12.189114   \n",
      "min       0.000000     0.000000     0.000000   -12.130000     0.000000   \n",
      "25%       0.000000     0.006129     0.002632    13.990000     2.000000   \n",
      "50%       0.004167     0.007353     0.002114     0.950000     4.000000   \n",
      "75%       0.029787    -0.004656     0.009524    -0.240000     8.000000   \n",
      "max       0.200000     2.600000     1.000000    -3.660000   345.000000   \n",
      "\n",
      "        total_verb    total_adj   sent_count       adv_ps      verb_ps  \\\n",
      "count -1338.000000 -1338.000000 -1338.000000 -1338.000000 -1338.000000   \n",
      "mean     20.297061    13.005161     4.481971     0.040250     0.099321   \n",
      "std      24.423797    15.964217     3.136324     0.109187     0.271251   \n",
      "min      -1.000000     0.000000     0.000000     0.000000     0.000000   \n",
      "25%       6.000000     4.000000     1.000000     0.011086     0.042857   \n",
      "50%      16.000000    10.000000     4.000000     0.011917     0.047608   \n",
      "75%      33.000000    22.000000     8.000000     0.042751     0.055556   \n",
      "max    -198.000000   321.000000  -486.000000     1.000000   -11.333333   \n",
      "\n",
      "            adj_ps        RB_ps       RBR_ps       RBS_ps       WRB_ps  \\\n",
      "count -1338.000000 -1338.000000 -1338.000000 -1338.000000 -1338.000000   \n",
      "mean      0.071549     0.033589     0.001873     0.000262     0.004526   \n",
      "std      -0.005824     0.083720     0.002390     0.000948     0.033174   \n",
      "min       0.000000     0.000000     0.000000     0.000000     0.000000   \n",
      "25%       0.036458     0.007692     0.000000     0.000000    -0.000395   \n",
      "50%       0.056723     0.011111     0.000546     0.000000     0.000000   \n",
      "75%       0.076389     0.030638     0.002274     0.000581     0.002506   \n",
      "max     -18.300000     0.000000     0.055556     0.361842     2.033333   \n",
      "\n",
      "             VB_ps       VBD_ps       VBG_ps       VBN_ps       VBP_ps  \\\n",
      "count -1338.000000 -1338.000000 -1338.000000 -1338.000000 -1338.000000   \n",
      "mean      0.026614     0.024460     0.009086     0.000925     0.016523   \n",
      "std       0.039424     0.096027     0.025259     0.010093     0.012263   \n",
      "min       0.000000     0.000000     0.000000     0.000000     0.000000   \n",
      "25%       0.013889    -0.005487     0.009378    -0.004205     0.009009   \n",
      "50%       0.015385     0.006103     0.004577     0.000000     0.013372   \n",
      "75%       0.031498     0.008556     0.006708     0.005714     0.013605   \n",
      "max       3.583333     1.166667     1.166667    -5.583333    -2.333333   \n",
      "\n",
      "            VBZ_ps        JJ_ps       JJS_ps       JJR_ps      told_ps  \\\n",
      "count -1338.000000 -1338.000000 -1338.000000 -1338.000000 -1338.000000   \n",
      "mean      0.021712     0.065685     0.004539     0.001325     0.000148   \n",
      "std       0.040215    -0.029930     0.019253     0.004196     0.001625   \n",
      "min       0.000000     0.000000     0.000000     0.000000     0.000000   \n",
      "25%       0.004386     0.034286     0.010471     0.000251     0.000000   \n",
      "50%       0.014634     0.057655     0.001126     0.000606     0.000000   \n",
      "75%       0.023284     0.070647     0.002849     0.001120    -0.003472   \n",
      "max      -2.333333   -19.666667     0.250000     0.181818    -0.071429   \n",
      "\n",
      "       sent_len_mean_over_std         true         pred  \n",
      "count            -1338.000000 -1338.000000 -1338.000000  \n",
      "mean                -0.009593     0.202519     0.167483  \n",
      "std                 -0.381681    -0.148167    -0.086826  \n",
      "min                  0.017813     0.000000     0.000000  \n",
      "25%                 -0.003436     0.000000     0.000000  \n",
      "50%                 -0.003231     1.000000     1.000000  \n",
      "75%                 -0.003591     0.000000     0.000000  \n",
      "max                -36.434783     0.000000     0.000000  \n"
     ]
    }
   ],
   "source": [
    "#fill in df with predicted and true labels\n",
    "test_df = full_feature_df.iloc[idx_test]\n",
    "test_df['true'] = y_test\n",
    "test_df['pred'] = y_pred\n",
    "print(y_test)\n",
    "\n",
    "#print(len(idx_test))\n",
    "#test_df = full_feature_df.lookup(*zip(*array_indices))\n",
    "#print(test_df[['true','pred']])\n",
    "true_pred = test_df.loc[test_df['true'] == test_df['pred']]\n",
    "false_pred = test_df.loc[test_df['true'] != test_df['pred']]\n",
    "pd.set_option('display.max_columns', None)\n",
    "print(len(true_pred), len(false_pred))\n",
    "print((true_pred.describe() - false_pred.describe()))"
   ]
  },
  {
   "cell_type": "code",
   "execution_count": 82,
   "metadata": {},
   "outputs": [
    {
     "name": "stdout",
     "output_type": "stream",
     "text": [
      "Normalized confusion matrix\n",
      "[[0.37 0.07 0.05 0.04 0.06 0.15 0.07 0.12 0.07]\n",
      " [0.04 0.49 0.09 0.11 0.06 0.08 0.03 0.04 0.06]\n",
      " [0.06 0.12 0.42 0.11 0.1  0.02 0.06 0.04 0.07]\n",
      " [0.03 0.14 0.09 0.43 0.11 0.05 0.04 0.02 0.1 ]\n",
      " [0.09 0.08 0.1  0.11 0.26 0.1  0.09 0.06 0.11]\n",
      " [0.12 0.05 0.01 0.01 0.04 0.59 0.01 0.1  0.07]\n",
      " [0.07 0.03 0.04 0.03 0.08 0.02 0.63 0.03 0.07]\n",
      " [0.1  0.07 0.03 0.02 0.05 0.14 0.02 0.52 0.06]\n",
      " [0.08 0.07 0.05 0.07 0.09 0.16 0.09 0.08 0.31]]\n"
     ]
    },
    {
     "data": {
      "image/png": "[encoded data removed]",
      "text/plain": [
       "<Figure size 432x288 with 2 Axes>"
      ]
     },
     "metadata": {},
     "output_type": "display_data"
    }
   ],
   "source": [
    "from sklearn.metrics import confusion_matrix\n",
    "import itertools\n",
    "#New York Times', 'Breitbart', 'Washington Post', 'Guardian']\n",
    "\n",
    "def plot_confusion_matrix(cm, classes,\n",
    "                          normalize=False,\n",
    "                          title='Confusion matrix',\n",
    "                          cmap=plt.cm.Blues):\n",
    "    \"\"\"\n",
    "    This function prints and plots the confusion matrix.\n",
    "    Normalization can be applied by setting `normalize=True`.\n",
    "    \"\"\"\n",
    "    if normalize:\n",
    "        cm = cm.astype('float') / cm.sum(axis=1)[:, np.newaxis]\n",
    "        print(\"Normalized confusion matrix\")\n",
    "    else:\n",
    "        print('Confusion matrix, without normalization')\n",
    "\n",
    "    print(cm)\n",
    "\n",
    "    plt.imshow(cm, interpolation='nearest', cmap=cmap)\n",
    "    plt.title(title)\n",
    "    plt.colorbar()\n",
    "    tick_marks = np.arange(len(classes))\n",
    "    plt.xticks(tick_marks, classes, rotation=45, ha = 'right')\n",
    "    plt.yticks(tick_marks, classes)\n",
    "\n",
    "    fmt = '.2f' if normalize else 'd'\n",
    "    thresh = cm.max() / 2.\n",
    "    for i, j in itertools.product(range(cm.shape[0]), range(cm.shape[1])):\n",
    "        plt.text(j, i, format(cm[i, j], fmt),\n",
    "                 horizontalalignment=\"center\",\n",
    "                 color=\"white\" if cm[i, j] > thresh else \"black\")\n",
    "\n",
    "    plt.tight_layout()\n",
    "    plt.ylabel('True label')\n",
    "    plt.xlabel('Predicted label')\n",
    "\n",
    "# Compute confusion matrix\n",
    "cnf_matrix = confusion_matrix(y_test, y_pred)\n",
    "np.set_printoptions(precision=2)\n",
    "\n",
    "# Plot non-normalized confusion matrix\n",
    "plt.figure()\n",
    "plot_confusion_matrix(cnf_matrix, classes=class_names,\n",
    "                      title='Confusion matrix', normalize = True)\n"
   ]
  },
  {
   "cell_type": "code",
   "execution_count": 94,
   "metadata": {
    "scrolled": false
   },
   "outputs": [
    {
     "name": "stdout",
     "output_type": "stream",
     "text": [
      "Feature ranking:\n",
      "1. feature 3 (0.086548)\n",
      "2. feature 23 (0.077945)\n",
      "3. feature 4 (0.065874)\n",
      "4. feature 8 (0.056193)\n",
      "5. feature 1 (0.051869)\n",
      "6. feature 9 (0.050032)\n",
      "7. feature 27 (0.043936)\n",
      "8. feature 10 (0.036317)\n",
      "9. feature 15 (0.035004)\n",
      "10. feature 26 (0.034712)\n",
      "11. feature 14 (0.034319)\n",
      "12. feature 25 (0.034116)\n",
      "13. feature 17 (0.033029)\n",
      "14. feature 18 (0.032675)\n",
      "15. feature 2 (0.030950)\n",
      "16. feature 0 (0.030300)\n",
      "17. feature 20 (0.029987)\n",
      "18. feature 19 (0.029588)\n",
      "19. feature 16 (0.027398)\n",
      "20. feature 11 (0.026181)\n",
      "21. feature 22 (0.025689)\n",
      "22. feature 24 (0.025637)\n",
      "23. feature 5 (0.024890)\n",
      "24. feature 21 (0.023011)\n",
      "25. feature 13 (0.019693)\n",
      "26. feature 12 (0.013670)\n",
      "27. feature 7 (0.010494)\n",
      "28. feature 6 (0.009944)\n",
      "[ 3 23  4  8  1  9 27 10 15 26 14 25 17 18  2  0 20 19 16 11 22 24  5 21\n",
      " 13 12  7  6]\n"
     ]
    },
    {
     "data": {
      "image/png": "[encoded data removed]",
      "text/plain": [
       "<Figure size 432x288 with 1 Axes>"
      ]
     },
     "metadata": {},
     "output_type": "display_data"
    }
   ],
   "source": [
    "importances = xg_clf.feature_importances_\n",
    "#std = np.std([tree.feature_importances_ for tree in xg_clf.estimators_],\n",
    "#             axis=0)\n",
    "indices = np.argsort(importances)[::-1]\n",
    "\n",
    "# Print the feature ranking\n",
    "print(\"Feature ranking:\")\n",
    "\n",
    "for f in range(len(X[0])):#.shape[1]):\n",
    "    print(\"%d. feature %d (%f)\" % (f + 1, indices[f], importances[indices[f]]))\n",
    "\n",
    "    # Plot the feature importances of the forest\n",
    "plt.figure()\n",
    "plt.title(\"Feature importances\")\n",
    "plt.bar(range(len(X[0])), importances[indices],\n",
    "       color=\"r\", align='center')#, yerr=std[indices], align=\"center\")\n",
    "print(indices)\n",
    "plt.xticks(range(len(X[0])), [feature_names[i] for i in indices], rotation = 45, ha = 'right')\n",
    "plt.xlim([-1, len(X[0])])\n",
    "plt.show()"
   ]
  },
  {
   "cell_type": "code",
   "execution_count": null,
   "metadata": {},
   "outputs": [],
   "source": [
    "conf_mat = np.zeros((4,4))\n",
    "count = 0\n",
    "for pred, true in zip(y_pred, y_test):\n",
    "    if pred == 0 and true == 3:\n",
    "            print(pred, true, count, 'mismatch')\n",
    "            print(' '.join(text_list[idx_test[count]]))\n",
    "            input()\n",
    "    conf_mat[pred,true] += 1.\n",
    "    count += 1\n",
    "print(count)\n",
    "#conf_mat[2,1] += 1000\n",
    "#[y,x] format (first index (predicted) is on the vertical, second index (truth) is on the horizontal)\n",
    "plt.imshow(conf_mat)\n",
    "plt.colorbar()\n",
    "print(conf_mat, np.sum(conf_mat))\n",
    "print(Counter(y_test))"
   ]
  }
 ],
 "metadata": {
  "kernelspec": {
   "display_name": "Python 3",
   "language": "python",
   "name": "python3"
  },
  "language_info": {
   "codemirror_mode": {
    "name": "ipython",
    "version": 3
   },
   "file_extension": ".py",
   "mimetype": "text/x-python",
   "name": "python",
   "nbconvert_exporter": "python",
   "pygments_lexer": "ipython3",
   "version": "3.6.5"
  }
 },
 "nbformat": 4,
 "nbformat_minor": 2
}
