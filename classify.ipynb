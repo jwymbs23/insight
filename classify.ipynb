{
 "cells": [
  {
   "cell_type": "code",
   "execution_count": 12,
   "metadata": {},
   "outputs": [],
   "source": [
    "import glob\n",
    "import pandas as pd\n",
    "import numpy as np\n",
    "import pickle\n",
    "\n",
    "import seaborn as sns\n",
    "import matplotlib.pyplot as plt\n",
    "import matplotlib.ticker as ticker\n",
    "%matplotlib inline\n",
    "\n",
    "import random\n",
    "\n",
    "from sklearn import preprocessing\n",
    "from sklearn.model_selection import train_test_split\n",
    "from sklearn.ensemble import RandomForestClassifier\n",
    "from sklearn.metrics import roc_curve, auc\n",
    "from sklearn.multiclass import OneVsRestClassifier\n",
    "from sklearn.ensemble import GradientBoostingClassifier\n",
    "from sklearn.preprocessing import label_binarize\n",
    "from scipy import interp\n",
    "from sklearn.feature_extraction.text import TfidfTransformer\n",
    "from sklearn.feature_extraction.text import TfidfVectorizer\n",
    "\n",
    "\n",
    "from sklearn.base import BaseEstimator, TransformerMixin\n",
    "from sklearn.decomposition import TruncatedSVD\n",
    "from sklearn.feature_extraction import DictVectorizer\n",
    "from sklearn.feature_extraction.text import TfidfVectorizer\n",
    "from sklearn.feature_extraction.text import TfidfTransformer\n",
    "\n",
    "from sklearn.metrics import classification_report\n",
    "from sklearn.pipeline import FeatureUnion\n",
    "from sklearn.pipeline import Pipeline\n",
    "from sklearn.feature_extraction.text import CountVectorizer\n",
    "\n",
    "\n",
    "\n",
    "from sklearn.metrics import confusion_matrix\n",
    "import itertools\n",
    "from sklearn.externals import joblib"
   ]
  },
  {
   "cell_type": "code",
   "execution_count": 2,
   "metadata": {},
   "outputs": [],
   "source": [
    "def read_in_dataframes():\n",
    "    f_list = glob.glob('*_data_df.p')\n",
    "    df_list = []\n",
    "    for fname in f_list:\n",
    "        if 'jupyter' not in fname:\n",
    "            #if 'guard' in fname:\n",
    "            df_list.append(pickle.load(open( fname, 'rb' )))\n",
    "            #print(len(list(df_list[-1])))\n",
    "    #print(df_list[5])\n",
    "    print(list(df_list[0]))\n",
    "    return df_list\n",
    "\n",
    "def concat_dfs(df_list):\n",
    "    return pd.concat(df_list)\n"
   ]
  },
  {
   "cell_type": "code",
   "execution_count": 3,
   "metadata": {},
   "outputs": [],
   "source": [
    "def get_pub_names(df_list):\n",
    "    pub_names = [i.loc[0,'label'] for i in df_list]\n",
    "    return pub_names\n",
    "\n",
    "def encode_pub_names(full_feature_df, pub_names):\n",
    "    le = preprocessing.LabelEncoder()\n",
    "    le.fit(pub_names)\n",
    "    print('pub', list(le.classes_))\n",
    "    label_array = full_feature_df['label'].values\n",
    "    Y = le.transform(label_array)\n",
    "    return Y, list(le.classes_)\n",
    "\n",
    "\n",
    "def get_feature_array(full_feature_df, feat_list):\n",
    "    return full_feature_df[feat_list].values\n"
   ]
  },
  {
   "cell_type": "code",
   "execution_count": 4,
   "metadata": {},
   "outputs": [],
   "source": [
    "def modify_full_dataframe(full_feature_df):\n",
    "    #full_feature_df = full_feature_df.loc[full_feature_df['sent_count'] > 10]\n",
    "\n",
    "    #full_feature_df['sent_len_mean_over_std'] = full_feature_df['sent_len']/full_feature_df['sent_len_std']\n",
    "    #full_feature_df = full_feature_df.loc[(full_feature_df['sent_len_std'] > 0) & (full_feature_df['sent_len'] > 0)]\n",
    "\n",
    "    #full_feature_df['flesch_dff'] = full_feature_df['flesch_five'] - full_feature_df['flesch']\n",
    "    #full_feature_df['fq1'] = full_feature_df['flesch_sec'].str[0]\n",
    "    #full_feature_df['fq2'] = full_feature_df['flesch_sec'].str[1]\n",
    "    #full_feature_df['fq3'] = full_feature_df['flesch_sec'].str[2]\n",
    "    #full_feature_df['fq4'] = full_feature_df['flesch_sec'].str[3]\n",
    "    #full_feature_df['flesch_slope'] = full_feature_df['flesch_sec'].apply(lambda row: sum([row[ci+1] - row[ci] for ci in range(3)])/4)\n",
    "    #print(full_feature_df['flesch_slope'])\n",
    "    min_word_count = 100\n",
    "    full_feature_df = full_feature_df.loc[(full_feature_df['word_count'] > min_word_count)]\n",
    "    return full_feature_df"
   ]
  },
  {
   "cell_type": "code",
   "execution_count": 5,
   "metadata": {},
   "outputs": [],
   "source": [
    "def save_mean_vals(df_list, pub_names):\n",
    "    mean_values = []\n",
    "    for ci,label_id in enumerate(pub_names):\n",
    "        mean_values.append(df_list[ci][feat_list].mean().tolist())\n",
    "    pickle.dump(mean_values, open('mean_features.p', 'wb'))\n"
   ]
  },
  {
   "cell_type": "code",
   "execution_count": 6,
   "metadata": {},
   "outputs": [],
   "source": [
    "def plot_feature_histograms(df_list, feat_list, pub_names):\n",
    "    for feature in feat_list:\n",
    "        plt.title('Flesch reading ease')\n",
    "    for ci,label_id in enumerate(pub_names):\n",
    "        df_list[ci].loc[(df_list[ci]['word_count'] < 6000) & (df_list[ci]['sent_len'] < 70)]['flesch'].hist(bins = range(20,90,1), alpha = 0.5, normed = True)\n",
    "    plt.legend(pub_names)"
   ]
  },
  {
   "cell_type": "code",
   "execution_count": 7,
   "metadata": {},
   "outputs": [],
   "source": [
    "def feature_correlations(full_feature_df):\n",
    "    corr = full_feature_df[feat_list].corr()\n",
    "    \n",
    "    mask = np.zeros_like(corr, dtype=np.bool)\n",
    "    mask[np.triu_indices_from(mask)] = True\n",
    "    \n",
    "    cmap = sns.diverging_palette(220, 10, as_cmap=True)\n",
    "    plt.figure(figsize=(10,10))\n",
    "    # Draw the heatmap with the mask and correct aspect ratio\n",
    "    sns.heatmap(corr,cmap=cmap, center=0,\n",
    "                square=True, linewidths=.3, cbar_kws={\"shrink\": .8})"
   ]
  },
  {
   "cell_type": "code",
   "execution_count": 14,
   "metadata": {},
   "outputs": [],
   "source": [
    "def train_model(model, X_train, y_train, title):\n",
    "\n",
    "    #for i in range(100,4500, 400):\n",
    "    #    rand_start = random.randint(0,4500 - i)\n",
    "    #    rf_clf = rf_clf.fit(X_train[rand_start:rand_start + i], y_train[rand_start:rand_start + i])\n",
    "\n",
    "    #    print(rf_clf.score(X_test, y_test))\n",
    "    model = model.fit(X_train, y_train)\n",
    "    return model\n",
    "    \n",
    "    \n",
    "    \n",
    "def score_model(y_test, y_pred, pub_names, title):\n",
    "    \n",
    "    #print(model.score(X_test, y_test))\n",
    "    \n",
    "    cnf_matrix = confusion_matrix(y_test, y_pred)\n",
    "    np.set_printoptions(precision=2)\n",
    "    \n",
    "    plt.figure()\n",
    "    plot_confusion_matrix(cnf_matrix, classes=pub_names,\n",
    "                      title='Confusion matrix: ' + title, normalize = True)\n",
    "\n",
    "    #plot_auc_roc(model)\n",
    "    #return y_pred\n",
    "    \n",
    "    \n",
    "    \n",
    "def plot_auc_roc(model):\n",
    "    # Compute ROC curve and ROC area for each class\n",
    "    one_v_rest = OneVsRestClassifier(model).fit(X_train, y_train)\n",
    "    print(one_v_rest.score(X_test, y_test))\n",
    "    y_pred = one_v_rest.predict(X_test)\n",
    "    y_score = one_v_rest.fit(X_train, y_train).decision_function(X_test)\n",
    "\n",
    "    fpr = dict()\n",
    "    tpr = dict()\n",
    "    roc_auc = dict()\n",
    "    #print(len(class_names))\n",
    "    #print(len(y_test))\n",
    "    #print(len(y_score))\n",
    "    for i in range(len(pub_names)):\n",
    "        fpr[i], tpr[i], _ = roc_curve( (y_test == i).astype(int), y_score[:, i])\n",
    "        roc_auc[i] = auc(fpr[i], tpr[i])\n",
    "\n",
    "    # Compute micro-average ROC curve and ROC area\n",
    "    #fpr[\"micro\"], tpr[\"micro\"], _ = roc_curve(y_test.ravel(), y_score.ravel())\n",
    "    #roc_auc[\"micro\"] = auc(fpr[\"micro\"], tpr[\"micro\"])\n",
    "\n",
    "\n",
    "    plt.figure()\n",
    "    lw = 2\n",
    "    for i in range(9):\n",
    "        plt.plot(fpr[i], tpr[i], \n",
    "                 lw=lw, label='{} (area = {})'.format(str(class_names[i]), str(roc_auc[i])))\n",
    "    plt.plot([0, 1], [0, 1], color='navy', lw=lw, linestyle='--')\n",
    "    plt.xlim([0.0, 1.0])\n",
    "    plt.ylim([0.0, 1.05])\n",
    "    plt.xlabel('False Positive Rate')\n",
    "    plt.ylabel('True Positive Rate')\n",
    "    plt.title('Receiver operating characteristic')\n",
    "    plt.legend(loc=\"lower right\")\n",
    "    plt.show()\n",
    "    \n",
    "    \n",
    "#New York Times', 'Breitbart', 'Washington Post', 'Guardian']\n",
    "\n",
    "def plot_confusion_matrix(cm, classes,\n",
    "                          normalize=False,\n",
    "                          title='Confusion matrix',\n",
    "                          cmap=plt.cm.Blues):\n",
    "    \"\"\"\n",
    "    This function prints and plots the confusion matrix.\n",
    "    Normalization can be applied by setting `normalize=True`.\n",
    "    \"\"\"\n",
    "    if normalize:\n",
    "        cm = cm.astype('float') / cm.sum(axis=1)[:, np.newaxis]\n",
    "        print(\"Normalized confusion matrix\")\n",
    "    else:\n",
    "        print('Confusion matrix, without normalization')\n",
    "\n",
    "    print(cm)\n",
    "\n",
    "    plt.imshow(cm, interpolation='nearest', cmap=cmap, vmin=0, vmax=1)\n",
    "    plt.title(title)\n",
    "    plt.colorbar()\n",
    "    tick_marks = np.arange(len(classes))\n",
    "    plt.xticks(tick_marks, classes, rotation=45, ha = 'right')\n",
    "    plt.yticks(tick_marks, classes)\n",
    "\n",
    "    fmt = '.2f' if normalize else 'd'\n",
    "    thresh = cm.max() / 2.\n",
    "    for i, j in itertools.product(range(cm.shape[0]), range(cm.shape[1])):\n",
    "        plt.text(j, i, format(cm[i, j], fmt),\n",
    "                 horizontalalignment=\"center\",\n",
    "                 color=\"white\" if cm[i, j] > thresh else \"black\")\n",
    "\n",
    "    plt.tight_layout()\n",
    "    plt.ylabel('True label')\n",
    "    plt.xlabel('Predicted label')\n",
    "\n",
    "# Compute confusion matrix\n",
    "\n",
    "def feature_importances(model, feat_list):\n",
    "    n_features = len(feat_list)\n",
    "    importances = model.feature_importances_\n",
    "    #std = np.std([tree.feature_importances_ for tree in xg_clf.estimators_],\n",
    "    #             axis=0)\n",
    "    indices = np.argsort(importances)[::-1]\n",
    "\n",
    "    # Print the feature ranking\n",
    "    print(\"Feature ranking:\")\n",
    "\n",
    "    for f in range(n_features):#.shape[1]):\n",
    "        print(\"%d. feature %d (%f)\" % (f + 1, indices[f], importances[indices[f]]))\n",
    "\n",
    "        # Plot the feature importances of the forest\n",
    "    plt.figure()\n",
    "    plt.title(\"Feature importances\")\n",
    "    plt.bar(range(n_features), importances[indices],\n",
    "           color=\"r\", align='center')#, yerr=std[indices], align=\"center\")\n",
    "    #plt.bar(range(40), importances[indices[:40]],\n",
    "    #       color=\"r\", align='center')#, yerr=std[indices], align=\"center\")\n",
    "\n",
    "    print(indices)\n",
    "    plt.xticks(range(n_features), [feat_list[i] for i in indices], rotation = 45, ha = 'right')\n",
    "    plt.xlim([-1, n_features])\n",
    "    #plt.xticks(range(40), [feature_names[i] for i in indices[:40]], rotation = 45, ha = 'right')\n",
    "    #plt.xlim([-1, 40])\n",
    "\n",
    "    plt.show()\n",
    "\n"
   ]
  },
  {
   "cell_type": "code",
   "execution_count": 9,
   "metadata": {},
   "outputs": [],
   "source": [
    "def tsne(X, Y):\n",
    "    #X = np.array([[0, 0, 0], [0, 1, 1], [1, 0, 1], [1, 1, 1]])\n",
    "    from sklearn.manifold import TSNE\n",
    "    X_embedded = TSNE(n_components=2).fit_transform(X)\n",
    "    print(X_embedded.shape)\n",
    "\n",
    "    colorlist = 'rgbcmykrg'\n",
    "    color = [colorlist[i] for i in Y]\n",
    "    plt.scatter(X_embedded[:, 0], X_embedded[:, 1], c=color, cmap=plt.cm.Spectral, s = 0.5)"
   ]
  },
  {
   "cell_type": "code",
   "execution_count": 10,
   "metadata": {},
   "outputs": [
    {
     "name": "stdout",
     "output_type": "stream",
     "text": [
      "['label', 'word_count', 'sent_len', 'word_len', 'sent_len_std', 'unique_word_frac', 'cps', 'qps', 'exps', 'adverbs', 'verbs', 'adjectives', 'foreign', 'flesch', 'said_ps', 'and_ps', 'but_ps', 'flesch_five', 'flesch_sec', 'total_adv', 'total_verb', 'total_adj', 'sent_count', 'adv_ps', 'verb_ps', 'adj_ps', 'RB_ps', 'RBR_ps', 'RBS_ps', 'WRB_ps', 'VB_ps', 'VBD_ps', 'VBG_ps', 'VBN_ps', 'VBP_ps', 'VBZ_ps', 'JJ_ps', 'JJS_ps', 'JJR_ps', 'told_ps', 'i_ps', 'ngram_DT NN', 'ngram_NN NN', 'ngram_NN IN', 'ngram_IN DT', 'ngram_NN PP', 'ngram_JJ NN', 'ngram_IN NN', 'ngram_NN VB', 'ngram_PRP VB', 'ngram_VB IN', 'ngram_DT JJ', 'ngram_PP NN', 'ngram_PP PP', 'ngram_VB DT', 'ngram_CD NN', 'ngram_PP JJ', 'ngram_PP DT', 'ngram_PP VB', 'ngram_VB VB', 'ngram_PRP$ NN', 'ngram_TO VB', 'ngram_CD PP', 'ngram_NN CC', 'ngram_VB NN', 'ngram_PP PRP', 'ngram_VB JJ', 'ngram_MD VB', 'ngram_IN JJ', 'ngram_VB PP', 'ngram_PP IN', 'ngram_$ CD', 'ngram_PP CC', 'ngram_RB VB', 'ngram_VB RB', 'ngram_PP CD', 'ngram_JJ JJ', 'ngram_VB PRP', 'ngram_VB TO', 'ngram_RB PP', 'ngram_RB JJ', 'ngram_NN TO', 'ngram_IN PRP$', 'ngram_IN CD', 'ngram_JJ PP', 'ngram_DT PP', 'ngram_CC NN', 'ngram_JJ VB', 'ngram_RB IN', 'total_pronoun', 'total_determiner', 'total_preposition', 'pronoun_ps', 'determiner_ps', 'preposition_ps', 'word_rarity', 'pos_string']\n"
     ]
    },
    {
     "name": "stderr",
     "output_type": "stream",
     "text": [
      "/home/joseph/anaconda3/envs/insight/lib/python3.6/site-packages/ipykernel_launcher.py:14: FutureWarning: Sorting because non-concatenation axis is not aligned. A future version\n",
      "of pandas will change to not sort by default.\n",
      "\n",
      "To accept the future behavior, pass 'sort=True'.\n",
      "\n",
      "To retain the current behavior and silence the warning, pass sort=False\n",
      "\n",
      "  \n"
     ]
    },
    {
     "name": "stdout",
     "output_type": "stream",
     "text": [
      "['nyt', 'atl', 'fox', 'natrev', 'breit', 'wapo', 'buzz', 'vox', 'guard']\n",
      "pub ['atl', 'breit', 'buzz', 'fox', 'guard', 'natrev', 'nyt', 'vox', 'wapo']\n",
      "[0, 4921, 9676, 14454, 18733, 23602, 28510, 33483, 38424, 43302]\n"
     ]
    }
   ],
   "source": [
    "#read in data and concatenate into large dataframe\n",
    "df_list = read_in_dataframes()\n",
    "full_feature_df = concat_dfs(df_list)\n",
    "\n",
    "#trim the dataframe (e.g. to cut out short articles) or add new feature columns\n",
    "full_feature_df = modify_full_dataframe(full_feature_df)\n",
    "\n",
    "#set feature list\n",
    "#feat_list = ['word_count', 'sent_len', 'word_len', 'sent_len_std', 'unique_word_frac',                                                                     \n",
    "#                'cps', 'qps', 'exps', 'foreign', 'flesch',                                                                                                     \n",
    "#                'RB_ps', 'RBR_ps', 'RBS_ps', 'WRB_ps', 'VB_ps',                                                                                                \n",
    "#                'VBD_ps', 'VBG_ps', 'VBN_ps', 'VBP_ps', 'VBZ_ps', 'JJ_ps', 'JJS_ps', 'JJR_ps',                                                                 \n",
    "#                'said_ps', 'and_ps', 'but_ps', 'told_ps', 'i_ps', 'pronoun_ps', 'determiner_ps', \n",
    "#                'preposition_ps', 'word_rarity']\n",
    "             \n",
    "feat_list = ['sent_len', 'word_len', 'sent_len_std', 'unique_word_frac',                                                                     \n",
    "                'cps', 'qps', 'flesch',                                                                                                  \n",
    "                'said_ps', 'and_ps', 'but_ps', 'told_ps', 'i_ps', 'word_rarity' , 'pos_string'  ]\n",
    "\n",
    "#encode label ids, and get target publication list\n",
    "pub_names = get_pub_names(df_list)\n",
    "print(pub_names)\n",
    "Y, pub_names = encode_pub_names(full_feature_df, pub_names)\n",
    "X = get_feature_array(full_feature_df, feat_list)\n",
    "n_samples = len(X)\n",
    "\n",
    "\n",
    "article_counts = full_feature_df.groupby('label')['label'].count().tolist()\n",
    "\n",
    "cumulative_bounds = [0]\n",
    "for ci, i in enumerate(article_counts):\n",
    "    cumulative_bounds.append(i+cumulative_bounds[ci])\n",
    "print(cumulative_bounds)\n",
    "\n",
    "\n",
    "#X_scaled = preprocessing.scale(X)\n",
    "\n",
    "#test train split\n",
    "indices = np.arange(n_samples)\n",
    "X_train, X_test, y_train, y_test, idx_train, idx_test = train_test_split(X, Y, indices, test_size=0.2)"
   ]
  },
  {
   "cell_type": "code",
   "execution_count": 29,
   "metadata": {},
   "outputs": [],
   "source": [
    "model = RandomForestClassifier(n_estimators=50)\n",
    "#model = GradientBoostingClassifier(n_estimators=100, learning_rate=0.25,max_depth=5)\n",
    "\n",
    "X_stats_train = X_train[:, :-1]\n",
    "X_stats_test = X_test[:,:-1]\n",
    "\n",
    "\n",
    "stats_pipeline = Pipeline([\n",
    "    ('clf', GradientBoostingClassifier(n_estimators=100, learning_rate=0.1,max_depth=8)),\n",
    "])\n",
    "\n",
    "\n",
    "stats_pipeline.fit(X_stats_train, y_train)\n",
    "\n",
    "#train_model(model, X_stats_train, y_train)\n",
    "\n",
    "y_stats_pred = stats_pipeline.predict(X_stats_test)"
   ]
  },
  {
   "cell_type": "code",
   "execution_count": 30,
   "metadata": {},
   "outputs": [
    {
     "name": "stdout",
     "output_type": "stream",
     "text": [
      "Normalized confusion matrix\n",
      "[[0.39 0.06 0.05 0.04 0.07 0.14 0.06 0.11 0.07]\n",
      " [0.05 0.44 0.08 0.13 0.08 0.09 0.03 0.04 0.06]\n",
      " [0.05 0.12 0.42 0.13 0.09 0.02 0.05 0.05 0.07]\n",
      " [0.03 0.14 0.1  0.42 0.1  0.04 0.05 0.02 0.1 ]\n",
      " [0.08 0.1  0.08 0.11 0.32 0.07 0.07 0.07 0.1 ]\n",
      " [0.11 0.06 0.01 0.02 0.04 0.56 0.   0.14 0.06]\n",
      " [0.07 0.03 0.04 0.04 0.06 0.02 0.63 0.03 0.07]\n",
      " [0.11 0.05 0.03 0.02 0.05 0.12 0.01 0.52 0.08]\n",
      " [0.07 0.07 0.06 0.09 0.09 0.15 0.1  0.07 0.29]]\n",
      "Feature ranking:\n",
      "1. feature 3 (0.119929)\n",
      "2. feature 1 (0.099081)\n",
      "3. feature 2 (0.095728)\n",
      "4. feature 12 (0.092982)\n",
      "5. feature 0 (0.088862)\n",
      "6. feature 4 (0.085349)\n",
      "7. feature 7 (0.083729)\n",
      "8. feature 6 (0.083213)\n",
      "9. feature 8 (0.063698)\n",
      "10. feature 9 (0.060932)\n",
      "11. feature 11 (0.048849)\n",
      "12. feature 5 (0.040008)\n",
      "13. feature 10 (0.037641)\n",
      "[ 3  1  2 12  0  4  7  6  8  9 11  5 10]\n"
     ]
    },
    {
     "data": {
      "image/png": "[encoded data removed]",
      "text/plain": [
       "<Figure size 432x288 with 2 Axes>"
      ]
     },
     "metadata": {},
     "output_type": "display_data"
    },
    {
     "data": {
      "image/png": "[encoded data removed]",
      "text/plain": [
       "<Figure size 432x288 with 1 Axes>"
      ]
     },
     "metadata": {},
     "output_type": "display_data"
    }
   ],
   "source": [
    "score_model(y_test, y_stats_pred, pub_names, 'Features')\n",
    "\n",
    "feature_importances(stats_pipeline.steps[0][1], feat_list[:-1])\n",
    "\n",
    "#tsne(X,Y)"
   ]
  },
  {
   "cell_type": "code",
   "execution_count": null,
   "metadata": {},
   "outputs": [],
   "source": [
    "#save model\n",
    "joblib.dump(model, 'rf_clf_6_23.pkl') "
   ]
  },
  {
   "cell_type": "code",
   "execution_count": 16,
   "metadata": {},
   "outputs": [
    {
     "name": "stdout",
     "output_type": "stream",
     "text": [
      "NN PP VB JJ VB IN DT JJ NN TO RB VB IN DT NN NN VB JJ NN NN PP CC IN NN PP PRP MD VB DT JJ NN JJ TO VB DT NN NN IN NN PP PRP$ NN IN DT NN VB JJ NN IN NN NN PP NN NN PRP$ IN NN IN DT NN NN IN VB VB IN NN NN RB DT NN PP PRP VB VB DT NN IN DT NN WDT VB RB VB VB DT JJ NN IN RB JJ NN NN PP CC IN DT NN PP DT NN VB VB DT NN IN PRP$ NN TO VB NN IN DT NN IN NN PP PP PRP VB RB VB TO VB IN CC VB DT NN IN PRP$ NN PP RB RB PRP MD VB PP IN DT NN NN PP PP VB NN NN NN PP DT NN NN PP VB IN NN PP PP PRP$ NN VB RB IN VB PRP VB RB RB IN NN IN WP PRP VB PRP$ NN VB PP RB PP NN VB VB IN DT JJ JJ NN IN NN PP CC PRP VB VB IN JJ NN IN NN JJ IN NN CC NN NN IN JJ CD PP WRB NN NN NN NN NN VB IN DT NN MD VB NN IN DT JJ NN PP IN DT NN PP VB RP RB CD PP CD JJ NN PP PP PRP VB JJ VB VB TO VB NN PP NN NN CC JJ NN NN IN NN PP PP NN NN VB PP PP PRP VB JJ VB JJ TO VB IN NN NN CC JJ NN PP JJ NN PP JJ NN NN PP NN NN NN CC NN RB DT VB RB JJ RB TO VB PP NN NN VB IN DT NN VB VB PP NN CC JJ PP IN DT PP JJ JJ NN PP IN VB NN TO NN PP CC DT VB NN VB VB IN DT JJ NN IN DT JJ NN VB DT NN PP PP DT NN VB RB RB IN VB NN IN NN CC NN NN PP PP PRP VB PP PP PRP VB IN DT NN CC DT NN IN DT NN WRB PRP VB TO VB DT JJ NN IN RB PP CC DT VB VB PP RB PP DT NN IN NN NN TO VB IN PRP$ JJ NN VB RB JJ RB RB IN JJ NN PP WRB PRP VB NN IN IN JJ NN NN NN IN VB IN DT VB JJ NN PP DT NN VB IN PRP VB RB VB DT JJ NN PP PP JJ VB VB IN IN PRP$ NN IN JJ NN PRP VB RB VB JJ TO VB DT NN IN TO WP PRP MD VB IN NN IN DT NN PP PP NN JJ VB NN IN PRP$ NN PP PP PRP MD VB NN RB CC RB IN DT JJ NN IN NN PP IN NN NN VB RB IN PRP$ NN PP DT NN VB VB DT NN NN IN JJ JJ NN WP VB TO VB VB TO VB IN NN WDT VB RB JJ PP DT NN PP CD JJ NN VB VB TO VB NN PP CC CD VB VB IN NN PP NN NN VB PP PP PRP VB NN IN DT NN WRB PRP VB RB RB VB TO VB NN WP VB TO VB PP PP PRP VB PP\n"
     ]
    }
   ],
   "source": [
    "#from sklearn.naive_bayes import MultinomialNB\n",
    "#clf = MultinomialNB().fit(X_train_tfidf, y_pos_train)\n",
    "#X_pos = full_feature['pos_string'].values\n",
    "\n",
    "#X_pos_train, X_pos_test, y_pos_train, y_pos_test, idx_pos_train, idx_pos_test = train_test_split(\n",
    "#    full_feature_df['pos_string'].values, Y, indices, test_size=0.2)\n",
    "\n",
    "\n",
    "#print(len(full_feature_df['pos_string']))\n",
    "\n",
    "X_pos_train = X_train[:, -1]\n",
    "X_pos_test = X_test[:,-1]\n",
    "print(X_pos_train[0])"
   ]
  },
  {
   "cell_type": "code",
   "execution_count": 17,
   "metadata": {},
   "outputs": [],
   "source": [
    "#from sklearn.feature_extraction.text import CountVectorizer\n",
    "#count_vect = CountVectorizer()\n",
    "#X_train_counts = count_vect.fit_transform(X_pos_test)\n",
    "#print(X_train_counts.shape)\n",
    "\n",
    "#vectorizer = TfidfVectorizer(min_df = 10, ngram_range=(4,4))\n",
    "#X_train_tfidf = vectorizer.fit_transform(X_pos_train)\n",
    "\n",
    "\n",
    "\n",
    "#tf_transformer = TfidfTransformer(use_idf=False).fit(X_train_counts)\n",
    "#X_train_tf = tf_transformer.transform(X_train_counts)\n",
    "#X_train_tf.shape\n",
    "\n",
    "#print(X_train_tfidf.shape)\n",
    "\n",
    "\n",
    "#X_new_counts = count_vect.transform(X_pos_test)\n",
    "#X_new_tfidf = vectorizer.transform(X_pos_test)"
   ]
  },
  {
   "cell_type": "code",
   "execution_count": 18,
   "metadata": {},
   "outputs": [],
   "source": [
    "#clf = RandomForestClassifier(n_estimators=50).fit(X_train_tfidf, y_train)\n",
    "\n",
    "\n",
    "#y_pos_pred = clf.predict(X_new_tfidf)"
   ]
  },
  {
   "cell_type": "code",
   "execution_count": 19,
   "metadata": {},
   "outputs": [],
   "source": [
    "#score_model(X_new_tfidf, y_test, y_pos_pred, pub_names, 'Features')"
   ]
  },
  {
   "cell_type": "code",
   "execution_count": null,
   "metadata": {},
   "outputs": [],
   "source": []
  },
  {
   "cell_type": "code",
   "execution_count": 20,
   "metadata": {},
   "outputs": [
    {
     "data": {
      "text/plain": [
       "Pipeline(memory=None,\n",
       "     steps=[('vect', CountVectorizer(analyzer='word', binary=False, decode_error='strict',\n",
       "        dtype=<class 'numpy.int64'>, encoding='utf-8', input='content',\n",
       "        lowercase=True, max_df=1.0, max_features=None, min_df=1,\n",
       "        ngram_range=(3, 4), preprocessor=None, stop_words=None,\n",
       "        strip...n_jobs=1,\n",
       "            oob_score=False, random_state=None, verbose=0,\n",
       "            warm_start=False))])"
      ]
     },
     "execution_count": 20,
     "metadata": {},
     "output_type": "execute_result"
    }
   ],
   "source": [
    "pos_string_pipeline = Pipeline([\n",
    "    ('vect', CountVectorizer(ngram_range=(3,4))),\n",
    "    ('tfidf', TfidfTransformer()),\n",
    "    ('clf', RandomForestClassifier(n_estimators = 200)),\n",
    "])\n",
    "\n",
    "\n",
    "pos_string_pipeline.fit(X_pos_train, y_train)"
   ]
  },
  {
   "cell_type": "code",
   "execution_count": 21,
   "metadata": {},
   "outputs": [],
   "source": [
    "y_pos_pred = pos_string_pipeline.predict(X_pos_test)"
   ]
  },
  {
   "cell_type": "code",
   "execution_count": 22,
   "metadata": {},
   "outputs": [
    {
     "name": "stdout",
     "output_type": "stream",
     "text": [
      "Normalized confusion matrix\n",
      "[[0.47 0.06 0.02 0.03 0.03 0.13 0.07 0.14 0.05]\n",
      " [0.01 0.68 0.03 0.07 0.05 0.06 0.03 0.02 0.04]\n",
      " [0.04 0.27 0.29 0.1  0.06 0.04 0.07 0.06 0.07]\n",
      " [0.   0.25 0.06 0.41 0.06 0.05 0.04 0.01 0.11]\n",
      " [0.04 0.13 0.05 0.08 0.29 0.11 0.12 0.09 0.08]\n",
      " [0.07 0.06 0.01 0.01 0.02 0.65 0.03 0.1  0.06]\n",
      " [0.04 0.06 0.02 0.02 0.04 0.05 0.72 0.02 0.03]\n",
      " [0.06 0.13 0.02 0.02 0.04 0.12 0.02 0.54 0.05]\n",
      " [0.04 0.12 0.03 0.06 0.06 0.13 0.16 0.06 0.33]]\n"
     ]
    },
    {
     "data": {
      "image/png": "[encoded data removed]",
      "text/plain": [
       "<Figure size 432x288 with 2 Axes>"
      ]
     },
     "metadata": {},
     "output_type": "display_data"
    }
   ],
   "source": [
    "score_model(y_test, y_pos_pred, pub_names, 'n-grams')"
   ]
  },
  {
   "cell_type": "code",
   "execution_count": null,
   "metadata": {},
   "outputs": [],
   "source": []
  },
  {
   "cell_type": "code",
   "execution_count": null,
   "metadata": {},
   "outputs": [],
   "source": [
    "\n"
   ]
  },
  {
   "cell_type": "code",
   "execution_count": 23,
   "metadata": {},
   "outputs": [],
   "source": [
    "class ItemSelector(BaseEstimator, TransformerMixin):\n",
    "    \"\"\"For data grouped by feature, select subset of data at a provided key.\n",
    "\n",
    "    The data is expected to be stored in a 2D data structure, where the first\n",
    "    index is over features and the second is over samples.  i.e.\n",
    "\n",
    "    >> len(data[key]) == n_samples\n",
    "\n",
    "    Please note that this is the opposite convention to scikit-learn feature\n",
    "    matrixes (where the first index corresponds to sample).\n",
    "\n",
    "    ItemSelector only requires that the collection implement getitem\n",
    "    (data[key]).  Examples include: a dict of lists, 2D numpy array, Pandas\n",
    "    DataFrame, numpy record array, etc.\n",
    "\n",
    "    >> data = {'a': [1, 5, 2, 5, 2, 8],\n",
    "               'b': [9, 4, 1, 4, 1, 3]}\n",
    "    >> ds = ItemSelector(key='a')\n",
    "    >> data['a'] == ds.transform(data)\n",
    "\n",
    "    ItemSelector is not designed to handle data grouped by sample.  (e.g. a\n",
    "    list of dicts).  If your data is structured this way, consider a\n",
    "    transformer along the lines of `sklearn.feature_extraction.DictVectorizer`.\n",
    "\n",
    "    Parameters\n",
    "    ----------\n",
    "    key : hashable, required\n",
    "        The key corresponding to the desired value in a mappable.\n",
    "    \"\"\"\n",
    "    def __init__(self, key):\n",
    "        self.key = key\n",
    "\n",
    "    def fit(self, x, y=None):\n",
    "        return self\n",
    "\n",
    "    def transform(self, data_dict):\n",
    "        #print(data_dict[:2])\n",
    "        #print([data_dict[i] for i in self.key][:2])#[feat] for feat in self.key] for i in data_dict][:2])\n",
    "        #print(data_dict[self.key][:2])\n",
    "        #return data_dict[self.key]\n",
    "        #print([{i: data_dict[i]} for i in self.key])\n",
    "        if self.key == 'pos_string':\n",
    "            return data_dict[:,-1]\n",
    "        else:\n",
    "            return data_dict\n",
    "\n",
    "class TextStats(BaseEstimator, TransformerMixin):\n",
    "    \"\"\"Extract features from each document for DictVectorizer\"\"\"\n",
    "\n",
    "    def fit(self, x, y=None):\n",
    "        return self\n",
    "\n",
    "    def transform(self, data):\n",
    "        #print(data)\n",
    "        return [{feat: row[cf] for cf, feat in enumerate(feat_list[:-1])}\n",
    "                for row in data]\n",
    "\n",
    "\n",
    "class PosExtractor(BaseEstimator, TransformerMixin):\n",
    "    \"\"\"Extract the subject & body from a usenet post in a single pass.\n",
    "\n",
    "    Takes a sequence of strings and produces a dict of sequences.  Keys are\n",
    "    `subject` and `body`.\n",
    "    \"\"\"\n",
    "    def fit(self, x, y=None):\n",
    "        return self\n",
    "\n",
    "    def transform(self, data):\n",
    "        #print(data)\n",
    "        #for i, vals in enumerate(data):\n",
    "        #features = pd.DataFrame()\n",
    "        #print(len(data))\n",
    "        for feat in feat_list:\n",
    "            features = {feat: [data[j][i] for j in range(len(data))] for i,feat in enumerate(feat_list)}\n",
    "        #print(features['pos_string'][0])\n",
    "        return data\n",
    "        features = np.recarray(shape=(len(posts),),\n",
    "                               dtype=[(feat, object) for feat in feat_list])\n",
    "        for i, text in enumerate(data):\n",
    "            for j, feat in enumerate(feat_list):\n",
    "                features[feat][i] = data[i][j]\n",
    "        #print(features['pos_string'][:2])\n",
    "        return features\n",
    "        \n",
    "        #print(feat_list[-1], posts)\n",
    "        #print({'pos_string': [i[-1] for i in posts]}['pos_string'][:2])\n",
    "        #return {'pos_string': [i[-1] for i in posts]}"
   ]
  },
  {
   "cell_type": "code",
   "execution_count": 24,
   "metadata": {},
   "outputs": [
    {
     "name": "stdout",
     "output_type": "stream",
     "text": [
      "34641\n"
     ]
    },
    {
     "data": {
      "text/plain": [
       "Pipeline(memory=None,\n",
       "     steps=[('pos', PosExtractor()), ('union', FeatureUnion(n_jobs=1,\n",
       "       transformer_list=[('pos_string', Pipeline(memory=None,\n",
       "     steps=[('selector', ItemSelector(key='pos_string')), ('vect', CountVectorizer(analyzer='word', binary=False, decode_error='strict',\n",
       "        dtype=<class 'numpy.int64'>,...n_jobs=1,\n",
       "            oob_score=False, random_state=None, verbose=0,\n",
       "            warm_start=False))])"
      ]
     },
     "execution_count": 24,
     "metadata": {},
     "output_type": "execute_result"
    }
   ],
   "source": [
    "pipeline = Pipeline([\n",
    "    # Extract the subject & body\n",
    "    ('pos', PosExtractor()),\n",
    "\n",
    "    # Use FeatureUnion to combine the features from subject and body\n",
    "    ('union', FeatureUnion(\n",
    "        transformer_list=[\n",
    "\n",
    "            # Pipeline for pulling features from the post's subject line\n",
    "            ('pos_string', Pipeline([\n",
    "                ('selector', ItemSelector(key='pos_string')),\n",
    "                ('vect', CountVectorizer(min_df = 1000, ngram_range=(3,4))),\n",
    "                ('tfidf', TfidfTransformer()),\n",
    "            ])),\n",
    "\n",
    "            # Pipeline for pulling ad hoc features from post's body\n",
    "            ('body_stats', Pipeline([\n",
    "                ('selector', ItemSelector(key=[feat_list[:-1]])),\n",
    "                ('stats', TextStats()),  # returns a list of dicts\n",
    "                ('vect', DictVectorizer()),  # list of dicts -> feature matrix\n",
    "            ])),\n",
    "\n",
    "        ],\n",
    "\n",
    "        # weight components in FeatureUnion\n",
    "        transformer_weights={\n",
    "            'pos_string': 0.1,\n",
    "            'body_stats': 1,\n",
    "        },\n",
    "    )),\n",
    "\n",
    "    # Use a SVC classifier on the combined features\n",
    "    ('bgt', RandomForestClassifier(n_estimators=200)),\n",
    "])\n",
    "\n",
    "# limit the list of categories to make running this example faster.\n",
    "#categories = ['alt.atheism', 'talk.religion.misc']\n",
    "#train = fetch_20newsgroups(random_state=1,\n",
    "#                           subset='train',\n",
    "#                           categories=categories,\n",
    "#                           )\n",
    "#test = fetch_20newsgroups(random_state=1,\n",
    "#                          subset='test',\n",
    "#                          categories=categories,\n",
    "#                          )\n",
    "print(len(X_train))\n",
    "pipeline.fit(X_train, y_train)"
   ]
  },
  {
   "cell_type": "code",
   "execution_count": 25,
   "metadata": {},
   "outputs": [],
   "source": [
    "y_pred = pipeline.predict(X_test)"
   ]
  },
  {
   "cell_type": "code",
   "execution_count": 26,
   "metadata": {},
   "outputs": [
    {
     "name": "stdout",
     "output_type": "stream",
     "text": [
      "Normalized confusion matrix\n",
      "[[0.5  0.05 0.03 0.03 0.02 0.15 0.04 0.12 0.06]\n",
      " [0.02 0.65 0.04 0.08 0.04 0.07 0.02 0.02 0.05]\n",
      " [0.03 0.19 0.41 0.11 0.08 0.02 0.04 0.04 0.07]\n",
      " [0.01 0.19 0.06 0.5  0.05 0.05 0.03 0.01 0.11]\n",
      " [0.03 0.11 0.04 0.1  0.38 0.11 0.07 0.08 0.08]\n",
      " [0.05 0.05 0.   0.01 0.02 0.73 0.01 0.09 0.05]\n",
      " [0.03 0.03 0.01 0.02 0.04 0.05 0.74 0.02 0.04]\n",
      " [0.05 0.11 0.01 0.02 0.03 0.14 0.02 0.57 0.05]\n",
      " [0.03 0.1  0.04 0.06 0.07 0.13 0.11 0.06 0.4 ]]\n"
     ]
    },
    {
     "data": {
      "image/png": "[encoded data removed]",
      "text/plain": [
       "<Figure size 432x288 with 2 Axes>"
      ]
     },
     "metadata": {},
     "output_type": "display_data"
    }
   ],
   "source": [
    "#print(classification_report(y, y_test))\n",
    "score_model(y_test, y_pred, pub_names, 'Features and n-grams')"
   ]
  },
  {
   "cell_type": "code",
   "execution_count": null,
   "metadata": {},
   "outputs": [],
   "source": [
    "feature_importances(pipeline.steps[2][1], feat_list)"
   ]
  },
  {
   "cell_type": "code",
   "execution_count": null,
   "metadata": {},
   "outputs": [],
   "source": []
  },
  {
   "cell_type": "code",
   "execution_count": null,
   "metadata": {},
   "outputs": [],
   "source": [
    "def compare_article(text_features):\n",
    "    full_feature_df[[feat_list]].mean()\n",
    "    #pub_list = [nyt, breit, wapo]\n",
    "    wc_mean = [np.mean(i.word_count) for i in pub_list]\n",
    "    print(wc_mean)\n",
    "    #wc_mean1 = [np.mean(nyt_wc), np.mean(breit_wc), np.mean(wapo_wc)]\n",
    "    #print(wc_mean, wc_mean1)\n",
    "    sent_len_mean = [np.mean(i.sent_len) for i in pub_list]#, np.mean(breit_sent_len), np.mean(wapo_sent_len)]\n",
    "    sent_len_std_mean = [np.mean(i.sent_len_std) for i in pub_list]#, np.mean(breit_sent_len_std), np.mean(wapo_sent_len_std)]\n",
    "    unique_word_frac_mean = [np.mean(i.unique_word_frac) for i in pub_list]#, np.mean(breit_unique_word_frac), np.mean(wapo_unique_word_frac)]\n",
    "    word_len_mean = [np.mean(i.word_len) for i in pub_list]#, np.mean(breit_word_len), np.mean(wapo_word_len)]\n",
    "    cps_mean = [np.mean(i.cps) for i in pub_list]#, np.mean(breit_cps), np.mean(wapo_cps)]\n",
    "    features = ['sentence length', 'sentence length distribution', 'unique word fraction', 'word length', 'commas per sentence']\n",
    "    mean_features = [[i, j, k, l, m] for i, j, k, l, m in zip(sent_len_mean, sent_len_std_mean, unique_word_frac_mean, word_len_mean, cps_mean)]\n",
    "    print(mean_features)\n",
    "    pickle.dump(mean_features, open('mean_features.p', 'wb'))\n",
    "    return [[float(i/j) for i,j in zip(text_features, pub_features)] for pub_features in mean_features]"
   ]
  },
  {
   "cell_type": "code",
   "execution_count": null,
   "metadata": {},
   "outputs": [],
   "source": []
  },
  {
   "cell_type": "code",
   "execution_count": null,
   "metadata": {},
   "outputs": [],
   "source": [
    "#pca\n",
    "\n",
    "from sklearn.decomposition import PCA\n",
    "pca = PCA(n_components=4)\n",
    "pca.fit(X_scaled)\n",
    "\n",
    "print(pca.explained_variance_ratio_)  \n",
    "\n",
    "print(pca.singular_values_)  \n",
    "\n",
    "X_t_train = pca.transform(X_train)\n",
    "X_t_test = pca.transform(X_test)"
   ]
  },
  {
   "cell_type": "code",
   "execution_count": null,
   "metadata": {},
   "outputs": [],
   "source": [
    "#from sklearn.model_selection import GridSearchCV\n",
    "#parameters = {'max_depth':range(3,20)}\n",
    "#clf = GridSearchCV(tree.DecisionTreeClassifier(), parameters, n_jobs=4)\n",
    "#clf.fit(X=X_train, y=y_train)\n",
    "#tree_model = clf.best_estimator_\n",
    "#print (clf.best_score_, clf.best_params_) \n",
    "\n",
    "\n",
    "#clf = tree.DecisionTreeClassifier(max_depth = 5)\n",
    "#clf = clf.fit(X_train, y_train)\n",
    "\n"
   ]
  },
  {
   "cell_type": "code",
   "execution_count": null,
   "metadata": {},
   "outputs": [],
   "source": [
    "from sklearn.ensemble import GradientBoostingClassifier\n",
    "from sklearn.metrics import roc_curve, auc\n",
    "from sklearn.multiclass import OneVsRestClassifier\n",
    "\n",
    "\n",
    "xg_clf = OneVsRestClassifier(GradientBoostingClassifier(n_estimators=10, learning_rate=0.25,\n",
    "                                 max_depth=3, random_state=0)).fit(X_train, y_train)\n",
    "print(xg_clf.score(X_test, y_test))\n",
    "\n",
    "y_pred = xg_clf.predict(X_test)\n",
    "\n",
    "y_score = xg_clf.fit(X_train, y_train).decision_function(X_test)"
   ]
  },
  {
   "cell_type": "code",
   "execution_count": null,
   "metadata": {},
   "outputs": [],
   "source": []
  },
  {
   "cell_type": "code",
   "execution_count": null,
   "metadata": {},
   "outputs": [],
   "source": []
  },
  {
   "cell_type": "code",
   "execution_count": null,
   "metadata": {
    "scrolled": true
   },
   "outputs": [],
   "source": [
    "# Compute ROC curve and ROC area for each class\n",
    "\n",
    "from sklearn.model_selection import train_test_split\n",
    "from sklearn.preprocessing import label_binarize\n",
    "from sklearn.multiclass import OneVsRestClassifier\n",
    "from scipy import interp\n",
    "from sklearn.metrics import roc_curve, auc\n",
    "from sklearn.multiclass import OneVsRestClassifier\n",
    "\n",
    "#GradientBoostingClassifier(n_estimators=10, learning_rate=0.25,\n",
    "                                 #max_depth=3, random_state=0)\n",
    "xg_clf = OneVsRestClassifier(RandomForestClassifier(n_estimators = 50)).fit(X_train, y_train)\n",
    "print(xg_clf.score(X_test, y_test))\n",
    "\n",
    "y_pred = xg_clf.predict(X_test)\n",
    "\n",
    "y_score = xg_clf.fit(X_train, y_train).decision_function(X_test)\n",
    "\n",
    "\n",
    "\n",
    "fpr = dict()\n",
    "tpr = dict()\n",
    "roc_auc = dict()\n",
    "print(len(pub_names))\n",
    "print(len(y_test))\n",
    "print(len(y_score))\n",
    "for i in range(len(pub_names)):\n",
    "    fpr[i], tpr[i], _ = roc_curve( (y_test == i).astype(int), y_score[:, i])\n",
    "    roc_auc[i] = auc(fpr[i], tpr[i])\n",
    "\n",
    "# Compute micro-average ROC curve and ROC area\n",
    "#fpr[\"micro\"], tpr[\"micro\"], _ = roc_curve(y_test.ravel(), y_score.ravel())\n",
    "#roc_auc[\"micro\"] = auc(fpr[\"micro\"], tpr[\"micro\"])\n",
    "\n",
    "\n",
    "plt.figure()\n",
    "lw = 2\n",
    "for i in range(9):\n",
    "    plt.plot(fpr[i], tpr[i], \n",
    "             lw=lw, label='{} (area = {})'.format(str(pub_names[i]), str(roc_auc[i])))\n",
    "plt.plot([0, 1], [0, 1], color='navy', lw=lw, linestyle='--')\n",
    "plt.xlim([0.0, 1.0])\n",
    "plt.ylim([0.0, 1.05])\n",
    "plt.xlabel('False Positive Rate')\n",
    "plt.ylabel('True Positive Rate')\n",
    "plt.title('Receiver operating characteristic example')\n",
    "plt.legend(loc=\"lower right\")\n",
    "plt.show()"
   ]
  },
  {
   "cell_type": "code",
   "execution_count": null,
   "metadata": {},
   "outputs": [],
   "source": [
    "\n"
   ]
  },
  {
   "cell_type": "code",
   "execution_count": null,
   "metadata": {
    "scrolled": true
   },
   "outputs": [],
   "source": [
    "#fill in df with predicted and true labels\n",
    "test_df = full_feature_df.iloc[idx_test]\n",
    "test_df['true'] = y_test\n",
    "test_df['pred'] = y_pred\n",
    "print(y_test)\n",
    "\n",
    "#print(len(idx_test))\n",
    "#test_df = full_feature_df.lookup(*zip(*array_indices))\n",
    "#print(test_df[['true','pred']])\n",
    "true_pred = test_df.loc[test_df['true'] == test_df['pred']]\n",
    "false_pred = test_df.loc[test_df['true'] != test_df['pred']]\n",
    "pd.set_option('display.max_columns', None)\n",
    "print(len(true_pred), len(false_pred))\n",
    "print((true_pred.describe() - false_pred.describe()))"
   ]
  }
 ],
 "metadata": {
  "kernelspec": {
   "display_name": "Python 3",
   "language": "python",
   "name": "python3"
  },
  "language_info": {
   "codemirror_mode": {
    "name": "ipython",
    "version": 3
   },
   "file_extension": ".py",
   "mimetype": "text/x-python",
   "name": "python",
   "nbconvert_exporter": "python",
   "pygments_lexer": "ipython3",
   "version": "3.6.5"
  }
 },
 "nbformat": 4,
 "nbformat_minor": 2
}
