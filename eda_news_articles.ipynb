{
 "cells": [
  {
   "cell_type": "code",
   "execution_count": 1,
   "metadata": {},
   "outputs": [],
   "source": [
    "import pandas as pd\n",
    "import numpy\n",
    "import matplotlib.pyplot as plt\n",
    "%matplotlib inline\n",
    "\n",
    "import pickle\n",
    "import string\n",
    "import numpy as np\n",
    "import random\n",
    "from collections import Counter"
   ]
  },
  {
   "cell_type": "code",
   "execution_count": 2,
   "metadata": {},
   "outputs": [
    {
     "name": "stdout",
     "output_type": "stream",
     "text": [
      "[nltk_data] Downloading package cmudict to /home/joseph/nltk_data...\n",
      "[nltk_data]   Package cmudict is already up-to-date!\n",
      "$: dollar\n",
      "    $ -$ --$ A$ C$ HK$ M$ NZ$ S$ U.S.$ US$\n",
      "'': closing quotation mark\n",
      "    ' ''\n",
      "(: opening parenthesis\n",
      "    ( [ {\n",
      "): closing parenthesis\n",
      "    ) ] }\n",
      ",: comma\n",
      "    ,\n",
      "--: dash\n",
      "    --\n",
      ".: sentence terminator\n",
      "    . ! ?\n",
      ":: colon or ellipsis\n",
      "    : ; ...\n",
      "CC: conjunction, coordinating\n",
      "    & 'n and both but either et for less minus neither nor or plus so\n",
      "    therefore times v. versus vs. whether yet\n",
      "CD: numeral, cardinal\n",
      "    mid-1890 nine-thirty forty-two one-tenth ten million 0.5 one forty-\n",
      "    seven 1987 twenty '79 zero two 78-degrees eighty-four IX '60s .025\n",
      "    fifteen 271,124 dozen quintillion DM2,000 ...\n",
      "DT: determiner\n",
      "    all an another any both del each either every half la many much nary\n",
      "    neither no some such that the them these this those\n",
      "EX: existential there\n",
      "    there\n",
      "FW: foreign word\n",
      "    gemeinschaft hund ich jeux habeas Haementeria Herr K'ang-si vous\n",
      "    lutihaw alai je jour objets salutaris fille quibusdam pas trop Monte\n",
      "    terram fiche oui corporis ...\n",
      "IN: preposition or conjunction, subordinating\n",
      "    astride among uppon whether out inside pro despite on by throughout\n",
      "    below within for towards near behind atop around if like until below\n",
      "    next into if beside ...\n",
      "JJ: adjective or numeral, ordinal\n",
      "    third ill-mannered pre-war regrettable oiled calamitous first separable\n",
      "    ectoplasmic battery-powered participatory fourth still-to-be-named\n",
      "    multilingual multi-disciplinary ...\n",
      "JJR: adjective, comparative\n",
      "    bleaker braver breezier briefer brighter brisker broader bumper busier\n",
      "    calmer cheaper choosier cleaner clearer closer colder commoner costlier\n",
      "    cozier creamier crunchier cuter ...\n",
      "JJS: adjective, superlative\n",
      "    calmest cheapest choicest classiest cleanest clearest closest commonest\n",
      "    corniest costliest crassest creepiest crudest cutest darkest deadliest\n",
      "    dearest deepest densest dinkiest ...\n",
      "LS: list item marker\n",
      "    A A. B B. C C. D E F First G H I J K One SP-44001 SP-44002 SP-44005\n",
      "    SP-44007 Second Third Three Two * a b c d first five four one six three\n",
      "    two\n",
      "MD: modal auxiliary\n",
      "    can cannot could couldn't dare may might must need ought shall should\n",
      "    shouldn't will would\n",
      "NN: noun, common, singular or mass\n",
      "    common-carrier cabbage knuckle-duster Casino afghan shed thermostat\n",
      "    investment slide humour falloff slick wind hyena override subhumanity\n",
      "    machinist ...\n",
      "NNP: noun, proper, singular\n",
      "    Motown Venneboerger Czestochwa Ranzer Conchita Trumplane Christos\n",
      "    Oceanside Escobar Kreisler Sawyer Cougar Yvette Ervin ODI Darryl CTCA\n",
      "    Shannon A.K.C. Meltex Liverpool ...\n",
      "NNPS: noun, proper, plural\n",
      "    Americans Americas Amharas Amityvilles Amusements Anarcho-Syndicalists\n",
      "    Andalusians Andes Andruses Angels Animals Anthony Antilles Antiques\n",
      "    Apache Apaches Apocrypha ...\n",
      "NNS: noun, common, plural\n",
      "    undergraduates scotches bric-a-brac products bodyguards facets coasts\n",
      "    divestitures storehouses designs clubs fragrances averages\n",
      "    subjectivists apprehensions muses factory-jobs ...\n",
      "PDT: pre-determiner\n",
      "    all both half many quite such sure this\n",
      "POS: genitive marker\n",
      "    ' 's\n",
      "PRP: pronoun, personal\n",
      "    hers herself him himself hisself it itself me myself one oneself ours\n",
      "    ourselves ownself self she thee theirs them themselves they thou thy us\n",
      "PRP$: pronoun, possessive\n",
      "    her his mine my our ours their thy your\n",
      "RB: adverb\n",
      "    occasionally unabatingly maddeningly adventurously professedly\n",
      "    stirringly prominently technologically magisterially predominately\n",
      "    swiftly fiscally pitilessly ...\n",
      "RBR: adverb, comparative\n",
      "    further gloomier grander graver greater grimmer harder harsher\n",
      "    healthier heavier higher however larger later leaner lengthier less-\n",
      "    perfectly lesser lonelier longer louder lower more ...\n",
      "RBS: adverb, superlative\n",
      "    best biggest bluntest earliest farthest first furthest hardest\n",
      "    heartiest highest largest least less most nearest second tightest worst\n",
      "RP: particle\n",
      "    aboard about across along apart around aside at away back before behind\n",
      "    by crop down ever fast for forth from go high i.e. in into just later\n",
      "    low more off on open out over per pie raising start teeth that through\n",
      "    under unto up up-pp upon whole with you\n",
      "SYM: symbol\n",
      "    % & ' '' ''. ) ). * + ,. < = > @ A[fj] U.S U.S.S.R * ** ***\n",
      "TO: \"to\" as preposition or infinitive marker\n",
      "    to\n",
      "UH: interjection\n",
      "    Goodbye Goody Gosh Wow Jeepers Jee-sus Hubba Hey Kee-reist Oops amen\n",
      "    huh howdy uh dammit whammo shucks heck anyways whodunnit honey golly\n",
      "    man baby diddle hush sonuvabitch ...\n",
      "VB: verb, base form\n",
      "    ask assemble assess assign assume atone attention avoid bake balkanize\n",
      "    bank begin behold believe bend benefit bevel beware bless boil bomb\n",
      "    boost brace break bring broil brush build ...\n",
      "VBD: verb, past tense\n",
      "    dipped pleaded swiped regummed soaked tidied convened halted registered\n",
      "    cushioned exacted snubbed strode aimed adopted belied figgered\n",
      "    speculated wore appreciated contemplated ...\n",
      "VBG: verb, present participle or gerund\n",
      "    telegraphing stirring focusing angering judging stalling lactating\n",
      "    hankerin' alleging veering capping approaching traveling besieging\n",
      "    encrypting interrupting erasing wincing ...\n",
      "VBN: verb, past participle\n",
      "    multihulled dilapidated aerosolized chaired languished panelized used\n",
      "    experimented flourished imitated reunifed factored condensed sheared\n",
      "    unsettled primed dubbed desired ...\n",
      "VBP: verb, present tense, not 3rd person singular\n",
      "    predominate wrap resort sue twist spill cure lengthen brush terminate\n",
      "    appear tend stray glisten obtain comprise detest tease attract\n",
      "    emphasize mold postpone sever return wag ...\n",
      "VBZ: verb, present tense, 3rd person singular\n",
      "    bases reconstructs marks mixes displeases seals carps weaves snatches\n",
      "    slumps stretches authorizes smolders pictures emerges stockpiles\n",
      "    seduces fizzes uses bolsters slaps speaks pleads ...\n",
      "WDT: WH-determiner\n",
      "    that what whatever which whichever\n",
      "WP: WH-pronoun\n",
      "    that what whatever whatsoever which who whom whosoever\n",
      "WP$: WH-pronoun, possessive\n",
      "    whose\n",
      "WRB: Wh-adverb\n",
      "    how however whence whenever where whereby whereever wherein whereof why\n",
      "``: opening quotation mark\n",
      "    ` ``\n"
     ]
    }
   ],
   "source": [
    "import nltk\n",
    "#nltk.download('averaged_perceptron_tagger')\n",
    "#nltk.download('tagsets')\n",
    "nltk.download('cmudict')\n",
    "\n",
    "nltk.help.upenn_tagset()\n"
   ]
  },
  {
   "cell_type": "code",
   "execution_count": null,
   "metadata": {},
   "outputs": [],
   "source": [
    "#import nltk\n",
    "#nltk.download('punkt')"
   ]
  },
  {
   "cell_type": "code",
   "execution_count": 3,
   "metadata": {},
   "outputs": [
    {
     "name": "stdout",
     "output_type": "stream",
     "text": [
      "[nltk_data] Downloading package vader_lexicon to\n",
      "[nltk_data]     /home/joseph/nltk_data...\n",
      "[nltk_data]   Package vader_lexicon is already up-to-date!\n"
     ]
    },
    {
     "name": "stderr",
     "output_type": "stream",
     "text": [
      "/home/joseph/anaconda3/envs/insight/lib/python3.6/site-packages/nltk/twitter/__init__.py:20: UserWarning: The twython library has not been installed. Some functionality from the twitter package will not be available.\n",
      "  warnings.warn(\"The twython library has not been installed. \"\n"
     ]
    }
   ],
   "source": [
    "from nltk.tokenize import sent_tokenize\n",
    "from nltk.sentiment import SentimentIntensityAnalyzer\n",
    "nltk.download('vader_lexicon')\n",
    "\n",
    "sid = SentimentIntensityAnalyzer()\n",
    "import nltk.data\n",
    "sent_detector = nltk.data.load('tokenizers/punkt/english.pickle')\n",
    "\n",
    "from nltk.tag.stanford import StanfordPOSTagger"
   ]
  },
  {
   "cell_type": "markdown",
   "metadata": {},
   "source": [
    "# Can skip ahead if you're just dealing with nyt, breit, wapo test data"
   ]
  },
  {
   "cell_type": "code",
   "execution_count": null,
   "metadata": {},
   "outputs": [],
   "source": [
    "try:\n",
    "    total_df = pd.read_pickle('total_df.p')\n",
    "except:\n",
    "    df_1 = pd.read_csv('articles1.csv')\n",
    "    df_2 = pd.read_csv('articles2.csv')\n",
    "    df_3 = pd.read_csv('articles3.csv')\n",
    "    #print(df_1.head(1))\n",
    "    print(df_1.shape)\n",
    "\n",
    "    #print(df_1.publication.unique())\n",
    "    #print(df_2.publication.unique())\n",
    "    #print(df_3.publication.unique())\n",
    "    #merge dataframes\n",
    "    total_df = pd.concat([df_1, df_2, df_3])\n",
    "    df_1 = 0\n",
    "    df_2 = 0\n",
    "    df_3 = 0\n",
    "    total_df['sentence_count'] = 0\n",
    "    total_df['word_count'] = 0\n",
    "    total_df.to_pickle('total_df.p')\n",
    "publication_names = total_df.publication.unique()"
   ]
  },
  {
   "cell_type": "code",
   "execution_count": null,
   "metadata": {},
   "outputs": [],
   "source": [
    "total_df.publication.value_counts().plot(kind='bar')"
   ]
  },
  {
   "cell_type": "code",
   "execution_count": null,
   "metadata": {},
   "outputs": [],
   "source": [
    "#print(list(total_df))\n",
    "#print(total_df.loc[total_df['publication'] == 'New York Times']['title'])"
   ]
  },
  {
   "cell_type": "code",
   "execution_count": null,
   "metadata": {},
   "outputs": [],
   "source": [
    "#nyt_list = total_df.loc[total_df['publication'] == 'New York Times']['content'].tolist()\n",
    "nyt_df = total_df.loc[total_df['publication'] == 'New York Times']\n",
    "nyt_semic = nyt_df[nyt_df['content'].str.contains(\";\")]\n",
    "#breit_list = total_df.loc[total_df['publication'] == 'Breitbart']['content'].tolist()\n",
    "#wapo_list = total_df.loc[total_df['publication'] == 'Washington Post']['content'].tolist()"
   ]
  },
  {
   "cell_type": "code",
   "execution_count": null,
   "metadata": {},
   "outputs": [],
   "source": [
    "print(nyt_semic.shape)"
   ]
  },
  {
   "cell_type": "code",
   "execution_count": null,
   "metadata": {},
   "outputs": [],
   "source": [
    "def rand_list(num_articles):\n",
    "    return [random.random() for _ in range(num_articles)]"
   ]
  },
  {
   "cell_type": "code",
   "execution_count": null,
   "metadata": {},
   "outputs": [],
   "source": [
    "def get_id_content_list(pubname, num_articles):\n",
    "    min_length_cutoff = 50\n",
    "    df_cont_list = total_df.loc[total_df['publication'] == pubname]['content'].tolist()\n",
    "    df_id_list = total_df.loc[total_df['publication'] == pubname]['id'].tolist()\n",
    "    df_id_list = [i for ci, i in enumerate(df_id_list) if len(df_cont_list[ci]) > min_length_cutoff]\n",
    "    df_cont_list = [i for i in df_cont_list if len(i) > min_length_cutoff]\n",
    "    num_articles_in_set = len(df_id_list)\n",
    "    num_rand_to_get = num_articles_in_set if num_articles > num_articles_in_set else num_articles\n",
    "    if num_articles > num_articles_in_set:\n",
    "        print('Warning!', pubname, 'only has ', str(len(df_id_list)), ' articles, but you are asking for ', str(num_articles))\n",
    "    random_num_list = rand_list(num_articles_in_set)\n",
    "    cont_list = [i for ci,i in enumerate(df_cont_list) if random_num_list[ci] > 1-num_rand_to_get/num_articles_in_set]\n",
    "    id_list =   [i for ci,i in enumerate(df_id_list)   if random_num_list[ci] > 1-num_rand_to_get/num_articles_in_set]\n",
    "    return cont_list, id_list"
   ]
  },
  {
   "cell_type": "code",
   "execution_count": null,
   "metadata": {},
   "outputs": [],
   "source": [
    "def prepare_text(publication_content_list):\n",
    "    if type(publication_content_list) is not list:\n",
    "        publication_content_list = [publication_content_list]\n",
    "    #lower case text\n",
    "    lower_case = [text.strip().lower() for text in publication_content_list]\n",
    "    #replace strange quote characters with normal ones \n",
    "    replace_quotes = [text.replace('“', '\"').replace('”', '\"') for text in lower_case]\n",
    "    #do punkt sentence tokenization\n",
    "    sentence_tokenize = [sent_detector.tokenize(text.strip()) for text in replace_quotes]\n",
    "    #do nltk word tokenization\n",
    "    word_tokenize = [nltk.word_tokenize(text) for text in replace_quotes]\n",
    "    #get unique string counts\n",
    "    string_counts = [Counter(text) for text in word_tokenize]\n",
    "    return sentence_tokenize, word_tokenize, string_counts"
   ]
  },
  {
   "cell_type": "code",
   "execution_count": null,
   "metadata": {},
   "outputs": [],
   "source": [
    "num_articles = 5000\n",
    "\n",
    "nyt_list, nyt_id = get_id_content_list('New York Times', num_articles)\n",
    "guard_list, guard_id = get_id_content_list('Guardian', num_articles)\n",
    "breit_list, breit_id = get_id_content_list('Breitbart', num_articles)\n",
    "wapo_list, wapo_id = get_id_content_list('Washington Post', num_articles)\n",
    "print(len(nyt_list), len(breit_list), len(wapo_list))\n",
    "print(nyt_list[0][:200], nyt_id[0], guard_list[0][:200])"
   ]
  },
  {
   "cell_type": "code",
   "execution_count": null,
   "metadata": {},
   "outputs": [],
   "source": [
    "nyt_sent, nyt_word, nyt_string_count = prepare_text(nyt_list)"
   ]
  },
  {
   "cell_type": "code",
   "execution_count": null,
   "metadata": {},
   "outputs": [],
   "source": [
    "breit_sent, breit_word, breit_string_count = prepare_text(breit_list)"
   ]
  },
  {
   "cell_type": "code",
   "execution_count": null,
   "metadata": {},
   "outputs": [],
   "source": [
    "wapo_sent, wapo_word, wapo_string_count = prepare_text(wapo_list)"
   ]
  },
  {
   "cell_type": "code",
   "execution_count": null,
   "metadata": {},
   "outputs": [],
   "source": [
    "guard_sent, guard_word, guard_string_count = prepare_text(guard_list)"
   ]
  },
  {
   "cell_type": "code",
   "execution_count": null,
   "metadata": {},
   "outputs": [],
   "source": [
    "pickle.dump( ['nyt', nyt_id, nyt_sent, nyt_word, nyt_string_count], open( \"nyt_tokenized_strings.p\", \"wb\" ) )\n",
    "pickle.dump( ['breit', breit_id, breit_sent, breit_word, breit_string_count], open( \"breit_tokenized_strings.p\", \"wb\" ) )\n",
    "pickle.dump( ['wapo', wapo_id, wapo_sent, wapo_word, wapo_string_count], open( \"wapo_tokenized_strings.p\", \"wb\" ) )\n",
    "pickle.dump( ['guard', guard_id, guard_sent, guard_word, guard_string_count], open( \"guard_tokenized_strings.p\", \"wb\"))\n",
    "# ['breit', breit_sent, breit_word, breit_string_count],\n",
    "# ['wapo', wapo_sent, wapo_word, wapo_string_count]]"
   ]
  },
  {
   "cell_type": "markdown",
   "metadata": {},
   "source": [
    "# Can start here if you don't care about which articles you got, and you have the article pickle files"
   ]
  },
  {
   "cell_type": "code",
   "execution_count": 4,
   "metadata": {},
   "outputs": [],
   "source": [
    "#unpickle files\n",
    "pub, nyt_id, nyt_sent, nyt_word, nyt_string_count = pickle.load( open( \"nyt_tokenized_strings.p\", \"rb\" ) )\n",
    "pub, breit_id, breit_sent, breit_word, breit_string_count = pickle.load( open( \"breit_tokenized_strings.p\", \"rb\" ) )\n",
    "pub, wapo_id, wapo_sent, wapo_word, wapo_string_count = pickle.load( open( \"wapo_tokenized_strings.p\", \"rb\" ) )\n",
    "pub, guard_id, guard_sent, guard_word, guard_string_count = pickle.load( open( \"guard_tokenized_strings.p\", \"rb\" ) )"
   ]
  },
  {
   "cell_type": "code",
   "execution_count": 5,
   "metadata": {},
   "outputs": [],
   "source": [
    "translator = str.maketrans('', '', string.punctuation + '”“')\n",
    "punctuation_set = set(string.punctuation + '”“')"
   ]
  },
  {
   "cell_type": "code",
   "execution_count": null,
   "metadata": {},
   "outputs": [],
   "source": [
    "stanford_pos = StanfordPOSTagger('postagger/models/english-bidirectional-distsim.tagger', 'postagger/stanford-postagger.jar')"
   ]
  },
  {
   "cell_type": "code",
   "execution_count": 51,
   "metadata": {},
   "outputs": [
    {
     "name": "stdout",
     "output_type": "stream",
     "text": [
      "118.18\n"
     ]
    }
   ],
   "source": [
    "arpabet = nltk.corpus.cmudict.dict()\n",
    "import textstat as ts\n",
    "from textstat.textstat import textstat\n",
    "print(textstat.flesch_reading_ease('hi, how are you?'))\n",
    "#get pronunciation of words\n",
    "#pro_words_1 = [(i, arpabet[i][0]) for i in sort_1 if i in arpabet]"
   ]
  },
  {
   "cell_type": "code",
   "execution_count": 105,
   "metadata": {},
   "outputs": [],
   "source": [
    "class Publication():\n",
    "    \n",
    "    def __init__(self, pub_id = '', pub_id_list = [], pub_sent = [], pub_word = [], pub_string_count = []):\n",
    "        self.publication_name = pub_id\n",
    "        self.id_list = pub_id_list\n",
    "        self.sent_tok = pub_sent\n",
    "        self.word_tok = pub_word\n",
    "        self.string_count = pub_string_count\n",
    "    \n",
    "    def calc_word_count(self):\n",
    "        self.word_count_punc = [len(text) for text in self.word_tok]\n",
    "        self.word_count = [len([word for word in text if word not in punctuation_set]) for text in self.word_tok]\n",
    "        \n",
    "    def calc_sent_count(self):\n",
    "        self.sent_count = [len(text) for text in self.sent_tok]\n",
    "        \n",
    "    def calc_sent_len(self):\n",
    "        if not self.word_count:\n",
    "            self.calc_word_count()\n",
    "        if not self.sent_count:\n",
    "            self.calc_sent_count\n",
    "        self.sent_len = [float(i/j) for i,j in zip(self.word_count, self.sent_count)]\n",
    "        \n",
    "    def calc_unique_words(self):\n",
    "        self.unique_wc = [len(set([word for word in text if word not in punctuation_set])) for text in self.word_tok]\n",
    "        self.unique_word_frac = [float(i/j) for i,j in zip(self.unique_wc, self.word_count)]\n",
    "\n",
    "    def calc_word_length(self):\n",
    "        self.word_len = [np.mean([len(word) for word in text if word not in punctuation_set]) for text in self.word_tok]\n",
    "\n",
    "    def calc_sent_len_std(self):\n",
    "        self.sent_len_std = [np.std([len(sent) for sent in text]) for text in self.sent_tok]\n",
    "        \n",
    "    def calc_punc_ps(self):\n",
    "        if not self.sent_count:\n",
    "            self.calc_sent_count()\n",
    "        self.cps = [float(counter[',']/sent_num) for counter, sent_num in zip(self.string_count, self.sent_count)]\n",
    "        self.qps = [float(counter['?']/sent_num) for counter, sent_num in zip(self.string_count, self.sent_count)]\n",
    "        self.exps = [float(counter['!']/sent_num) for counter, sent_num in zip(self.string_count, self.sent_count)]\n",
    "\n",
    "    def calc_pos_counts(self):\n",
    "        #tag text:\n",
    "        self.adverb_count = []\n",
    "        self.verb_count = []\n",
    "        self.adj_count = []\n",
    "        self.FW_count = []\n",
    "        for ci, article in enumerate(self.sent_tok):\n",
    "            if not ci%1000:\n",
    "                print(ci)\n",
    "            article_adverb_dict = {'RB': 0, 'RBR': 0, 'RBS': 0, 'WRB': 0}\n",
    "            article_verb_dict = {'VB': 0, 'VBD': 0, 'VBG': 0, 'VBN': 0 , 'VBZ': 0, 'VBP': 0}\n",
    "            article_adj_dict = {'JJ': 0, 'JJR': 0, 'JJS': 0}\n",
    "            article_FW = 0\n",
    "            for sentence in article:\n",
    "                #pos_tag = stanford_pos.tag([sentence])\n",
    "                pos_tag = nltk.pos_tag(nltk.word_tokenize(sentence))\n",
    "                #adverbs\n",
    "                for word in pos_tag:\n",
    "                    if 'RB' in word[1]:\n",
    "                        #print(word[0], word[1])\n",
    "                        #RB: adverb\n",
    "                        #    occasionally unabatingly maddeningly adventurously professedly\n",
    "                        #    stirringly prominently technologically magisterially predominately\n",
    "                        #    swiftly fiscally pitilessly ...\n",
    "                        #RBR: adverb, comparative\n",
    "                        #    further gloomier grander graver greater grimmer harder harsher\n",
    "                        #    healthier heavier higher however larger later leaner lengthier less-\n",
    "                        #    perfectly lesser lonelier longer louder lower more ...\n",
    "                        #RBS: adverb, superlative\n",
    "                        #    best biggest bluntest earliest farthest first furthest hardest\n",
    "                        #    heartiest highest largest least\n",
    "                        #WRB: what, where, who, when\n",
    "                        article_adverb_dict[word[1]] += 1\n",
    "                        #article_adv_count += 1\n",
    "                    if 'VB' in word[1]:\n",
    "                        #VB: verb, base form\n",
    "                        #    ask assemble assess assign assume atone attention avoid bake balkanize\n",
    "                        #    bank begin behold believe bend benefit bevel beware bless boil bomb\n",
    "                        #    boost brace break bring broil brush build ...\n",
    "                        #VBD: verb, past tense\n",
    "                        #    dipped pleaded swiped regummed soaked tidied convened halted registered\n",
    "                        #    cushioned exacted snubbed strode aimed adopted belied figgered\n",
    "                        #    speculated wore appreciated contemplated ...\n",
    "                        #VBG: verb, present participle or gerund\n",
    "                        #    telegraphing stirring focusing angering judging stalling lactating\n",
    "                        #    hankerin' alleging veering capping approaching traveling besieging\n",
    "                        #    encrypting interrupting erasing wincing ...\n",
    "                        #VBN: verb, past participle\n",
    "                        #    multihulled dilapidated aerosolized chaired languished panelized used\n",
    "                        #    experimented flourished imitated reunifed factored condensed sheared\n",
    "                        #    unsettled primed dubbed desired ...\n",
    "                        #VBP: verb, present tense, not 3rd person singular\n",
    "                        #    predominate wrap resort sue twist spill cure lengthen brush terminate\n",
    "                        #    appear tend stray glisten obtain comprise detest tease attract\n",
    "                        #    emphasize mold postpone sever return wag ...\n",
    "                        #VBZ: verb, present tense, 3rd person singular\n",
    "                        #    bases reconstructs marks mixes displeases seals carps weaves snatches\n",
    "                        #    slumps stretches authorizes smolders pictures emerges stockpiles\n",
    "                        #    seduces fizzes uses bolsters slaps speaks pleads\n",
    "                        article_verb_dict[word[1]] += 1\n",
    "                        #article_verb_count += 1\n",
    "                    if 'JJ' in word[1]:\n",
    "                        #JJ: adjective or numeral, ordinal\n",
    "                            #third ill-mannered pre-war regrettable oiled calamitous first separable\n",
    "                            #ectoplasmic battery-powered participatory fourth still-to-be-named\n",
    "                            #multilingual multi-disciplinary ...\n",
    "                        #JJR: adjective, comparative\n",
    "                            #bleaker braver breezier briefer brighter brisker broader bumper busier\n",
    "                            #calmer cheaper choosier cleaner clearer closer colder commoner costlier\n",
    "                            #cozier creamier crunchier cuter ...\n",
    "                        #JJS: adjective, superlative\n",
    "                            #calmest cheapest choicest classiest cleanest clearest closest commonest\n",
    "                            #corniest costliest crassest creepiest crudest cutest darkest deadliest\n",
    "                            #dearest deepest densest dinkiest ...\n",
    "                        article_adj_dict[word[1]] += 1\n",
    "                    if 'FW' == word[1]:\n",
    "                        #foreign word\n",
    "                        article_FW += 1\n",
    "            self.adverb_count.append(article_adverb_dict)\n",
    "            self.verb_count.append(article_verb_dict)\n",
    "            self.adj_count.append(article_adj_dict)\n",
    "            self.FW_count.append(article_FW)\n",
    "            #input()\n",
    "        #verb count:\n",
    "        \n",
    "        #noun count:\n",
    "            \n",
    "    def calc_sentiment_polarity(self):\n",
    "        self.sentiment_vec = []\n",
    "        for ci, article in enumerate(self.sent_tok):\n",
    "            if not ci%1000:\n",
    "                print(ci)\n",
    "            sentence_count = len(article)\n",
    "            #compound, positive, neutral, negative\n",
    "            document_score = [0,0,0,0]\n",
    "            for sentence in article:\n",
    "                #print(sentence)\n",
    "                ss = sid.polarity_scores(sentence)\n",
    "                document_score[0] += ss['compound']\n",
    "                document_score[1] += ss['pos']\n",
    "                document_score[2] += ss['neu']\n",
    "                document_score[3] += ss['neg']\n",
    "                #print(ss)\n",
    "                #for k in sorted(ss):\n",
    "                #    print('{0}: {1}, '.format(k, ss[k]), end='')\n",
    "                #    print()\n",
    "                #input()\n",
    "            document_score = [float(i/sentence_count) for i in document_score]\n",
    "            self.sentiment_vec.append(document_score)\n",
    "            \n",
    "    def calc_flesch_level(self):\n",
    "        #206.835 - (total words/total sentences) * 1.015 - (total syllables / total words) * 84.6\n",
    "        #print(sum([len(word)/3. if word not in arpabet else len(arpabet[word][0]) for word in self.word_tok[0] if word not in punctuation_set]))\n",
    "        #print(self.sent_len[0], self.word_count[0])\n",
    "        #input()\n",
    "        #self.flesch_level = [sl * 0.39 + 11.8 * np.mean(\n",
    "        #    [len(word)/3. if word not in arpabet else len(arpabet[word][0]) \n",
    "        #     for word in text if word not in punctuation_set]) - 15.59\n",
    "        #                     for text, sl, wc in zip(self.word_tok, self.sent_len, self.word_count)]\n",
    "        self.flesch_level = [textstat.flesch_reading_ease(' '.join(text)) for text in self.sent_tok]\n",
    "        \n",
    "#feature names: word_count, sent_count, sent_len, unique_word_frac, word_len, sent_len_std, cps\n",
    "    "
   ]
  },
  {
   "cell_type": "markdown",
   "metadata": {},
   "source": [
    "# New York Times"
   ]
  },
  {
   "cell_type": "code",
   "execution_count": 106,
   "metadata": {},
   "outputs": [
    {
     "name": "stdout",
     "output_type": "stream",
     "text": [
      "0\n",
      "1000\n",
      "2000\n",
      "3000\n",
      "4000\n"
     ]
    }
   ],
   "source": [
    "nyt = Publication(\"New York Times\", nyt_id, nyt_sent, nyt_word, nyt_string_count)\n",
    "nyt.calc_word_count()\n",
    "nyt.calc_sent_count()\n",
    "nyt.calc_sent_len()\n",
    "nyt.calc_unique_words()\n",
    "nyt.calc_word_length()\n",
    "nyt.calc_sent_len_std()\n",
    "nyt.calc_punc_ps()\n",
    "nyt.calc_flesch_level()\n",
    "nyt.calc_pos_counts()\n",
    "#print(nyt.flesch_level)"
   ]
  },
  {
   "cell_type": "code",
   "execution_count": null,
   "metadata": {},
   "outputs": [],
   "source": []
  },
  {
   "cell_type": "code",
   "execution_count": null,
   "metadata": {},
   "outputs": [],
   "source": [
    "#nyt.calc_pos_counts()\n",
    "#print(nyt.adverb_count)\n",
    "#nyt.calc_sentiment_polarity()\n",
    "breit = Publication(\"Breitbart\", breit_id, breit_sent, breit_word, breit_string_count)\n",
    "breit.calc_word_count()\n",
    "breit.calc_sent_count()\n",
    "breit.calc_sent_len()\n",
    "breit.calc_unique_words()\n",
    "breit.calc_word_length()\n",
    "breit.calc_sent_len_std()\n",
    "breit.calc_punc_ps()\n",
    "breit.calc_flesch_level()\n",
    "breit.calc_pos_counts()\n",
    "#breit.calc_sentiment_polarity()\n",
    "\n",
    "#pickle.dump( [nyt], open( \"nyt_instance.p\", \"wb\" ) )\n",
    "\n",
    "\n",
    "wapo = Publication(\"Washington Post\", wapo_id, wapo_sent, wapo_word, wapo_string_count)\n",
    "wapo.calc_word_count()\n",
    "wapo.calc_sent_count()\n",
    "wapo.calc_sent_len()\n",
    "wapo.calc_unique_words()\n",
    "wapo.calc_word_length()\n",
    "wapo.calc_sent_len_std()\n",
    "wapo.calc_punc_ps()\n",
    "wapo.calc_flesch_level()\n",
    "wapo.calc_pos_counts()\n",
    "#wapo.calc_sentiment_polarity()\n",
    "\n",
    "guard = Publication(\"Guardian\", guard_id, guard_sent, guard_word, guard_string_count)\n",
    "guard.calc_word_count()\n",
    "guard.calc_sent_count()\n",
    "guard.calc_sent_len()\n",
    "guard.calc_unique_words()\n",
    "guard.calc_word_length()\n",
    "guard.calc_sent_len_std()\n",
    "guard.calc_punc_ps()\n",
    "guard.calc_flesch_level()"
   ]
  },
  {
   "cell_type": "code",
   "execution_count": 110,
   "metadata": {},
   "outputs": [
    {
     "name": "stdout",
     "output_type": "stream",
     "text": [
      "0\n",
      "1000\n",
      "2000\n",
      "3000\n",
      "4000\n",
      "5000\n"
     ]
    }
   ],
   "source": [
    "guard.calc_pos_counts()\n",
    "#guard.calc_sentiment_polarity()"
   ]
  },
  {
   "cell_type": "markdown",
   "metadata": {},
   "source": [
    "# Breitbart"
   ]
  },
  {
   "cell_type": "code",
   "execution_count": null,
   "metadata": {},
   "outputs": [],
   "source": [
    "breit = Publication(\"Breitbart\", breit_id, breit_sent, breit_word, breit_string_count)\n",
    "#breit.calc_word_count()\n",
    "#breit.calc_sent_count()\n",
    "#breit.calc_sent_len()\n",
    "#breit.calc_unique_words()\n",
    "#breit.calc_word_length()\n",
    "#breit.calc_sent_len_std()\n",
    "#breit.calc_cps()\n",
    "#breit.calc_pos_counts()\n",
    "breit.calc_sentiment_polarity()\n"
   ]
  },
  {
   "cell_type": "markdown",
   "metadata": {},
   "source": [
    "# Wapo"
   ]
  },
  {
   "cell_type": "code",
   "execution_count": null,
   "metadata": {},
   "outputs": [],
   "source": [
    "wapo = Publication(\"Washington Post\", wapo_id, wapo_sent, wapo_word, wapo_string_count)\n",
    "#wapo.calc_word_count()\n",
    "#wapo.calc_sent_count()\n",
    "#wapo.calc_sent_len()\n",
    "#wapo.calc_unique_words()\n",
    "#wapo.calc_word_length()\n",
    "#wapo.calc_sent_len_std()\n",
    "#wapo.calc_cps()\n",
    "#wapo.calc_pos_counts()\n",
    "wapo.calc_sentiment_polarity()"
   ]
  },
  {
   "cell_type": "code",
   "execution_count": 146,
   "metadata": {},
   "outputs": [
    {
     "name": "stderr",
     "output_type": "stream",
     "text": [
      "/home/joseph/anaconda3/envs/insight/lib/python3.6/site-packages/matplotlib/axes/_axes.py:6462: UserWarning: The 'normed' kwarg is deprecated, and has been replaced by the 'density' kwarg.\n",
      "  warnings.warn(\"The 'normed' kwarg is deprecated, and has been \"\n",
      "/home/joseph/anaconda3/envs/insight/lib/python3.6/site-packages/matplotlib/axes/_axes.py:6462: UserWarning: The 'normed' kwarg is deprecated, and has been replaced by the 'density' kwarg.\n",
      "  warnings.warn(\"The 'normed' kwarg is deprecated, and has been \"\n",
      "/home/joseph/anaconda3/envs/insight/lib/python3.6/site-packages/matplotlib/axes/_axes.py:6462: UserWarning: The 'normed' kwarg is deprecated, and has been replaced by the 'density' kwarg.\n",
      "  warnings.warn(\"The 'normed' kwarg is deprecated, and has been \"\n",
      "/home/joseph/anaconda3/envs/insight/lib/python3.6/site-packages/matplotlib/axes/_axes.py:6462: UserWarning: The 'normed' kwarg is deprecated, and has been replaced by the 'density' kwarg.\n",
      "  warnings.warn(\"The 'normed' kwarg is deprecated, and has been \"\n"
     ]
    },
    {
     "data": {
      "image/png": "[encoded data removed]",
      "text/plain": [
       "<Figure size 432x288 with 1 Axes>"
      ]
     },
     "metadata": {},
     "output_type": "display_data"
    }
   ],
   "source": [
    "#adverb_count\n",
    "#wapo.calc_sent_count()\n",
    "#nyt.calc_sent_count()\n",
    "#breit.calc_sent_count()\n",
    "for i in [nyt, breit, wapo, guard]:\n",
    "    #print(breit.adverb_count)\n",
    "    #VB, VBD, VBG, VBN, VBP, VBZ\n",
    "    #JJ, JJS, JJR\n",
    "    #RB, RBS, RBR, WRB\n",
    "    plt.hist([k/j for k,j in zip(i.FW_count, i.sent_count)], bins = [i/1000. for i in list(range(0,500,10))], normed = True, alpha = 0.7)\n",
    "plt.legend(labels = pub_list_labels)\n",
    "plt.title(\"Adverbs per sentence\")\n",
    "plt.show()"
   ]
  },
  {
   "cell_type": "code",
   "execution_count": null,
   "metadata": {},
   "outputs": [],
   "source": [
    "#sentiment score\n",
    "for i in [nyt, breit, wapo]:\n",
    "    #print(breit.adverb_count)\n",
    "    #plt.hist([component[1]+component[3] for component in i.sentiment_vec], bins = [i/100. for i in list(range(0,200,1))], normed = True, alpha = 0.5)\n",
    "    plt.scatter([component[1] for component in i.sentiment_vec], [component[3] for component in i.sentiment_vec], s = 1, alpha = 0.8)\n",
    "plt.legend(labels = pub_list_labels)\n",
    "plt.title(\"Sentiment score metrics (vader)\")\n",
    "plt.show()"
   ]
  },
  {
   "cell_type": "markdown",
   "metadata": {},
   "source": [
    "# Finished features go into the plotting box below, in progress ones go above"
   ]
  },
  {
   "cell_type": "code",
   "execution_count": 64,
   "metadata": {},
   "outputs": [],
   "source": [
    "pub_list = [nyt, breit, wapo, guard]\n",
    "pub_list_labels = ['NYT', 'Breitbart', 'Washington Post', 'Guardian']"
   ]
  },
  {
   "cell_type": "markdown",
   "metadata": {},
   "source": [
    "# Plot Data"
   ]
  },
  {
   "cell_type": "code",
   "execution_count": 67,
   "metadata": {},
   "outputs": [
    {
     "name": "stderr",
     "output_type": "stream",
     "text": [
      "/home/joseph/anaconda3/envs/insight/lib/python3.6/site-packages/matplotlib/axes/_axes.py:6462: UserWarning: The 'normed' kwarg is deprecated, and has been replaced by the 'density' kwarg.\n",
      "  warnings.warn(\"The 'normed' kwarg is deprecated, and has been \"\n"
     ]
    },
    {
     "data": {
      "image/png": "[encoded data removed]",
      "text/plain": [
       "<Figure size 432x288 with 1 Axes>"
      ]
     },
     "metadata": {},
     "output_type": "display_data"
    },
    {
     "data": {
      "image/png": "[encoded data removed]",
      "text/plain": [
       "<Figure size 432x288 with 1 Axes>"
      ]
     },
     "metadata": {},
     "output_type": "display_data"
    },
    {
     "data": {
      "image/png": "[encoded data removed]",
      "text/plain": [
       "<Figure size 432x288 with 1 Axes>"
      ]
     },
     "metadata": {},
     "output_type": "display_data"
    },
    {
     "data": {
      "image/png": "[encoded data removed]",
      "text/plain": [
       "<Figure size 432x288 with 1 Axes>"
      ]
     },
     "metadata": {},
     "output_type": "display_data"
    },
    {
     "name": "stdout",
     "output_type": "stream",
     "text": [
      "[4.521398432790837, 4.5044, 4.216374269005848, 4.366797701844572, 4.131594202898551, 4.201845444059977, 4.674615792262851, 4.492052023121388, 4.2331902718168815, 4.218632202477114]\n",
      "[4.642857142857143, 4.287878787878788, 4.272, 4.560646900269542, 4.29637526652452, 4.782258064516129, 4.524271844660194, 5.078175895765472, 4.421052631578948, 4.090140845070422]\n",
      "[4.872592592592593, 4.610878661087866, 5.0062111801242235, 4.720353982300885, 4.675807078957604, 4.19358074222668, 4.6480286738351255, 4.775312855517634, 4.5436013590033975, 3.946632782719187]\n",
      "[4.445405405405405, 4.655913978494624, 4.344594594594595, 4.386617100371748, 4.925619834710743, 4.081043956043956, 4.639097744360902, 4.61271676300578, 4.35972850678733, 4.914829659318637]\n"
     ]
    },
    {
     "data": {
      "image/png": "[encoded data removed]",
      "text/plain": [
       "<Figure size 432x288 with 1 Axes>"
      ]
     },
     "metadata": {},
     "output_type": "display_data"
    },
    {
     "data": {
      "image/png": "[encoded data removed]",
      "text/plain": [
       "<Figure size 432x288 with 1 Axes>"
      ]
     },
     "metadata": {},
     "output_type": "display_data"
    },
    {
     "data": {
      "image/png": "[encoded data removed]",
      "text/plain": [
       "<Figure size 432x288 with 1 Axes>"
      ]
     },
     "metadata": {},
     "output_type": "display_data"
    },
    {
     "data": {
      "image/png": "[encoded data removed]",
      "text/plain": [
       "<Figure size 432x288 with 1 Axes>"
      ]
     },
     "metadata": {},
     "output_type": "display_data"
    },
    {
     "data": {
      "image/png": "[encoded data removed]",
      "text/plain": [
       "<Figure size 432x288 with 1 Axes>"
      ]
     },
     "metadata": {},
     "output_type": "display_data"
    },
    {
     "data": {
      "image/png": "[encoded data removed]",
      "text/plain": [
       "<Figure size 432x288 with 1 Axes>"
      ]
     },
     "metadata": {},
     "output_type": "display_data"
    }
   ],
   "source": [
    "# Word Count\n",
    "\n",
    "for i in [nyt, breit, wapo, guard]:\n",
    "    plt.hist(i.word_count, bins = list(range(0,3000,50)), normed = True, alpha = 0.7)\n",
    "plt.legend(labels = pub_list_labels)\n",
    "plt.title(\"Word count\")\n",
    "plt.show()\n",
    "\n",
    "# Sentence Count\n",
    "\n",
    "for i in [nyt, breit, wapo, guard]:\n",
    "    plt.hist(i.sent_count, bins = list(range(0,250,5)), normed = True, alpha = 0.7)\n",
    "plt.legend(labels = pub_list_labels)\n",
    "plt.title(\"Sentence count\")\n",
    "plt.show()\n",
    "# Sentence Length\n",
    "\n",
    "for i in [nyt, breit, wapo, guard]:\n",
    "    plt.hist(i.sent_len, bins = list(range(0,50,1)), normed = True, alpha = 0.7)\n",
    "plt.legend(labels = pub_list_labels)\n",
    "plt.title(\"Sentence length\")\n",
    "plt.show()\n",
    "# Unique Word Count and Fraction\n",
    "\n",
    "for i in [nyt, breit, wapo, guard]:\n",
    "    plt.hist(i.unique_word_frac, bins = [i/100. for i in list(range(0,100,1))], normed = True, alpha = 0.7)\n",
    "plt.legend(labels = pub_list_labels)\n",
    "plt.title(\"Unique word fraction\")\n",
    "plt.show()\n",
    "\n",
    "# Mean word length\n",
    "\n",
    "for i in [nyt, breit, wapo, guard]:\n",
    "    print(i.word_len[:10])\n",
    "    plt.hist([j for j in i.word_len if not np.isnan(j)], bins = [i/100. for i in list(range(300,650,5))], normed = True, alpha = 0.7)\n",
    "plt.legend(labels = pub_list_labels)\n",
    "plt.title(\"Mean word length\")\n",
    "plt.show()\n",
    "\n",
    "# Sentence length distribution\n",
    "\n",
    "for i in [nyt, breit, wapo, guard]:\n",
    "    plt.hist(i.sent_len_std, bins = list(range(0,170,2)), normed = True, alpha = 0.7)\n",
    "plt.legend(labels = pub_list_labels)\n",
    "plt.title(\"Sentence length variability\")\n",
    "plt.show()\n",
    "\n",
    "# Commas per sentence\n",
    "\n",
    "for i in [nyt, breit, wapo, guard]:\n",
    "    plt.hist(i.cps, bins = [i/100. for i in list(range(0,300,5))], normed = True, alpha = 0.7)\n",
    "plt.legend(labels = pub_list_labels)\n",
    "plt.title(\"Commas per sentence\")\n",
    "plt.show()\n",
    "\n",
    "\n",
    "for i in [nyt, breit, wapo, guard]:\n",
    "    plt.hist(i.qps, bins = [i/1000. for i in list(range(0,200,5))], normed = True, alpha = 0.7)\n",
    "plt.legend(labels = pub_list_labels)\n",
    "plt.title(\"Question marks per sentence\")\n",
    "plt.show()\n",
    "\n",
    "\n",
    "for i in [nyt, breit, wapo, guard]:\n",
    "    plt.hist(i.exps, bins = [i/1000. for i in list(range(0,100,5))], normed = True, alpha = 0.7)\n",
    "plt.legend(labels = pub_list_labels)\n",
    "plt.title(\"Exclamation marks per sentence\")\n",
    "plt.show()\n",
    "\n",
    "\n",
    "for i in [nyt, breit, wapo, guard]:\n",
    "    plt.hist(i.flesch_level, bins = [i/1. for i in list(range(0,100,5))], normed = True, alpha = 0.7)\n",
    "plt.legend(labels = pub_list_labels)\n",
    "plt.title(\"Flesch readability\")\n",
    "plt.show()"
   ]
  },
  {
   "cell_type": "markdown",
   "metadata": {},
   "source": [
    "# Measure correlations "
   ]
  },
  {
   "cell_type": "code",
   "execution_count": 111,
   "metadata": {},
   "outputs": [
    {
     "data": {
      "text/plain": [
       "<matplotlib.axes._subplots.AxesSubplot at 0x7f20d29462e8>"
      ]
     },
     "execution_count": 111,
     "metadata": {},
     "output_type": "execute_result"
    },
    {
     "data": {
      "image/png": "[encoded data removed]",
      "text/plain": [
       "<Figure size 432x288 with 2 Axes>"
      ]
     },
     "metadata": {},
     "output_type": "display_data"
    }
   ],
   "source": [
    "import seaborn as sns\n",
    "\n",
    "#put features into a pandas df\n",
    "breit_feature_df = pd.DataFrame(\n",
    "    {'word_count': breit.word_count,\n",
    "     'sent_len': breit.sent_len,\n",
    "     'word_len': breit.word_len,\n",
    "     'sent_len_std': breit.sent_len_std,\n",
    "     'unique_word_frac': breit.unique_word_frac,\n",
    "     'cps': breit.cps,\n",
    "     'qps': breit.qps,\n",
    "     'exps': breit.exps,\n",
    "     'adverb_ps': breit.adverb_count,\n",
    "     'verbs': breit.verb_count,\n",
    "     'adjectives' : breit.adj_count,\n",
    "     'foreign' : breit.FW_count,\n",
    "     'flesch': breit.flesch_level\n",
    "     #'sent_compound': [vec[0] for vec in breit.sentiment_vec]\n",
    "    })\n",
    "\n",
    "\n",
    "nyt_feature_df = pd.DataFrame(\n",
    "    {'word_count': nyt.word_count,\n",
    "     'sent_len': nyt.sent_len,\n",
    "     'word_len': nyt.word_len,\n",
    "     'sent_len_std': nyt.sent_len_std,\n",
    "     'unique_word_frac': nyt.unique_word_frac,\n",
    "     'cps': nyt.cps,\n",
    "     'qps': nyt.qps,\n",
    "     'exps': nyt.exps,\n",
    "     'adverb_ps': nyt.adverb_count,\n",
    "     'verbs': nyt.verb_count,\n",
    "     'adjectives' : nyt.adj_count,\n",
    "     'foreign' : nyt.FW_count,\n",
    "     'flesch': nyt.flesch_level\n",
    "     #'sent_compound': [vec[0] for vec in breit.sentiment_vec]\n",
    "    })\n",
    "\n",
    "\n",
    "wapo_feature_df = pd.DataFrame(\n",
    "    {'word_count': wapo.word_count,\n",
    "     'sent_len': wapo.sent_len,\n",
    "     'word_len': wapo.word_len,\n",
    "     'sent_len_std': wapo.sent_len_std,\n",
    "     'unique_word_frac': wapo.unique_word_frac,\n",
    "     'cps': wapo.cps,\n",
    "     'qps': wapo.qps,\n",
    "     'exps': wapo.exps,\n",
    "     'adverb_ps': wapo.adverb_count,\n",
    "     'verbs': wapo.verb_count,\n",
    "     'adjectives' : wapo.adj_count,\n",
    "     'foreign' : wapo.FW_count,\n",
    "     'flesch': wapo.flesch_level\n",
    "     #'sent_compound': [vec[0] for vec in breit.sentiment_vec]\n",
    "    })\n",
    "\n",
    "guard_feature_df = pd.DataFrame(\n",
    "    {'word_count': guard.word_count,\n",
    "     'sent_len': guard.sent_len,\n",
    "     'word_len': guard.word_len,\n",
    "     'sent_len_std': guard.sent_len_std,\n",
    "     'unique_word_frac': guard.unique_word_frac,\n",
    "     'cps': guard.cps,\n",
    "     'qps': guard.qps,\n",
    "     'exps': guard.exps,\n",
    "     'adverb_ps': guard.adverb_count,\n",
    "     'verbs': guard.verb_count,\n",
    "     'adjectives' : guard.adj_count,\n",
    "     'foreign' : guard.FW_count,\n",
    "     'flesch': guard.flesch_level\n",
    "     #'sent_compound': [vec[0] for vec in breit.sentiment_vec]\n",
    "    })\n",
    "\n",
    "#wc += i.word_count\n",
    "#sent_len += i.sent_len\n",
    "#word_len += i.word_len\n",
    "#sent_len_std += i.sent_len_std\n",
    "#unique_word_frac += i.unique_word_frac\n",
    "#cps += i.cps\n",
    "#adverb_ps += [float(sum(dict_vals.values())/sl) for dict_vals, sl in zip(i.adverb_count, i.sent_count)]\n",
    "#sup_adv_ps += [float(dict_vals['WRB']/sl) for dict_vals, sl in zip(i.adverb_count, i.sent_count)]\n",
    "#verb_ps += [float(dict_vals['VBZ']/sl) for dict_vals, sl in zip(i.verb_count, i.sent_count)]\n",
    "#sent_compound += [vec[2] if vec[1] + vec[3] == 0 else vec[2]/(vec[1] + vec[3]) for vec in i.sentiment_vec]\n",
    "\n",
    "corr = breit_feature_df.corr()\n",
    "\n",
    "mask = np.zeros_like(corr, dtype=np.bool)\n",
    "mask[np.triu_indices_from(mask)] = True\n",
    "\n",
    "cmap = sns.diverging_palette(220, 10, as_cmap=True)\n",
    "\n",
    "# Draw the heatmap with the mask and correct aspect ratio\n",
    "sns.heatmap(corr,cmap=cmap, center=0,\n",
    "            square=True, linewidths=.5, cbar_kws={\"shrink\": .5})"
   ]
  },
  {
   "cell_type": "code",
   "execution_count": 112,
   "metadata": {},
   "outputs": [],
   "source": [
    "pickle.dump(['nyt', nyt_feature_df, 'breit', breit_feature_df,\n",
    "             'wapo', wapo_feature_df, 'guard', guard_feature_df], open( \"nyt_data_df.p\", \"wb\" ) )\n"
   ]
  },
  {
   "cell_type": "markdown",
   "metadata": {},
   "source": [
    "### from sklearn import tree\n",
    "#X = [[0, 0], [1, 1]]\n",
    "#Y = [0, 1]\n",
    "#clf = tree.DecisionTreeClassifier()\n",
    "#clf = clf.fit(X, Y)"
   ]
  },
  {
   "cell_type": "code",
   "execution_count": 87,
   "metadata": {},
   "outputs": [
    {
     "name": "stdout",
     "output_type": "stream",
     "text": [
      "[67.69, 62.78, 65.35, 70.63, 82.95, 76.22, 48.84, 64.3, 70.73, 68.5]\n"
     ]
    }
   ],
   "source": [
    "#join data\n",
    "wc = []\n",
    "sent_len = []\n",
    "sent_len_std = []\n",
    "unique_word_frac = []\n",
    "word_len = []\n",
    "cps = []\n",
    "qps = []\n",
    "exps = []\n",
    "adverb_ps = []\n",
    "sup_adv_ps = []\n",
    "verb_ps = []\n",
    "sent_compound = []\n",
    "flesch = []\n",
    "#n_articles = 2000\n",
    "#VB, VBD, VBG, VBN, VBP, VBZ\n",
    "#RB, WRB, RBR, RBS\n",
    "#JJ, JJR, JJS\n",
    "#feature names: word_count, sent_count, sent_len, unique_word_frac, word_len, sent_len_std, cps\n",
    "for i in [nyt, breit, wapo, guard]:\n",
    "    wc += i.word_count\n",
    "    sent_len += i.sent_len\n",
    "    word_len += i.word_len\n",
    "    sent_len_std += i.sent_len_std\n",
    "    unique_word_frac += i.unique_word_frac\n",
    "    cps += i.cps\n",
    "    qps += i.qps\n",
    "    exps += i.exps\n",
    "    flesch += i.flesch_level\n",
    "    #adverb_ps += [float(sum(dict_vals.values())/sl) for dict_vals, sl in zip(i.adverb_count, i.sent_count)]\n",
    "    #sup_adv_ps += [float(dict_vals['WRB']/sl) for dict_vals, sl in zip(i.adverb_count, i.sent_count)]\n",
    "    #verb_ps += [float(dict_vals['VBZ']/sl) for dict_vals, sl in zip(i.verb_count, i.sent_count)]\n",
    "    #sent_compound += [vec[2] if vec[1] + vec[3] == 0 else vec[2]/(vec[1] + vec[3]) for vec in i.sentiment_vec]\n",
    "#print(sup_adv_ps[:10])\n",
    "#print(sent_compound[:10])\n",
    "print(flesch[:10])\n",
    "#print(nyt.adverb_count)\n",
    "#print(total_adverb_ps[:10])\n",
    "#wc = nyt_wc + breit_wc + wapo_wc\n",
    "#sent_len = nyt_sent_len + breit_sent_len + wapo_sent_len\n",
    "#sent_len_std = nyt_sent_len_std + breit_sent_len_std + wapo_sent_len_std\n",
    "#unique_word_frac = nyt_unique_word_frac + breit_unique_word_frac + wapo_unique_word_frac\n",
    "#word_len = nyt_word_len + breit_word_len + wapo_word_len\n",
    "#cps = nyt_cps + breit_cps + wapo_cps\n",
    "#print(len(wc), len(word_length))"
   ]
  },
  {
   "cell_type": "code",
   "execution_count": 88,
   "metadata": {},
   "outputs": [
    {
     "name": "stdout",
     "output_type": "stream",
     "text": [
      "[2000, 2000, 2000, 2000]\n",
      "[0, 2000, 4000, 6000, 8000]\n",
      "8000\n"
     ]
    }
   ],
   "source": [
    "#combine features\n",
    "X = [[i, j, k, l, m, n, o] for i, j, k, l, m, n, o in zip(\n",
    "    sent_len_std, unique_word_frac, word_len, cps, qps, exps, flesch)]#, sup_adv_ps, verb_ps, sent_compound)]\n",
    "\n",
    "feature_names = ['sentence variability', 'unique word fraction', \n",
    "                 'mean word length', 'commas per sentence', 'questions per sentence', \n",
    "                 'exclamations per sentence', 'flesch']#, 'adverbs per sentence', \n",
    "                 #'verbs per sentence', 'sent_compound']\n",
    "\n",
    "n_samples = len(X)\n",
    "data_boundaries = [len(i.word_count) for i in [nyt, breit, wapo, guard]]\n",
    "#data_boundaries = [n_articles for i in [nyt, breit, wapo, guard]]\n",
    "print(data_boundaries)\n",
    "cumulative_bounds = [0]\n",
    "for ci, i in enumerate(data_boundaries):\n",
    "    cumulative_bounds.append(i+cumulative_bounds[ci])\n",
    "print(cumulative_bounds)\n",
    "#cumulative_bounds = [0]\n",
    "#cumulative_bounds = [cumulative_bounds[i-1] + i for i in data_boundaries]\n",
    "print(len(X))\n",
    "#X = np.asarray(wc).reshape(-1,1)"
   ]
  },
  {
   "cell_type": "code",
   "execution_count": 89,
   "metadata": {},
   "outputs": [
    {
     "name": "stdout",
     "output_type": "stream",
     "text": [
      "8000\n"
     ]
    }
   ],
   "source": [
    "#labels\n",
    "Y = [0 for i in range(len(nyt.word_count))] + [1 for i in range(len(breit.word_count))] + [2 for i in range(len(wapo.word_count))] + [3 for i in range(len(guard.word_count))]\n",
    "#Y = [0 for i in range(n_articles)] + [1 for i in range(n_articles)] + [2 for i in range(n_articles)] + [3 for i in range(n_articles)]\n",
    "print(len(Y))\n"
   ]
  },
  {
   "cell_type": "code",
   "execution_count": 90,
   "metadata": {},
   "outputs": [
    {
     "name": "stdout",
     "output_type": "stream",
     "text": [
      "[2227 2572 3376 ... 4514 1670  364]\n",
      "[1181 7383 7206 ... 2730  725 4073]\n",
      "6002\n"
     ]
    }
   ],
   "source": [
    "#test train split\n",
    "from sklearn.model_selection import train_test_split\n",
    "\n",
    "indices = np.arange(n_samples)\n",
    "\n",
    "X_train, X_test, y_train, y_test, idx_train, idx_test = train_test_split(X, Y, indices, test_size=0.4)\n",
    "print(idx_train)\n",
    "print(idx_test)\n",
    "\n",
    "text_list = nyt_sent + breit_sent + wapo_sent +guard_sent\n",
    "print(len(text_list))"
   ]
  },
  {
   "cell_type": "code",
   "execution_count": 98,
   "metadata": {},
   "outputs": [
    {
     "name": "stdout",
     "output_type": "stream",
     "text": [
      "0.428125\n",
      "0.4521875\n",
      "0.463125\n",
      "0.488125\n",
      "0.4709375\n",
      "0.495625\n",
      "0.4796875\n",
      "0.4996875\n",
      "0.5053125\n",
      "0.505\n",
      "0.4990625\n",
      "0.5134375\n",
      "0.51125\n",
      "0.5190625\n",
      "0.518125\n",
      "0.5303125\n",
      "0.5190625\n",
      "0.521875\n",
      "0.524375\n",
      "0.5225\n",
      "0.5190625\n",
      "0.5315625\n",
      "0.51625\n",
      "0.5284375\n",
      "0.5209375\n",
      "0.529375\n",
      "0.5253125\n",
      "0.5246875\n",
      "0.5240625\n",
      "0.52125\n",
      "0.5228125\n",
      "0.52375\n",
      "0.5296875\n",
      "0.5265625\n",
      "0.53125\n",
      "0.5346875\n",
      "0.526875\n",
      "0.5246875\n",
      "0.526875\n",
      "0.5290625\n",
      "0.5375\n",
      "0.5284375\n",
      "0.52875\n",
      "0.525625\n"
     ]
    }
   ],
   "source": [
    "#from sklearn.model_selection import GridSearchCV\n",
    "#parameters = {'max_depth':range(3,20)}\n",
    "#clf = GridSearchCV(tree.DecisionTreeClassifier(), parameters, n_jobs=4)\n",
    "#clf.fit(X=X_train, y=y_train)\n",
    "#tree_model = clf.best_estimator_\n",
    "#print (clf.best_score_, clf.best_params_) \n",
    "\n",
    "\n",
    "#clf = tree.DecisionTreeClassifier(max_depth = 5)\n",
    "#clf = clf.fit(X_train, y_train)\n",
    "\n",
    "from sklearn.ensemble import RandomForestClassifier\n",
    "rf_clf = RandomForestClassifier(n_estimators=20)\n",
    "for i in range(100,4500, 100):\n",
    "    rand_start = random.randint(0,4500 - i)\n",
    "    rf_clf = rf_clf.fit(X_train[rand_start:rand_start + i], y_train[rand_start:rand_start + i])\n",
    "\n",
    "    print(rf_clf.score(X_test, y_test))\n",
    "\n",
    "y_pred = rf_clf.predict(X_test)\n",
    "#chance = [0 if random.random() > 0.5 else 1 for _ in range(len(y_pred))]"
   ]
  },
  {
   "cell_type": "code",
   "execution_count": 92,
   "metadata": {},
   "outputs": [
    {
     "name": "stdout",
     "output_type": "stream",
     "text": [
      "0.53125\n"
     ]
    }
   ],
   "source": [
    "from sklearn.ensemble import GradientBoostingClassifier\n",
    "\n",
    "xg_clf = GradientBoostingClassifier(n_estimators=20, learning_rate=0.1,\n",
    "                                 max_depth=10, random_state=0).fit(X_train, y_train)\n",
    "print(xg_clf.score(X_test, y_test))\n",
    "\n",
    "y_pred = xg_clf.predict(X_test)\n"
   ]
  },
  {
   "cell_type": "code",
   "execution_count": 93,
   "metadata": {},
   "outputs": [
    {
     "name": "stdout",
     "output_type": "stream",
     "text": [
      "Normalized confusion matrix\n",
      "[[0.64 0.08 0.15 0.13]\n",
      " [0.07 0.6  0.14 0.19]\n",
      " [0.17 0.13 0.52 0.17]\n",
      " [0.15 0.25 0.24 0.36]]\n"
     ]
    },
    {
     "data": {
      "image/png": "[encoded data removed]",
      "text/plain": [
       "<Figure size 432x288 with 2 Axes>"
      ]
     },
     "metadata": {},
     "output_type": "display_data"
    }
   ],
   "source": [
    "from sklearn.metrics import confusion_matrix\n",
    "import itertools\n",
    "class_names = ['New York Times', 'Breitbart', 'Washington Post', 'Guardian']\n",
    "\n",
    "def plot_confusion_matrix(cm, classes,\n",
    "                          normalize=False,\n",
    "                          title='Confusion matrix',\n",
    "                          cmap=plt.cm.Blues):\n",
    "    \"\"\"\n",
    "    This function prints and plots the confusion matrix.\n",
    "    Normalization can be applied by setting `normalize=True`.\n",
    "    \"\"\"\n",
    "    if normalize:\n",
    "        cm = cm.astype('float') / cm.sum(axis=1)[:, np.newaxis]\n",
    "        print(\"Normalized confusion matrix\")\n",
    "    else:\n",
    "        print('Confusion matrix, without normalization')\n",
    "\n",
    "    print(cm)\n",
    "\n",
    "    plt.imshow(cm, interpolation='nearest', cmap=cmap)\n",
    "    plt.title(title)\n",
    "    plt.colorbar()\n",
    "    tick_marks = np.arange(len(classes))\n",
    "    plt.xticks(tick_marks, classes, rotation=45, ha = 'right')\n",
    "    plt.yticks(tick_marks, classes)\n",
    "\n",
    "    fmt = '.2f' if normalize else 'd'\n",
    "    thresh = cm.max() / 2.\n",
    "    for i, j in itertools.product(range(cm.shape[0]), range(cm.shape[1])):\n",
    "        plt.text(j, i, format(cm[i, j], fmt),\n",
    "                 horizontalalignment=\"center\",\n",
    "                 color=\"white\" if cm[i, j] > thresh else \"black\")\n",
    "\n",
    "    plt.tight_layout()\n",
    "    plt.ylabel('True label')\n",
    "    plt.xlabel('Predicted label')\n",
    "\n",
    "# Compute confusion matrix\n",
    "cnf_matrix = confusion_matrix(y_test, y_pred)\n",
    "np.set_printoptions(precision=2)\n",
    "\n",
    "# Plot non-normalized confusion matrix\n",
    "plt.figure()\n",
    "plot_confusion_matrix(cnf_matrix, classes=class_names,\n",
    "                      title='Confusion matrix', normalize = True)\n"
   ]
  },
  {
   "cell_type": "code",
   "execution_count": 78,
   "metadata": {},
   "outputs": [
    {
     "name": "stdout",
     "output_type": "stream",
     "text": [
      "Feature ranking:\n",
      "1. feature 1 (0.243219)\n",
      "2. feature 6 (0.171811)\n",
      "3. feature 3 (0.170782)\n",
      "4. feature 2 (0.161642)\n",
      "5. feature 0 (0.154519)\n",
      "6. feature 4 (0.068566)\n",
      "7. feature 5 (0.029461)\n",
      "[1 6 3 2 0 4 5]\n"
     ]
    },
    {
     "data": {
      "image/png": "[encoded data removed]",
      "text/plain": [
       "<Figure size 432x288 with 1 Axes>"
      ]
     },
     "metadata": {},
     "output_type": "display_data"
    }
   ],
   "source": [
    "importances = xg_clf.feature_importances_\n",
    "std = np.std([tree.feature_importances_ for tree in clf.estimators_],\n",
    "             axis=0)\n",
    "indices = np.argsort(importances)[::-1]\n",
    "\n",
    "# Print the feature ranking\n",
    "print(\"Feature ranking:\")\n",
    "\n",
    "for f in range(len(X[0])):#.shape[1]):\n",
    "    print(\"%d. feature %d (%f)\" % (f + 1, indices[f], importances[indices[f]]))\n",
    "\n",
    "    # Plot the feature importances of the forest\n",
    "plt.figure()\n",
    "plt.title(\"Feature importances\")\n",
    "plt.bar(range(len(X[0])), importances[indices],\n",
    "       color=\"r\", yerr=std[indices], align=\"center\")\n",
    "print(indices)\n",
    "plt.xticks(range(len(X[0])), [feature_names[i] for i in indices], rotation = 45, ha = 'right')\n",
    "plt.xlim([-1, len(X[0])])\n",
    "plt.show()\n"
   ]
  },
  {
   "cell_type": "code",
   "execution_count": null,
   "metadata": {},
   "outputs": [],
   "source": [
    "conf_mat = np.zeros((4,4))\n",
    "count = 0\n",
    "for pred, true in zip(y_pred, y_test):\n",
    "    if pred == 0 and true == 3:\n",
    "            print(pred, true, count, 'mismatch')\n",
    "            print(' '.join(text_list[idx_test[count]]))\n",
    "            input()\n",
    "    conf_mat[pred,true] += 1.\n",
    "    count += 1\n",
    "print(count)\n",
    "#conf_mat[2,1] += 1000\n",
    "#[y,x] format (first index (predicted) is on the vertical, second index (truth) is on the horizontal)\n",
    "plt.imshow(conf_mat)\n",
    "plt.colorbar()\n",
    "print(conf_mat, np.sum(conf_mat))\n",
    "print(Counter(y_test))"
   ]
  },
  {
   "cell_type": "markdown",
   "metadata": {},
   "source": [
    "# Section for testing new article against mean features"
   ]
  },
  {
   "cell_type": "code",
   "execution_count": null,
   "metadata": {},
   "outputs": [],
   "source": [
    "def compare_article(text_features):\n",
    "    #pub_list = [nyt, breit, wapo]\n",
    "    wc_mean = [np.mean(i.word_count) for i in pub_list]\n",
    "    print(wc_mean)\n",
    "    #wc_mean1 = [np.mean(nyt_wc), np.mean(breit_wc), np.mean(wapo_wc)]\n",
    "    #print(wc_mean, wc_mean1)\n",
    "    sent_len_mean = [np.mean(i.sent_len) for i in pub_list]#, np.mean(breit_sent_len), np.mean(wapo_sent_len)]\n",
    "    sent_len_std_mean = [np.mean(i.sent_len_std) for i in pub_list]#, np.mean(breit_sent_len_std), np.mean(wapo_sent_len_std)]\n",
    "    unique_word_frac_mean = [np.mean(i.unique_word_frac) for i in pub_list]#, np.mean(breit_unique_word_frac), np.mean(wapo_unique_word_frac)]\n",
    "    word_len_mean = [np.mean(i.word_len) for i in pub_list]#, np.mean(breit_word_len), np.mean(wapo_word_len)]\n",
    "    cps_mean = [np.mean(i.cps) for i in pub_list]#, np.mean(breit_cps), np.mean(wapo_cps)]\n",
    "    features = ['sentence length', 'sentence length distribution', 'unique word fraction', 'word length', 'commas per sentence']\n",
    "    mean_features = [[i, j, k, l, m] for i, j, k, l, m in zip(sent_len_mean, sent_len_std_mean, unique_word_frac_mean, word_len_mean, cps_mean)]\n",
    "    print(mean_features)\n",
    "    pickle.dump(mean_features, open('mean_features.p', 'wb'))\n",
    "    return [[float(i/j) for i,j in zip(text_features, pub_features)] for pub_features in mean_features]"
   ]
  },
  {
   "cell_type": "code",
   "execution_count": null,
   "metadata": {},
   "outputs": [],
   "source": [
    "#generate features for a single text (THIS NEEDS TO GO INTO THE CLASS)\n",
    "def generate_features(text):\n",
    "    sent_tok, word_tok, string_counts = prepare_text(text)\n",
    "    sent_tok = sent_tok[0]\n",
    "    word_tok = word_tok[0]\n",
    "    string_counts = string_counts[0]\n",
    "    \n",
    "    punctuation_set = set(string.punctuation)\n",
    "    word_count = len([word for word in word_tok if word not in punctuation_set])\n",
    "    sent_count = len(sent_tok)\n",
    "    sent_len = float(word_count / sent_count)\n",
    "    sent_std = np.std([len(sent) for sent in sent_tok])\n",
    "\n",
    "    unique_word_count = len(set([word for word in word_tok if word not in punctuation_set]))\n",
    "    unique_word_frac = float(unique_word_count / word_count)\n",
    "    mean_word_length = np.mean([len(word) for word in word_tok if word not in punctuation_set])\n",
    "\n",
    "    cps = string_counts[',']/sent_count\n",
    "    return [sent_len, sent_std, unique_word_frac, mean_word_length, cps]"
   ]
  },
  {
   "cell_type": "code",
   "execution_count": null,
   "metadata": {},
   "outputs": [],
   "source": [
    "#print(' '.join(nyt_sent[0]))\n",
    "features = generate_features([' '.join(nyt_sent[10])])\n",
    "\n",
    "print(features)\n",
    "features_compare_to_mean = compare_article(features)\n",
    "features = ['sentence length', 'sentence length distribution', 'unique word fraction', 'word length', 'commas per sentence']\n",
    "plt.title('Features compared to average for {}'.format(\"New York Times\"))\n",
    "plt.bar(list(range(5)), features_compare_to_mean[2], color = 'r')\n",
    "plt.bar(list(range(5)), [1 for _ in range(5)], color = 'black', alpha = 0.5)\n",
    "#plt.ylim((0,1.2))\n",
    "plt.xticks(range(5), features, rotation = 45, ha = 'right')\n",
    "#plt.bar(list(range(5)), features_compare_to_mean[1], alpha = 0.5)\n",
    "\n",
    "#plt.bar(list(range(5)), features_compare_to_mean[2], alpha = 0.5)"
   ]
  },
  {
   "cell_type": "code",
   "execution_count": null,
   "metadata": {},
   "outputs": [],
   "source": [
    "from sklearn.externals import joblib\n",
    "joblib.dump(clf, 'decision_tree_10.pkl') "
   ]
  },
  {
   "cell_type": "code",
   "execution_count": null,
   "metadata": {},
   "outputs": [],
   "source": [
    "from sklearn.externals.six import StringIO  \n",
    "from IPython.display import Image  \n",
    "from sklearn.tree import export_graphviz\n",
    "import pydotplus\n",
    "\n",
    "dot_data = StringIO()\n",
    "\n",
    "export_graphviz(clf, out_file=dot_data,  \n",
    "                filled=True, rounded=True,\n",
    "                special_characters=True)\n",
    "\n",
    "graph = pydotplus.graph_from_dot_data(dot_data.getvalue())  \n",
    "Image(graph.create_png())"
   ]
  },
  {
   "cell_type": "code",
   "execution_count": null,
   "metadata": {},
   "outputs": [],
   "source": []
  }
 ],
 "metadata": {
  "kernelspec": {
   "display_name": "Python 3",
   "language": "python",
   "name": "python3"
  },
  "language_info": {
   "codemirror_mode": {
    "name": "ipython",
    "version": 3
   },
   "file_extension": ".py",
   "mimetype": "text/x-python",
   "name": "python",
   "nbconvert_exporter": "python",
   "pygments_lexer": "ipython3",
   "version": "3.6.5"
  }
 },
 "nbformat": 4,
 "nbformat_minor": 2
}
