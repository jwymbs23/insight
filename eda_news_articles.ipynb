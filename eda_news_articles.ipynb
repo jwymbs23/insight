{
 "cells": [
  {
   "cell_type": "code",
   "execution_count": 1,
   "metadata": {},
   "outputs": [],
   "source": [
    "import pandas as pd\n",
    "import numpy\n",
    "import matplotlib.pyplot as plt\n",
    "%matplotlib inline\n",
    "\n",
    "import pickle\n",
    "import string\n",
    "import numpy as np\n",
    "import random\n",
    "from collections import Counter"
   ]
  },
  {
   "cell_type": "code",
   "execution_count": 2,
   "metadata": {},
   "outputs": [],
   "source": [
    "#import nltk\n",
    "#nltk.download('punkt')\n",
    "#from nltk.tokenize import sent_tokenize\n",
    "import nltk.data\n",
    "sent_detector = nltk.data.load('tokenizers/punkt/english.pickle')"
   ]
  },
  {
   "cell_type": "markdown",
   "metadata": {},
   "source": [
    "# Can skip ahead if you're just dealing with nyt, breit, wapo test data"
   ]
  },
  {
   "cell_type": "code",
   "execution_count": 59,
   "metadata": {},
   "outputs": [],
   "source": [
    "try:\n",
    "    total_df = pd.read_pickle('total_df.p')\n",
    "except:\n",
    "    df_1 = pd.read_csv('articles1.csv')\n",
    "    df_2 = pd.read_csv('articles2.csv')\n",
    "    df_3 = pd.read_csv('articles3.csv')\n",
    "    #print(df_1.head(1))\n",
    "    print(df_1.shape)\n",
    "\n",
    "    #print(df_1.publication.unique())\n",
    "    #print(df_2.publication.unique())\n",
    "    #print(df_3.publication.unique())\n",
    "    #merge dataframes\n",
    "    total_df = pd.concat([df_1, df_2, df_3])\n",
    "    df_1 = 0\n",
    "    df_2 = 0\n",
    "    df_3 = 0\n",
    "    total_df['sentence_count'] = 0\n",
    "    total_df['word_count'] = 0\n",
    "    total_df.to_pickle('total_df.p')\n",
    "publication_names = total_df.publication.unique()"
   ]
  },
  {
   "cell_type": "code",
   "execution_count": null,
   "metadata": {},
   "outputs": [],
   "source": [
    "total_df.publication.value_counts().plot(kind='bar')"
   ]
  },
  {
   "cell_type": "code",
   "execution_count": null,
   "metadata": {},
   "outputs": [],
   "source": [
    "#print(list(total_df))\n",
    "#print(total_df.loc[total_df['publication'] == 'New York Times']['title'])"
   ]
  },
  {
   "cell_type": "code",
   "execution_count": 66,
   "metadata": {},
   "outputs": [],
   "source": [
    "#nyt_list = total_df.loc[total_df['publication'] == 'New York Times']['content'].tolist()\n",
    "nyt_df = total_df.loc[total_df['publication'] == 'New York Times']\n",
    "nyt_semic = nyt_df[nyt_df['content'].str.contains(\";\")]\n",
    "#breit_list = total_df.loc[total_df['publication'] == 'Breitbart']['content'].tolist()\n",
    "#wapo_list = total_df.loc[total_df['publication'] == 'Washington Post']['content'].tolist()"
   ]
  },
  {
   "cell_type": "code",
   "execution_count": 67,
   "metadata": {},
   "outputs": [
    {
     "name": "stdout",
     "output_type": "stream",
     "text": [
      "(0, 12)\n"
     ]
    }
   ],
   "source": [
    "print(nyt_semic.shape)"
   ]
  },
  {
   "cell_type": "code",
   "execution_count": 18,
   "metadata": {},
   "outputs": [],
   "source": [
    "def rand_list(num_articles):\n",
    "    return [random.random() for _ in range(num_articles)]"
   ]
  },
  {
   "cell_type": "code",
   "execution_count": 21,
   "metadata": {},
   "outputs": [],
   "source": [
    "def get_id_content_list(pubname, num_articles):\n",
    "    df_cont_list = total_df.loc[total_df['publication'] == pubname]['content'].tolist()\n",
    "    df_id_list = total_df.loc[total_df['publication'] == pubname]['id'].tolist()\n",
    "    num_articles_in_set = len(df_id_list)\n",
    "    num_rand_to_get = num_articles_in_set if num_articles > num_articles_in_set else num_articles\n",
    "    if num_articles > num_articles_in_set:\n",
    "        print('Warning!', pubname, 'only has ', str(len(df_id_list)), ' articles, but you are asking for ', str(num_articles))\n",
    "    random_num_list = rand_list(num_articles_in_set)\n",
    "    cont_list = [i for ci,i in enumerate(df_cont_list) if random_num_list[ci] > 1-num_rand_to_get/num_articles_in_set]\n",
    "    id_list =   [i for ci,i in enumerate(df_id_list)   if random_num_list[ci] > 1-num_rand_to_get/num_articles_in_set]\n",
    "    return cont_list, id_list"
   ]
  },
  {
   "cell_type": "code",
   "execution_count": 23,
   "metadata": {},
   "outputs": [
    {
     "name": "stdout",
     "output_type": "stream",
     "text": [
      "3040 2990 3056\n",
      "After the bullet shells get counted, the blood dries and the votive candles burn out, people peer down from   windows and see crime scenes gone cold: a band of yellow police tape blowing in the breeze 17284\n"
     ]
    }
   ],
   "source": [
    "num_articles = 3000\n",
    "\n",
    "nyt_list, nyt_id = get_id_content_list('New York Times', num_articles)\n",
    "\n",
    "breit_list, breit_id = get_id_content_list('Breitbart', num_articles)\n",
    "wapo_list, wapo_id = get_id_content_list('Washington Post', num_articles)\n",
    "print(len(nyt_list), len(breit_list), len(wapo_list))\n",
    "print(nyt_list[0][:200], nyt_id[0])"
   ]
  },
  {
   "cell_type": "code",
   "execution_count": 43,
   "metadata": {},
   "outputs": [],
   "source": [
    "def prepare_text(publication_content_list):\n",
    "    if type(publication_content_list) is not list:\n",
    "        publication_content_list = [publication_content_list]\n",
    "    #lower case text\n",
    "    lower_case = [text.strip().lower() for text in publication_content_list]\n",
    "    #replace strange quote characters with normal ones \n",
    "    replace_quotes = [text.replace('“', '\"').replace('”', '\"') for text in lower_case]\n",
    "    #do punkt sentence tokenization\n",
    "    sentence_tokenize = [sent_detector.tokenize(text.strip()) for text in replace_quotes]\n",
    "    #do nltk word tokenization\n",
    "    word_tokenize = [nltk.word_tokenize(text) for text in replace_quotes]\n",
    "    #get unique string counts\n",
    "    string_counts = [Counter(text) for text in word_tokenize]\n",
    "    return sentence_tokenize, word_tokenize, string_counts"
   ]
  },
  {
   "cell_type": "code",
   "execution_count": 25,
   "metadata": {},
   "outputs": [],
   "source": [
    "nyt_sent, nyt_word, nyt_string_count = prepare_text(nyt_list)"
   ]
  },
  {
   "cell_type": "code",
   "execution_count": 26,
   "metadata": {},
   "outputs": [],
   "source": [
    "breit_sent, breit_word, breit_string_count = prepare_text(breit_list)"
   ]
  },
  {
   "cell_type": "code",
   "execution_count": 27,
   "metadata": {},
   "outputs": [],
   "source": [
    "wapo_sent, wapo_word, wapo_string_count = prepare_text(wapo_list)"
   ]
  },
  {
   "cell_type": "code",
   "execution_count": 28,
   "metadata": {},
   "outputs": [],
   "source": [
    "pickle.dump( ['nyt', nyt_id, nyt_sent, nyt_word, nyt_string_count], open( \"nyt_tokenized_strings.p\", \"wb\" ) )\n",
    "pickle.dump( ['breit', breit_id, breit_sent, breit_word, breit_string_count], open( \"breit_tokenized_strings.p\", \"wb\" ) )\n",
    "pickle.dump( ['wapo', wapo_id, wapo_sent, wapo_word, wapo_string_count], open( \"wapo_tokenized_strings.p\", \"wb\" ) )\n",
    "\n",
    "# ['breit', breit_sent, breit_word, breit_string_count],\n",
    "# ['wapo', wapo_sent, wapo_word, wapo_string_count]]"
   ]
  },
  {
   "cell_type": "markdown",
   "metadata": {},
   "source": [
    "# Can start here if you don't care about which articles you got, and you have the article pickle files"
   ]
  },
  {
   "cell_type": "code",
   "execution_count": 3,
   "metadata": {},
   "outputs": [],
   "source": [
    "#unpickle files\n",
    "pub, nyt_id, nyt_sent, nyt_word, nyt_string_count = pickle.load( open( \"nyt_tokenized_strings.p\", \"rb\" ) )\n",
    "pub, breit_id, breit_sent, breit_word, breit_string_count = pickle.load( open( \"breit_tokenized_strings.p\", \"rb\" ) )\n",
    "pub, wapo_id, wapo_sent, wapo_word, wapo_string_count = pickle.load( open( \"wapo_tokenized_strings.p\", \"rb\" ) )"
   ]
  },
  {
   "cell_type": "code",
   "execution_count": 68,
   "metadata": {},
   "outputs": [
    {
     "name": "stdout",
     "output_type": "stream",
     "text": [
      "!\"#$%&'()*+,-./:;<=>?@[\\]^_`{|}~\n"
     ]
    }
   ],
   "source": [
    "translator = str.maketrans('', '', string.punctuation + '”“')\n",
    "print(string.punctuation)\n",
    "punctuation_set = set(string.punctuation + )\n",
    "\n",
    "class Publication():\n",
    "    \n",
    "    def __init__(self, pub_id = '', pub_id_list = [], pub_sent = [], pub_word = [], pub_string_count = []):\n",
    "        self.publication = pub_id\n",
    "        self.id_list = pub_id_list\n",
    "        self.sent_tok = pub_sent\n",
    "        self.word_tok = pub_word\n",
    "        self.string_count = pub_string_count\n",
    "    \n",
    "    def calc_word_count(self):\n",
    "        self.word_count = [len(text) for text in self.word_tok]\n",
    "        \n",
    "    def calc_sent_count(self):\n",
    "        self.sent_count = [len(text) for text in self.sent_tok]\n",
    "        \n",
    "    def calc_sent_len(self):\n",
    "        if not self.word_count:\n",
    "            self.calc_word_count()\n",
    "        if not self.sent_count:\n",
    "            self.calc_sent_count\n",
    "        self.sent_len = [i/j for i,j in zip(self.word_count, self.sent_count)]\n",
    "        \n",
    "    def calc_unique_words(self):\n",
    "        self.unique_wc = [len(set([word for word in text if word not in punctuation_set])) for text in self.word_tok]\n",
    "        self.unique_word_frac = [float(i/j) for i,j in zip(self.unique_wc, self.word_count)]\n",
    "\n",
    "    def calc_word_length(self):\n",
    "        self.word_len = [np.mean([len(word) for word in text if word not in punctuation_set]) for text in self.word_tok]\n",
    "\n",
    "    def calc_sent_len_std(self):\n",
    "        self.sent_len_std = [np.std([len(sent) for sent in text]) for text in self.sent_tok]\n",
    "        \n",
    "    def calc_cps(self):\n",
    "        if not self.sent_count:\n",
    "            self.calc_sent_count()\n",
    "        self.cps = [counter[',']/sent_num for counter, sent_num in zip(self.string_count, self.sent_count)]\n",
    "\n",
    "    \n"
   ]
  },
  {
   "cell_type": "markdown",
   "metadata": {},
   "source": [
    "# New York Times"
   ]
  },
  {
   "cell_type": "code",
   "execution_count": 71,
   "metadata": {},
   "outputs": [],
   "source": [
    "nyt = Publication(\"New York Times\", nyt_id, nyt_sent, nyt_word, nyt_string_count)\n",
    "nyt.calc_word_count()\n",
    "nyt.calc_sent_count()\n",
    "nyt.calc_sent_len()\n",
    "nyt.calc_unique_words()\n",
    "nyt.calc_word_length()\n",
    "nyt.calc_sent_len_std()\n",
    "nyt.calc_cps()\n",
    "#for i in [nyt]:\n",
    "#    print(i.word_count)\n",
    "#print([i - j for i,j in zip(nyt_wc, nyt.word_count)])\n",
    "#breit_wc = [len(text) for text in breit_word]\n",
    "#wapo_wc = [len(text) for text in wapo_word]"
   ]
  },
  {
   "cell_type": "markdown",
   "metadata": {},
   "source": [
    "# Breitbart"
   ]
  },
  {
   "cell_type": "code",
   "execution_count": 77,
   "metadata": {},
   "outputs": [],
   "source": [
    "breit = Publication(\"Breitbart\", breit_id, breit_sent, breit_word, breit_string_count)\n",
    "breit.calc_word_count()\n",
    "breit.calc_sent_count()\n",
    "breit.calc_sent_len()\n",
    "breit.calc_unique_words()\n",
    "breit.calc_word_length()\n",
    "breit.calc_sent_len_std()\n",
    "breit.calc_cps()"
   ]
  },
  {
   "cell_type": "code",
   "execution_count": 78,
   "metadata": {},
   "outputs": [
    {
     "name": "stderr",
     "output_type": "stream",
     "text": [
      "/home/joseph/anaconda3/envs/insight/lib/python3.6/site-packages/matplotlib/axes/_axes.py:6462: UserWarning: The 'normed' kwarg is deprecated, and has been replaced by the 'density' kwarg.\n",
      "  warnings.warn(\"The 'normed' kwarg is deprecated, and has been \"\n"
     ]
    },
    {
     "data": {
      "image/png": "[encoded data removed]",
      "text/plain": [
       "<Figure size 432x288 with 1 Axes>"
      ]
     },
     "metadata": {},
     "output_type": "display_data"
    }
   ],
   "source": [
    "for i in [nyt, breit]:\n",
    "    plt.hist(i.word_count, bins = list(range(0,3000,50)), normed = True, alpha = 0.7)"
   ]
  },
  {
   "cell_type": "code",
   "execution_count": 63,
   "metadata": {},
   "outputs": [
    {
     "name": "stderr",
     "output_type": "stream",
     "text": [
      "/home/joseph/anaconda3/envs/insight/lib/python3.6/site-packages/matplotlib/axes/_axes.py:6462: UserWarning: The 'normed' kwarg is deprecated, and has been replaced by the 'density' kwarg.\n",
      "  warnings.warn(\"The 'normed' kwarg is deprecated, and has been \"\n"
     ]
    },
    {
     "data": {
      "text/plain": [
       "Text(0.5,1,'Word count')"
      ]
     },
     "execution_count": 63,
     "metadata": {},
     "output_type": "execute_result"
    },
    {
     "data": {
      "image/png": "[encoded data removed]",
      "text/plain": [
       "<Figure size 432x288 with 1 Axes>"
      ]
     },
     "metadata": {},
     "output_type": "display_data"
    }
   ],
   "source": [
    "plt.hist(nyt_wc, bins = list(range(0,2500,50)),   normed = True, alpha = 0.7)\n",
    "plt.hist(breit_wc, bins = list(range(0,2500,50)), normed = True, alpha = 0.7)\n",
    "plt.hist(wapo_wc, bins = list(range(0,2500,50)),  normed = True, alpha = 0.7)\n",
    "plt.legend(labels = ['NYT', 'Breitbart', 'Washington Post'])\n",
    "plt.title(\"Word count\")"
   ]
  },
  {
   "cell_type": "markdown",
   "metadata": {},
   "source": [
    "# Sentence Count"
   ]
  },
  {
   "cell_type": "code",
   "execution_count": 22,
   "metadata": {},
   "outputs": [],
   "source": [
    "#nyt_sent_count = [len(text) for text in nyt_sent]   #len([word for word in text if word not in punctuation_set]) for text in ....\n",
    "#nyt.calc_sent_count()\n",
    "#print([i-j for i,j in zip(nyt_sent_count, nyt.sent_count)])\n",
    "#breit_sent_count = [len(text) for text in breit_sent]\n",
    "#wapo_sent_count = [len(text) for text in wapo_sent]"
   ]
  },
  {
   "cell_type": "code",
   "execution_count": 7,
   "metadata": {},
   "outputs": [
    {
     "name": "stderr",
     "output_type": "stream",
     "text": [
      "/home/joseph/anaconda3/envs/insight/lib/python3.6/site-packages/matplotlib/axes/_axes.py:6462: UserWarning: The 'normed' kwarg is deprecated, and has been replaced by the 'density' kwarg.\n",
      "  warnings.warn(\"The 'normed' kwarg is deprecated, and has been \"\n"
     ]
    },
    {
     "data": {
      "text/plain": [
       "(array([3.75989446e-03, 2.90237467e-03, 6.06860158e-03, 8.44327177e-03,\n",
       "        1.36543536e-02, 1.51055409e-02, 1.53034301e-02, 1.91292876e-02,\n",
       "        1.84696570e-02, 1.76781003e-02, 1.43799472e-02, 1.25329815e-02,\n",
       "        1.00923483e-02, 8.44327177e-03, 6.59630607e-03, 6.53034301e-03,\n",
       "        4.22163588e-03, 2.63852243e-03, 2.04485488e-03, 1.71503958e-03,\n",
       "        2.17678100e-03, 4.61741425e-04, 9.23482850e-04, 9.23482850e-04,\n",
       "        8.57519789e-04, 5.27704485e-04, 8.57519789e-04, 2.63852243e-04,\n",
       "        2.63852243e-04, 3.95778364e-04, 2.63852243e-04, 2.63852243e-04,\n",
       "        2.63852243e-04, 1.31926121e-04, 2.63852243e-04, 6.59630607e-05,\n",
       "        1.31926121e-04, 6.59630607e-05, 1.31926121e-04, 0.00000000e+00,\n",
       "        1.97889182e-04, 2.63852243e-04, 6.59630607e-05, 0.00000000e+00,\n",
       "        1.31926121e-04, 6.59630607e-05, 6.59630607e-05, 1.31926121e-04,\n",
       "        1.31926121e-04]),\n",
       " array([  0,   5,  10,  15,  20,  25,  30,  35,  40,  45,  50,  55,  60,\n",
       "         65,  70,  75,  80,  85,  90,  95, 100, 105, 110, 115, 120, 125,\n",
       "        130, 135, 140, 145, 150, 155, 160, 165, 170, 175, 180, 185, 190,\n",
       "        195, 200, 205, 210, 215, 220, 225, 230, 235, 240, 245]),\n",
       " <a list of 49 Patch objects>)"
      ]
     },
     "execution_count": 7,
     "metadata": {},
     "output_type": "execute_result"
    },
    {
     "data": {
      "image/png": "[encoded data removed]",
      "text/plain": [
       "<Figure size 432x288 with 1 Axes>"
      ]
     },
     "metadata": {},
     "output_type": "display_data"
    }
   ],
   "source": [
    "plt.hist(nyt_sent_count,   bins = list(range(0,250,5)), normed = True, alpha = 0.7)\n",
    "plt.hist(breit_sent_count, bins = list(range(0,250,5)), normed = True, alpha = 0.7)\n",
    "plt.hist(wapo_sent_count,  bins = list(range(0,250,5)), normed = True, alpha = 0.7)\n",
    "plt.legend(labels = ['NYT', 'Breitbart', 'Washington Post'])\n",
    "plt.title(\"Sentence count\")"
   ]
  },
  {
   "cell_type": "markdown",
   "metadata": {},
   "source": [
    "# Sentence Length"
   ]
  },
  {
   "cell_type": "code",
   "execution_count": 52,
   "metadata": {},
   "outputs": [],
   "source": [
    "#nyt_sent_len = [i/j for i,j in zip(nyt_wc, nyt_sent_count)]\n",
    "#nyt.calc_sent_len()\n",
    "#print([i-j for i,j in zip(nyt.sent_len, nyt_sent_len)])\n",
    "#breit_sent_len = [i/j for i,j in zip(breit_wc, breit_sent_count)]\n",
    "#wapo_sent_len = [i/j for i,j in zip(wapo_wc, wapo_sent_count)]"
   ]
  },
  {
   "cell_type": "code",
   "execution_count": 62,
   "metadata": {},
   "outputs": [
    {
     "name": "stderr",
     "output_type": "stream",
     "text": [
      "/home/joseph/anaconda3/envs/insight/lib/python3.6/site-packages/matplotlib/axes/_axes.py:6462: UserWarning: The 'normed' kwarg is deprecated, and has been replaced by the 'density' kwarg.\n",
      "  warnings.warn(\"The 'normed' kwarg is deprecated, and has been \"\n"
     ]
    },
    {
     "data": {
      "text/plain": [
       "Text(0.5,1,'Sentence length')"
      ]
     },
     "execution_count": 62,
     "metadata": {},
     "output_type": "execute_result"
    },
    {
     "data": {
      "image/png": "[encoded data removed]",
      "text/plain": [
       "<Figure size 432x288 with 1 Axes>"
      ]
     },
     "metadata": {},
     "output_type": "display_data"
    }
   ],
   "source": [
    "plt.hist(nyt_sent_len,   bins = list(range(0,50,1)), normed = True, alpha = 0.7)\n",
    "plt.hist(breit_sent_len, bins = list(range(0,50,1)), normed = True, alpha = 0.7)\n",
    "plt.hist(wapo_sent_len,  bins = list(range(0,50,1)), normed = True, alpha = 0.7)\n",
    "plt.legend(labels = ['NYT', 'Breitbart', 'Washington Post'])\n",
    "plt.title(\"Sentence length\")"
   ]
  },
  {
   "cell_type": "markdown",
   "metadata": {},
   "source": [
    "# Unique Word Count and Fraction"
   ]
  },
  {
   "cell_type": "code",
   "execution_count": 10,
   "metadata": {},
   "outputs": [
    {
     "name": "stdout",
     "output_type": "stream",
     "text": [
      "!\"#$%&'()*+,-./:;<=>?@[\\]^_`{|}~\n"
     ]
    }
   ],
   "source": [
    "#translator = str.maketrans('', '', string.punctuation + '”“')\n",
    "#print(string.punctuation)\n",
    "#punctuation_set = set(string.punctuation)"
   ]
  },
  {
   "cell_type": "code",
   "execution_count": 37,
   "metadata": {},
   "outputs": [],
   "source": [
    "#nyt_unique_wc = [len(set([word for word in text if word not in punctuation_set])) for text in nyt_word]\n",
    "#nyt_unique_wc_old = [len(set(text.lower().translate(translator).split())) for text in nyt_list]\n",
    "#print(nyt_unique_wc[:10], nyt_unique_wc_old[:10])\n",
    "#breit_unique_wc = [len(set([word for word in text if word not in punctuation_set])) for text in breit_word]\n",
    "#wapo_unique_wc = [len(set([word for word in text if word not in punctuation_set])) for text in wapo_word]\n",
    "\n",
    "#print([i-j for i,j in zip(nyt_unique_wc, nyt.unique_wc)])\n",
    "\n",
    "#breit_unique_wc = [len(set(text.lower().translate(translator).split())) for text in breit_list]\n",
    "#wapo_unique_wc = [len(set(text.lower().translate(translator).split())) for text in wapo_list]"
   ]
  },
  {
   "cell_type": "code",
   "execution_count": 41,
   "metadata": {},
   "outputs": [],
   "source": [
    "#nyt_unique_word_frac = [float(i/j) for i,j in zip(nyt_unique_wc, nyt_wc)]\n",
    "#breit_unique_word_frac = [float(i/j) for i,j in zip(breit_unique_wc, breit_wc)]\n",
    "#wapo_unique_word_frac = [float(i/j) for i,j in zip(wapo_unique_wc, wapo_wc)]\n",
    "\n",
    "#print([[i-j, j] for i,j in zip(nyt_unique_word_frac, nyt.unique_word_frac)])"
   ]
  },
  {
   "cell_type": "code",
   "execution_count": 60,
   "metadata": {},
   "outputs": [
    {
     "name": "stderr",
     "output_type": "stream",
     "text": [
      "/home/joseph/anaconda3/envs/insight/lib/python3.6/site-packages/matplotlib/axes/_axes.py:6462: UserWarning: The 'normed' kwarg is deprecated, and has been replaced by the 'density' kwarg.\n",
      "  warnings.warn(\"The 'normed' kwarg is deprecated, and has been \"\n"
     ]
    },
    {
     "data": {
      "text/plain": [
       "Text(0.5,1,'Unique word fraction')"
      ]
     },
     "execution_count": 60,
     "metadata": {},
     "output_type": "execute_result"
    },
    {
     "data": {
      "image/png": "[encoded data removed]",
      "text/plain": [
       "<Figure size 432x288 with 1 Axes>"
      ]
     },
     "metadata": {},
     "output_type": "display_data"
    }
   ],
   "source": [
    "plt.hist(nyt_unique_word_frac,   bins = [i/100. for i in list(range(0,100,1))], normed = True, alpha=0.7)\n",
    "plt.hist(breit_unique_word_frac, bins = [i/100. for i in list(range(0,100,1))], normed = True, alpha = 0.7)\n",
    "plt.hist(wapo_unique_word_frac,  bins = [i/100. for i in list(range(0,100,1))], normed = True, alpha = 0.7)\n",
    "plt.legend(labels = ['NYT', 'Breitbart', 'Washington Post'])\n",
    "plt.title(\"Unique word fraction\")"
   ]
  },
  {
   "cell_type": "markdown",
   "metadata": {},
   "source": [
    "# Mean word length"
   ]
  },
  {
   "cell_type": "code",
   "execution_count": 53,
   "metadata": {},
   "outputs": [],
   "source": [
    "#nyt_word_len = [np.mean([len(word) for word in text if word not in punctuation_set]) for text in nyt_word]\n",
    "#breit_word_len = [np.mean([len(word) for word in text if word not in punctuation_set]) for text in breit_word]\n",
    "#wapo_word_len = [np.mean([len(word) for word in text if word not in punctuation_set]) for text in wapo_word]\n",
    "#print([i-j for i,j in zip(nyt_word_len, nyt.word_len)])"
   ]
  },
  {
   "cell_type": "code",
   "execution_count": 15,
   "metadata": {},
   "outputs": [
    {
     "name": "stderr",
     "output_type": "stream",
     "text": [
      "/home/joseph/anaconda3/envs/insight/lib/python3.6/site-packages/matplotlib/axes/_axes.py:6462: UserWarning: The 'normed' kwarg is deprecated, and has been replaced by the 'density' kwarg.\n",
      "  warnings.warn(\"The 'normed' kwarg is deprecated, and has been \"\n"
     ]
    },
    {
     "data": {
      "text/plain": [
       "(array([0.        , 0.        , 0.        , 0.        , 0.        ,\n",
       "        0.        , 0.        , 0.        , 0.        , 0.        ,\n",
       "        0.        , 0.0065445 , 0.0065445 , 0.01308901, 0.01963351,\n",
       "        0.0065445 , 0.05235602, 0.05890052, 0.07198953, 0.10471204,\n",
       "        0.09162304, 0.20942408, 0.32068063, 0.34685864, 0.41230366,\n",
       "        0.62827225, 0.69371728, 0.79842932, 0.9947644 , 1.34162304,\n",
       "        1.34162304, 1.66884817, 1.77356021, 1.68193717, 1.38743455,\n",
       "        1.31544503, 1.23036649, 0.95549738, 0.64790576, 0.64136126,\n",
       "        0.32722513, 0.28795812, 0.19633508, 0.09816754, 0.06544503,\n",
       "        0.03272251, 0.01963351, 0.02617801, 0.0065445 , 0.03272251,\n",
       "        0.01963351, 0.0065445 , 0.01308901, 0.0065445 , 0.0065445 ,\n",
       "        0.        , 0.0065445 , 0.        , 0.0065445 , 0.        ,\n",
       "        0.0065445 , 0.        , 0.        , 0.        , 0.        ,\n",
       "        0.        , 0.        , 0.        , 0.        , 0.        ,\n",
       "        0.0065445 , 0.0065445 , 0.        , 0.        , 0.        ,\n",
       "        0.        , 0.        , 0.        , 0.        , 0.        ,\n",
       "        0.        , 0.        , 0.        , 0.        , 0.        ,\n",
       "        0.        , 0.        , 0.        , 0.        , 0.        ,\n",
       "        0.        , 0.        , 0.        , 0.        , 0.        ,\n",
       "        0.        , 0.        , 0.        , 0.        ]),\n",
       " array([3.  , 3.05, 3.1 , 3.15, 3.2 , 3.25, 3.3 , 3.35, 3.4 , 3.45, 3.5 ,\n",
       "        3.55, 3.6 , 3.65, 3.7 , 3.75, 3.8 , 3.85, 3.9 , 3.95, 4.  , 4.05,\n",
       "        4.1 , 4.15, 4.2 , 4.25, 4.3 , 4.35, 4.4 , 4.45, 4.5 , 4.55, 4.6 ,\n",
       "        4.65, 4.7 , 4.75, 4.8 , 4.85, 4.9 , 4.95, 5.  , 5.05, 5.1 , 5.15,\n",
       "        5.2 , 5.25, 5.3 , 5.35, 5.4 , 5.45, 5.5 , 5.55, 5.6 , 5.65, 5.7 ,\n",
       "        5.75, 5.8 , 5.85, 5.9 , 5.95, 6.  , 6.05, 6.1 , 6.15, 6.2 , 6.25,\n",
       "        6.3 , 6.35, 6.4 , 6.45, 6.5 , 6.55, 6.6 , 6.65, 6.7 , 6.75, 6.8 ,\n",
       "        6.85, 6.9 , 6.95, 7.  , 7.05, 7.1 , 7.15, 7.2 , 7.25, 7.3 , 7.35,\n",
       "        7.4 , 7.45, 7.5 , 7.55, 7.6 , 7.65, 7.7 , 7.75, 7.8 , 7.85, 7.9 ,\n",
       "        7.95]),\n",
       " <a list of 99 Patch objects>)"
      ]
     },
     "execution_count": 15,
     "metadata": {},
     "output_type": "execute_result"
    },
    {
     "data": {
      "image/png": "[encoded data removed]",
      "text/plain": [
       "<Figure size 432x288 with 1 Axes>"
      ]
     },
     "metadata": {},
     "output_type": "display_data"
    }
   ],
   "source": [
    "plt.hist(nyt_word_len,   bins = [i/100. for i in list(range(300,800,5))], normed = True, alpha=0.7)\n",
    "plt.hist(breit_word_len, bins = [i/100. for i in list(range(300,800,5))], normed = True, alpha = 0.7)\n",
    "plt.hist(wapo_word_len,  bins = [i/100. for i in list(range(300,800,5))], normed = True, alpha = 0.7)"
   ]
  },
  {
   "cell_type": "markdown",
   "metadata": {},
   "source": [
    "# Sentence length distribution"
   ]
  },
  {
   "cell_type": "code",
   "execution_count": 66,
   "metadata": {},
   "outputs": [],
   "source": [
    "#nyt_sent_len_std = [np.std([len(sent) for sent in text]) for text in nyt_sent]\n",
    "#breit_sent_len_std = [np.std([len(sent) for sent in text]) for text in breit_sent]\n",
    "#wapo_sent_len_std = [np.std([len(sent) for sent in text]) for text in wapo_sent]\n",
    "#print([i-j for i,j in zip(nyt_sent_len_std, nyt.sent_len_std)])"
   ]
  },
  {
   "cell_type": "code",
   "execution_count": 67,
   "metadata": {},
   "outputs": [],
   "source": [
    "#print([len(sent) for sent in nyt_sent[0]],nyt_sent_len_std[:10])"
   ]
  },
  {
   "cell_type": "code",
   "execution_count": 18,
   "metadata": {},
   "outputs": [
    {
     "name": "stderr",
     "output_type": "stream",
     "text": [
      "/home/joseph/anaconda3/envs/insight/lib/python3.6/site-packages/matplotlib/axes/_axes.py:6462: UserWarning: The 'normed' kwarg is deprecated, and has been replaced by the 'density' kwarg.\n",
      "  warnings.warn(\"The 'normed' kwarg is deprecated, and has been \"\n"
     ]
    },
    {
     "data": {
      "text/plain": [
       "(array([0.0019685 , 0.00016404, 0.        , 0.00032808, 0.        ,\n",
       "        0.00016404, 0.00032808, 0.00016404, 0.00016404, 0.        ,\n",
       "        0.        , 0.00016404, 0.        , 0.00016404, 0.00016404,\n",
       "        0.00016404, 0.00114829, 0.00032808, 0.00098425, 0.00164042,\n",
       "        0.00360892, 0.00328084, 0.00410105, 0.00574147, 0.00524934,\n",
       "        0.00770997, 0.01213911, 0.01312336, 0.01689633, 0.02099738,\n",
       "        0.0214895 , 0.02542651, 0.02345801, 0.02870735, 0.03248031,\n",
       "        0.02559055, 0.02952756, 0.0265748 , 0.02378609, 0.02526247,\n",
       "        0.02296588, 0.01755249, 0.01541995, 0.01246719, 0.01295932,\n",
       "        0.00951444, 0.00738189, 0.00787402, 0.00492126, 0.00410105,\n",
       "        0.00180446, 0.00492126, 0.00213255, 0.00262467, 0.0019685 ,\n",
       "        0.00180446, 0.00032808, 0.00065617, 0.00082021, 0.00098425,\n",
       "        0.        , 0.        , 0.00032808, 0.        , 0.00016404,\n",
       "        0.00032808, 0.00032808, 0.        , 0.00032808, 0.00016404,\n",
       "        0.00016404, 0.        , 0.00016404, 0.        , 0.        ,\n",
       "        0.        , 0.00016404, 0.        , 0.        , 0.00032808,\n",
       "        0.        , 0.00016404, 0.00016404, 0.00016404, 0.00016404,\n",
       "        0.        , 0.        , 0.00016404, 0.        , 0.        ,\n",
       "        0.        , 0.        , 0.        , 0.        , 0.        ,\n",
       "        0.00016404, 0.        , 0.00016404, 0.        ]),\n",
       " array([  0.,   2.,   4.,   6.,   8.,  10.,  12.,  14.,  16.,  18.,  20.,\n",
       "         22.,  24.,  26.,  28.,  30.,  32.,  34.,  36.,  38.,  40.,  42.,\n",
       "         44.,  46.,  48.,  50.,  52.,  54.,  56.,  58.,  60.,  62.,  64.,\n",
       "         66.,  68.,  70.,  72.,  74.,  76.,  78.,  80.,  82.,  84.,  86.,\n",
       "         88.,  90.,  92.,  94.,  96.,  98., 100., 102., 104., 106., 108.,\n",
       "        110., 112., 114., 116., 118., 120., 122., 124., 126., 128., 130.,\n",
       "        132., 134., 136., 138., 140., 142., 144., 146., 148., 150., 152.,\n",
       "        154., 156., 158., 160., 162., 164., 166., 168., 170., 172., 174.,\n",
       "        176., 178., 180., 182., 184., 186., 188., 190., 192., 194., 196.,\n",
       "        198.]),\n",
       " <a list of 99 Patch objects>)"
      ]
     },
     "execution_count": 18,
     "metadata": {},
     "output_type": "execute_result"
    },
    {
     "data": {
      "image/png": "[encoded data removed]",
      "text/plain": [
       "<Figure size 432x288 with 1 Axes>"
      ]
     },
     "metadata": {},
     "output_type": "display_data"
    }
   ],
   "source": [
    "plt.hist(nyt_sent_len_std,   bins = [i/1. for i in list(range(0,200,2))], normed = True, alpha=0.7)\n",
    "plt.hist(breit_sent_len_std, bins = [i/1. for i in list(range(0,200,2))], normed = True, alpha = 0.7)\n",
    "plt.hist(wapo_sent_len_std,  bins = [i/1. for i in list(range(0,200,2))], normed = True, alpha = 0.7)"
   ]
  },
  {
   "cell_type": "markdown",
   "metadata": {},
   "source": [
    "# Commas per sentence"
   ]
  },
  {
   "cell_type": "code",
   "execution_count": 73,
   "metadata": {},
   "outputs": [],
   "source": [
    "#nyt_cps = [counter[',']/sent_num for counter, sent_num in zip(nyt_string_count, nyt_sent_count)]\n",
    "#breit_cps = [counter[',']/sent_num for counter, sent_num in zip(breit_string_count, breit_sent_count)]\n",
    "#wapo_cps = [counter[',']/sent_num for counter, sent_num in zip(wapo_string_count, wapo_sent_count)]\n",
    "#print([i-j for i,j in zip(nyt_cps, nyt.cps)])"
   ]
  },
  {
   "cell_type": "code",
   "execution_count": 59,
   "metadata": {},
   "outputs": [
    {
     "name": "stderr",
     "output_type": "stream",
     "text": [
      "/home/joseph/anaconda3/envs/insight/lib/python3.6/site-packages/matplotlib/axes/_axes.py:6462: UserWarning: The 'normed' kwarg is deprecated, and has been replaced by the 'density' kwarg.\n",
      "  warnings.warn(\"The 'normed' kwarg is deprecated, and has been \"\n"
     ]
    },
    {
     "data": {
      "text/plain": [
       "Text(0.5,1,'Commas per sentence')"
      ]
     },
     "execution_count": 59,
     "metadata": {},
     "output_type": "execute_result"
    },
    {
     "data": {
      "image/png": "[encoded data removed]",
      "text/plain": [
       "<Figure size 432x288 with 1 Axes>"
      ]
     },
     "metadata": {},
     "output_type": "display_data"
    }
   ],
   "source": [
    "plt.hist(nyt_cps,   bins = [i/100. for i in list(range(0,300,5))], normed = True, alpha = 0.6)\n",
    "plt.hist(breit_cps, bins = [i/100. for i in list(range(0,300,5))], normed = True, alpha = 0.6)\n",
    "plt.hist(wapo_cps,  bins = [i/100. for i in list(range(0,300,5))], normed = True, alpha = 0.6)\n",
    "plt.legend(labels = ['NYT', 'Breitbart', 'Washington Post'])\n",
    "plt.title(\"Commas per sentence\")"
   ]
  },
  {
   "cell_type": "markdown",
   "metadata": {},
   "source": [
    "# semicolons per sentence"
   ]
  },
  {
   "cell_type": "code",
   "execution_count": 22,
   "metadata": {},
   "outputs": [
    {
     "name": "stdout",
     "output_type": "stream",
     "text": [
      "0.0 0.0 0.0\n"
     ]
    }
   ],
   "source": [
    "#print( nyt_sent[0])\n",
    "nyt_semic_ps = [float(counter['\"']/sent_num) for counter, sent_num in zip(nyt_string_count, nyt_sent_count)]\n",
    "breit_semic_ps = [float(counter['\"']/sent_num) for counter, sent_num in zip(breit_string_count, breit_sent_count)]\n",
    "wapo_semic_ps = [float(counter['\"']/sent_num) for counter, sent_num in zip(wapo_string_count, wapo_sent_count)]\n",
    "print(np.mean(nyt_semic_ps), np.mean(breit_semic_ps), np.mean(wapo_semic_ps))\n",
    "#print(nyt_semic_ps[:1000])"
   ]
  },
  {
   "cell_type": "code",
   "execution_count": 23,
   "metadata": {},
   "outputs": [
    {
     "name": "stderr",
     "output_type": "stream",
     "text": [
      "/home/joseph/anaconda3/envs/insight/lib/python3.6/site-packages/matplotlib/axes/_axes.py:6462: UserWarning: The 'normed' kwarg is deprecated, and has been replaced by the 'density' kwarg.\n",
      "  warnings.warn(\"The 'normed' kwarg is deprecated, and has been \"\n"
     ]
    },
    {
     "data": {
      "text/plain": [
       "(array([500.,   0.,   0.,   0.,   0.,   0.,   0.,   0.,   0.,   0.,   0.,\n",
       "          0.,   0.,   0.,   0.,   0.,   0.,   0.,   0.,   0.,   0.,   0.,\n",
       "          0.,   0.,   0.,   0.,   0.,   0.,   0.,   0.,   0.,   0.,   0.,\n",
       "          0.,   0.,   0.,   0.,   0.,   0.,   0.,   0.,   0.,   0.,   0.,\n",
       "          0.,   0.,   0.,   0.,   0.]),\n",
       " array([0.   , 0.002, 0.004, 0.006, 0.008, 0.01 , 0.012, 0.014, 0.016,\n",
       "        0.018, 0.02 , 0.022, 0.024, 0.026, 0.028, 0.03 , 0.032, 0.034,\n",
       "        0.036, 0.038, 0.04 , 0.042, 0.044, 0.046, 0.048, 0.05 , 0.052,\n",
       "        0.054, 0.056, 0.058, 0.06 , 0.062, 0.064, 0.066, 0.068, 0.07 ,\n",
       "        0.072, 0.074, 0.076, 0.078, 0.08 , 0.082, 0.084, 0.086, 0.088,\n",
       "        0.09 , 0.092, 0.094, 0.096, 0.098]),\n",
       " <a list of 49 Patch objects>)"
      ]
     },
     "execution_count": 23,
     "metadata": {},
     "output_type": "execute_result"
    },
    {
     "data": {
      "image/png": "[encoded data removed]",
      "text/plain": [
       "<Figure size 432x288 with 1 Axes>"
      ]
     },
     "metadata": {},
     "output_type": "display_data"
    }
   ],
   "source": [
    "plt.hist(nyt_semic_ps,   bins = [i/500. for i in list(range(0,50,1))], normed = True, alpha = 0.7)\n",
    "plt.hist(breit_semic_ps, bins = [i/500. for i in list(range(0,50,1))], normed = True, alpha = 0.7)\n",
    "plt.hist(wapo_semic_ps,  bins = [i/500. for i in list(range(0,50,1))], normed = True, alpha = 0.7)"
   ]
  },
  {
   "cell_type": "markdown",
   "metadata": {},
   "source": [
    "# compare given article to mean values of publications"
   ]
  },
  {
   "cell_type": "code",
   "execution_count": 138,
   "metadata": {},
   "outputs": [],
   "source": [
    "def compare_article(text_features):\n",
    "    wc_mean = [np.mean(nyt_wc), np.mean(breit_wc), np.mean(wapo_wc)]\n",
    "    sent_len_mean = [np.mean(nyt_sent_len), np.mean(breit_sent_len), np.mean(wapo_sent_len)]\n",
    "    sent_len_std_mean = [np.mean(nyt_sent_len_std), np.mean(breit_sent_len_std), np.mean(wapo_sent_len_std)]\n",
    "    unique_word_frac_mean = [np.mean(nyt_unique_word_frac), np.mean(breit_unique_word_frac), np.mean(wapo_unique_word_frac)]\n",
    "    word_len_mean = [np.mean(nyt_word_len), np.mean(breit_word_len), np.mean(wapo_word_len)]\n",
    "    cps_mean = [np.mean(nyt_cps), np.mean(breit_cps), np.mean(wapo_cps)]\n",
    "    features = ['sentence length', 'sentence length distribution', 'unique word fraction', 'word length', 'commas per sentence']\n",
    "    mean_features = [[i, j, k, l, m] for i, j, k, l, m in zip(sent_len_mean, sent_len_std_mean, unique_word_frac_mean, word_len_mean, cps_mean)]\n",
    "    print(mean_features)\n",
    "    pickle.dump(mean_features, open('mean_features.p', 'wb'))\n",
    "    return [[float(i/j) for i,j in zip(text_features, pub_features)] for pub_features in mean_features]"
   ]
  },
  {
   "cell_type": "code",
   "execution_count": 99,
   "metadata": {},
   "outputs": [],
   "source": [
    "def generate_features(text):\n",
    "    sent_tok, word_tok, string_counts = prepare_text(text)\n",
    "    sent_tok = sent_tok[0]\n",
    "    word_tok = word_tok[0]\n",
    "    string_counts = string_counts[0]\n",
    "    \n",
    "    punctuation_set = set(string.punctuation)\n",
    "    word_count = len([word for word in word_tok if word not in punctuation_set])\n",
    "    sent_count = len(sent_tok)\n",
    "    sent_len = float(word_count / sent_count)\n",
    "    sent_std = np.std([len(sent) for sent in sent_tok])\n",
    "\n",
    "    unique_word_count = len(set([word for word in word_tok if word not in punctuation_set]))\n",
    "    unique_word_frac = float(unique_word_count / word_count)\n",
    "    mean_word_length = np.mean([len(word) for word in word_tok if word not in punctuation_set])\n",
    "\n",
    "    cps = string_counts[',']/sent_count\n",
    "    return [sent_len, sent_std, unique_word_frac, mean_word_length, cps]\n"
   ]
  },
  {
   "cell_type": "code",
   "execution_count": 140,
   "metadata": {},
   "outputs": [
    {
     "name": "stdout",
     "output_type": "stream",
     "text": [
      "[20.197183098591548, 69.01703931587748, 0.4302649930264993, 4.46652719665272, 1.3098591549295775]\n",
      "[[26.312734925852087, 71.14091839782522, 0.3932280585672628, 4.568412788243869, 1.4453067284338383], [25.35519315101246, 74.23027062214763, 0.47902840537547725, 4.616356193633785, 1.1402077779191107], [24.386067322366973, 73.09051896151644, 0.4120775036811656, 4.6154456218211894, 1.1079407332000408]]\n"
     ]
    },
    {
     "data": {
      "text/plain": [
       "([<matplotlib.axis.XTick at 0x7f8f8e858dd8>,\n",
       "  <matplotlib.axis.XTick at 0x7f8f8c29fd68>,\n",
       "  <matplotlib.axis.XTick at 0x7f8f8c29f080>,\n",
       "  <matplotlib.axis.XTick at 0x7f8f8e8dd780>,\n",
       "  <matplotlib.axis.XTick at 0x7f8f8e8ddc18>],\n",
       " <a list of 5 Text xticklabel objects>)"
      ]
     },
     "execution_count": 140,
     "metadata": {},
     "output_type": "execute_result"
    },
    {
     "data": {
      "image/png": "[encoded data removed]",
      "text/plain": [
       "<Figure size 432x288 with 1 Axes>"
      ]
     },
     "metadata": {},
     "output_type": "display_data"
    }
   ],
   "source": [
    "#print(' '.join(nyt_sent[0]))\n",
    "features = generate_features([' '.join(nyt_sent[10])])\n",
    "print(features)\n",
    "features_compare_to_mean = compare_article(features)\n",
    "features = ['sentence length', 'sentence length distribution', 'unique word fraction', 'word length', 'commas per sentence']\n",
    "plt.title('Features compared to average for {}'.format(\"New York Times\"))\n",
    "plt.bar(list(range(5)), features_compare_to_mean[2], color = 'r')\n",
    "plt.bar(list(range(5)), [1 for _ in range(5)], color = 'black', alpha = 0.5)\n",
    "#plt.ylim((0,1.2))\n",
    "plt.xticks(range(5), features, rotation = 45, ha = 'right')\n",
    "#plt.bar(list(range(5)), features_compare_to_mean[1], alpha = 0.5)\n",
    "\n",
    "#plt.bar(list(range(5)), features_compare_to_mean[2], alpha = 0.5)\n"
   ]
  },
  {
   "cell_type": "markdown",
   "metadata": {},
   "source": [
    "### from sklearn import tree\n",
    "#X = [[0, 0], [1, 1]]\n",
    "#Y = [0, 1]\n",
    "#clf = tree.DecisionTreeClassifier()\n",
    "#clf = clf.fit(X, Y)"
   ]
  },
  {
   "cell_type": "code",
   "execution_count": 25,
   "metadata": {},
   "outputs": [],
   "source": [
    "#join data\n",
    "wc = nyt_wc + breit_wc + wapo_wc\n",
    "sent_len = nyt_sent_len + breit_sent_len + wapo_sent_len\n",
    "sent_len_std = nyt_sent_len_std + breit_sent_len_std + wapo_sent_len_std\n",
    "unique_word_frac = nyt_unique_word_frac + breit_unique_word_frac + wapo_unique_word_frac\n",
    "word_len = nyt_word_len + breit_word_len + wapo_word_len\n",
    "cps = nyt_cps + breit_cps + wapo_cps\n",
    "semic_ps = nyt_semic_ps + breit_semic_ps + wapo_semic_ps\n",
    "#print(len(wc), len(word_length))"
   ]
  },
  {
   "cell_type": "code",
   "execution_count": 68,
   "metadata": {},
   "outputs": [],
   "source": [
    "#combine features\n",
    "X = [[i, j, k, l, m] for i, j, k, l, m in zip(sent_len, sent_len_std, unique_word_frac, word_len, cps)]"
   ]
  },
  {
   "cell_type": "code",
   "execution_count": 69,
   "metadata": {},
   "outputs": [
    {
     "name": "stdout",
     "output_type": "stream",
     "text": [
      "9086\n"
     ]
    }
   ],
   "source": [
    "#labels\n",
    "Y = [0 for i in range(len(nyt_wc))] + [1 for i in range(len(breit_wc))] + [2 for i in range(len(wapo_wc))]\n",
    "print(len(Y))"
   ]
  },
  {
   "cell_type": "code",
   "execution_count": 70,
   "metadata": {},
   "outputs": [],
   "source": [
    "#test train split\n",
    "from sklearn.model_selection import train_test_split\n",
    "\n",
    "X_train, X_test, y_train, y_test = train_test_split(X[:len(Y)], Y, test_size=0.6)"
   ]
  },
  {
   "cell_type": "code",
   "execution_count": 71,
   "metadata": {},
   "outputs": [],
   "source": [
    "#from sklearn.model_selection import GridSearchCV\n",
    "#parameters = {'max_depth':range(3,20)}\n",
    "#clf = GridSearchCV(tree.DecisionTreeClassifier(), parameters, n_jobs=4)\n",
    "#clf.fit(X=X_train, y=y_train)\n",
    "#tree_model = clf.best_estimator_\n",
    "#print (clf.best_score_, clf.best_params_) \n",
    "\n",
    "\n",
    "#clf = tree.DecisionTreeClassifier(max_depth = 5)\n",
    "#clf = clf.fit(X_train, y_train)\n",
    "\n",
    "from sklearn.ensemble import RandomForestClassifier\n",
    "clf = RandomForestClassifier(n_estimators=10)\n",
    "clf = clf.fit(X_train, y_train)"
   ]
  },
  {
   "cell_type": "code",
   "execution_count": 72,
   "metadata": {},
   "outputs": [],
   "source": [
    "y_pred = clf.predict(X_test)\n",
    "#chance = [0 if random.random() > 0.5 else 1 for _ in range(len(y_pred))]"
   ]
  },
  {
   "cell_type": "code",
   "execution_count": 73,
   "metadata": {},
   "outputs": [
    {
     "name": "stdout",
     "output_type": "stream",
     "text": [
      "Normalized confusion matrix\n",
      "[[0.68 0.14 0.18]\n",
      " [0.15 0.63 0.22]\n",
      " [0.26 0.24 0.5 ]]\n"
     ]
    },
    {
     "data": {
      "image/png": "[encoded data removed]",
      "text/plain": [
       "<Figure size 432x288 with 2 Axes>"
      ]
     },
     "metadata": {},
     "output_type": "display_data"
    }
   ],
   "source": [
    "from sklearn.metrics import confusion_matrix\n",
    "import itertools\n",
    "class_names = ['New York Times', 'Breitbart', 'Washington Post']\n",
    "\n",
    "def plot_confusion_matrix(cm, classes,\n",
    "                          normalize=False,\n",
    "                          title='Confusion matrix',\n",
    "                          cmap=plt.cm.Blues):\n",
    "    \"\"\"\n",
    "    This function prints and plots the confusion matrix.\n",
    "    Normalization can be applied by setting `normalize=True`.\n",
    "    \"\"\"\n",
    "    if normalize:\n",
    "        cm = cm.astype('float') / cm.sum(axis=1)[:, np.newaxis]\n",
    "        print(\"Normalized confusion matrix\")\n",
    "    else:\n",
    "        print('Confusion matrix, without normalization')\n",
    "\n",
    "    print(cm)\n",
    "\n",
    "    plt.imshow(cm, interpolation='nearest', cmap=cmap)\n",
    "    plt.title(title)\n",
    "    plt.colorbar()\n",
    "    tick_marks = np.arange(len(classes))\n",
    "    plt.xticks(tick_marks, classes, rotation=45)\n",
    "    plt.yticks(tick_marks, classes)\n",
    "\n",
    "    fmt = '.2f' if normalize else 'd'\n",
    "    thresh = cm.max() / 2.\n",
    "    for i, j in itertools.product(range(cm.shape[0]), range(cm.shape[1])):\n",
    "        plt.text(j, i, format(cm[i, j], fmt),\n",
    "                 horizontalalignment=\"center\",\n",
    "                 color=\"white\" if cm[i, j] > thresh else \"black\")\n",
    "\n",
    "    plt.tight_layout()\n",
    "    plt.ylabel('True label')\n",
    "    plt.xlabel('Predicted label')\n",
    "\n",
    "# Compute confusion matrix\n",
    "cnf_matrix = confusion_matrix(y_test, y_pred)\n",
    "np.set_printoptions(precision=2)\n",
    "\n",
    "# Plot non-normalized confusion matrix\n",
    "plt.figure()\n",
    "plot_confusion_matrix(cnf_matrix, classes=class_names,\n",
    "                      title='Confusion matrix', normalize = True)\n"
   ]
  },
  {
   "cell_type": "code",
   "execution_count": 31,
   "metadata": {},
   "outputs": [
    {
     "name": "stdout",
     "output_type": "stream",
     "text": [
      "[[1218.  333.  471.]\n",
      " [ 243. 1111.  482.]\n",
      " [ 364.  339.  891.]] 5452.0\n",
      "Counter({2: 1844, 0: 1825, 1: 1783})\n"
     ]
    },
    {
     "data": {
      "image/png": "[encoded data removed]",
      "text/plain": [
       "<Figure size 432x288 with 2 Axes>"
      ]
     },
     "metadata": {},
     "output_type": "display_data"
    }
   ],
   "source": [
    "conf_mat = np.zeros((3,3))\n",
    "for pred, true in zip(y_pred, y_test):\n",
    "    conf_mat[pred,true] += 1.\n",
    "#conf_mat[2,1] += 1000\n",
    "#[y,x] format (first index (predicted) is on the vertical, second index (truth) is on the horizontal)\n",
    "plt.imshow(conf_mat)\n",
    "plt.colorbar()\n",
    "print(conf_mat, np.sum(conf_mat))\n",
    "print(Counter(y_test))"
   ]
  },
  {
   "cell_type": "code",
   "execution_count": 32,
   "metadata": {},
   "outputs": [
    {
     "data": {
      "text/plain": [
       "['decision_tree_10.pkl']"
      ]
     },
     "execution_count": 32,
     "metadata": {},
     "output_type": "execute_result"
    }
   ],
   "source": [
    "from sklearn.externals import joblib\n",
    "joblib.dump(clf, 'decision_tree_10.pkl') "
   ]
  },
  {
   "cell_type": "code",
   "execution_count": 79,
   "metadata": {},
   "outputs": [
    {
     "name": "stdout",
     "output_type": "stream",
     "text": [
      "Feature ranking:\n",
      "1. feature 2 (0.269717)\n",
      "2. feature 4 (0.235243)\n",
      "3. feature 1 (0.184715)\n",
      "4. feature 0 (0.156361)\n",
      "5. feature 3 (0.153964)\n",
      "[2 4 1 0 3]\n"
     ]
    },
    {
     "data": {
      "image/png": "[encoded data removed]",
      "text/plain": [
       "<Figure size 432x288 with 1 Axes>"
      ]
     },
     "metadata": {},
     "output_type": "display_data"
    }
   ],
   "source": [
    "importances = clf.feature_importances_\n",
    "std = np.std([tree.feature_importances_ for tree in clf.estimators_],\n",
    "             axis=0)\n",
    "indices = np.argsort(importances)[::-1]\n",
    "\n",
    "# Print the feature ranking\n",
    "print(\"Feature ranking:\")\n",
    "\n",
    "for f in range(len(X[0])):#.shape[1]):\n",
    "    print(\"%d. feature %d (%f)\" % (f + 1, indices[f], importances[indices[f]]))\n",
    "feature_names = ['sentence length', 'sentence variability', 'unique word fraction', 'mean word length', 'commas per sentence']\n",
    "# Plot the feature importances of the forest\n",
    "plt.figure()\n",
    "plt.title(\"Feature importances\")\n",
    "plt.bar(range(len(X[0])), importances[indices],\n",
    "       color=\"r\", yerr=std[indices], align=\"center\")\n",
    "print(indices)\n",
    "plt.xticks(range(len(X[0])), [feature_names[i] for i in indices], rotation = 45, ha = 'right')\n",
    "plt.xlim([-1, len(X[0])])\n",
    "plt.show()\n"
   ]
  },
  {
   "cell_type": "code",
   "execution_count": 176,
   "metadata": {},
   "outputs": [
    {
     "ename": "NotFittedError",
     "evalue": "This RandomForestClassifier instance is not fitted yet. Call 'fit' with appropriate arguments before using this method.",
     "output_type": "error",
     "traceback": [
      "\u001b[0;31m---------------------------------------------------------------------------\u001b[0m",
      "\u001b[0;31mNotFittedError\u001b[0m                            Traceback (most recent call last)",
      "\u001b[0;32m<ipython-input-176-26372a4bac5e>\u001b[0m in \u001b[0;36m<module>\u001b[0;34m()\u001b[0m\n\u001b[1;32m      8\u001b[0m export_graphviz(clf, out_file=dot_data,  \n\u001b[1;32m      9\u001b[0m                 \u001b[0mfilled\u001b[0m\u001b[0;34m=\u001b[0m\u001b[0;32mTrue\u001b[0m\u001b[0;34m,\u001b[0m \u001b[0mrounded\u001b[0m\u001b[0;34m=\u001b[0m\u001b[0;32mTrue\u001b[0m\u001b[0;34m,\u001b[0m\u001b[0;34m\u001b[0m\u001b[0m\n\u001b[0;32m---> 10\u001b[0;31m                 special_characters=True)\n\u001b[0m\u001b[1;32m     11\u001b[0m \u001b[0;34m\u001b[0m\u001b[0m\n\u001b[1;32m     12\u001b[0m \u001b[0mgraph\u001b[0m \u001b[0;34m=\u001b[0m \u001b[0mpydotplus\u001b[0m\u001b[0;34m.\u001b[0m\u001b[0mgraph_from_dot_data\u001b[0m\u001b[0;34m(\u001b[0m\u001b[0mdot_data\u001b[0m\u001b[0;34m.\u001b[0m\u001b[0mgetvalue\u001b[0m\u001b[0;34m(\u001b[0m\u001b[0;34m)\u001b[0m\u001b[0;34m)\u001b[0m\u001b[0;34m\u001b[0m\u001b[0m\n",
      "\u001b[0;32m~/anaconda3/envs/insight/lib/python3.6/site-packages/sklearn/tree/export.py\u001b[0m in \u001b[0;36mexport_graphviz\u001b[0;34m(decision_tree, out_file, max_depth, feature_names, class_names, label, filled, leaves_parallel, impurity, node_ids, proportion, rotate, rounded, special_characters, precision)\u001b[0m\n\u001b[1;32m    390\u001b[0m                 \u001b[0mout_file\u001b[0m\u001b[0;34m.\u001b[0m\u001b[0mwrite\u001b[0m\u001b[0;34m(\u001b[0m\u001b[0;34m'%d -> %d ;\\n'\u001b[0m \u001b[0;34m%\u001b[0m \u001b[0;34m(\u001b[0m\u001b[0mparent\u001b[0m\u001b[0;34m,\u001b[0m \u001b[0mnode_id\u001b[0m\u001b[0;34m)\u001b[0m\u001b[0;34m)\u001b[0m\u001b[0;34m\u001b[0m\u001b[0m\n\u001b[1;32m    391\u001b[0m \u001b[0;34m\u001b[0m\u001b[0m\n\u001b[0;32m--> 392\u001b[0;31m     \u001b[0mcheck_is_fitted\u001b[0m\u001b[0;34m(\u001b[0m\u001b[0mdecision_tree\u001b[0m\u001b[0;34m,\u001b[0m \u001b[0;34m'tree_'\u001b[0m\u001b[0;34m)\u001b[0m\u001b[0;34m\u001b[0m\u001b[0m\n\u001b[0m\u001b[1;32m    393\u001b[0m     \u001b[0mown_file\u001b[0m \u001b[0;34m=\u001b[0m \u001b[0;32mFalse\u001b[0m\u001b[0;34m\u001b[0m\u001b[0m\n\u001b[1;32m    394\u001b[0m     \u001b[0mreturn_string\u001b[0m \u001b[0;34m=\u001b[0m \u001b[0;32mFalse\u001b[0m\u001b[0;34m\u001b[0m\u001b[0m\n",
      "\u001b[0;32m~/anaconda3/envs/insight/lib/python3.6/site-packages/sklearn/utils/validation.py\u001b[0m in \u001b[0;36mcheck_is_fitted\u001b[0;34m(estimator, attributes, msg, all_or_any)\u001b[0m\n\u001b[1;32m    766\u001b[0m \u001b[0;34m\u001b[0m\u001b[0m\n\u001b[1;32m    767\u001b[0m     \u001b[0;32mif\u001b[0m \u001b[0;32mnot\u001b[0m \u001b[0mall_or_any\u001b[0m\u001b[0;34m(\u001b[0m\u001b[0;34m[\u001b[0m\u001b[0mhasattr\u001b[0m\u001b[0;34m(\u001b[0m\u001b[0mestimator\u001b[0m\u001b[0;34m,\u001b[0m \u001b[0mattr\u001b[0m\u001b[0;34m)\u001b[0m \u001b[0;32mfor\u001b[0m \u001b[0mattr\u001b[0m \u001b[0;32min\u001b[0m \u001b[0mattributes\u001b[0m\u001b[0;34m]\u001b[0m\u001b[0;34m)\u001b[0m\u001b[0;34m:\u001b[0m\u001b[0;34m\u001b[0m\u001b[0m\n\u001b[0;32m--> 768\u001b[0;31m         \u001b[0;32mraise\u001b[0m \u001b[0mNotFittedError\u001b[0m\u001b[0;34m(\u001b[0m\u001b[0mmsg\u001b[0m \u001b[0;34m%\u001b[0m \u001b[0;34m{\u001b[0m\u001b[0;34m'name'\u001b[0m\u001b[0;34m:\u001b[0m \u001b[0mtype\u001b[0m\u001b[0;34m(\u001b[0m\u001b[0mestimator\u001b[0m\u001b[0;34m)\u001b[0m\u001b[0;34m.\u001b[0m\u001b[0m__name__\u001b[0m\u001b[0;34m}\u001b[0m\u001b[0;34m)\u001b[0m\u001b[0;34m\u001b[0m\u001b[0m\n\u001b[0m\u001b[1;32m    769\u001b[0m \u001b[0;34m\u001b[0m\u001b[0m\n\u001b[1;32m    770\u001b[0m \u001b[0;34m\u001b[0m\u001b[0m\n",
      "\u001b[0;31mNotFittedError\u001b[0m: This RandomForestClassifier instance is not fitted yet. Call 'fit' with appropriate arguments before using this method."
     ]
    }
   ],
   "source": [
    "from sklearn.externals.six import StringIO  \n",
    "from IPython.display import Image  \n",
    "from sklearn.tree import export_graphviz\n",
    "import pydotplus\n",
    "\n",
    "dot_data = StringIO()\n",
    "\n",
    "export_graphviz(clf, out_file=dot_data,  \n",
    "                filled=True, rounded=True,\n",
    "                special_characters=True)\n",
    "\n",
    "graph = pydotplus.graph_from_dot_data(dot_data.getvalue())  \n",
    "Image(graph.create_png())"
   ]
  },
  {
   "cell_type": "code",
   "execution_count": 61,
   "metadata": {},
   "outputs": [
    {
     "name": "stdout",
     "output_type": "stream",
     "text": [
      "[[0.25628141 0.24221106 0.        ]\n",
      " [0.26582915 0.23567839 0.        ]\n",
      " [0.         0.         0.        ]] 1.0000000000000127\n"
     ]
    },
    {
     "data": {
      "image/png": "[encoded data removed]",
      "text/plain": [
       "<Figure size 432x288 with 2 Axes>"
      ]
     },
     "metadata": {},
     "output_type": "display_data"
    }
   ],
   "source": [
    "conf_mat = np.zeros((3,3))\n",
    "for pred_chance, true in zip(chance, y_test):\n",
    "    conf_mat[pred_chance,true] += 1./len(y_pred)\n",
    "\n",
    "plt.imshow(conf_mat)\n",
    "plt.colorbar()\n",
    "print(conf_mat, np.sum(conf_mat))"
   ]
  },
  {
   "cell_type": "code",
   "execution_count": null,
   "metadata": {},
   "outputs": [],
   "source": [
    "total_df = 0"
   ]
  },
  {
   "cell_type": "code",
   "execution_count": null,
   "metadata": {},
   "outputs": [],
   "source": [
    "#import graphviz \n",
    "#dot_data = tree.export_graphviz(clf, out_file='graph') \n",
    "#graph = graphviz.Source(dot_data) \n",
    "#graph.render(\"iris\") "
   ]
  },
  {
   "cell_type": "code",
   "execution_count": null,
   "metadata": {},
   "outputs": [],
   "source": [
    "print(wapo_collect[0])"
   ]
  },
  {
   "cell_type": "code",
   "execution_count": null,
   "metadata": {},
   "outputs": [],
   "source": []
  },
  {
   "cell_type": "code",
   "execution_count": null,
   "metadata": {},
   "outputs": [],
   "source": []
  },
  {
   "cell_type": "code",
   "execution_count": null,
   "metadata": {},
   "outputs": [],
   "source": []
  },
  {
   "cell_type": "code",
   "execution_count": null,
   "metadata": {},
   "outputs": [],
   "source": []
  },
  {
   "cell_type": "code",
   "execution_count": null,
   "metadata": {},
   "outputs": [],
   "source": [
    "#get content column into list\n",
    "article_list = total_df['content'].tolist()\n",
    "print(article_list[:10])"
   ]
  },
  {
   "cell_type": "code",
   "execution_count": null,
   "metadata": {},
   "outputs": [],
   "source": [
    "word_count_list = [len(text.split()) for text in article_list[:10000]]\n",
    "print(word_count_list[:100])"
   ]
  },
  {
   "cell_type": "code",
   "execution_count": null,
   "metadata": {},
   "outputs": [],
   "source": [
    "translator = str.maketrans('', '', string.punctuation)\n",
    "unique_word_list = [set(text.lower().translate(translator).split()) for text in article_list[:10000]]\n",
    "print(unique_word_list[:1])\n",
    "#df.loc[row, column] = pd.DataFrame({'fake_key': list})"
   ]
  },
  {
   "cell_type": "markdown",
   "metadata": {},
   "source": [
    "ADD WORDCOUNT COLUMN"
   ]
  },
  {
   "cell_type": "code",
   "execution_count": null,
   "metadata": {},
   "outputs": [],
   "source": [
    "def word_count(pub_name):\n",
    "    total_df.loc[total_df['publication'] == pub_name, 'word_count'] = total_df.loc[total_df['publication'] == pub_name, 'content'].str.split().str.len()\n",
    "    #nyt_group['word_count'] = nyt_group['content'].str.split().str.len()\n",
    "    #print(nyt_group.head(10))\n",
    "    print(list(total_df))\n",
    "    #print(total_df.loc[total_df['publication'] == pub_name])"
   ]
  },
  {
   "cell_type": "code",
   "execution_count": null,
   "metadata": {},
   "outputs": [],
   "source": [
    "word_count('Washington Post')\n",
    "word_count('New York Times')\n",
    "word_count('Vox')\n",
    "word_count('Fox News')\n",
    "#print(total_df.loc[total_df['publication'] == 'Washington Post']['word_count'].head(20))\n",
    "#wapo_group['word_count'] = wapo_group['content'].str.split().str.len()\n",
    "#print(wapo_group['word_count'].head(20))"
   ]
  },
  {
   "cell_type": "code",
   "execution_count": null,
   "metadata": {},
   "outputs": [],
   "source": [
    "print(total_df.groupby('publication')['word_count'].describe())"
   ]
  },
  {
   "cell_type": "markdown",
   "metadata": {},
   "source": [
    "ADD SENTENCE LENGTH COLUMN"
   ]
  },
  {
   "cell_type": "code",
   "execution_count": null,
   "metadata": {},
   "outputs": [],
   "source": [
    "def sentence_count(pub_name):\n",
    "    total_df.loc[total_df['publication'] == pub_name, 'sentence_count'] = total_df.loc[total_df['publication'] == pub_name]['content'].apply(lambda row: len(sent_detector.tokenize(row.strip())))\n",
    "    #nyt_group['word_count'] = nyt_group['content'].str.split().str.len()\n",
    "    #print(nyt_group.head(10))\n",
    "    print(list(total_df))\n",
    "    #print(total_df.loc[total_df['publication'] == pub_name])\n",
    "\n",
    "#nyt_group['sentence_count'] = nyt_group['content']\n",
    "#print(nyt_group.sentence_count)"
   ]
  },
  {
   "cell_type": "code",
   "execution_count": null,
   "metadata": {},
   "outputs": [],
   "source": [
    "sentence_count('Washington Post')\n",
    "sentence_count('New York Times')\n",
    "sentence_count('Vox')\n",
    "sentence_count('Fox News')\n",
    "#sentence_count('')"
   ]
  },
  {
   "cell_type": "code",
   "execution_count": null,
   "metadata": {},
   "outputs": [],
   "source": [
    "print(total_df.groupby('publication')['sentence_count'].describe())\n",
    "#print(total_df.head(2))"
   ]
  },
  {
   "cell_type": "code",
   "execution_count": null,
   "metadata": {},
   "outputs": [],
   "source": [
    "#plot word count vs sentence length\n",
    "#total_df.groupby('publication').plot(x='word_count', y='sentence_count', style='o')\n",
    "plt.scatter(total_df.loc[total_df['publication'] == 'New York Times','word_count'], total_df.loc[total_df['publication'] == 'New York Times','sentence_count'])\n",
    "plt.scatter(total_df.loc[total_df['publication'] == 'Washington Post','word_count'], total_df.loc[total_df['publication'] == 'Washington Post','sentence_count'])\n",
    "plt.scatter(total_df.loc[total_df['publication'] == 'Vox','word_count'], total_df.loc[total_df['publication'] == 'Vox','sentence_count'])\n",
    "plt.scatter(total_df.loc[total_df['publication'] == 'Fox News','word_count'], total_df.loc[total_df['publication'] == 'Fox News','sentence_count'])\n",
    "\n",
    "plt.xlim((0,5000))\n",
    "\n",
    "plt.ylim((0,200))\n",
    "plt.show()"
   ]
  },
  {
   "cell_type": "code",
   "execution_count": null,
   "metadata": {},
   "outputs": [],
   "source": [
    "#total_df['unique_word_count'] = 0"
   ]
  },
  {
   "cell_type": "code",
   "execution_count": null,
   "metadata": {},
   "outputs": [],
   "source": [
    "def unique_word_count(pub_name):\n",
    "    col_name = 'unique_word_count'\n",
    "    total_df.loc[total_df['publication'] == pub_name, col_name] = total_df.loc[total_df['publication'] == pub_name]['content'].apply(lambda row: len(set(row.lower().split())))\n",
    "    #nyt_group['word_count'] = nyt_group['content'].str.split().str.len()\n",
    "    #print(nyt_group.head(10))\n",
    "    print(list(total_df))\n",
    "    #print(total_df.loc[total_df['publication'] == pub_name])\n",
    "\n",
    "#nyt_group['sentence_count'] = nyt_group['content']\n",
    "#print(nyt_group.sentence_count)"
   ]
  },
  {
   "cell_type": "code",
   "execution_count": null,
   "metadata": {},
   "outputs": [],
   "source": [
    "#unique_word_count('New York Times')\n",
    "#unique_word_count('Vox')\n",
    "#unique_word_count('Washington Post')\n",
    "unique_word_count('Fox News')\n",
    "print(total_df.groupby('publication')['unique_word_count'].describe())"
   ]
  },
  {
   "cell_type": "code",
   "execution_count": null,
   "metadata": {},
   "outputs": [],
   "source": [
    "#total_df.groupby('publication').plot(x='word_count', y='sentence_count', style='o')\n",
    "plt.scatter(total_df.loc[total_df['publication'] == 'New York Times','sentence_count'], total_df.loc[total_df['publication'] == 'New York Times','unique_word_count'], s=4)\n",
    "plt.scatter(total_df.loc[total_df['publication'] == 'Washington Post','sentence_count'], total_df.loc[total_df['publication'] == 'Washington Post','unique_word_count'], s=4)\n",
    "plt.scatter(total_df.loc[total_df['publication'] == 'Vox','sentence_count'], total_df.loc[total_df['publication'] == 'Vox','unique_word_count'], s=4)\n",
    "plt.scatter(total_df.loc[total_df['publication'] == 'Fox News','sentence_count'], total_df.loc[total_df['publication'] == 'Fox News','unique_word_count'], s=4)\n",
    "\n",
    "plt.xlim((0,200))\n",
    "\n",
    "plt.ylim((0,1000))\n",
    "plt.show()"
   ]
  },
  {
   "cell_type": "code",
   "execution_count": null,
   "metadata": {},
   "outputs": [],
   "source": []
  },
  {
   "cell_type": "code",
   "execution_count": null,
   "metadata": {
    "scrolled": true
   },
   "outputs": [],
   "source": []
  },
  {
   "cell_type": "code",
   "execution_count": null,
   "metadata": {},
   "outputs": [],
   "source": [
    "#sub_df_max_wordcount = sub_df\n",
    "total_df.groupby('publication')['word_count'].hist(bins = 100, alpha = 0.5, normed = True)"
   ]
  },
  {
   "cell_type": "code",
   "execution_count": null,
   "metadata": {},
   "outputs": [],
   "source": []
  }
 ],
 "metadata": {
  "kernelspec": {
   "display_name": "Python 3",
   "language": "python",
   "name": "python3"
  },
  "language_info": {
   "codemirror_mode": {
    "name": "ipython",
    "version": 3
   },
   "file_extension": ".py",
   "mimetype": "text/x-python",
   "name": "python",
   "nbconvert_exporter": "python",
   "pygments_lexer": "ipython3",
   "version": "3.6.5"
  }
 },
 "nbformat": 4,
 "nbformat_minor": 2
}
