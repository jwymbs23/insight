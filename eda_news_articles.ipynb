{
 "cells": [
  {
   "cell_type": "code",
   "execution_count": 1,
   "metadata": {},
   "outputs": [],
   "source": [
    "import pandas as pd\n",
    "import numpy\n",
    "import matplotlib.pyplot as plt\n",
    "%matplotlib inline\n",
    "\n",
    "import pickle\n",
    "import string\n",
    "import numpy as np\n",
    "import random\n",
    "from collections import Counter"
   ]
  },
  {
   "cell_type": "code",
   "execution_count": 2,
   "metadata": {},
   "outputs": [
    {
     "name": "stdout",
     "output_type": "stream",
     "text": [
      "[nltk_data] Downloading package punkt to /home/joseph/nltk_data...\n",
      "[nltk_data]   Package punkt is already up-to-date!\n"
     ]
    }
   ],
   "source": [
    "import nltk\n",
    "nltk.download('punkt')\n",
    "#from nltk.tokenize import sent_tokenize\n",
    "import nltk.data\n",
    "sent_detector = nltk.data.load('tokenizers/punkt/english.pickle')"
   ]
  },
  {
   "cell_type": "code",
   "execution_count": 3,
   "metadata": {},
   "outputs": [],
   "source": [
    "try:\n",
    "    total_df = pd.read_pickle('total_df.p')\n",
    "except:\n",
    "    df_1 = pd.read_csv('articles1.csv')\n",
    "    df_2 = pd.read_csv('articles2.csv')\n",
    "    df_3 = pd.read_csv('articles3.csv')\n",
    "    #print(df_1.head(1))\n",
    "    print(df_1.shape)\n",
    "\n",
    "    #print(df_1.publication.unique())\n",
    "    #print(df_2.publication.unique())\n",
    "    #print(df_3.publication.unique())\n",
    "    #merge dataframes\n",
    "    total_df = pd.concat([df_1, df_2, df_3])\n",
    "    df_1 = 0\n",
    "    df_2 = 0\n",
    "    df_3 = 0\n",
    "    total_df['sentence_count'] = 0\n",
    "    total_df['word_count'] = 0\n",
    "    total_df.to_pickle('total_df.p')\n",
    "publication_names = total_df.publication.unique()"
   ]
  },
  {
   "cell_type": "code",
   "execution_count": null,
   "metadata": {},
   "outputs": [],
   "source": [
    "total_df.publication.value_counts().plot(kind='bar')"
   ]
  },
  {
   "cell_type": "code",
   "execution_count": null,
   "metadata": {},
   "outputs": [],
   "source": [
    "#print(list(total_df))\n",
    "#print(total_df.loc[total_df['publication'] == 'New York Times']['title'])"
   ]
  },
  {
   "cell_type": "code",
   "execution_count": 4,
   "metadata": {},
   "outputs": [],
   "source": [
    "ny_times_list = total_df.loc[total_df['publication'] == 'New York Times']['content'].tolist()\n",
    "breit_list = total_df.loc[total_df['publication'] == 'Breitbart']['content'].tolist()\n",
    "wapo_list = total_df.loc[total_df['publication'] == 'Washington Post']['content'].tolist()"
   ]
  },
  {
   "cell_type": "code",
   "execution_count": 5,
   "metadata": {},
   "outputs": [
    {
     "name": "stdout",
     "output_type": "stream",
     "text": [
      "3051 2937 2960\n"
     ]
    }
   ],
   "source": [
    "nyt_list = [i for i in ny_times_list if random.random() > 1-3000/len(ny_times_list)]\n",
    "breit_list = [i for i in breit_list if random.random() > 1-3000/len(breit_list)]\n",
    "wapo_list = [i for i in wapo_list if random.random() > 1-3000/len(wapo_list)]\n",
    "print(len(nyt_list), len(breit_list), len(wapo_list))"
   ]
  },
  {
   "cell_type": "code",
   "execution_count": 6,
   "metadata": {},
   "outputs": [],
   "source": [
    "def prepare_text(publication_content_list):\n",
    "    #lower case text\n",
    "    lower_case = [text.strip().lower() for text in publication_content_list]\n",
    "    #replace strange quote characters with normal ones \n",
    "    replace_quotes = [text.replace('“', '\"').replace('”', '\"') for text in lower_case]\n",
    "    #do punkt sentence tokenization\n",
    "    sentence_tokenize = [sent_detector.tokenize(text.strip()) for text in replace_quotes]\n",
    "    #do nltk word tokenization\n",
    "    word_tokenize = [nltk.word_tokenize(text) for text in replace_quotes]\n",
    "    #get unique string counts\n",
    "    string_counts = [Counter(text) for text in word_tokenize]\n",
    "    return sentence_tokenize, word_tokenize, string_counts"
   ]
  },
  {
   "cell_type": "code",
   "execution_count": 7,
   "metadata": {},
   "outputs": [],
   "source": [
    "nyt_sent, nyt_word, nyt_string_count = prepare_text(nyt_list)"
   ]
  },
  {
   "cell_type": "code",
   "execution_count": 8,
   "metadata": {},
   "outputs": [],
   "source": [
    "breit_sent, breit_word, breit_string_count = prepare_text(breit_list)"
   ]
  },
  {
   "cell_type": "code",
   "execution_count": 9,
   "metadata": {},
   "outputs": [],
   "source": [
    "wapo_sent, wapo_word, wapo_string_count = prepare_text(wapo_list)"
   ]
  },
  {
   "cell_type": "code",
   "execution_count": 99,
   "metadata": {},
   "outputs": [
    {
     "ename": "MemoryError",
     "evalue": "",
     "output_type": "error",
     "traceback": [
      "\u001b[0;31m---------------------------------------------------------------------------\u001b[0m",
      "\u001b[0;31mMemoryError\u001b[0m                               Traceback (most recent call last)",
      "\u001b[0;32m<ipython-input-99-2d6d96f79ec0>\u001b[0m in \u001b[0;36m<module>\u001b[0;34m()\u001b[0m\n\u001b[1;32m      1\u001b[0m pickle.dump( [['nyt', nyt_sent, nyt_word, nyt_string_count], \n\u001b[1;32m      2\u001b[0m  \u001b[0;34m[\u001b[0m\u001b[0;34m'breit'\u001b[0m\u001b[0;34m,\u001b[0m \u001b[0mbreit_sent\u001b[0m\u001b[0;34m,\u001b[0m \u001b[0mbreit_word\u001b[0m\u001b[0;34m,\u001b[0m \u001b[0mbreit_string_count\u001b[0m\u001b[0;34m]\u001b[0m\u001b[0;34m,\u001b[0m\u001b[0;34m\u001b[0m\u001b[0m\n\u001b[0;32m----> 3\u001b[0;31m  ['wapo', wapo_sent, wapo_word, wapo_string_count]], open( \"tokenized_strings.p\", \"wb\" ) )\n\u001b[0m",
      "\u001b[0;31mMemoryError\u001b[0m: "
     ]
    }
   ],
   "source": [
    "pickle.dump( [['nyt', nyt_sent, nyt_word, nyt_string_count], \n",
    " ['breit', breit_sent, breit_word, breit_string_count],\n",
    " ['wapo', wapo_sent, wapo_word, wapo_string_count]], open( \"tokenized_strings.p\", \"wb\" ) )"
   ]
  },
  {
   "cell_type": "markdown",
   "metadata": {},
   "source": [
    "# word count"
   ]
  },
  {
   "cell_type": "code",
   "execution_count": 10,
   "metadata": {},
   "outputs": [],
   "source": [
    "nyt_wc = [len(text) for text in nyt_word]\n",
    "breit_wc = [len(text) for text in breit_word]\n",
    "wapo_wc = [len(text) for text in wapo_word]"
   ]
  },
  {
   "cell_type": "code",
   "execution_count": 11,
   "metadata": {},
   "outputs": [
    {
     "name": "stderr",
     "output_type": "stream",
     "text": [
      "/home/joseph/anaconda3/envs/insight/lib/python3.6/site-packages/matplotlib/axes/_axes.py:6462: UserWarning: The 'normed' kwarg is deprecated, and has been replaced by the 'density' kwarg.\n",
      "  warnings.warn(\"The 'normed' kwarg is deprecated, and has been \"\n"
     ]
    },
    {
     "data": {
      "text/plain": [
       "(array([1.62544170e-04, 1.62544170e-04, 3.53356890e-05, 4.24028269e-05,\n",
       "        1.41342756e-04, 3.95759717e-04, 2.61484099e-04, 2.54416961e-04,\n",
       "        1.97879859e-04, 3.53356890e-04, 4.80565371e-04, 6.28975265e-04,\n",
       "        6.71378092e-04, 7.06713781e-04, 5.65371025e-04, 7.27915194e-04,\n",
       "        5.01766784e-04, 7.13780919e-04, 1.13780919e-03, 1.41342756e-03,\n",
       "        1.19434629e-03, 9.39929329e-04, 6.71378092e-04, 6.00706714e-04,\n",
       "        5.08833922e-04, 5.15901060e-04, 4.73498233e-04, 5.65371025e-04,\n",
       "        4.59363958e-04, 3.32155477e-04, 4.59363958e-04, 3.25088339e-04,\n",
       "        3.81625442e-04, 4.66431095e-04, 3.60424028e-04, 3.25088339e-04,\n",
       "        2.19081272e-04, 2.19081272e-04, 1.83745583e-04, 2.82685512e-04,\n",
       "        1.90812721e-04, 1.41342756e-04, 1.41342756e-04, 8.48056537e-05,\n",
       "        9.18727915e-05, 1.06007067e-04, 9.18727915e-05, 7.06713781e-05,\n",
       "        4.24028269e-05]),\n",
       " array([   0,   50,  100,  150,  200,  250,  300,  350,  400,  450,  500,\n",
       "         550,  600,  650,  700,  750,  800,  850,  900,  950, 1000, 1050,\n",
       "        1100, 1150, 1200, 1250, 1300, 1350, 1400, 1450, 1500, 1550, 1600,\n",
       "        1650, 1700, 1750, 1800, 1850, 1900, 1950, 2000, 2050, 2100, 2150,\n",
       "        2200, 2250, 2300, 2350, 2400, 2450]),\n",
       " <a list of 49 Patch objects>)"
      ]
     },
     "execution_count": 11,
     "metadata": {},
     "output_type": "execute_result"
    },
    {
     "data": {
      "image/png": "[encoded data removed]",
      "text/plain": [
       "<Figure size 432x288 with 1 Axes>"
      ]
     },
     "metadata": {},
     "output_type": "display_data"
    }
   ],
   "source": [
    "plt.hist(nyt_wc, bins = list(range(0,2500,50)),   normed = True, alpha = 0.7)\n",
    "plt.hist(breit_wc, bins = list(range(0,2500,50)), normed = True, alpha = 0.7)\n",
    "plt.hist(wapo_wc, bins = list(range(0,2500,50)),  normed = True, alpha = 0.7)"
   ]
  },
  {
   "cell_type": "markdown",
   "metadata": {},
   "source": [
    "# Sentence Count"
   ]
  },
  {
   "cell_type": "code",
   "execution_count": 12,
   "metadata": {},
   "outputs": [],
   "source": [
    "nyt_sent_count = [len(text) for text in nyt_sent]\n",
    "breit_sent_count = [len(text) for text in breit_sent]\n",
    "wapo_sent_count = [len(text) for text in wapo_sent]"
   ]
  },
  {
   "cell_type": "code",
   "execution_count": 13,
   "metadata": {},
   "outputs": [
    {
     "name": "stderr",
     "output_type": "stream",
     "text": [
      "/home/joseph/anaconda3/envs/insight/lib/python3.6/site-packages/matplotlib/axes/_axes.py:6462: UserWarning: The 'normed' kwarg is deprecated, and has been replaced by the 'density' kwarg.\n",
      "  warnings.warn(\"The 'normed' kwarg is deprecated, and has been \"\n"
     ]
    },
    {
     "data": {
      "text/plain": [
       "(array([3.06122449e-03, 2.58503401e-03, 5.71428571e-03, 7.14285714e-03,\n",
       "        1.39455782e-02, 1.40136054e-02, 1.66666667e-02, 1.85714286e-02,\n",
       "        2.12925170e-02, 1.62585034e-02, 1.40816327e-02, 1.28571429e-02,\n",
       "        1.00680272e-02, 8.36734694e-03, 5.98639456e-03, 6.66666667e-03,\n",
       "        3.67346939e-03, 3.26530612e-03, 1.97278912e-03, 2.24489796e-03,\n",
       "        2.38095238e-03, 1.22448980e-03, 1.08843537e-03, 8.84353741e-04,\n",
       "        6.80272109e-04, 8.16326531e-04, 5.44217687e-04, 6.12244898e-04,\n",
       "        4.76190476e-04, 4.76190476e-04, 2.04081633e-04, 2.72108844e-04,\n",
       "        2.04081633e-04, 1.36054422e-04, 2.04081633e-04, 6.80272109e-05,\n",
       "        1.36054422e-04, 6.80272109e-05, 2.04081633e-04, 6.80272109e-05,\n",
       "        6.80272109e-05, 2.04081633e-04, 2.04081633e-04, 0.00000000e+00,\n",
       "        2.04081633e-04, 6.80272109e-05, 0.00000000e+00, 0.00000000e+00,\n",
       "        6.80272109e-05]),\n",
       " array([  0,   5,  10,  15,  20,  25,  30,  35,  40,  45,  50,  55,  60,\n",
       "         65,  70,  75,  80,  85,  90,  95, 100, 105, 110, 115, 120, 125,\n",
       "        130, 135, 140, 145, 150, 155, 160, 165, 170, 175, 180, 185, 190,\n",
       "        195, 200, 205, 210, 215, 220, 225, 230, 235, 240, 245]),\n",
       " <a list of 49 Patch objects>)"
      ]
     },
     "execution_count": 13,
     "metadata": {},
     "output_type": "execute_result"
    },
    {
     "data": {
      "image/png": "[encoded data removed]",
      "text/plain": [
       "<Figure size 432x288 with 1 Axes>"
      ]
     },
     "metadata": {},
     "output_type": "display_data"
    }
   ],
   "source": [
    "plt.hist(nyt_sent_count,   bins = list(range(0,250,5)), normed = True, alpha = 0.7)\n",
    "plt.hist(breit_sent_count, bins = list(range(0,250,5)), normed = True, alpha = 0.7)\n",
    "plt.hist(wapo_sent_count,  bins = list(range(0,250,5)), normed = True, alpha = 0.7)"
   ]
  },
  {
   "cell_type": "markdown",
   "metadata": {},
   "source": [
    "# Sentence Length"
   ]
  },
  {
   "cell_type": "code",
   "execution_count": 14,
   "metadata": {},
   "outputs": [],
   "source": [
    "nyt_sent_len = [i/j for i,j in zip(nyt_wc, nyt_sent_count)]\n",
    "breit_sent_len = [i/j for i,j in zip(breit_wc, breit_sent_count)]\n",
    "wapo_sent_len = [i/j for i,j in zip(wapo_wc, wapo_sent_count)]"
   ]
  },
  {
   "cell_type": "code",
   "execution_count": 15,
   "metadata": {},
   "outputs": [
    {
     "name": "stderr",
     "output_type": "stream",
     "text": [
      "/home/joseph/anaconda3/envs/insight/lib/python3.6/site-packages/matplotlib/axes/_axes.py:6462: UserWarning: The 'normed' kwarg is deprecated, and has been replaced by the 'density' kwarg.\n",
      "  warnings.warn(\"The 'normed' kwarg is deprecated, and has been \"\n"
     ]
    },
    {
     "data": {
      "text/plain": [
       "(array([0.        , 0.        , 0.        , 0.        , 0.        ,\n",
       "        0.00067636, 0.        , 0.        , 0.00033818, 0.00033818,\n",
       "        0.00067636, 0.00270544, 0.00371999, 0.00338181, 0.00676361,\n",
       "        0.01285086, 0.0209672 , 0.02942171, 0.03347988, 0.0453162 ,\n",
       "        0.06898884, 0.0696652 , 0.09266148, 0.09739601, 0.09299966,\n",
       "        0.0801488 , 0.07609063, 0.05951978, 0.05275617, 0.03889077,\n",
       "        0.03449442, 0.02570172, 0.01758539, 0.00608725, 0.00777815,\n",
       "        0.00676361, 0.00473453, 0.0016909 , 0.00202908, 0.00067636,\n",
       "        0.00067636, 0.00033818, 0.00067636, 0.00067636, 0.00033818,\n",
       "        0.        , 0.        , 0.        , 0.        ]),\n",
       " array([ 0,  1,  2,  3,  4,  5,  6,  7,  8,  9, 10, 11, 12, 13, 14, 15, 16,\n",
       "        17, 18, 19, 20, 21, 22, 23, 24, 25, 26, 27, 28, 29, 30, 31, 32, 33,\n",
       "        34, 35, 36, 37, 38, 39, 40, 41, 42, 43, 44, 45, 46, 47, 48, 49]),\n",
       " <a list of 49 Patch objects>)"
      ]
     },
     "execution_count": 15,
     "metadata": {},
     "output_type": "execute_result"
    },
    {
     "data": {
      "image/png": "[encoded data removed]",
      "text/plain": [
       "<Figure size 432x288 with 1 Axes>"
      ]
     },
     "metadata": {},
     "output_type": "display_data"
    }
   ],
   "source": [
    "plt.hist(nyt_sent_len,   bins = list(range(0,50,1)), normed = True, alpha = 0.7)\n",
    "plt.hist(breit_sent_len, bins = list(range(0,50,1)), normed = True, alpha = 0.7)\n",
    "plt.hist(wapo_sent_len,  bins = list(range(0,50,1)), normed = True, alpha = 0.7)"
   ]
  },
  {
   "cell_type": "markdown",
   "metadata": {},
   "source": [
    "# Unique Word Count and Fraction"
   ]
  },
  {
   "cell_type": "code",
   "execution_count": 19,
   "metadata": {},
   "outputs": [
    {
     "name": "stdout",
     "output_type": "stream",
     "text": [
      "!\"#$%&'()*+,-./:;<=>?@[\\]^_`{|}~\n",
      "{'_', '-', ':', '^', '%', '}', '(', '+', ';', '<', '/', '?', '$', '[', '*', '\"', ']', \"'\", '!', '\\\\', '~', '`', '@', '|', '&', '=', '#', ')', '.', ',', '>', '{'}\n"
     ]
    }
   ],
   "source": [
    "translator = str.maketrans('', '', string.punctuation + '”“')\n",
    "print(string.punctuation)\n",
    "punctuation_set = set(string.punctuation)"
   ]
  },
  {
   "cell_type": "code",
   "execution_count": 23,
   "metadata": {},
   "outputs": [],
   "source": [
    "nyt_unique_wc = [len(set([word for word in text if word not in punctuation_set])) for text in nyt_word]\n",
    "#nyt_unique_wc_old = [len(set(text.lower().translate(translator).split())) for text in nyt_list]\n",
    "#print(nyt_unique_wc[:10], nyt_unique_wc_old[:10])\n",
    "breit_unique_wc = [len(set([word for word in text if word not in punctuation_set])) for text in breit_word]\n",
    "wapo_unique_wc = [len(set([word for word in text if word not in punctuation_set])) for text in wapo_word]\n",
    "\n",
    "\n",
    "#breit_unique_wc = [len(set(text.lower().translate(translator).split())) for text in breit_list]\n",
    "#wapo_unique_wc = [len(set(text.lower().translate(translator).split())) for text in wapo_list]"
   ]
  },
  {
   "cell_type": "code",
   "execution_count": 24,
   "metadata": {},
   "outputs": [],
   "source": [
    "nyt_unique_word_frac = [float(i/j) for i,j in zip(nyt_unique_wc, nyt_wc)]\n",
    "breit_unique_word_frac = [float(i/j) for i,j in zip(breit_unique_wc, breit_wc)]\n",
    "wapo_unique_word_frac = [float(i/j) for i,j in zip(wapo_unique_wc, wapo_wc)]"
   ]
  },
  {
   "cell_type": "code",
   "execution_count": 25,
   "metadata": {},
   "outputs": [
    {
     "name": "stderr",
     "output_type": "stream",
     "text": [
      "/home/joseph/anaconda3/envs/insight/lib/python3.6/site-packages/matplotlib/axes/_axes.py:6462: UserWarning: The 'normed' kwarg is deprecated, and has been replaced by the 'density' kwarg.\n",
      "  warnings.warn(\"The 'normed' kwarg is deprecated, and has been \"\n"
     ]
    },
    {
     "data": {
      "text/plain": [
       "(array([0.        , 0.        , 0.        , 0.        , 0.        ,\n",
       "        0.        , 0.        , 0.        , 0.        , 0.        ,\n",
       "        0.0338295 , 0.0338295 , 0.        , 0.067659  , 0.0338295 ,\n",
       "        0.0338295 , 0.        , 0.0338295 , 0.1014885 , 0.067659  ,\n",
       "        0.1014885 , 0.        , 0.202977  , 0.1014885 , 0.        ,\n",
       "        0.33829499, 0.30446549, 0.37212449, 0.77807848, 0.57510149,\n",
       "        1.18403248, 1.86062246, 2.94316644, 2.87550744, 4.53315291,\n",
       "        5.85250338, 6.29228687, 7.07036536, 5.98782138, 7.20568336,\n",
       "        6.79972936, 6.52909337, 6.22462788, 5.0067659 , 4.8037889 ,\n",
       "        4.9391069 , 3.61975643, 2.26657645, 1.65764547, 1.55615697,\n",
       "        1.21786198, 0.67658999, 0.54127199, 0.77807848, 0.27063599,\n",
       "        0.54127199, 0.33829499, 0.202977  , 0.33829499, 0.33829499,\n",
       "        0.2368065 , 0.2368065 , 0.135318  , 0.1014885 , 0.067659  ,\n",
       "        0.0338295 , 0.1014885 , 0.        , 0.        , 0.067659  ,\n",
       "        0.067659  , 0.067659  , 0.067659  , 0.067659  , 0.1014885 ,\n",
       "        0.135318  , 0.1691475 , 0.0338295 , 0.1014885 , 0.1014885 ,\n",
       "        0.1014885 , 0.        , 0.067659  , 0.067659  , 0.067659  ,\n",
       "        0.0338295 , 0.1014885 , 0.        , 0.        , 0.0338295 ,\n",
       "        0.        , 0.        , 0.        , 0.        , 0.        ,\n",
       "        0.        , 0.        , 0.        , 0.        ]),\n",
       " array([0.  , 0.01, 0.02, 0.03, 0.04, 0.05, 0.06, 0.07, 0.08, 0.09, 0.1 ,\n",
       "        0.11, 0.12, 0.13, 0.14, 0.15, 0.16, 0.17, 0.18, 0.19, 0.2 , 0.21,\n",
       "        0.22, 0.23, 0.24, 0.25, 0.26, 0.27, 0.28, 0.29, 0.3 , 0.31, 0.32,\n",
       "        0.33, 0.34, 0.35, 0.36, 0.37, 0.38, 0.39, 0.4 , 0.41, 0.42, 0.43,\n",
       "        0.44, 0.45, 0.46, 0.47, 0.48, 0.49, 0.5 , 0.51, 0.52, 0.53, 0.54,\n",
       "        0.55, 0.56, 0.57, 0.58, 0.59, 0.6 , 0.61, 0.62, 0.63, 0.64, 0.65,\n",
       "        0.66, 0.67, 0.68, 0.69, 0.7 , 0.71, 0.72, 0.73, 0.74, 0.75, 0.76,\n",
       "        0.77, 0.78, 0.79, 0.8 , 0.81, 0.82, 0.83, 0.84, 0.85, 0.86, 0.87,\n",
       "        0.88, 0.89, 0.9 , 0.91, 0.92, 0.93, 0.94, 0.95, 0.96, 0.97, 0.98,\n",
       "        0.99]),\n",
       " <a list of 99 Patch objects>)"
      ]
     },
     "execution_count": 25,
     "metadata": {},
     "output_type": "execute_result"
    },
    {
     "data": {
      "image/png": "[encoded data removed]",
      "text/plain": [
       "<Figure size 432x288 with 1 Axes>"
      ]
     },
     "metadata": {},
     "output_type": "display_data"
    }
   ],
   "source": [
    "plt.hist(nyt_unique_word_frac,   bins = [i/100. for i in list(range(0,100,1))], normed = True, alpha=0.7)\n",
    "plt.hist(breit_unique_word_frac, bins = [i/100. for i in list(range(0,100,1))], normed = True, alpha = 0.7)\n",
    "plt.hist(wapo_unique_word_frac,  bins = [i/100. for i in list(range(0,100,1))], normed = True, alpha = 0.7)"
   ]
  },
  {
   "cell_type": "markdown",
   "metadata": {},
   "source": [
    "# Mean word length"
   ]
  },
  {
   "cell_type": "code",
   "execution_count": 41,
   "metadata": {},
   "outputs": [],
   "source": [
    "nyt_word_len = [np.mean([len(word) for word in text if word not in punctuation_set]) for text in nyt_word]\n",
    "breit_word_len = [np.mean([len(word) for word in text if word not in punctuation_set]) for text in breit_word]\n",
    "wapo_word_len = [np.mean([len(word) for word in text if word not in punctuation_set]) for text in wapo_word]"
   ]
  },
  {
   "cell_type": "code",
   "execution_count": 42,
   "metadata": {},
   "outputs": [
    {
     "name": "stderr",
     "output_type": "stream",
     "text": [
      "/home/joseph/anaconda3/envs/insight/lib/python3.6/site-packages/matplotlib/axes/_axes.py:6462: UserWarning: The 'normed' kwarg is deprecated, and has been replaced by the 'density' kwarg.\n",
      "  warnings.warn(\"The 'normed' kwarg is deprecated, and has been \"\n"
     ]
    },
    {
     "data": {
      "text/plain": [
       "(array([0.        , 0.        , 0.        , 0.        , 0.        ,\n",
       "        0.        , 0.        , 0.        , 0.        , 0.        ,\n",
       "        0.        , 0.00675676, 0.        , 0.        , 0.02027027,\n",
       "        0.        , 0.04054054, 0.05405405, 0.06756757, 0.08783784,\n",
       "        0.16216216, 0.15540541, 0.28378378, 0.35135135, 0.43918919,\n",
       "        0.69594595, 0.69594595, 0.9527027 , 1.06756757, 1.43918919,\n",
       "        1.31756757, 1.58783784, 1.71621622, 1.52027027, 1.38513514,\n",
       "        1.40540541, 1.17567568, 0.88513514, 0.68918919, 0.60135135,\n",
       "        0.31081081, 0.30405405, 0.18243243, 0.11486486, 0.06081081,\n",
       "        0.0472973 , 0.00675676, 0.03378378, 0.01351351, 0.02027027,\n",
       "        0.02702703, 0.02027027, 0.01351351, 0.        , 0.01351351,\n",
       "        0.        , 0.01351351, 0.        , 0.        , 0.        ,\n",
       "        0.00675676, 0.        , 0.        , 0.        , 0.00675676,\n",
       "        0.        , 0.        , 0.        , 0.        , 0.        ,\n",
       "        0.        , 0.        , 0.        , 0.        , 0.        ,\n",
       "        0.        , 0.        , 0.        , 0.        , 0.        ,\n",
       "        0.        , 0.        , 0.        , 0.        , 0.        ,\n",
       "        0.        , 0.        , 0.        , 0.        , 0.        ,\n",
       "        0.        , 0.        , 0.        , 0.        , 0.        ,\n",
       "        0.        , 0.        , 0.        , 0.        ]),\n",
       " array([3.  , 3.05, 3.1 , 3.15, 3.2 , 3.25, 3.3 , 3.35, 3.4 , 3.45, 3.5 ,\n",
       "        3.55, 3.6 , 3.65, 3.7 , 3.75, 3.8 , 3.85, 3.9 , 3.95, 4.  , 4.05,\n",
       "        4.1 , 4.15, 4.2 , 4.25, 4.3 , 4.35, 4.4 , 4.45, 4.5 , 4.55, 4.6 ,\n",
       "        4.65, 4.7 , 4.75, 4.8 , 4.85, 4.9 , 4.95, 5.  , 5.05, 5.1 , 5.15,\n",
       "        5.2 , 5.25, 5.3 , 5.35, 5.4 , 5.45, 5.5 , 5.55, 5.6 , 5.65, 5.7 ,\n",
       "        5.75, 5.8 , 5.85, 5.9 , 5.95, 6.  , 6.05, 6.1 , 6.15, 6.2 , 6.25,\n",
       "        6.3 , 6.35, 6.4 , 6.45, 6.5 , 6.55, 6.6 , 6.65, 6.7 , 6.75, 6.8 ,\n",
       "        6.85, 6.9 , 6.95, 7.  , 7.05, 7.1 , 7.15, 7.2 , 7.25, 7.3 , 7.35,\n",
       "        7.4 , 7.45, 7.5 , 7.55, 7.6 , 7.65, 7.7 , 7.75, 7.8 , 7.85, 7.9 ,\n",
       "        7.95]),\n",
       " <a list of 99 Patch objects>)"
      ]
     },
     "execution_count": 42,
     "metadata": {},
     "output_type": "execute_result"
    },
    {
     "data": {
      "image/png": "[encoded data removed]",
      "text/plain": [
       "<Figure size 432x288 with 1 Axes>"
      ]
     },
     "metadata": {},
     "output_type": "display_data"
    }
   ],
   "source": [
    "plt.hist(nyt_word_len,   bins = [i/100. for i in list(range(300,800,5))], normed = True, alpha=0.7)\n",
    "plt.hist(breit_word_len, bins = [i/100. for i in list(range(300,800,5))], normed = True, alpha = 0.7)\n",
    "plt.hist(wapo_word_len,  bins = [i/100. for i in list(range(300,800,5))], normed = True, alpha = 0.7)"
   ]
  },
  {
   "cell_type": "markdown",
   "metadata": {},
   "source": [
    "# Sentence length distribution"
   ]
  },
  {
   "cell_type": "code",
   "execution_count": 28,
   "metadata": {},
   "outputs": [],
   "source": [
    "nyt_sent_len_std = [np.std([len(sent) for sent in text]) for text in nyt_sent]\n",
    "breit_sent_len_std = [np.std([len(sent) for sent in text]) for text in breit_sent]\n",
    "wapo_sent_len_std = [np.std([len(sent) for sent in text]) for text in wapo_sent]"
   ]
  },
  {
   "cell_type": "code",
   "execution_count": 37,
   "metadata": {},
   "outputs": [
    {
     "name": "stdout",
     "output_type": "stream",
     "text": [
      "[201, 190, 94, 223, 83, 272, 215, 59, 90, 83, 115, 200, 114, 142, 141, 48, 179, 105, 131, 53, 126, 126, 329, 34, 84, 20, 194, 200, 297, 228, 32, 109, 174, 83, 217, 111, 18, 128, 117, 204, 89, 253, 117, 53, 162, 321, 20, 100, 77, 50, 239, 105, 130, 282, 253, 86, 262, 169, 185, 78, 65, 112, 30, 90, 244, 287, 41, 81, 86, 142, 127, 197, 153, 81, 94, 87, 161, 161, 86, 61, 66, 82, 142, 53, 141, 75, 86, 245, 232, 317, 124, 129, 25, 140, 133, 52, 76, 346, 60, 107, 152, 105, 318, 162, 242, 65, 70, 41, 184, 192, 112, 94, 155, 278, 78, 187, 181, 197, 134, 208, 232, 335, 71, 177, 262, 123, 94, 134, 192, 194, 131, 166, 129, 169, 119, 43, 251, 235, 172, 196, 74, 57, 30, 47, 141, 203, 273, 203, 104, 67, 121, 80, 155, 71, 85, 142, 112, 217, 99, 93, 163, 213, 64, 115, 97, 34, 121, 70, 119, 66, 244, 75, 60, 132, 22, 70, 84, 159, 77, 57, 85, 23, 86, 80, 54, 127, 48, 63, 75, 112, 86, 47, 71, 60, 168, 52, 58, 52, 129, 106, 177, 166, 75, 60, 193, 193, 107, 128, 190, 64, 36, 37] [73.44184736191093, 74.22525775562447, 49.59180314099812, 60.640929363339964, 71.16727205847431, 62.126460816512974, 66.43890924834163, 65.9008120192262, 48.8669650291376, 69.42152139744631]\n"
     ]
    }
   ],
   "source": [
    "print([len(sent) for sent in nyt_sent[0]],nyt_sent_len_std[:10])"
   ]
  },
  {
   "cell_type": "code",
   "execution_count": 33,
   "metadata": {},
   "outputs": [
    {
     "name": "stderr",
     "output_type": "stream",
     "text": [
      "/home/joseph/anaconda3/envs/insight/lib/python3.6/site-packages/matplotlib/axes/_axes.py:6462: UserWarning: The 'normed' kwarg is deprecated, and has been replaced by the 'density' kwarg.\n",
      "  warnings.warn(\"The 'normed' kwarg is deprecated, and has been \"\n"
     ]
    },
    {
     "data": {
      "text/plain": [
       "(array([0.00185936, 0.        , 0.00016903, 0.00016903, 0.00016903,\n",
       "        0.00033807, 0.        , 0.        , 0.        , 0.00016903,\n",
       "        0.        , 0.        , 0.00033807, 0.        , 0.00016903,\n",
       "        0.00016903, 0.00033807, 0.00033807, 0.0010142 , 0.0010142 ,\n",
       "        0.00219743, 0.00236646, 0.00473293, 0.00524003, 0.00524003,\n",
       "        0.01183232, 0.01014199, 0.01386072, 0.01588911, 0.01724138,\n",
       "        0.02822853, 0.0250169 , 0.02738337, 0.03042596, 0.0280595 ,\n",
       "        0.02721433, 0.02620014, 0.0275524 , 0.02467884, 0.0240027 ,\n",
       "        0.02298851, 0.01757945, 0.01301555, 0.01166329, 0.01132522,\n",
       "        0.00794456, 0.00845166, 0.00760649, 0.00574713, 0.00507099,\n",
       "        0.0030426 , 0.00422583, 0.00338066, 0.00236646, 0.0020284 ,\n",
       "        0.00118323, 0.00084517, 0.00118323, 0.00067613, 0.00033807,\n",
       "        0.0005071 , 0.00067613, 0.00067613, 0.00033807, 0.00016903,\n",
       "        0.00033807, 0.00033807, 0.        , 0.00033807, 0.00016903,\n",
       "        0.00016903, 0.        , 0.00016903, 0.00016903, 0.        ,\n",
       "        0.        , 0.        , 0.00016903, 0.        , 0.00016903,\n",
       "        0.        , 0.        , 0.        , 0.        , 0.00016903,\n",
       "        0.00016903, 0.        , 0.00016903, 0.        , 0.00016903,\n",
       "        0.        , 0.        , 0.        , 0.        , 0.        ,\n",
       "        0.        , 0.00033807, 0.00016903, 0.        ]),\n",
       " array([  0.,   2.,   4.,   6.,   8.,  10.,  12.,  14.,  16.,  18.,  20.,\n",
       "         22.,  24.,  26.,  28.,  30.,  32.,  34.,  36.,  38.,  40.,  42.,\n",
       "         44.,  46.,  48.,  50.,  52.,  54.,  56.,  58.,  60.,  62.,  64.,\n",
       "         66.,  68.,  70.,  72.,  74.,  76.,  78.,  80.,  82.,  84.,  86.,\n",
       "         88.,  90.,  92.,  94.,  96.,  98., 100., 102., 104., 106., 108.,\n",
       "        110., 112., 114., 116., 118., 120., 122., 124., 126., 128., 130.,\n",
       "        132., 134., 136., 138., 140., 142., 144., 146., 148., 150., 152.,\n",
       "        154., 156., 158., 160., 162., 164., 166., 168., 170., 172., 174.,\n",
       "        176., 178., 180., 182., 184., 186., 188., 190., 192., 194., 196.,\n",
       "        198.]),\n",
       " <a list of 99 Patch objects>)"
      ]
     },
     "execution_count": 33,
     "metadata": {},
     "output_type": "execute_result"
    },
    {
     "data": {
      "image/png": "[encoded data removed]",
      "text/plain": [
       "<Figure size 432x288 with 1 Axes>"
      ]
     },
     "metadata": {},
     "output_type": "display_data"
    }
   ],
   "source": [
    "plt.hist(nyt_sent_len_std,   bins = [i/1. for i in list(range(0,200,2))], normed = True, alpha=0.7)\n",
    "plt.hist(breit_sent_len_std, bins = [i/1. for i in list(range(0,200,2))], normed = True, alpha = 0.7)\n",
    "plt.hist(wapo_sent_len_std,  bins = [i/1. for i in list(range(0,200,2))], normed = True, alpha = 0.7)"
   ]
  },
  {
   "cell_type": "code",
   "execution_count": 43,
   "metadata": {},
   "outputs": [],
   "source": [
    "from sklearn import tree\n",
    "X = [[0, 0], [1, 1]]\n",
    "Y = [0, 1]\n",
    "clf = tree.DecisionTreeClassifier()\n",
    "clf = clf.fit(X, Y)"
   ]
  },
  {
   "cell_type": "code",
   "execution_count": 47,
   "metadata": {},
   "outputs": [],
   "source": [
    "#join data\n",
    "wc = nyt_wc + breit_wc + wapo_wc\n",
    "sent_len = nyt_sent_len + breit_sent_len + wapo_sent_len\n",
    "sent_len_std = nyt_sent_len_std + breit_sent_len_std + wapo_sent_len_std\n",
    "unique_word_frac = nyt_unique_word_frac + breit_unique_word_frac + wapo_unique_word_frac\n",
    "word_len = nyt_word_len + breit_word_len + wapo_word_len\n",
    "#print(len(wc), len(word_length))"
   ]
  },
  {
   "cell_type": "code",
   "execution_count": 90,
   "metadata": {},
   "outputs": [],
   "source": [
    "#combine features\n",
    "X = [[i, j,k,l,m] for i, j,k,l,m in zip( wc, sent_len, sent_len_std, unique_word_frac, word_len)]"
   ]
  },
  {
   "cell_type": "code",
   "execution_count": 91,
   "metadata": {},
   "outputs": [
    {
     "name": "stdout",
     "output_type": "stream",
     "text": [
      "5988\n"
     ]
    }
   ],
   "source": [
    "#labels\n",
    "Y = [0 for i in range(len(nyt_wc))] + [1 for i in range(len(breit_wc))]# + [2 for i in range(len(wapo_wc))]\n",
    "print(len(Y))"
   ]
  },
  {
   "cell_type": "code",
   "execution_count": 92,
   "metadata": {},
   "outputs": [],
   "source": [
    "#test train split\n",
    "from sklearn.model_selection import train_test_split\n",
    "\n",
    "X_train, X_test, y_train, y_test = train_test_split(X[:len(Y)], Y, test_size=0.33, random_state=42)"
   ]
  },
  {
   "cell_type": "code",
   "execution_count": 93,
   "metadata": {},
   "outputs": [],
   "source": [
    "clf = tree.DecisionTreeClassifier()\n",
    "clf = clf.fit(X_train, y_train)"
   ]
  },
  {
   "cell_type": "code",
   "execution_count": 94,
   "metadata": {},
   "outputs": [],
   "source": [
    "y_pred = clf.predict(X_test)"
   ]
  },
  {
   "cell_type": "code",
   "execution_count": 95,
   "metadata": {},
   "outputs": [],
   "source": [
    "conf_mat = np.zeros((3,3))\n",
    "for pred, true in zip(y_pred, y_test):\n",
    "    conf_mat[pred,true] += 1./len(y_pred)"
   ]
  },
  {
   "cell_type": "code",
   "execution_count": 96,
   "metadata": {},
   "outputs": [
    {
     "name": "stdout",
     "output_type": "stream",
     "text": [
      "[[0.40263025 0.12190187 0.        ]\n",
      " [0.1198786  0.35558928 0.        ]\n",
      " [0.         0.         0.        ]] 0.9999999999999927\n"
     ]
    },
    {
     "data": {
      "image/png": "[encoded data removed]",
      "text/plain": [
       "<Figure size 432x288 with 2 Axes>"
      ]
     },
     "metadata": {},
     "output_type": "display_data"
    }
   ],
   "source": [
    "plt.imshow(conf_mat)\n",
    "plt.colorbar()\n",
    "print(conf_mat, np.sum(conf_mat))"
   ]
  },
  {
   "cell_type": "code",
   "execution_count": 57,
   "metadata": {},
   "outputs": [],
   "source": [
    "total_df = 0"
   ]
  },
  {
   "cell_type": "code",
   "execution_count": 59,
   "metadata": {},
   "outputs": [],
   "source": [
    "#import graphviz \n",
    "#dot_data = tree.export_graphviz(clf, out_file='graph') \n",
    "#graph = graphviz.Source(dot_data) \n",
    "#graph.render(\"iris\") "
   ]
  },
  {
   "cell_type": "code",
   "execution_count": null,
   "metadata": {},
   "outputs": [],
   "source": [
    "print(wapo_collect[0])"
   ]
  },
  {
   "cell_type": "code",
   "execution_count": null,
   "metadata": {},
   "outputs": [],
   "source": []
  },
  {
   "cell_type": "code",
   "execution_count": null,
   "metadata": {},
   "outputs": [],
   "source": []
  },
  {
   "cell_type": "code",
   "execution_count": null,
   "metadata": {},
   "outputs": [],
   "source": []
  },
  {
   "cell_type": "code",
   "execution_count": null,
   "metadata": {},
   "outputs": [],
   "source": []
  },
  {
   "cell_type": "code",
   "execution_count": null,
   "metadata": {},
   "outputs": [],
   "source": [
    "#get content column into list\n",
    "article_list = total_df['content'].tolist()\n",
    "print(article_list[:10])"
   ]
  },
  {
   "cell_type": "code",
   "execution_count": null,
   "metadata": {},
   "outputs": [],
   "source": [
    "word_count_list = [len(text.split()) for text in article_list[:10000]]\n",
    "print(word_count_list[:100])"
   ]
  },
  {
   "cell_type": "code",
   "execution_count": null,
   "metadata": {},
   "outputs": [],
   "source": [
    "translator = str.maketrans('', '', string.punctuation)\n",
    "unique_word_list = [set(text.lower().translate(translator).split()) for text in article_list[:10000]]\n",
    "print(unique_word_list[:1])\n",
    "#df.loc[row, column] = pd.DataFrame({'fake_key': list})"
   ]
  },
  {
   "cell_type": "markdown",
   "metadata": {},
   "source": [
    "ADD WORDCOUNT COLUMN"
   ]
  },
  {
   "cell_type": "code",
   "execution_count": null,
   "metadata": {},
   "outputs": [],
   "source": [
    "def word_count(pub_name):\n",
    "    total_df.loc[total_df['publication'] == pub_name, 'word_count'] = total_df.loc[total_df['publication'] == pub_name, 'content'].str.split().str.len()\n",
    "    #nyt_group['word_count'] = nyt_group['content'].str.split().str.len()\n",
    "    #print(nyt_group.head(10))\n",
    "    print(list(total_df))\n",
    "    #print(total_df.loc[total_df['publication'] == pub_name])"
   ]
  },
  {
   "cell_type": "code",
   "execution_count": null,
   "metadata": {},
   "outputs": [],
   "source": [
    "word_count('Washington Post')\n",
    "word_count('New York Times')\n",
    "word_count('Vox')\n",
    "word_count('Fox News')\n",
    "#print(total_df.loc[total_df['publication'] == 'Washington Post']['word_count'].head(20))\n",
    "#wapo_group['word_count'] = wapo_group['content'].str.split().str.len()\n",
    "#print(wapo_group['word_count'].head(20))"
   ]
  },
  {
   "cell_type": "code",
   "execution_count": null,
   "metadata": {},
   "outputs": [],
   "source": [
    "print(total_df.groupby('publication')['word_count'].describe())"
   ]
  },
  {
   "cell_type": "markdown",
   "metadata": {},
   "source": [
    "ADD SENTENCE LENGTH COLUMN"
   ]
  },
  {
   "cell_type": "code",
   "execution_count": null,
   "metadata": {},
   "outputs": [],
   "source": [
    "def sentence_count(pub_name):\n",
    "    total_df.loc[total_df['publication'] == pub_name, 'sentence_count'] = total_df.loc[total_df['publication'] == pub_name]['content'].apply(lambda row: len(sent_detector.tokenize(row.strip())))\n",
    "    #nyt_group['word_count'] = nyt_group['content'].str.split().str.len()\n",
    "    #print(nyt_group.head(10))\n",
    "    print(list(total_df))\n",
    "    #print(total_df.loc[total_df['publication'] == pub_name])\n",
    "\n",
    "#nyt_group['sentence_count'] = nyt_group['content']\n",
    "#print(nyt_group.sentence_count)"
   ]
  },
  {
   "cell_type": "code",
   "execution_count": null,
   "metadata": {},
   "outputs": [],
   "source": [
    "sentence_count('Washington Post')\n",
    "sentence_count('New York Times')\n",
    "sentence_count('Vox')\n",
    "sentence_count('Fox News')\n",
    "#sentence_count('')"
   ]
  },
  {
   "cell_type": "code",
   "execution_count": null,
   "metadata": {},
   "outputs": [],
   "source": [
    "print(total_df.groupby('publication')['sentence_count'].describe())\n",
    "#print(total_df.head(2))"
   ]
  },
  {
   "cell_type": "code",
   "execution_count": null,
   "metadata": {},
   "outputs": [],
   "source": [
    "#plot word count vs sentence length\n",
    "#total_df.groupby('publication').plot(x='word_count', y='sentence_count', style='o')\n",
    "plt.scatter(total_df.loc[total_df['publication'] == 'New York Times','word_count'], total_df.loc[total_df['publication'] == 'New York Times','sentence_count'])\n",
    "plt.scatter(total_df.loc[total_df['publication'] == 'Washington Post','word_count'], total_df.loc[total_df['publication'] == 'Washington Post','sentence_count'])\n",
    "plt.scatter(total_df.loc[total_df['publication'] == 'Vox','word_count'], total_df.loc[total_df['publication'] == 'Vox','sentence_count'])\n",
    "plt.scatter(total_df.loc[total_df['publication'] == 'Fox News','word_count'], total_df.loc[total_df['publication'] == 'Fox News','sentence_count'])\n",
    "\n",
    "plt.xlim((0,5000))\n",
    "\n",
    "plt.ylim((0,200))\n",
    "plt.show()"
   ]
  },
  {
   "cell_type": "code",
   "execution_count": null,
   "metadata": {},
   "outputs": [],
   "source": [
    "#total_df['unique_word_count'] = 0"
   ]
  },
  {
   "cell_type": "code",
   "execution_count": null,
   "metadata": {},
   "outputs": [],
   "source": [
    "def unique_word_count(pub_name):\n",
    "    col_name = 'unique_word_count'\n",
    "    total_df.loc[total_df['publication'] == pub_name, col_name] = total_df.loc[total_df['publication'] == pub_name]['content'].apply(lambda row: len(set(row.lower().split())))\n",
    "    #nyt_group['word_count'] = nyt_group['content'].str.split().str.len()\n",
    "    #print(nyt_group.head(10))\n",
    "    print(list(total_df))\n",
    "    #print(total_df.loc[total_df['publication'] == pub_name])\n",
    "\n",
    "#nyt_group['sentence_count'] = nyt_group['content']\n",
    "#print(nyt_group.sentence_count)"
   ]
  },
  {
   "cell_type": "code",
   "execution_count": null,
   "metadata": {},
   "outputs": [],
   "source": [
    "#unique_word_count('New York Times')\n",
    "#unique_word_count('Vox')\n",
    "#unique_word_count('Washington Post')\n",
    "unique_word_count('Fox News')\n",
    "print(total_df.groupby('publication')['unique_word_count'].describe())"
   ]
  },
  {
   "cell_type": "code",
   "execution_count": null,
   "metadata": {},
   "outputs": [],
   "source": [
    "#total_df.groupby('publication').plot(x='word_count', y='sentence_count', style='o')\n",
    "plt.scatter(total_df.loc[total_df['publication'] == 'New York Times','sentence_count'], total_df.loc[total_df['publication'] == 'New York Times','unique_word_count'], s=4)\n",
    "plt.scatter(total_df.loc[total_df['publication'] == 'Washington Post','sentence_count'], total_df.loc[total_df['publication'] == 'Washington Post','unique_word_count'], s=4)\n",
    "plt.scatter(total_df.loc[total_df['publication'] == 'Vox','sentence_count'], total_df.loc[total_df['publication'] == 'Vox','unique_word_count'], s=4)\n",
    "plt.scatter(total_df.loc[total_df['publication'] == 'Fox News','sentence_count'], total_df.loc[total_df['publication'] == 'Fox News','unique_word_count'], s=4)\n",
    "\n",
    "plt.xlim((0,200))\n",
    "\n",
    "plt.ylim((0,1000))\n",
    "plt.show()"
   ]
  },
  {
   "cell_type": "code",
   "execution_count": null,
   "metadata": {},
   "outputs": [],
   "source": []
  },
  {
   "cell_type": "code",
   "execution_count": null,
   "metadata": {
    "scrolled": true
   },
   "outputs": [],
   "source": []
  },
  {
   "cell_type": "code",
   "execution_count": null,
   "metadata": {},
   "outputs": [],
   "source": [
    "#sub_df_max_wordcount = sub_df\n",
    "total_df.groupby('publication')['word_count'].hist(bins = 100, alpha = 0.5, normed = True)"
   ]
  },
  {
   "cell_type": "code",
   "execution_count": null,
   "metadata": {},
   "outputs": [],
   "source": []
  }
 ],
 "metadata": {
  "kernelspec": {
   "display_name": "Python 3",
   "language": "python",
   "name": "python3"
  },
  "language_info": {
   "codemirror_mode": {
    "name": "ipython",
    "version": 3
   },
   "file_extension": ".py",
   "mimetype": "text/x-python",
   "name": "python",
   "nbconvert_exporter": "python",
   "pygments_lexer": "ipython3",
   "version": "3.6.5"
  }
 },
 "nbformat": 4,
 "nbformat_minor": 2
}
