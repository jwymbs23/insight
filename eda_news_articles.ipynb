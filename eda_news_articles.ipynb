{
 "cells": [
  {
   "cell_type": "code",
   "execution_count": 98,
   "metadata": {},
   "outputs": [],
   "source": [
    "import pandas as pd\n",
    "import numpy\n",
    "import matplotlib.pyplot as plt\n",
    "import seaborn as sns\n",
    "%matplotlib inline\n",
    "\n",
    "import pickle\n",
    "import string\n",
    "import numpy as np\n",
    "import random\n",
    "from collections import Counter"
   ]
  },
  {
   "cell_type": "code",
   "execution_count": 99,
   "metadata": {},
   "outputs": [
    {
     "ename": "AttributeError",
     "evalue": "module 'nltk' has no attribute 'data'",
     "output_type": "error",
     "traceback": [
      "\u001b[0;31m---------------------------------------------------------------------------\u001b[0m",
      "\u001b[0;31mAttributeError\u001b[0m                            Traceback (most recent call last)",
      "\u001b[0;32m<ipython-input-99-a81497e2e5fe>\u001b[0m in \u001b[0;36m<module>\u001b[0;34m()\u001b[0m\n\u001b[0;32m----> 1\u001b[0;31m \u001b[0;32mimport\u001b[0m \u001b[0mnltk\u001b[0m\u001b[0;34m\u001b[0m\u001b[0m\n\u001b[0m\u001b[1;32m      2\u001b[0m \u001b[0;31m#nltk.download('averaged_perceptron_tagger')\u001b[0m\u001b[0;34m\u001b[0m\u001b[0;34m\u001b[0m\u001b[0m\n\u001b[1;32m      3\u001b[0m \u001b[0mnltk\u001b[0m\u001b[0;34m.\u001b[0m\u001b[0mdownload\u001b[0m\u001b[0;34m(\u001b[0m\u001b[0;34m'tagsets'\u001b[0m\u001b[0;34m)\u001b[0m\u001b[0;34m\u001b[0m\u001b[0m\n\u001b[1;32m      4\u001b[0m \u001b[0;31m#nltk.download('cmudict')\u001b[0m\u001b[0;34m\u001b[0m\u001b[0;34m\u001b[0m\u001b[0m\n\u001b[1;32m      5\u001b[0m \u001b[0;34m\u001b[0m\u001b[0m\n",
      "\u001b[0;32m~/anaconda3/envs/insight/lib/python3.6/site-packages/nltk/__init__.py\u001b[0m in \u001b[0;36m<module>\u001b[0;34m()\u001b[0m\n\u001b[1;32m    135\u001b[0m \u001b[0;32mfrom\u001b[0m \u001b[0mnltk\u001b[0m\u001b[0;34m.\u001b[0m\u001b[0mtranslate\u001b[0m \u001b[0;32mimport\u001b[0m \u001b[0;34m*\u001b[0m\u001b[0;34m\u001b[0m\u001b[0m\n\u001b[1;32m    136\u001b[0m \u001b[0;32mfrom\u001b[0m \u001b[0mnltk\u001b[0m\u001b[0;34m.\u001b[0m\u001b[0msem\u001b[0m \u001b[0;32mimport\u001b[0m \u001b[0;34m*\u001b[0m\u001b[0;34m\u001b[0m\u001b[0m\n\u001b[0;32m--> 137\u001b[0;31m \u001b[0;32mfrom\u001b[0m \u001b[0mnltk\u001b[0m\u001b[0;34m.\u001b[0m\u001b[0mstem\u001b[0m \u001b[0;32mimport\u001b[0m \u001b[0;34m*\u001b[0m\u001b[0;34m\u001b[0m\u001b[0m\n\u001b[0m\u001b[1;32m    138\u001b[0m \u001b[0;34m\u001b[0m\u001b[0m\n\u001b[1;32m    139\u001b[0m \u001b[0;31m# Packages which can be lazily imported\u001b[0m\u001b[0;34m\u001b[0m\u001b[0;34m\u001b[0m\u001b[0m\n",
      "\u001b[0;32m~/anaconda3/envs/insight/lib/python3.6/site-packages/nltk/stem/__init__.py\u001b[0m in \u001b[0;36m<module>\u001b[0;34m()\u001b[0m\n\u001b[1;32m     27\u001b[0m \u001b[0;32mfrom\u001b[0m \u001b[0mnltk\u001b[0m\u001b[0;34m.\u001b[0m\u001b[0mstem\u001b[0m\u001b[0;34m.\u001b[0m\u001b[0misri\u001b[0m \u001b[0;32mimport\u001b[0m \u001b[0mISRIStemmer\u001b[0m\u001b[0;34m\u001b[0m\u001b[0m\n\u001b[1;32m     28\u001b[0m \u001b[0;32mfrom\u001b[0m \u001b[0mnltk\u001b[0m\u001b[0;34m.\u001b[0m\u001b[0mstem\u001b[0m\u001b[0;34m.\u001b[0m\u001b[0mporter\u001b[0m \u001b[0;32mimport\u001b[0m \u001b[0mPorterStemmer\u001b[0m\u001b[0;34m\u001b[0m\u001b[0m\n\u001b[0;32m---> 29\u001b[0;31m \u001b[0;32mfrom\u001b[0m \u001b[0mnltk\u001b[0m\u001b[0;34m.\u001b[0m\u001b[0mstem\u001b[0m\u001b[0;34m.\u001b[0m\u001b[0msnowball\u001b[0m \u001b[0;32mimport\u001b[0m \u001b[0mSnowballStemmer\u001b[0m\u001b[0;34m\u001b[0m\u001b[0m\n\u001b[0m\u001b[1;32m     30\u001b[0m \u001b[0;32mfrom\u001b[0m \u001b[0mnltk\u001b[0m\u001b[0;34m.\u001b[0m\u001b[0mstem\u001b[0m\u001b[0;34m.\u001b[0m\u001b[0mwordnet\u001b[0m \u001b[0;32mimport\u001b[0m \u001b[0mWordNetLemmatizer\u001b[0m\u001b[0;34m\u001b[0m\u001b[0m\n\u001b[1;32m     31\u001b[0m \u001b[0;32mfrom\u001b[0m \u001b[0mnltk\u001b[0m\u001b[0;34m.\u001b[0m\u001b[0mstem\u001b[0m\u001b[0;34m.\u001b[0m\u001b[0mrslp\u001b[0m \u001b[0;32mimport\u001b[0m \u001b[0mRSLPStemmer\u001b[0m\u001b[0;34m\u001b[0m\u001b[0m\n",
      "\u001b[0;32m~/anaconda3/envs/insight/lib/python3.6/site-packages/nltk/stem/snowball.py\u001b[0m in \u001b[0;36m<module>\u001b[0;34m()\u001b[0m\n\u001b[1;32m     30\u001b[0m \u001b[0;34m\u001b[0m\u001b[0m\n\u001b[1;32m     31\u001b[0m \u001b[0;32mfrom\u001b[0m \u001b[0mnltk\u001b[0m \u001b[0;32mimport\u001b[0m \u001b[0mcompat\u001b[0m\u001b[0;34m\u001b[0m\u001b[0m\n\u001b[0;32m---> 32\u001b[0;31m \u001b[0;32mfrom\u001b[0m \u001b[0mnltk\u001b[0m\u001b[0;34m.\u001b[0m\u001b[0mcorpus\u001b[0m \u001b[0;32mimport\u001b[0m \u001b[0mstopwords\u001b[0m\u001b[0;34m\u001b[0m\u001b[0m\n\u001b[0m\u001b[1;32m     33\u001b[0m \u001b[0;32mfrom\u001b[0m \u001b[0mnltk\u001b[0m\u001b[0;34m.\u001b[0m\u001b[0mstem\u001b[0m \u001b[0;32mimport\u001b[0m \u001b[0mporter\u001b[0m\u001b[0;34m\u001b[0m\u001b[0m\n\u001b[1;32m     34\u001b[0m \u001b[0;32mfrom\u001b[0m \u001b[0mnltk\u001b[0m\u001b[0;34m.\u001b[0m\u001b[0mstem\u001b[0m\u001b[0;34m.\u001b[0m\u001b[0mutil\u001b[0m \u001b[0;32mimport\u001b[0m \u001b[0msuffix_replace\u001b[0m\u001b[0;34m,\u001b[0m \u001b[0mprefix_replace\u001b[0m\u001b[0;34m\u001b[0m\u001b[0m\n",
      "\u001b[0;32m~/anaconda3/envs/insight/lib/python3.6/site-packages/nltk/corpus/__init__.py\u001b[0m in \u001b[0;36m<module>\u001b[0;34m()\u001b[0m\n\u001b[1;32m     64\u001b[0m \u001b[0;32mfrom\u001b[0m \u001b[0mnltk\u001b[0m\u001b[0;34m.\u001b[0m\u001b[0mtokenize\u001b[0m \u001b[0;32mimport\u001b[0m \u001b[0mRegexpTokenizer\u001b[0m\u001b[0;34m\u001b[0m\u001b[0m\n\u001b[1;32m     65\u001b[0m \u001b[0;32mfrom\u001b[0m \u001b[0mnltk\u001b[0m\u001b[0;34m.\u001b[0m\u001b[0mcorpus\u001b[0m\u001b[0;34m.\u001b[0m\u001b[0mutil\u001b[0m \u001b[0;32mimport\u001b[0m \u001b[0mLazyCorpusLoader\u001b[0m\u001b[0;34m\u001b[0m\u001b[0m\n\u001b[0;32m---> 66\u001b[0;31m \u001b[0;32mfrom\u001b[0m \u001b[0mnltk\u001b[0m\u001b[0;34m.\u001b[0m\u001b[0mcorpus\u001b[0m\u001b[0;34m.\u001b[0m\u001b[0mreader\u001b[0m \u001b[0;32mimport\u001b[0m \u001b[0;34m*\u001b[0m\u001b[0;34m\u001b[0m\u001b[0m\n\u001b[0m\u001b[1;32m     67\u001b[0m \u001b[0;34m\u001b[0m\u001b[0m\n\u001b[1;32m     68\u001b[0m abc = LazyCorpusLoader(\n",
      "\u001b[0;32m~/anaconda3/envs/insight/lib/python3.6/site-packages/nltk/corpus/reader/__init__.py\u001b[0m in \u001b[0;36m<module>\u001b[0;34m()\u001b[0m\n\u001b[1;32m     54\u001b[0m \"\"\"\n\u001b[1;32m     55\u001b[0m \u001b[0;34m\u001b[0m\u001b[0m\n\u001b[0;32m---> 56\u001b[0;31m \u001b[0;32mfrom\u001b[0m \u001b[0mnltk\u001b[0m\u001b[0;34m.\u001b[0m\u001b[0mcorpus\u001b[0m\u001b[0;34m.\u001b[0m\u001b[0mreader\u001b[0m\u001b[0;34m.\u001b[0m\u001b[0mplaintext\u001b[0m \u001b[0;32mimport\u001b[0m \u001b[0;34m*\u001b[0m\u001b[0;34m\u001b[0m\u001b[0m\n\u001b[0m\u001b[1;32m     57\u001b[0m \u001b[0;32mfrom\u001b[0m \u001b[0mnltk\u001b[0m\u001b[0;34m.\u001b[0m\u001b[0mcorpus\u001b[0m\u001b[0;34m.\u001b[0m\u001b[0mreader\u001b[0m\u001b[0;34m.\u001b[0m\u001b[0mutil\u001b[0m \u001b[0;32mimport\u001b[0m \u001b[0;34m*\u001b[0m\u001b[0;34m\u001b[0m\u001b[0m\n\u001b[1;32m     58\u001b[0m \u001b[0;32mfrom\u001b[0m \u001b[0mnltk\u001b[0m\u001b[0;34m.\u001b[0m\u001b[0mcorpus\u001b[0m\u001b[0;34m.\u001b[0m\u001b[0mreader\u001b[0m\u001b[0;34m.\u001b[0m\u001b[0mapi\u001b[0m \u001b[0;32mimport\u001b[0m \u001b[0;34m*\u001b[0m\u001b[0;34m\u001b[0m\u001b[0m\n",
      "\u001b[0;32m~/anaconda3/envs/insight/lib/python3.6/site-packages/nltk/corpus/reader/plaintext.py\u001b[0m in \u001b[0;36m<module>\u001b[0;34m()\u001b[0m\n\u001b[1;32m     21\u001b[0m \u001b[0;32mfrom\u001b[0m \u001b[0mnltk\u001b[0m\u001b[0;34m.\u001b[0m\u001b[0mcorpus\u001b[0m\u001b[0;34m.\u001b[0m\u001b[0mreader\u001b[0m\u001b[0;34m.\u001b[0m\u001b[0mapi\u001b[0m \u001b[0;32mimport\u001b[0m \u001b[0;34m*\u001b[0m\u001b[0;34m\u001b[0m\u001b[0m\n\u001b[1;32m     22\u001b[0m \u001b[0;34m\u001b[0m\u001b[0m\n\u001b[0;32m---> 23\u001b[0;31m \u001b[0;32mclass\u001b[0m \u001b[0mPlaintextCorpusReader\u001b[0m\u001b[0;34m(\u001b[0m\u001b[0mCorpusReader\u001b[0m\u001b[0;34m)\u001b[0m\u001b[0;34m:\u001b[0m\u001b[0;34m\u001b[0m\u001b[0m\n\u001b[0m\u001b[1;32m     24\u001b[0m     \"\"\"\n\u001b[1;32m     25\u001b[0m     \u001b[0mReader\u001b[0m \u001b[0;32mfor\u001b[0m \u001b[0mcorpora\u001b[0m \u001b[0mthat\u001b[0m \u001b[0mconsist\u001b[0m \u001b[0mof\u001b[0m \u001b[0mplaintext\u001b[0m \u001b[0mdocuments\u001b[0m\u001b[0;34m.\u001b[0m  \u001b[0mParagraphs\u001b[0m\u001b[0;34m\u001b[0m\u001b[0m\n",
      "\u001b[0;32m~/anaconda3/envs/insight/lib/python3.6/site-packages/nltk/corpus/reader/plaintext.py\u001b[0m in \u001b[0;36mPlaintextCorpusReader\u001b[0;34m()\u001b[0m\n\u001b[1;32m     40\u001b[0m     def __init__(self, root, fileids,\n\u001b[1;32m     41\u001b[0m                  \u001b[0mword_tokenizer\u001b[0m\u001b[0;34m=\u001b[0m\u001b[0mWordPunctTokenizer\u001b[0m\u001b[0;34m(\u001b[0m\u001b[0;34m)\u001b[0m\u001b[0;34m,\u001b[0m\u001b[0;34m\u001b[0m\u001b[0m\n\u001b[0;32m---> 42\u001b[0;31m                  sent_tokenizer=nltk.data.LazyLoader(\n\u001b[0m\u001b[1;32m     43\u001b[0m                      'tokenizers/punkt/english.pickle'),\n\u001b[1;32m     44\u001b[0m                  \u001b[0mpara_block_reader\u001b[0m\u001b[0;34m=\u001b[0m\u001b[0mread_blankline_block\u001b[0m\u001b[0;34m,\u001b[0m\u001b[0;34m\u001b[0m\u001b[0m\n",
      "\u001b[0;31mAttributeError\u001b[0m: module 'nltk' has no attribute 'data'"
     ]
    }
   ],
   "source": [
    "import nltk\n",
    "#nltk.download('averaged_perceptron_tagger')\n",
    "nltk.download('tagsets')\n",
    "#nltk.download('cmudict')\n",
    "\n",
    "nltk.help.upenn_tagset()\n"
   ]
  },
  {
   "cell_type": "code",
   "execution_count": null,
   "metadata": {},
   "outputs": [],
   "source": [
    "#import nltk\n",
    "#nltk.download('punkt')"
   ]
  },
  {
   "cell_type": "code",
   "execution_count": null,
   "metadata": {},
   "outputs": [],
   "source": [
    "from nltk.tokenize import sent_tokenize\n",
    "from nltk.sentiment import SentimentIntensityAnalyzer\n",
    "nltk.download('vader_lexicon')\n",
    "\n",
    "sid = SentimentIntensityAnalyzer()\n",
    "import nltk.data\n",
    "sent_detector = nltk.data.load('tokenizers/punkt/english.pickle')\n",
    "\n",
    "from nltk.tag.stanford import StanfordPOSTagger"
   ]
  },
  {
   "cell_type": "markdown",
   "metadata": {},
   "source": [
    "# Can skip ahead if you're just dealing with nyt, breit, wapo test data"
   ]
  },
  {
   "cell_type": "code",
   "execution_count": null,
   "metadata": {},
   "outputs": [],
   "source": [
    "try:\n",
    "    total_df = pd.read_pickle('total_df.p')\n",
    "except:\n",
    "    df_1 = pd.read_csv('articles1.csv')\n",
    "    df_2 = pd.read_csv('articles2.csv')\n",
    "    df_3 = pd.read_csv('articles3.csv')\n",
    "    #print(df_1.head(1))\n",
    "    print(df_1.shape)\n",
    "\n",
    "    #print(df_1.publication.unique())\n",
    "    #print(df_2.publication.unique())\n",
    "    #print(df_3.publication.unique())\n",
    "    #merge dataframes\n",
    "    total_df = pd.concat([df_1, df_2, df_3])\n",
    "    df_1 = 0\n",
    "    df_2 = 0\n",
    "    df_3 = 0\n",
    "    total_df['sentence_count'] = 0\n",
    "    total_df['word_count'] = 0\n",
    "    total_df.to_pickle('total_df.p')\n",
    "publication_names = total_df.publication.unique()"
   ]
  },
  {
   "cell_type": "code",
   "execution_count": null,
   "metadata": {},
   "outputs": [],
   "source": [
    "total_df.publication.value_counts().plot(kind='bar')"
   ]
  },
  {
   "cell_type": "code",
   "execution_count": null,
   "metadata": {},
   "outputs": [],
   "source": [
    "#print(list(total_df))\n",
    "#print(total_df.loc[total_df['publication'] == 'New York Times']['title'])"
   ]
  },
  {
   "cell_type": "code",
   "execution_count": null,
   "metadata": {},
   "outputs": [],
   "source": [
    "#nyt_list = total_df.loc[total_df['publication'] == 'New York Times']['content'].tolist()\n",
    "nyt_df = total_df.loc[total_df['publication'] == 'New York Times']\n",
    "nyt_semic = nyt_df[nyt_df['content'].str.contains(\";\")]\n",
    "#breit_list = total_df.loc[total_df['publication'] == 'Breitbart']['content'].tolist()\n",
    "#wapo_list = total_df.loc[total_df['publication'] == 'Washington Post']['content'].tolist()"
   ]
  },
  {
   "cell_type": "code",
   "execution_count": null,
   "metadata": {},
   "outputs": [],
   "source": [
    "print(nyt_semic.shape)"
   ]
  },
  {
   "cell_type": "code",
   "execution_count": null,
   "metadata": {},
   "outputs": [],
   "source": [
    "def rand_list(num_articles):\n",
    "    return [random.random() for _ in range(num_articles)]"
   ]
  },
  {
   "cell_type": "code",
   "execution_count": null,
   "metadata": {},
   "outputs": [],
   "source": [
    "def get_id_content_list(pubname, num_articles):\n",
    "    min_length_cutoff = 50\n",
    "    df_cont_list = total_df.loc[total_df['publication'] == pubname]['content'].tolist()\n",
    "    df_id_list = total_df.loc[total_df['publication'] == pubname]['id'].tolist()\n",
    "    df_id_list = [i for ci, i in enumerate(df_id_list) if len(df_cont_list[ci]) > min_length_cutoff]\n",
    "    df_cont_list = [i for i in df_cont_list if len(i) > min_length_cutoff]\n",
    "    num_articles_in_set = len(df_id_list)\n",
    "    num_rand_to_get = num_articles_in_set if num_articles > num_articles_in_set else num_articles\n",
    "    if num_articles > num_articles_in_set:\n",
    "        print('Warning!', pubname, 'only has ', str(len(df_id_list)), ' articles, but you are asking for ', str(num_articles))\n",
    "    random_num_list = rand_list(num_articles_in_set)\n",
    "    cont_list = [i for ci,i in enumerate(df_cont_list) if random_num_list[ci] > 1-num_rand_to_get/num_articles_in_set]\n",
    "    id_list =   [i for ci,i in enumerate(df_id_list)   if random_num_list[ci] > 1-num_rand_to_get/num_articles_in_set]\n",
    "    return cont_list, id_list"
   ]
  },
  {
   "cell_type": "code",
   "execution_count": null,
   "metadata": {},
   "outputs": [],
   "source": [
    "def prepare_text(publication_content_list):\n",
    "    if type(publication_content_list) is not list:\n",
    "        publication_content_list = [publication_content_list]\n",
    "    #lower case text\n",
    "    lower_case = [text.strip().lower() for text in publication_content_list]\n",
    "    #replace strange quote characters with normal ones \n",
    "    replace_quotes = [text.replace('“', '\"').replace('”', '\"') for text in lower_case]\n",
    "    #do punkt sentence tokenization\n",
    "    sentence_tokenize = [sent_detector.tokenize(text.strip()) for text in replace_quotes]\n",
    "    #do nltk word tokenization\n",
    "    word_tokenize = [nltk.word_tokenize(text) for text in replace_quotes]\n",
    "    #get unique string counts\n",
    "    string_counts = [Counter(text) for text in word_tokenize]\n",
    "    return sentence_tokenize, word_tokenize, string_counts"
   ]
  },
  {
   "cell_type": "code",
   "execution_count": null,
   "metadata": {},
   "outputs": [],
   "source": [
    "num_articles = 5000\n",
    "\n",
    "nyt_list, nyt_id = get_id_content_list('New York Times', num_articles)\n",
    "guard_list, guard_id = get_id_content_list('Guardian', num_articles)\n",
    "breit_list, breit_id = get_id_content_list('Breitbart', num_articles)\n",
    "wapo_list, wapo_id = get_id_content_list('Washington Post', num_articles)\n",
    "print(len(nyt_list), len(breit_list), len(wapo_list))\n",
    "print(nyt_list[0][:200], nyt_id[0], guard_list[0][:200])"
   ]
  },
  {
   "cell_type": "code",
   "execution_count": null,
   "metadata": {},
   "outputs": [],
   "source": [
    "nyt_sent, nyt_word, nyt_string_count = prepare_text(nyt_list)"
   ]
  },
  {
   "cell_type": "code",
   "execution_count": null,
   "metadata": {},
   "outputs": [],
   "source": [
    "breit_sent, breit_word, breit_string_count = prepare_text(breit_list)"
   ]
  },
  {
   "cell_type": "code",
   "execution_count": null,
   "metadata": {},
   "outputs": [],
   "source": [
    "wapo_sent, wapo_word, wapo_string_count = prepare_text(wapo_list)"
   ]
  },
  {
   "cell_type": "code",
   "execution_count": null,
   "metadata": {},
   "outputs": [],
   "source": [
    "guard_sent, guard_word, guard_string_count = prepare_text(guard_list)"
   ]
  },
  {
   "cell_type": "code",
   "execution_count": null,
   "metadata": {},
   "outputs": [],
   "source": [
    "pickle.dump( ['nyt', nyt_id, nyt_sent, nyt_word, nyt_string_count], open( \"nyt_tokenized_strings.p\", \"wb\" ) )\n",
    "pickle.dump( ['breit', breit_id, breit_sent, breit_word, breit_string_count], open( \"breit_tokenized_strings.p\", \"wb\" ) )\n",
    "pickle.dump( ['wapo', wapo_id, wapo_sent, wapo_word, wapo_string_count], open( \"wapo_tokenized_strings.p\", \"wb\" ) )\n",
    "pickle.dump( ['guard', guard_id, guard_sent, guard_word, guard_string_count], open( \"guard_tokenized_strings.p\", \"wb\"))\n",
    "# ['breit', breit_sent, breit_word, breit_string_count],\n",
    "# ['wapo', wapo_sent, wapo_word, wapo_string_count]]"
   ]
  },
  {
   "cell_type": "markdown",
   "metadata": {},
   "source": [
    "# Can start here if you don't care about which articles you got, and you have the article pickle files"
   ]
  },
  {
   "cell_type": "code",
   "execution_count": 9,
   "metadata": {},
   "outputs": [],
   "source": [
    "#unpickle files\n",
    "pub, nyt_id, nyt_sent, nyt_word, nyt_string_count = pickle.load( open( \"nyt_tokenized_strings.p\", \"rb\" ) )\n",
    "pub, breit_id, breit_sent, breit_word, breit_string_count = pickle.load( open( \"breit_tokenized_strings.p\", \"rb\" ) )\n",
    "pub, wapo_id, wapo_sent, wapo_word, wapo_string_count = pickle.load( open( \"wapo_tokenized_strings.p\", \"rb\" ) )\n",
    "pub, guard_id, guard_sent, guard_word, guard_string_count = pickle.load( open( \"guard_tokenized_strings.p\", \"rb\" ) )"
   ]
  },
  {
   "cell_type": "code",
   "execution_count": null,
   "metadata": {},
   "outputs": [],
   "source": [
    "translator = str.maketrans('', '', string.punctuation + '”“')\n",
    "punctuation_set = set(string.punctuation + '”“')"
   ]
  },
  {
   "cell_type": "code",
   "execution_count": null,
   "metadata": {},
   "outputs": [],
   "source": [
    "stanford_pos = StanfordPOSTagger('postagger/models/english-bidirectional-distsim.tagger', 'postagger/stanford-postagger.jar')"
   ]
  },
  {
   "cell_type": "code",
   "execution_count": null,
   "metadata": {},
   "outputs": [],
   "source": [
    "arpabet = nltk.corpus.cmudict.dict()\n",
    "import textstat as ts\n",
    "from textstat.textstat import textstat\n",
    "print(textstat.flesch_reading_ease('hi, how are you?'))\n",
    "#get pronunciation of words\n",
    "#pro_words_1 = [(i, arpabet[i][0]) for i in sort_1 if i in arpabet]"
   ]
  },
  {
   "cell_type": "code",
   "execution_count": 100,
   "metadata": {},
   "outputs": [],
   "source": [
    "class Publication():\n",
    "    \n",
    "    def __init__(self, pub_id = '', pub_id_list = [], pub_sent = [], pub_word = [], pub_string_count = []):\n",
    "        self.publication_name = pub_id\n",
    "        self.id_list = pub_id_list\n",
    "        self.sent_tok = pub_sent\n",
    "        self.word_tok = pub_word\n",
    "        self.string_count = pub_string_count\n",
    "    \n",
    "    def calc_word_count(self):\n",
    "        self.word_count_punc = [len(text) for text in self.word_tok]\n",
    "        self.word_count = [len([word for word in text if word not in punctuation_set]) for text in self.word_tok]\n",
    "        \n",
    "    def calc_sent_count(self):\n",
    "        self.sent_count = [len(text) for text in self.sent_tok]\n",
    "        \n",
    "    def calc_sent_len(self):\n",
    "        if not self.word_count:\n",
    "            self.calc_word_count()\n",
    "        if not self.sent_count:\n",
    "            self.calc_sent_count\n",
    "        self.sent_len = [float(i/j) for i,j in zip(self.word_count, self.sent_count)]\n",
    "        \n",
    "    def calc_unique_words(self):\n",
    "        self.unique_wc = [len(set([word for word in text if word not in punctuation_set])) for text in self.word_tok]\n",
    "        self.unique_word_frac = [float(i/j) for i,j in zip(self.unique_wc, self.word_count)]\n",
    "\n",
    "    def calc_word_length(self):\n",
    "        self.word_len = [np.mean([len(word) for word in text if word not in punctuation_set]) for text in self.word_tok]\n",
    "\n",
    "    def calc_sent_len_std(self):\n",
    "        self.sent_len_std = [np.std([len(sent) for sent in text]) for text in self.sent_tok]\n",
    "        \n",
    "    def calc_punc_ps(self):\n",
    "        if not self.sent_count:\n",
    "            self.calc_sent_count()\n",
    "        self.cps = [float(counter[',']/sent_num) for counter, sent_num in zip(self.string_count, self.sent_count)]\n",
    "        self.qps = [float(counter['?']/sent_num) for counter, sent_num in zip(self.string_count, self.sent_count)]\n",
    "        self.exps = [float(counter['!']/sent_num) for counter, sent_num in zip(self.string_count, self.sent_count)]\n",
    "        self.said_ps = [float(counter['said']/sent_num) for counter, sent_num in zip(self.string_count, self.sent_count)]\n",
    "        self.but_ps = [float(counter['but']/sent_num) for counter, sent_num in zip(self.string_count, self.sent_count)]\n",
    "        self.and_ps = [float(counter['and']/sent_num) for counter, sent_num in zip(self.string_count, self.sent_count)]\n",
    "\n",
    "    def calc_pos_counts(self):\n",
    "        #tag text:\n",
    "        self.adverb_count = []\n",
    "        self.verb_count = []\n",
    "        self.adj_count = []\n",
    "        self.FW_count = []\n",
    "        for ci, article in enumerate(self.sent_tok):\n",
    "            if not ci%1000:\n",
    "                print(ci)\n",
    "            article_adverb_dict = {'RB': 0, 'RBR': 0, 'RBS': 0, 'WRB': 0}\n",
    "            article_verb_dict = {'VB': 0, 'VBD': 0, 'VBG': 0, 'VBN': 0 , 'VBZ': 0, 'VBP': 0}\n",
    "            article_adj_dict = {'JJ': 0, 'JJR': 0, 'JJS': 0}\n",
    "            article_FW = 0\n",
    "            for sentence in article:\n",
    "                #pos_tag = stanford_pos.tag([sentence])\n",
    "                pos_tag = nltk.pos_tag(nltk.word_tokenize(sentence))\n",
    "                #adverbs\n",
    "                for word in pos_tag:\n",
    "                    if 'RB' in word[1]:\n",
    "                        #print(word[0], word[1])\n",
    "                        #RB: adverb\n",
    "                        #    occasionally unabatingly maddeningly adventurously professedly\n",
    "                        #    stirringly prominently technologically magisterially predominately\n",
    "                        #    swiftly fiscally pitilessly ...\n",
    "                        #RBR: adverb, comparative\n",
    "                        #    further gloomier grander graver greater grimmer harder harsher\n",
    "                        #    healthier heavier higher however larger later leaner lengthier less-\n",
    "                        #    perfectly lesser lonelier longer louder lower more ...\n",
    "                        #RBS: adverb, superlative\n",
    "                        #    best biggest bluntest earliest farthest first furthest hardest\n",
    "                        #    heartiest highest largest least\n",
    "                        #WRB: what, where, who, when\n",
    "                        article_adverb_dict[word[1]] += 1\n",
    "                        #article_adv_count += 1\n",
    "                    if 'VB' in word[1]:\n",
    "                        #VB: verb, base form\n",
    "                        #    ask assemble assess assign assume atone attention avoid bake balkanize\n",
    "                        #    bank begin behold believe bend benefit bevel beware bless boil bomb\n",
    "                        #    boost brace break bring broil brush build ...\n",
    "                        #VBD: verb, past tense\n",
    "                        #    dipped pleaded swiped regummed soaked tidied convened halted registered\n",
    "                        #    cushioned exacted snubbed strode aimed adopted belied figgered\n",
    "                        #    speculated wore appreciated contemplated ...\n",
    "                        #VBG: verb, present participle or gerund\n",
    "                        #    telegraphing stirring focusing angering judging stalling lactating\n",
    "                        #    hankerin' alleging veering capping approaching traveling besieging\n",
    "                        #    encrypting interrupting erasing wincing ...\n",
    "                        #VBN: verb, past participle\n",
    "                        #    multihulled dilapidated aerosolized chaired languished panelized used\n",
    "                        #    experimented flourished imitated reunifed factored condensed sheared\n",
    "                        #    unsettled primed dubbed desired ...\n",
    "                        #VBP: verb, present tense, not 3rd person singular\n",
    "                        #    predominate wrap resort sue twist spill cure lengthen brush terminate\n",
    "                        #    appear tend stray glisten obtain comprise detest tease attract\n",
    "                        #    emphasize mold postpone sever return wag ...\n",
    "                        #VBZ: verb, present tense, 3rd person singular\n",
    "                        #    bases reconstructs marks mixes displeases seals carps weaves snatches\n",
    "                        #    slumps stretches authorizes smolders pictures emerges stockpiles\n",
    "                        #    seduces fizzes uses bolsters slaps speaks pleads\n",
    "                        article_verb_dict[word[1]] += 1\n",
    "                        #article_verb_count += 1\n",
    "                    if 'JJ' in word[1]:\n",
    "                        #JJ: adjective or numeral, ordinal\n",
    "                            #third ill-mannered pre-war regrettable oiled calamitous first separable\n",
    "                            #ectoplasmic battery-powered participatory fourth still-to-be-named\n",
    "                            #multilingual multi-disciplinary ...\n",
    "                        #JJR: adjective, comparative\n",
    "                            #bleaker braver breezier briefer brighter brisker broader bumper busier\n",
    "                            #calmer cheaper choosier cleaner clearer closer colder commoner costlier\n",
    "                            #cozier creamier crunchier cuter ...\n",
    "                        #JJS: adjective, superlative\n",
    "                            #calmest cheapest choicest classiest cleanest clearest closest commonest\n",
    "                            #corniest costliest crassest creepiest crudest cutest darkest deadliest\n",
    "                            #dearest deepest densest dinkiest ...\n",
    "                        article_adj_dict[word[1]] += 1\n",
    "                    if 'FW' == word[1]:\n",
    "                        #foreign word\n",
    "                        article_FW += 1\n",
    "            self.adverb_count.append(article_adverb_dict)\n",
    "            self.verb_count.append(article_verb_dict)\n",
    "            self.adj_count.append(article_adj_dict)\n",
    "            self.FW_count.append(article_FW)\n",
    "            #input()\n",
    "        #verb count:\n",
    "        \n",
    "        #noun count:\n",
    "            \n",
    "    def calc_sentiment_polarity(self):\n",
    "        self.sentiment_vec = []\n",
    "        for ci, article in enumerate(self.sent_tok):\n",
    "            if not ci%1000:\n",
    "                print(ci)\n",
    "            sentence_count = len(article)\n",
    "            #compound, positive, neutral, negative\n",
    "            document_score = [0,0,0,0]\n",
    "            for sentence in article:\n",
    "                #print(sentence)\n",
    "                ss = sid.polarity_scores(sentence)\n",
    "                document_score[0] += ss['compound']\n",
    "                document_score[1] += ss['pos']\n",
    "                document_score[2] += ss['neu']\n",
    "                document_score[3] += ss['neg']\n",
    "                #print(ss)\n",
    "                #for k in sorted(ss):\n",
    "                #    print('{0}: {1}, '.format(k, ss[k]), end='')\n",
    "                #    print()\n",
    "                #input()\n",
    "            document_score = [float(i/sentence_count) for i in document_score]\n",
    "            self.sentiment_vec.append(document_score)\n",
    "            \n",
    "    def calc_flesch_level(self):\n",
    "        #206.835 - (total words/total sentences) * 1.015 - (total syllables / total words) * 84.6\n",
    "        #print(sum([len(word)/3. if word not in arpabet else len(arpabet[word][0]) for word in self.word_tok[0] if word not in punctuation_set]))\n",
    "        #print(self.sent_len[0], self.word_count[0])\n",
    "        #input()\n",
    "        #self.flesch_level = [sl * 0.39 + 11.8 * np.mean(\n",
    "        #    [len(word)/3. if word not in arpabet else len(arpabet[word][0]) \n",
    "        #     for word in text if word not in punctuation_set]) - 15.59\n",
    "        #                     for text, sl, wc in zip(self.word_tok, self.sent_len, self.word_count)]\n",
    "        self.flesch_level = [textstat.flesch_reading_ease(' '.join(text)) for text in self.sent_tok]\n",
    "        \n",
    "#feature names: word_count, sent_count, sent_len, unique_word_frac, word_len, sent_len_std, cps\n",
    "    "
   ]
  },
  {
   "cell_type": "markdown",
   "metadata": {},
   "source": [
    "# New York Times"
   ]
  },
  {
   "cell_type": "code",
   "execution_count": 101,
   "metadata": {},
   "outputs": [],
   "source": [
    "nyt = Publication(\"New York Times\", nyt_id, nyt_sent, nyt_word, nyt_string_count)\n",
    "#nyt.calc_word_count()\n",
    "nyt.calc_sent_count()\n",
    "#nyt.calc_sent_len()\n",
    "#nyt.calc_unique_words()\n",
    "#nyt.calc_word_length()\n",
    "#nyt.calc_sent_len_std()\n",
    "#nyt.calc_punc_ps()\n",
    "#nyt.calc_flesch_level()\n",
    "#nyt.calc_pos_counts()\n",
    "nyt.calc_punc_ps()\n",
    "#print(nyt.flesch_level)\n",
    "\n",
    "\n",
    "\n",
    "#nyt.calc_pos_counts()\n",
    "#print(nyt.adverb_count)\n",
    "#nyt.calc_sentiment_polarity()\n",
    "breit = Publication(\"Breitbart\", breit_id, breit_sent, breit_word, breit_string_count)\n",
    "#breit.calc_word_count()\n",
    "breit.calc_sent_count()\n",
    "#breit.calc_sent_len()\n",
    "#breit.calc_unique_words()\n",
    "#breit.calc_word_length()\n",
    "#breit.calc_sent_len_std()\n",
    "breit.calc_punc_ps()\n",
    "#breit.calc_flesch_level()\n",
    "#breit.calc_pos_counts()\n",
    "#breit.calc_sentiment_polarity()\n",
    "\n",
    "#pickle.dump( [nyt], open( \"nyt_instance.p\", \"wb\" ) )\n",
    "\n",
    "\n",
    "wapo = Publication(\"Washington Post\", wapo_id, wapo_sent, wapo_word, wapo_string_count)\n",
    "#wapo.calc_word_count()\n",
    "wapo.calc_sent_count()\n",
    "#wapo.calc_sent_len()\n",
    "#wapo.calc_unique_words()\n",
    "#wapo.calc_word_length()\n",
    "#wapo.calc_sent_len_std()\n",
    "wapo.calc_punc_ps()\n",
    "#wapo.calc_flesch_level()\n",
    "#wapo.calc_pos_counts()\n",
    "#wapo.calc_sentiment_polarity()\n",
    "\n",
    "guard = Publication(\"Guardian\", guard_id, guard_sent, guard_word, guard_string_count)\n",
    "#guard.calc_word_count()\n",
    "guard.calc_sent_count()\n",
    "#guard.calc_sent_len()\n",
    "#guard.calc_unique_words()\n",
    "#guard.calc_word_length()\n",
    "#guard.calc_sent_len_std()\n",
    "guard.calc_punc_ps()\n",
    "#guard.calc_flesch_level()\n",
    "#guard.calc_pos_counts()\n",
    "#guard.calc_sentiment_polarity()"
   ]
  },
  {
   "cell_type": "code",
   "execution_count": null,
   "metadata": {},
   "outputs": [],
   "source": [
    "#adverb_count\n",
    "#wapo.calc_sent_count()\n",
    "#nyt.calc_sent_count()\n",
    "#breit.calc_sent_count()\n",
    "for i in [nyt, breit, wapo, guard]:\n",
    "    #print(breit.adverb_count)\n",
    "    #VB, VBD, VBG, VBN, VBP, VBZ\n",
    "    #JJ, JJS, JJR\n",
    "    #RB, RBS, RBR, WRB\n",
    "    plt.hist([k/j for k,j in zip(i.FW_count, i.sent_count)], bins = [i/1000. for i in list(range(0,500,10))], normed = True, alpha = 0.7)\n",
    "plt.legend(labels = pub_list_labels)\n",
    "plt.title(\"Adverbs per sentence\")\n",
    "plt.show()"
   ]
  },
  {
   "cell_type": "code",
   "execution_count": null,
   "metadata": {},
   "outputs": [],
   "source": [
    "#sentiment score\n",
    "for i in [nyt, breit, wapo]:\n",
    "    #print(breit.adverb_count)\n",
    "    #plt.hist([component[1]+component[3] for component in i.sentiment_vec], bins = [i/100. for i in list(range(0,200,1))], normed = True, alpha = 0.5)\n",
    "    plt.scatter([component[1] for component in i.sentiment_vec], [component[3] for component in i.sentiment_vec], s = 1, alpha = 0.8)\n",
    "plt.legend(labels = pub_list_labels)\n",
    "plt.title(\"Sentiment score metrics (vader)\")\n",
    "plt.show()"
   ]
  },
  {
   "cell_type": "markdown",
   "metadata": {},
   "source": [
    "# Finished features go into the plotting box below, in progress ones go above"
   ]
  },
  {
   "cell_type": "code",
   "execution_count": null,
   "metadata": {},
   "outputs": [],
   "source": [
    "pub_list = [nyt, breit, wapo, guard]\n",
    "pub_list_labels = ['NYT', 'Breitbart', 'Washington Post', 'Guardian']"
   ]
  },
  {
   "cell_type": "markdown",
   "metadata": {},
   "source": [
    "# Plot Data"
   ]
  },
  {
   "cell_type": "code",
   "execution_count": null,
   "metadata": {},
   "outputs": [],
   "source": [
    "# Word Count\n",
    "\n",
    "for i in [nyt, breit, wapo, guard]:\n",
    "    plt.hist(i.word_count, bins = list(range(0,3000,50)), normed = True, alpha = 0.7)\n",
    "plt.legend(labels = pub_list_labels)\n",
    "plt.title(\"Word count\")\n",
    "plt.show()\n",
    "\n",
    "# Sentence Count\n",
    "\n",
    "for i in [nyt, breit, wapo, guard]:\n",
    "    plt.hist(i.sent_count, bins = list(range(0,250,5)), normed = True, alpha = 0.7)\n",
    "plt.legend(labels = pub_list_labels)\n",
    "plt.title(\"Sentence count\")\n",
    "plt.show()\n",
    "# Sentence Length\n",
    "\n",
    "for i in [nyt, breit, wapo, guard]:\n",
    "    plt.hist(i.sent_len, bins = list(range(0,50,1)), normed = True, alpha = 0.7)\n",
    "plt.legend(labels = pub_list_labels)\n",
    "plt.title(\"Sentence length\")\n",
    "plt.show()\n",
    "# Unique Word Count and Fraction\n",
    "\n",
    "for i in [nyt, breit, wapo, guard]:\n",
    "    plt.hist(i.unique_word_frac, bins = [i/100. for i in list(range(0,100,1))], normed = True, alpha = 0.7)\n",
    "plt.legend(labels = pub_list_labels)\n",
    "plt.title(\"Unique word fraction\")\n",
    "plt.show()\n",
    "\n",
    "# Mean word length\n",
    "\n",
    "for i in [nyt, breit, wapo, guard]:\n",
    "    print(i.word_len[:10])\n",
    "    plt.hist([j for j in i.word_len if not np.isnan(j)], bins = [i/100. for i in list(range(300,650,5))], normed = True, alpha = 0.7)\n",
    "plt.legend(labels = pub_list_labels)\n",
    "plt.title(\"Mean word length\")\n",
    "plt.show()\n",
    "\n",
    "# Sentence length distribution\n",
    "\n",
    "for i in [nyt, breit, wapo, guard]:\n",
    "    plt.hist(i.sent_len_std, bins = list(range(0,170,2)), normed = True, alpha = 0.7)\n",
    "plt.legend(labels = pub_list_labels)\n",
    "plt.title(\"Sentence length variability\")\n",
    "plt.show()\n",
    "\n",
    "# Commas per sentence\n",
    "\n",
    "for i in [nyt, breit, wapo, guard]:\n",
    "    plt.hist(i.cps, bins = [i/100. for i in list(range(0,300,5))], normed = True, alpha = 0.7)\n",
    "plt.legend(labels = pub_list_labels)\n",
    "plt.title(\"Commas per sentence\")\n",
    "plt.show()\n",
    "\n",
    "\n",
    "for i in [nyt, breit, wapo, guard]:\n",
    "    plt.hist(i.qps, bins = [i/1000. for i in list(range(0,200,5))], normed = True, alpha = 0.7)\n",
    "plt.legend(labels = pub_list_labels)\n",
    "plt.title(\"Question marks per sentence\")\n",
    "plt.show()\n",
    "\n",
    "\n",
    "for i in [nyt, breit, wapo, guard]:\n",
    "    plt.hist(i.exps, bins = [i/1000. for i in list(range(0,100,5))], normed = True, alpha = 0.7)\n",
    "plt.legend(labels = pub_list_labels)\n",
    "plt.title(\"Exclamation marks per sentence\")\n",
    "plt.show()\n",
    "\n",
    "\n",
    "for i in [nyt, breit, wapo, guard]:\n",
    "    plt.hist(i.flesch_level, bins = [i/1. for i in list(range(0,100,5))], normed = True, alpha = 0.7)\n",
    "plt.legend(labels = pub_list_labels)\n",
    "plt.title(\"Flesch readability\")\n",
    "plt.show()"
   ]
  },
  {
   "cell_type": "code",
   "execution_count": null,
   "metadata": {},
   "outputs": [],
   "source": [
    "#join data\n",
    "wc = []\n",
    "sent_len = []\n",
    "sent_len_std = []\n",
    "unique_word_frac = []\n",
    "word_len = []\n",
    "cps = []\n",
    "qps = []\n",
    "exps = []\n",
    "adverb_ps = []\n",
    "sup_adv_ps = []\n",
    "verb_ps = []\n",
    "sent_compound = []\n",
    "flesch = []\n",
    "#n_articles = 2000\n",
    "#VB, VBD, VBG, VBN, VBP, VBZ\n",
    "#RB, WRB, RBR, RBS\n",
    "#JJ, JJR, JJS\n",
    "#feature names: word_count, sent_count, sent_len, unique_word_frac, word_len, sent_len_std, cps\n",
    "for i in [nyt_feature_df, breit_feature_df, wapo_feature_df, guard_feature_df]:\n",
    "    wc += i.word_count.tolist()\n",
    "    sent_len += i.sent_len.tolist()\n",
    "    word_len += i.word_len.tolist()\n",
    "    sent_len_std += i.sent_len_std.tolist()\n",
    "    unique_word_frac += i.unique_word_frac.tolist()\n",
    "    cps += i.cps.tolist()\n",
    "    qps += i.qps.tolist()\n",
    "    exps += i.exps.tolist()\n",
    "    flesch += i.flesch.tolist()\n",
    "    #adverb_ps += [float(sum(dict_vals.values())/sl) for dict_vals, sl in zip(i.adverb_count, i.sent_count)]\n",
    "    #sup_adv_ps += [float(dict_vals['WRB']/sl) for dict_vals, sl in zip(i.adverb_count, i.sent_count)]\n",
    "    #verb_ps += [float(dict_vals['VBZ']/sl) for dict_vals, sl in zip(i.verb_count, i.sent_count)]\n",
    "    #sent_compound += [vec[2] if vec[1] + vec[3] == 0 else vec[2]/(vec[1] + vec[3]) for vec in i.sentiment_vec]\n",
    "#print(sup_adv_ps[:10])\n",
    "#print(sent_compound[:10])\n",
    "print(flesch[:10])\n",
    "#print(nyt.adverb_count)\n",
    "#print(total_adverb_ps[:10])\n",
    "#wc = nyt_wc + breit_wc + wapo_wc\n",
    "#sent_len = nyt_sent_len + breit_sent_len + wapo_sent_len\n",
    "#sent_len_std = nyt_sent_len_std + breit_sent_len_std + wapo_sent_len_std\n",
    "#unique_word_frac = nyt_unique_word_frac + breit_unique_word_frac + wapo_unique_word_frac\n",
    "#word_len = nyt_word_len + breit_word_len + wapo_word_len\n",
    "#cps = nyt_cps + breit_cps + wapo_cps\n",
    "#print(len(wc), len(word_length))"
   ]
  },
  {
   "cell_type": "markdown",
   "metadata": {},
   "source": [
    "# Measure correlations "
   ]
  },
  {
   "cell_type": "code",
   "execution_count": null,
   "metadata": {},
   "outputs": [],
   "source": [
    "#put features into a pandas df\n",
    "breit_feature_df = pd.DataFrame(\n",
    "    {'word_count': breit.word_count,\n",
    "     'sent_len': breit.sent_len,\n",
    "     'word_len': breit.word_len,\n",
    "     'sent_len_std': breit.sent_len_std,\n",
    "     'unique_word_frac': breit.unique_word_frac,\n",
    "     'cps': breit.cps,\n",
    "     'qps': breit.qps,\n",
    "     'exps': breit.exps,\n",
    "     'adverbs': breit.adverb_count,\n",
    "     'verbs': breit.verb_count,\n",
    "     'adjectives' : breit.adj_count,\n",
    "     'foreign' : breit.FW_count,\n",
    "     'flesch': breit.flesch_level\n",
    "     #'sent_compound': [vec[0] for vec in breit.sentiment_vec]\n",
    "    })\n",
    "\n",
    "\n",
    "nyt_feature_df = pd.DataFrame(\n",
    "    {'word_count': nyt.word_count,\n",
    "     'sent_len': nyt.sent_len,\n",
    "     'word_len': nyt.word_len,\n",
    "     'sent_len_std': nyt.sent_len_std,\n",
    "     'unique_word_frac': nyt.unique_word_frac,\n",
    "     'cps': nyt.cps,\n",
    "     'qps': nyt.qps,\n",
    "     'exps': nyt.exps,\n",
    "     'adverbs': nyt.adverb_count,\n",
    "     'verbs': nyt.verb_count,\n",
    "     'adjectives' : nyt.adj_count,\n",
    "     'foreign' : nyt.FW_count,\n",
    "     'flesch': nyt.flesch_level\n",
    "     #'sent_compound': [vec[0] for vec in breit.sentiment_vec]\n",
    "    })\n",
    "\n",
    "\n",
    "wapo_feature_df = pd.DataFrame(\n",
    "    {'word_count': wapo.word_count,\n",
    "     'sent_len': wapo.sent_len,\n",
    "     'word_len': wapo.word_len,\n",
    "     'sent_len_std': wapo.sent_len_std,\n",
    "     'unique_word_frac': wapo.unique_word_frac,\n",
    "     'cps': wapo.cps,\n",
    "     'qps': wapo.qps,\n",
    "     'exps': wapo.exps,\n",
    "     'adverbs': wapo.adverb_count,\n",
    "     'verbs': wapo.verb_count,\n",
    "     'adjectives' : wapo.adj_count,\n",
    "     'foreign' : wapo.FW_count,\n",
    "     'flesch': wapo.flesch_level\n",
    "     #'sent_compound': [vec[0] for vec in breit.sentiment_vec]\n",
    "    })\n",
    "\n",
    "guard_feature_df = pd.DataFrame(\n",
    "    {'word_count': guard.word_count,\n",
    "     'sent_len': guard.sent_len,\n",
    "     'word_len': guard.word_len,\n",
    "     'sent_len_std': guard.sent_len_std,\n",
    "     'unique_word_frac': guard.unique_word_frac,\n",
    "     'cps': guard.cps,\n",
    "     'qps': guard.qps,\n",
    "     'exps': guard.exps,\n",
    "     'adverbs': guard.adverb_count,\n",
    "     'verbs': guard.verb_count,\n",
    "     'adjectives' : guard.adj_count,\n",
    "     'foreign' : guard.FW_count,\n",
    "     'flesch': guard.flesch_level\n",
    "     #'sent_compound': [vec[0] for vec in breit.sentiment_vec]\n",
    "    })"
   ]
  },
  {
   "cell_type": "markdown",
   "metadata": {},
   "source": [
    "# Add new feature from class instances"
   ]
  },
  {
   "cell_type": "code",
   "execution_count": 102,
   "metadata": {},
   "outputs": [],
   "source": [
    "df_list = [nyt_feature_df, breit_feature_df, wapo_feature_df, guard_feature_df]\n",
    "for df_id, inst_id in zip(df_list, [nyt, breit, wapo, guard]):\n",
    "    df_id['but_ps'] = inst_id.but_ps\n",
    "    df_id['and_ps'] = inst_id.and_ps"
   ]
  },
  {
   "cell_type": "code",
   "execution_count": 103,
   "metadata": {},
   "outputs": [],
   "source": [
    "pickle.dump(['nyt', nyt_feature_df, 'breit', breit_feature_df,\n",
    "             'wapo', wapo_feature_df, 'guard', guard_feature_df], open( \"nyt_data_df.p\", \"wb\" ) )"
   ]
  },
  {
   "cell_type": "markdown",
   "metadata": {},
   "source": [
    "# Unpickle saved feature frame"
   ]
  },
  {
   "cell_type": "code",
   "execution_count": 2,
   "metadata": {},
   "outputs": [],
   "source": [
    "[pub_nyt, nyt_feature_df, pub_breit, breit_feature_df,\n",
    "             pub_wapo, wapo_feature_df, pub_guard, guard_feature_df] =  pickle.load(open( \"nyt_data_df.p\", \"rb\" ))"
   ]
  },
  {
   "cell_type": "code",
   "execution_count": 104,
   "metadata": {},
   "outputs": [
    {
     "name": "stdout",
     "output_type": "stream",
     "text": [
      "['word_count', 'sent_len', 'word_len', 'sent_len_std', 'unique_word_frac', 'cps', 'qps', 'exps', 'adverbs', 'verbs', 'adjectives', 'foreign', 'flesch', 'label', 'total_adv', 'total_verb', 'total_adj', 'sent_count', 'adv_ps', 'verb_ps', 'adj_ps', 'RB_ps', 'RBR_ps', 'RBS_ps', 'WRB_ps', 'VB_ps', 'VBD_ps', 'VBG_ps', 'VBN_ps', 'VBP_ps', 'VBZ_ps', 'JJ_ps', 'JJS_ps', 'JJR_ps', 'said_ps', 'but_ps', 'and_ps']\n"
     ]
    }
   ],
   "source": [
    "print(list(nyt_feature_df))"
   ]
  },
  {
   "cell_type": "code",
   "execution_count": 4,
   "metadata": {},
   "outputs": [],
   "source": [
    "df_list = [nyt_feature_df, breit_feature_df, wapo_feature_df, guard_feature_df]\n",
    "for i in df_list:\n",
    "    i.rename(columns={'adverb_ps': 'adverbs'}, inplace=True)"
   ]
  },
  {
   "cell_type": "code",
   "execution_count": 5,
   "metadata": {},
   "outputs": [
    {
     "name": "stdout",
     "output_type": "stream",
     "text": [
      "   word_count   sent_len  word_len  sent_len_std  unique_word_frac       cps  \\\n",
      "0        4977  23.476415  4.521398     73.441847          0.281897  1.353774   \n",
      "1        2500  22.522523  4.504400     71.625898          0.371600  1.711712   \n",
      "2         171  24.428571  4.216374     49.591803          0.596491  2.571429   \n",
      "3        3307  20.288344  4.366798     70.892706          0.299063  1.245399   \n",
      "4        1725  21.296296  4.131594     66.515806          0.394203  1.382716   \n",
      "5         867  15.210526  4.201845     54.298401          0.453287  1.052632   \n",
      "6        1887  24.506494  4.674616     65.958087          0.380498  1.597403   \n",
      "7        1384  24.714286  4.492052     71.167272          0.460983  1.535714   \n",
      "8         699  16.255814  4.233190     62.126461          0.444921  0.813953   \n",
      "9        1857  20.406593  4.218632     59.201198          0.360258  1.285714   \n",
      "\n",
      "        qps      exps                                      adverbs  \\\n",
      "0  0.004717  0.000000  {'RB': 164, 'RBR': 11, 'RBS': 4, 'WRB': 29}   \n",
      "1  0.072072  0.009009   {'RB': 110, 'RBR': 5, 'RBS': 2, 'WRB': 19}   \n",
      "2  0.000000  0.000000      {'RB': 9, 'RBR': 0, 'RBS': 0, 'WRB': 0}   \n",
      "3  0.012270  0.000000   {'RB': 154, 'RBR': 5, 'RBS': 4, 'WRB': 27}   \n",
      "4  0.024691  0.012346    {'RB': 62, 'RBR': 2, 'RBS': 0, 'WRB': 13}   \n",
      "5  0.017544  0.000000     {'RB': 30, 'RBR': 0, 'RBS': 0, 'WRB': 5}   \n",
      "6  0.051948  0.000000     {'RB': 58, 'RBR': 2, 'RBS': 3, 'WRB': 6}   \n",
      "7  0.000000  0.000000     {'RB': 45, 'RBR': 1, 'RBS': 1, 'WRB': 7}   \n",
      "8  0.186047  0.093023    {'RB': 35, 'RBR': 0, 'RBS': 0, 'WRB': 14}   \n",
      "9  0.043956  0.010989     {'RB': 88, 'RBR': 2, 'RBS': 2, 'WRB': 7}   \n",
      "\n",
      "                                               verbs    ...       WRB_ps  \\\n",
      "0  {'VB': 143, 'VBD': 285, 'VBG': 107, 'VBN': 100...    ...     0.136792   \n",
      "1  {'VB': 53, 'VBD': 176, 'VBG': 47, 'VBN': 78, '...    ...     0.171171   \n",
      "2  {'VB': 3, 'VBD': 10, 'VBG': 5, 'VBN': 2, 'VBZ'...    ...     0.000000   \n",
      "3  {'VB': 150, 'VBD': 190, 'VBG': 73, 'VBN': 58, ...    ...     0.165644   \n",
      "4  {'VB': 41, 'VBD': 130, 'VBG': 22, 'VBN': 35, '...    ...     0.160494   \n",
      "5  {'VB': 20, 'VBD': 74, 'VBG': 15, 'VBN': 15, 'V...    ...     0.087719   \n",
      "6  {'VB': 69, 'VBD': 42, 'VBG': 38, 'VBN': 43, 'V...    ...     0.077922   \n",
      "7  {'VB': 34, 'VBD': 60, 'VBG': 27, 'VBN': 35, 'V...    ...     0.125000   \n",
      "8  {'VB': 38, 'VBD': 21, 'VBG': 15, 'VBN': 7, 'VB...    ...     0.325581   \n",
      "9  {'VB': 84, 'VBD': 45, 'VBG': 29, 'VBN': 35, 'V...    ...     0.076923   \n",
      "\n",
      "      VB_ps    VBD_ps    VBG_ps    VBN_ps    VBP_ps    VBZ_ps     JJ_ps  \\\n",
      "0  0.674528  1.344340  0.504717  0.471698  0.594340  0.301887  1.481132   \n",
      "1  0.477477  1.585586  0.423423  0.702703  0.216216  0.189189  1.729730   \n",
      "2  0.428571  1.428571  0.714286  0.285714  0.142857  1.000000  2.000000   \n",
      "3  0.920245  1.165644  0.447853  0.355828  0.521472  0.509202  1.294479   \n",
      "4  0.506173  1.604938  0.271605  0.432099  0.222222  0.432099  1.716049   \n",
      "5  0.350877  1.298246  0.263158  0.263158  0.333333  0.245614  0.807018   \n",
      "6  0.896104  0.545455  0.493506  0.558442  0.506494  0.987013  1.948052   \n",
      "7  0.607143  1.071429  0.482143  0.625000  0.303571  0.678571  2.196429   \n",
      "8  0.883721  0.488372  0.348837  0.162791  0.697674  0.232558  1.186047   \n",
      "9  0.923077  0.494505  0.318681  0.384615  0.670330  0.538462  1.703297   \n",
      "\n",
      "     JJS_ps    JJR_ps  \n",
      "0  0.056604  0.141509  \n",
      "1  0.036036  0.054054  \n",
      "2  0.000000  0.142857  \n",
      "3  0.104294  0.134969  \n",
      "4  0.024691  0.037037  \n",
      "5  0.035088  0.052632  \n",
      "6  0.038961  0.077922  \n",
      "7  0.053571  0.035714  \n",
      "8  0.093023  0.023256  \n",
      "9  0.098901  0.109890  \n",
      "\n",
      "[10 rows x 34 columns]\n",
      "['word_count', 'sent_len', 'word_len', 'sent_len_std', 'unique_word_frac', 'cps', 'qps', 'exps', 'adverbs', 'verbs', 'adjectives', 'foreign', 'flesch', 'label', 'total_adv', 'total_verb', 'total_adj', 'sent_count', 'adv_ps', 'verb_ps', 'adj_ps', 'RB_ps', 'RBR_ps', 'RBS_ps', 'WRB_ps', 'VB_ps', 'VBD_ps', 'VBG_ps', 'VBN_ps', 'VBP_ps', 'VBZ_ps', 'JJ_ps', 'JJS_ps', 'JJR_ps']\n",
      "[4982, 4923, 4903, 5046]\n"
     ]
    }
   ],
   "source": [
    "samples_per_df = []\n",
    "for ci,i in enumerate(df_list):\n",
    "    i['label'] = ci\n",
    "    #totals\n",
    "    i['total_adv'] = i['adverbs'].apply(lambda row: sum(row.values()))\n",
    "    i['total_verb'] = i['verbs'].apply(lambda row: sum(row.values()))\n",
    "    i['total_adj'] = i['adjectives'].apply(lambda row: sum(row.values()))\n",
    "    #sentence_count\n",
    "    i['sent_count'] = i['word_count']/i['sent_len']\n",
    "    \n",
    "    #per_sentence\n",
    "    i['adv_ps'] = i['total_adv']/(i['sent_count'])\n",
    "    i['verb_ps'] = i['total_verb']/(i['sent_count'])\n",
    "    i['adj_ps'] = i['total_adj']/(i['sent_count'])\n",
    "    ##################\n",
    "    #VB, VBD, VBG, VBN, VBP, VBZ\n",
    "    #JJ, JJS, JJR\n",
    "    #RB, RBS, RBR, WRB\n",
    "    #################\n",
    "    #adverb_subtypes\n",
    "    i['RB_ps'] = i['adverbs'].apply(lambda row: row['RB'])/i['sent_count']\n",
    "    i['RBR_ps'] = i['adverbs'].apply(lambda row: row['RBR'])/i['sent_count']\n",
    "    i['RBS_ps'] = i['adverbs'].apply(lambda row: row['RBS'])/i['sent_count']\n",
    "    i['WRB_ps'] = i['adverbs'].apply(lambda row: row['WRB'])/i['sent_count']\n",
    "    \n",
    "    #verb_subtypes\n",
    "    i['VB_ps'] = i['verbs'].apply(lambda row: row['VB'])/i['sent_count']\n",
    "    i['VBD_ps'] = i['verbs'].apply(lambda row: row['VBD'])/i['sent_count']\n",
    "    i['VBG_ps'] = i['verbs'].apply(lambda row: row['VBG'])/i['sent_count']\n",
    "    i['VBN_ps'] = i['verbs'].apply(lambda row: row['VBN'])/i['sent_count']\n",
    "    i['VBP_ps'] = i['verbs'].apply(lambda row: row['VBP'])/i['sent_count']\n",
    "    i['VBZ_ps'] = i['verbs'].apply(lambda row: row['VBZ'])/i['sent_count']\n",
    "    \n",
    "    #adj_subtypes\n",
    "    i['JJ_ps'] = i['adjectives'].apply(lambda row: row['JJ'])/i['sent_count']\n",
    "    i['JJS_ps'] = i['adjectives'].apply(lambda row: row['JJS'])/i['sent_count']\n",
    "    i['JJR_ps'] = i['adjectives'].apply(lambda row: row['JJR'])/i['sent_count']\n",
    "\n",
    "\n",
    "    samples_per_df.append(len(i))\n",
    "print(nyt_feature_df.head(10))\n",
    "print(list(nyt_feature_df))\n",
    "print(samples_per_df)"
   ]
  },
  {
   "cell_type": "markdown",
   "metadata": {},
   "source": [
    "### from sklearn import tree\n",
    "#X = [[0, 0], [1, 1]]\n",
    "#Y = [0, 1]\n",
    "#clf = tree.DecisionTreeClassifier()\n",
    "#clf = clf.fit(X, Y)"
   ]
  },
  {
   "cell_type": "code",
   "execution_count": 112,
   "metadata": {},
   "outputs": [
    {
     "name": "stdout",
     "output_type": "stream",
     "text": [
      "   word_count   sent_len  word_len  sent_len_std  unique_word_frac       cps  \\\n",
      "0        4977  23.476415  4.521398     73.441847          0.281897  1.353774   \n",
      "1        2500  22.522523  4.504400     71.625898          0.371600  1.711712   \n",
      "2         171  24.428571  4.216374     49.591803          0.596491  2.571429   \n",
      "3        3307  20.288344  4.366798     70.892706          0.299063  1.245399   \n",
      "4        1725  21.296296  4.131594     66.515806          0.394203  1.382716   \n",
      "\n",
      "        qps      exps  foreign  flesch    ...       VBG_ps    VBN_ps  \\\n",
      "0  0.004717  0.000000        5   67.69    ...     0.504717  0.471698   \n",
      "1  0.072072  0.009009        3   62.78    ...     0.423423  0.702703   \n",
      "2  0.000000  0.000000        0   65.35    ...     0.714286  0.285714   \n",
      "3  0.012270  0.000000        1   70.63    ...     0.447853  0.355828   \n",
      "4  0.024691  0.012346        7   82.95    ...     0.271605  0.432099   \n",
      "\n",
      "     VBP_ps    VBZ_ps     JJ_ps    JJS_ps    JJR_ps   said_ps    and_ps  \\\n",
      "0  0.594340  0.301887  1.481132  0.056604  0.141509  0.216981  0.580189   \n",
      "1  0.216216  0.189189  1.729730  0.036036  0.054054  0.090090  0.459459   \n",
      "2  0.142857  1.000000  2.000000  0.000000  0.142857  0.285714  0.000000   \n",
      "3  0.521472  0.509202  1.294479  0.104294  0.134969  0.153374  0.490798   \n",
      "4  0.222222  0.432099  1.716049  0.024691  0.037037  0.160494  0.629630   \n",
      "\n",
      "     but_ps  \n",
      "0  0.108491  \n",
      "1  0.072072  \n",
      "2  0.000000  \n",
      "3  0.116564  \n",
      "4  0.086420  \n",
      "\n",
      "[5 rows x 26 columns]\n"
     ]
    },
    {
     "data": {
      "image/png": "[encoded data removed]",
      "text/plain": [
       "<Figure size 720x720 with 2 Axes>"
      ]
     },
     "metadata": {},
     "output_type": "display_data"
    }
   ],
   "source": [
    "feat_list = ['word_count', 'sent_len', 'word_len', 'sent_len_std', 'unique_word_frac', \n",
    "             'cps', 'qps', 'exps', 'foreign', 'flesch',  \n",
    "             'RB_ps', 'RBR_ps', 'RBS_ps', 'WRB_ps', 'VB_ps', \n",
    "             'VBD_ps', 'VBG_ps', 'VBN_ps', 'VBP_ps', 'VBZ_ps', 'JJ_ps', 'JJS_ps', 'JJR_ps',\n",
    "             'said_ps', 'and_ps', 'but_ps']\n",
    "\n",
    "full_feature_df = pd.concat(df_list)\n",
    "\n",
    "\n",
    "\n",
    "import matplotlib.ticker as ticker\n",
    "corr = breit_feature_df[feat_list].corr()\n",
    "\n",
    "mask = np.zeros_like(corr, dtype=np.bool)\n",
    "mask[np.triu_indices_from(mask)] = True\n",
    "\n",
    "cmap = sns.diverging_palette(220, 10, as_cmap=True)\n",
    "plt.figure(figsize=(10,10))\n",
    "# Draw the heatmap with the mask and correct aspect ratio\n",
    "sns.heatmap(corr,cmap=cmap, center=0,\n",
    "            square=True, linewidths=.3, cbar_kws={\"shrink\": .8})\n",
    "\n",
    "\n",
    "\n",
    "\n",
    "full_feature_df[feat_list].head()\n",
    "\n",
    "min_word_count = 0\n",
    "\n",
    "feature_array = full_feature_df.loc[(full_feature_df['word_count'] > min_word_count)][feat_list].values\n",
    "label_array =   full_feature_df.loc[(full_feature_df['word_count'] > min_word_count)]['label'].values\n",
    "print(full_feature_df[feat_list][(full_feature_df >= 0).all(1)].head())"
   ]
  },
  {
   "cell_type": "code",
   "execution_count": null,
   "metadata": {},
   "outputs": [],
   "source": []
  },
  {
   "cell_type": "code",
   "execution_count": 113,
   "metadata": {},
   "outputs": [
    {
     "name": "stdout",
     "output_type": "stream",
     "text": [
      "[4982, 4923, 4903, 5046]\n",
      "[0, 4982, 9905, 14808, 19854]\n",
      "19854\n",
      "19854\n"
     ]
    }
   ],
   "source": [
    "#combine features\n",
    "#X = [[i, j, k, l, m, n, o] for i, j, k, l, m, n, o in zip(\n",
    "#    sent_len_std, unique_word_frac, word_len, cps, qps, exps, flesch)]#, sup_adv_ps, verb_ps, sent_compound)]\n",
    "#feature_names = ['sentence variability', 'unique word fraction', \n",
    "#                 'mean word length', 'commas per sentence', 'questions per sentence', \n",
    "#                 'exclamations per sentence', 'flesch']#, 'adverbs per sentence', \n",
    "                 #'verbs per sentence', 'sent_compound']\n",
    "\n",
    "\n",
    "\n",
    "X = feature_array\n",
    "feature_names = feat_list\n",
    "Y = label_array\n",
    "\n",
    "n_samples = len(X)\n",
    "data_boundaries = [len(i.word_count) for i in [nyt_feature_df, breit_feature_df, wapo_feature_df, guard_feature_df]]\n",
    "#data_boundaries = [n_articles for i in [nyt, breit, wapo, guard]]\n",
    "print(data_boundaries)\n",
    "cumulative_bounds = [0]\n",
    "for ci, i in enumerate(data_boundaries):\n",
    "    cumulative_bounds.append(i+cumulative_bounds[ci])\n",
    "print(cumulative_bounds)\n",
    "#cumulative_bounds = [0]\n",
    "#cumulative_bounds = [cumulative_bounds[i-1] + i for i in data_boundaries]\n",
    "print(len(X))\n",
    "#X = np.asarray(wc).reshape(-1,1)\n",
    "\n",
    "#labels\n",
    "#Y = [0 for i in range(len(nyt_feature_df.word_count))] + \\\n",
    "#    [1 for i in range(len(breit_feature_df.word_count))] + \\\n",
    "#    [2 for i in range(len(wapo_feature_df.word_count))] + \\\n",
    "#    [3 for i in range(len(guard_feature_df.word_count))]\n",
    "#Y = [0 for i in range(n_articles)] + [1 for i in range(n_articles)] + [2 for i in range(n_articles)] + [3 for i in range(n_articles)]\n",
    "print(len(Y))\n"
   ]
  },
  {
   "cell_type": "code",
   "execution_count": 114,
   "metadata": {},
   "outputs": [
    {
     "name": "stdout",
     "output_type": "stream",
     "text": [
      "[16483 17255  6222 ... 16739  3430 10802]\n",
      "[ 3650  3460 18539 ... 19297  3978  5359]\n",
      "19854\n"
     ]
    }
   ],
   "source": [
    "#test train split\n",
    "from sklearn.model_selection import train_test_split\n",
    "\n",
    "indices = np.arange(n_samples)\n",
    "\n",
    "X_train, X_test, y_train, y_test, idx_train, idx_test = train_test_split(X, Y, indices, test_size=0.1)\n",
    "print(idx_train)\n",
    "print(idx_test)\n",
    "\n",
    "text_list = nyt_sent + breit_sent + wapo_sent +guard_sent\n",
    "print(len(text_list))"
   ]
  },
  {
   "cell_type": "code",
   "execution_count": 115,
   "metadata": {},
   "outputs": [
    {
     "name": "stdout",
     "output_type": "stream",
     "text": [
      "[model=One versus Rest, solver=saga] Number of epochs: 1\n"
     ]
    },
    {
     "name": "stderr",
     "output_type": "stream",
     "text": [
      "/home/joseph/anaconda3/envs/insight/lib/python3.6/site-packages/sklearn/linear_model/sag.py:326: ConvergenceWarning: The max_iter was reached which means the coef_ did not converge\n",
      "  \"the coef_ did not converge\", ConvergenceWarning)\n",
      "/home/joseph/anaconda3/envs/insight/lib/python3.6/site-packages/sklearn/linear_model/sag.py:326: ConvergenceWarning: The max_iter was reached which means the coef_ did not converge\n",
      "  \"the coef_ did not converge\", ConvergenceWarning)\n",
      "/home/joseph/anaconda3/envs/insight/lib/python3.6/site-packages/sklearn/linear_model/sag.py:326: ConvergenceWarning: The max_iter was reached which means the coef_ did not converge\n",
      "  \"the coef_ did not converge\", ConvergenceWarning)\n",
      "/home/joseph/anaconda3/envs/insight/lib/python3.6/site-packages/sklearn/linear_model/sag.py:326: ConvergenceWarning: The max_iter was reached which means the coef_ did not converge\n",
      "  \"the coef_ did not converge\", ConvergenceWarning)\n",
      "/home/joseph/anaconda3/envs/insight/lib/python3.6/site-packages/sklearn/linear_model/sag.py:326: ConvergenceWarning: The max_iter was reached which means the coef_ did not converge\n",
      "  \"the coef_ did not converge\", ConvergenceWarning)\n"
     ]
    },
    {
     "name": "stdout",
     "output_type": "stream",
     "text": [
      "[model=One versus Rest, solver=saga] Number of epochs: 3\n"
     ]
    },
    {
     "name": "stderr",
     "output_type": "stream",
     "text": [
      "/home/joseph/anaconda3/envs/insight/lib/python3.6/site-packages/sklearn/linear_model/sag.py:326: ConvergenceWarning: The max_iter was reached which means the coef_ did not converge\n",
      "  \"the coef_ did not converge\", ConvergenceWarning)\n",
      "/home/joseph/anaconda3/envs/insight/lib/python3.6/site-packages/sklearn/linear_model/sag.py:326: ConvergenceWarning: The max_iter was reached which means the coef_ did not converge\n",
      "  \"the coef_ did not converge\", ConvergenceWarning)\n",
      "/home/joseph/anaconda3/envs/insight/lib/python3.6/site-packages/sklearn/linear_model/sag.py:326: ConvergenceWarning: The max_iter was reached which means the coef_ did not converge\n",
      "  \"the coef_ did not converge\", ConvergenceWarning)\n"
     ]
    },
    {
     "name": "stdout",
     "output_type": "stream",
     "text": [
      "[model=One versus Rest, solver=saga] Number of epochs: 7\n"
     ]
    },
    {
     "name": "stderr",
     "output_type": "stream",
     "text": [
      "/home/joseph/anaconda3/envs/insight/lib/python3.6/site-packages/sklearn/linear_model/sag.py:326: ConvergenceWarning: The max_iter was reached which means the coef_ did not converge\n",
      "  \"the coef_ did not converge\", ConvergenceWarning)\n",
      "/home/joseph/anaconda3/envs/insight/lib/python3.6/site-packages/sklearn/linear_model/sag.py:326: ConvergenceWarning: The max_iter was reached which means the coef_ did not converge\n",
      "  \"the coef_ did not converge\", ConvergenceWarning)\n",
      "/home/joseph/anaconda3/envs/insight/lib/python3.6/site-packages/sklearn/linear_model/sag.py:326: ConvergenceWarning: The max_iter was reached which means the coef_ did not converge\n",
      "  \"the coef_ did not converge\", ConvergenceWarning)\n",
      "/home/joseph/anaconda3/envs/insight/lib/python3.6/site-packages/sklearn/linear_model/sag.py:326: ConvergenceWarning: The max_iter was reached which means the coef_ did not converge\n",
      "  \"the coef_ did not converge\", ConvergenceWarning)\n"
     ]
    },
    {
     "name": "stdout",
     "output_type": "stream",
     "text": [
      "[model=One versus Rest, solver=saga] Number of epochs: 20\n"
     ]
    },
    {
     "name": "stderr",
     "output_type": "stream",
     "text": [
      "/home/joseph/anaconda3/envs/insight/lib/python3.6/site-packages/sklearn/linear_model/sag.py:326: ConvergenceWarning: The max_iter was reached which means the coef_ did not converge\n",
      "  \"the coef_ did not converge\", ConvergenceWarning)\n",
      "/home/joseph/anaconda3/envs/insight/lib/python3.6/site-packages/sklearn/linear_model/sag.py:326: ConvergenceWarning: The max_iter was reached which means the coef_ did not converge\n",
      "  \"the coef_ did not converge\", ConvergenceWarning)\n",
      "/home/joseph/anaconda3/envs/insight/lib/python3.6/site-packages/sklearn/linear_model/sag.py:326: ConvergenceWarning: The max_iter was reached which means the coef_ did not converge\n",
      "  \"the coef_ did not converge\", ConvergenceWarning)\n",
      "/home/joseph/anaconda3/envs/insight/lib/python3.6/site-packages/sklearn/linear_model/sag.py:326: ConvergenceWarning: The max_iter was reached which means the coef_ did not converge\n",
      "  \"the coef_ did not converge\", ConvergenceWarning)\n"
     ]
    },
    {
     "name": "stdout",
     "output_type": "stream",
     "text": [
      "[model=One versus Rest, solver=saga] Number of epochs: 40\n"
     ]
    },
    {
     "name": "stderr",
     "output_type": "stream",
     "text": [
      "/home/joseph/anaconda3/envs/insight/lib/python3.6/site-packages/sklearn/linear_model/sag.py:326: ConvergenceWarning: The max_iter was reached which means the coef_ did not converge\n",
      "  \"the coef_ did not converge\", ConvergenceWarning)\n",
      "/home/joseph/anaconda3/envs/insight/lib/python3.6/site-packages/sklearn/linear_model/sag.py:326: ConvergenceWarning: The max_iter was reached which means the coef_ did not converge\n",
      "  \"the coef_ did not converge\", ConvergenceWarning)\n",
      "/home/joseph/anaconda3/envs/insight/lib/python3.6/site-packages/sklearn/linear_model/sag.py:326: ConvergenceWarning: The max_iter was reached which means the coef_ did not converge\n",
      "  \"the coef_ did not converge\", ConvergenceWarning)\n",
      "/home/joseph/anaconda3/envs/insight/lib/python3.6/site-packages/sklearn/linear_model/sag.py:326: ConvergenceWarning: The max_iter was reached which means the coef_ did not converge\n",
      "  \"the coef_ did not converge\", ConvergenceWarning)\n"
     ]
    },
    {
     "name": "stdout",
     "output_type": "stream",
     "text": [
      "[model=One versus Rest, solver=saga] Number of epochs: 80\n"
     ]
    },
    {
     "name": "stderr",
     "output_type": "stream",
     "text": [
      "/home/joseph/anaconda3/envs/insight/lib/python3.6/site-packages/sklearn/linear_model/sag.py:326: ConvergenceWarning: The max_iter was reached which means the coef_ did not converge\n",
      "  \"the coef_ did not converge\", ConvergenceWarning)\n"
     ]
    },
    {
     "ename": "KeyboardInterrupt",
     "evalue": "",
     "output_type": "error",
     "traceback": [
      "\u001b[0;31m---------------------------------------------------------------------------\u001b[0m",
      "\u001b[0;31mKeyboardInterrupt\u001b[0m                         Traceback (most recent call last)",
      "\u001b[0;32m<ipython-input-115-b99f8642f228>\u001b[0m in \u001b[0;36m<module>\u001b[0;34m()\u001b[0m\n\u001b[1;32m     30\u001b[0m                                 )\n\u001b[1;32m     31\u001b[0m         \u001b[0mt1\u001b[0m \u001b[0;34m=\u001b[0m \u001b[0mtime\u001b[0m\u001b[0;34m.\u001b[0m\u001b[0mclock\u001b[0m\u001b[0;34m(\u001b[0m\u001b[0;34m)\u001b[0m\u001b[0;34m\u001b[0m\u001b[0m\n\u001b[0;32m---> 32\u001b[0;31m         \u001b[0mlr\u001b[0m\u001b[0;34m.\u001b[0m\u001b[0mfit\u001b[0m\u001b[0;34m(\u001b[0m\u001b[0mX_train\u001b[0m\u001b[0;34m,\u001b[0m \u001b[0my_train\u001b[0m\u001b[0;34m)\u001b[0m\u001b[0;34m\u001b[0m\u001b[0m\n\u001b[0m\u001b[1;32m     33\u001b[0m         \u001b[0mtrain_time\u001b[0m \u001b[0;34m=\u001b[0m \u001b[0mtime\u001b[0m\u001b[0;34m.\u001b[0m\u001b[0mclock\u001b[0m\u001b[0;34m(\u001b[0m\u001b[0;34m)\u001b[0m \u001b[0;34m-\u001b[0m \u001b[0mt1\u001b[0m\u001b[0;34m\u001b[0m\u001b[0m\n\u001b[1;32m     34\u001b[0m \u001b[0;34m\u001b[0m\u001b[0m\n",
      "\u001b[0;32m~/anaconda3/envs/insight/lib/python3.6/site-packages/sklearn/linear_model/logistic.py\u001b[0m in \u001b[0;36mfit\u001b[0;34m(self, X, y, sample_weight)\u001b[0m\n\u001b[1;32m   1289\u001b[0m                       \u001b[0mmax_squared_sum\u001b[0m\u001b[0;34m=\u001b[0m\u001b[0mmax_squared_sum\u001b[0m\u001b[0;34m,\u001b[0m\u001b[0;34m\u001b[0m\u001b[0m\n\u001b[1;32m   1290\u001b[0m                       sample_weight=sample_weight)\n\u001b[0;32m-> 1291\u001b[0;31m             for class_, warm_start_coef_ in zip(classes_, warm_start_coef))\n\u001b[0m\u001b[1;32m   1292\u001b[0m \u001b[0;34m\u001b[0m\u001b[0m\n\u001b[1;32m   1293\u001b[0m         \u001b[0mfold_coefs_\u001b[0m\u001b[0;34m,\u001b[0m \u001b[0m_\u001b[0m\u001b[0;34m,\u001b[0m \u001b[0mn_iter_\u001b[0m \u001b[0;34m=\u001b[0m \u001b[0mzip\u001b[0m\u001b[0;34m(\u001b[0m\u001b[0;34m*\u001b[0m\u001b[0mfold_coefs_\u001b[0m\u001b[0;34m)\u001b[0m\u001b[0;34m\u001b[0m\u001b[0m\n",
      "\u001b[0;32m~/anaconda3/envs/insight/lib/python3.6/site-packages/sklearn/externals/joblib/parallel.py\u001b[0m in \u001b[0;36m__call__\u001b[0;34m(self, iterable)\u001b[0m\n\u001b[1;32m    777\u001b[0m             \u001b[0;31m# was dispatched. In particular this covers the edge\u001b[0m\u001b[0;34m\u001b[0m\u001b[0;34m\u001b[0m\u001b[0m\n\u001b[1;32m    778\u001b[0m             \u001b[0;31m# case of Parallel used with an exhausted iterator.\u001b[0m\u001b[0;34m\u001b[0m\u001b[0;34m\u001b[0m\u001b[0m\n\u001b[0;32m--> 779\u001b[0;31m             \u001b[0;32mwhile\u001b[0m \u001b[0mself\u001b[0m\u001b[0;34m.\u001b[0m\u001b[0mdispatch_one_batch\u001b[0m\u001b[0;34m(\u001b[0m\u001b[0miterator\u001b[0m\u001b[0;34m)\u001b[0m\u001b[0;34m:\u001b[0m\u001b[0;34m\u001b[0m\u001b[0m\n\u001b[0m\u001b[1;32m    780\u001b[0m                 \u001b[0mself\u001b[0m\u001b[0;34m.\u001b[0m\u001b[0m_iterating\u001b[0m \u001b[0;34m=\u001b[0m \u001b[0;32mTrue\u001b[0m\u001b[0;34m\u001b[0m\u001b[0m\n\u001b[1;32m    781\u001b[0m             \u001b[0;32melse\u001b[0m\u001b[0;34m:\u001b[0m\u001b[0;34m\u001b[0m\u001b[0m\n",
      "\u001b[0;32m~/anaconda3/envs/insight/lib/python3.6/site-packages/sklearn/externals/joblib/parallel.py\u001b[0m in \u001b[0;36mdispatch_one_batch\u001b[0;34m(self, iterator)\u001b[0m\n\u001b[1;32m    623\u001b[0m                 \u001b[0;32mreturn\u001b[0m \u001b[0;32mFalse\u001b[0m\u001b[0;34m\u001b[0m\u001b[0m\n\u001b[1;32m    624\u001b[0m             \u001b[0;32melse\u001b[0m\u001b[0;34m:\u001b[0m\u001b[0;34m\u001b[0m\u001b[0m\n\u001b[0;32m--> 625\u001b[0;31m                 \u001b[0mself\u001b[0m\u001b[0;34m.\u001b[0m\u001b[0m_dispatch\u001b[0m\u001b[0;34m(\u001b[0m\u001b[0mtasks\u001b[0m\u001b[0;34m)\u001b[0m\u001b[0;34m\u001b[0m\u001b[0m\n\u001b[0m\u001b[1;32m    626\u001b[0m                 \u001b[0;32mreturn\u001b[0m \u001b[0;32mTrue\u001b[0m\u001b[0;34m\u001b[0m\u001b[0m\n\u001b[1;32m    627\u001b[0m \u001b[0;34m\u001b[0m\u001b[0m\n",
      "\u001b[0;32m~/anaconda3/envs/insight/lib/python3.6/site-packages/sklearn/externals/joblib/parallel.py\u001b[0m in \u001b[0;36m_dispatch\u001b[0;34m(self, batch)\u001b[0m\n\u001b[1;32m    586\u001b[0m         \u001b[0mdispatch_timestamp\u001b[0m \u001b[0;34m=\u001b[0m \u001b[0mtime\u001b[0m\u001b[0;34m.\u001b[0m\u001b[0mtime\u001b[0m\u001b[0;34m(\u001b[0m\u001b[0;34m)\u001b[0m\u001b[0;34m\u001b[0m\u001b[0m\n\u001b[1;32m    587\u001b[0m         \u001b[0mcb\u001b[0m \u001b[0;34m=\u001b[0m \u001b[0mBatchCompletionCallBack\u001b[0m\u001b[0;34m(\u001b[0m\u001b[0mdispatch_timestamp\u001b[0m\u001b[0;34m,\u001b[0m \u001b[0mlen\u001b[0m\u001b[0;34m(\u001b[0m\u001b[0mbatch\u001b[0m\u001b[0;34m)\u001b[0m\u001b[0;34m,\u001b[0m \u001b[0mself\u001b[0m\u001b[0;34m)\u001b[0m\u001b[0;34m\u001b[0m\u001b[0m\n\u001b[0;32m--> 588\u001b[0;31m         \u001b[0mjob\u001b[0m \u001b[0;34m=\u001b[0m \u001b[0mself\u001b[0m\u001b[0;34m.\u001b[0m\u001b[0m_backend\u001b[0m\u001b[0;34m.\u001b[0m\u001b[0mapply_async\u001b[0m\u001b[0;34m(\u001b[0m\u001b[0mbatch\u001b[0m\u001b[0;34m,\u001b[0m \u001b[0mcallback\u001b[0m\u001b[0;34m=\u001b[0m\u001b[0mcb\u001b[0m\u001b[0;34m)\u001b[0m\u001b[0;34m\u001b[0m\u001b[0m\n\u001b[0m\u001b[1;32m    589\u001b[0m         \u001b[0mself\u001b[0m\u001b[0;34m.\u001b[0m\u001b[0m_jobs\u001b[0m\u001b[0;34m.\u001b[0m\u001b[0mappend\u001b[0m\u001b[0;34m(\u001b[0m\u001b[0mjob\u001b[0m\u001b[0;34m)\u001b[0m\u001b[0;34m\u001b[0m\u001b[0m\n\u001b[1;32m    590\u001b[0m \u001b[0;34m\u001b[0m\u001b[0m\n",
      "\u001b[0;32m~/anaconda3/envs/insight/lib/python3.6/site-packages/sklearn/externals/joblib/_parallel_backends.py\u001b[0m in \u001b[0;36mapply_async\u001b[0;34m(self, func, callback)\u001b[0m\n\u001b[1;32m    109\u001b[0m     \u001b[0;32mdef\u001b[0m \u001b[0mapply_async\u001b[0m\u001b[0;34m(\u001b[0m\u001b[0mself\u001b[0m\u001b[0;34m,\u001b[0m \u001b[0mfunc\u001b[0m\u001b[0;34m,\u001b[0m \u001b[0mcallback\u001b[0m\u001b[0;34m=\u001b[0m\u001b[0;32mNone\u001b[0m\u001b[0;34m)\u001b[0m\u001b[0;34m:\u001b[0m\u001b[0;34m\u001b[0m\u001b[0m\n\u001b[1;32m    110\u001b[0m         \u001b[0;34m\"\"\"Schedule a func to be run\"\"\"\u001b[0m\u001b[0;34m\u001b[0m\u001b[0m\n\u001b[0;32m--> 111\u001b[0;31m         \u001b[0mresult\u001b[0m \u001b[0;34m=\u001b[0m \u001b[0mImmediateResult\u001b[0m\u001b[0;34m(\u001b[0m\u001b[0mfunc\u001b[0m\u001b[0;34m)\u001b[0m\u001b[0;34m\u001b[0m\u001b[0m\n\u001b[0m\u001b[1;32m    112\u001b[0m         \u001b[0;32mif\u001b[0m \u001b[0mcallback\u001b[0m\u001b[0;34m:\u001b[0m\u001b[0;34m\u001b[0m\u001b[0m\n\u001b[1;32m    113\u001b[0m             \u001b[0mcallback\u001b[0m\u001b[0;34m(\u001b[0m\u001b[0mresult\u001b[0m\u001b[0;34m)\u001b[0m\u001b[0;34m\u001b[0m\u001b[0m\n",
      "\u001b[0;32m~/anaconda3/envs/insight/lib/python3.6/site-packages/sklearn/externals/joblib/_parallel_backends.py\u001b[0m in \u001b[0;36m__init__\u001b[0;34m(self, batch)\u001b[0m\n\u001b[1;32m    330\u001b[0m         \u001b[0;31m# Don't delay the application, to avoid keeping the input\u001b[0m\u001b[0;34m\u001b[0m\u001b[0;34m\u001b[0m\u001b[0m\n\u001b[1;32m    331\u001b[0m         \u001b[0;31m# arguments in memory\u001b[0m\u001b[0;34m\u001b[0m\u001b[0;34m\u001b[0m\u001b[0m\n\u001b[0;32m--> 332\u001b[0;31m         \u001b[0mself\u001b[0m\u001b[0;34m.\u001b[0m\u001b[0mresults\u001b[0m \u001b[0;34m=\u001b[0m \u001b[0mbatch\u001b[0m\u001b[0;34m(\u001b[0m\u001b[0;34m)\u001b[0m\u001b[0;34m\u001b[0m\u001b[0m\n\u001b[0m\u001b[1;32m    333\u001b[0m \u001b[0;34m\u001b[0m\u001b[0m\n\u001b[1;32m    334\u001b[0m     \u001b[0;32mdef\u001b[0m \u001b[0mget\u001b[0m\u001b[0;34m(\u001b[0m\u001b[0mself\u001b[0m\u001b[0;34m)\u001b[0m\u001b[0;34m:\u001b[0m\u001b[0;34m\u001b[0m\u001b[0m\n",
      "\u001b[0;32m~/anaconda3/envs/insight/lib/python3.6/site-packages/sklearn/externals/joblib/parallel.py\u001b[0m in \u001b[0;36m__call__\u001b[0;34m(self)\u001b[0m\n\u001b[1;32m    129\u001b[0m \u001b[0;34m\u001b[0m\u001b[0m\n\u001b[1;32m    130\u001b[0m     \u001b[0;32mdef\u001b[0m \u001b[0m__call__\u001b[0m\u001b[0;34m(\u001b[0m\u001b[0mself\u001b[0m\u001b[0;34m)\u001b[0m\u001b[0;34m:\u001b[0m\u001b[0;34m\u001b[0m\u001b[0m\n\u001b[0;32m--> 131\u001b[0;31m         \u001b[0;32mreturn\u001b[0m \u001b[0;34m[\u001b[0m\u001b[0mfunc\u001b[0m\u001b[0;34m(\u001b[0m\u001b[0;34m*\u001b[0m\u001b[0margs\u001b[0m\u001b[0;34m,\u001b[0m \u001b[0;34m**\u001b[0m\u001b[0mkwargs\u001b[0m\u001b[0;34m)\u001b[0m \u001b[0;32mfor\u001b[0m \u001b[0mfunc\u001b[0m\u001b[0;34m,\u001b[0m \u001b[0margs\u001b[0m\u001b[0;34m,\u001b[0m \u001b[0mkwargs\u001b[0m \u001b[0;32min\u001b[0m \u001b[0mself\u001b[0m\u001b[0;34m.\u001b[0m\u001b[0mitems\u001b[0m\u001b[0;34m]\u001b[0m\u001b[0;34m\u001b[0m\u001b[0m\n\u001b[0m\u001b[1;32m    132\u001b[0m \u001b[0;34m\u001b[0m\u001b[0m\n\u001b[1;32m    133\u001b[0m     \u001b[0;32mdef\u001b[0m \u001b[0m__len__\u001b[0m\u001b[0;34m(\u001b[0m\u001b[0mself\u001b[0m\u001b[0;34m)\u001b[0m\u001b[0;34m:\u001b[0m\u001b[0;34m\u001b[0m\u001b[0m\n",
      "\u001b[0;32m~/anaconda3/envs/insight/lib/python3.6/site-packages/sklearn/externals/joblib/parallel.py\u001b[0m in \u001b[0;36m<listcomp>\u001b[0;34m(.0)\u001b[0m\n\u001b[1;32m    129\u001b[0m \u001b[0;34m\u001b[0m\u001b[0m\n\u001b[1;32m    130\u001b[0m     \u001b[0;32mdef\u001b[0m \u001b[0m__call__\u001b[0m\u001b[0;34m(\u001b[0m\u001b[0mself\u001b[0m\u001b[0;34m)\u001b[0m\u001b[0;34m:\u001b[0m\u001b[0;34m\u001b[0m\u001b[0m\n\u001b[0;32m--> 131\u001b[0;31m         \u001b[0;32mreturn\u001b[0m \u001b[0;34m[\u001b[0m\u001b[0mfunc\u001b[0m\u001b[0;34m(\u001b[0m\u001b[0;34m*\u001b[0m\u001b[0margs\u001b[0m\u001b[0;34m,\u001b[0m \u001b[0;34m**\u001b[0m\u001b[0mkwargs\u001b[0m\u001b[0;34m)\u001b[0m \u001b[0;32mfor\u001b[0m \u001b[0mfunc\u001b[0m\u001b[0;34m,\u001b[0m \u001b[0margs\u001b[0m\u001b[0;34m,\u001b[0m \u001b[0mkwargs\u001b[0m \u001b[0;32min\u001b[0m \u001b[0mself\u001b[0m\u001b[0;34m.\u001b[0m\u001b[0mitems\u001b[0m\u001b[0;34m]\u001b[0m\u001b[0;34m\u001b[0m\u001b[0m\n\u001b[0m\u001b[1;32m    132\u001b[0m \u001b[0;34m\u001b[0m\u001b[0m\n\u001b[1;32m    133\u001b[0m     \u001b[0;32mdef\u001b[0m \u001b[0m__len__\u001b[0m\u001b[0;34m(\u001b[0m\u001b[0mself\u001b[0m\u001b[0;34m)\u001b[0m\u001b[0;34m:\u001b[0m\u001b[0;34m\u001b[0m\u001b[0m\n",
      "\u001b[0;32m~/anaconda3/envs/insight/lib/python3.6/site-packages/sklearn/linear_model/logistic.py\u001b[0m in \u001b[0;36mlogistic_regression_path\u001b[0;34m(X, y, pos_class, Cs, fit_intercept, max_iter, tol, verbose, solver, coef, class_weight, dual, penalty, intercept_scaling, multi_class, random_state, check_input, max_squared_sum, sample_weight)\u001b[0m\n\u001b[1;32m    752\u001b[0m                 \u001b[0mbeta\u001b[0m\u001b[0;34m,\u001b[0m \u001b[0mmax_iter\u001b[0m\u001b[0;34m,\u001b[0m \u001b[0mtol\u001b[0m\u001b[0;34m,\u001b[0m\u001b[0;34m\u001b[0m\u001b[0m\n\u001b[1;32m    753\u001b[0m                 \u001b[0mverbose\u001b[0m\u001b[0;34m,\u001b[0m \u001b[0mrandom_state\u001b[0m\u001b[0;34m,\u001b[0m \u001b[0;32mFalse\u001b[0m\u001b[0;34m,\u001b[0m \u001b[0mmax_squared_sum\u001b[0m\u001b[0;34m,\u001b[0m \u001b[0mwarm_start_sag\u001b[0m\u001b[0;34m,\u001b[0m\u001b[0;34m\u001b[0m\u001b[0m\n\u001b[0;32m--> 754\u001b[0;31m                 is_saga=(solver == 'saga'))\n\u001b[0m\u001b[1;32m    755\u001b[0m \u001b[0;34m\u001b[0m\u001b[0m\n\u001b[1;32m    756\u001b[0m         \u001b[0;32melse\u001b[0m\u001b[0;34m:\u001b[0m\u001b[0;34m\u001b[0m\u001b[0m\n",
      "\u001b[0;32m~/anaconda3/envs/insight/lib/python3.6/site-packages/sklearn/linear_model/sag.py\u001b[0m in \u001b[0;36msag_solver\u001b[0;34m(X, y, sample_weight, loss, alpha, beta, max_iter, tol, verbose, random_state, check_input, max_squared_sum, warm_start_mem, is_saga)\u001b[0m\n\u001b[1;32m    321\u001b[0m                             \u001b[0mintercept_decay\u001b[0m\u001b[0;34m,\u001b[0m\u001b[0;34m\u001b[0m\u001b[0m\n\u001b[1;32m    322\u001b[0m                             \u001b[0mis_saga\u001b[0m\u001b[0;34m,\u001b[0m\u001b[0;34m\u001b[0m\u001b[0m\n\u001b[0;32m--> 323\u001b[0;31m                             verbose)\n\u001b[0m\u001b[1;32m    324\u001b[0m     \u001b[0;32mif\u001b[0m \u001b[0mn_iter_\u001b[0m \u001b[0;34m==\u001b[0m \u001b[0mmax_iter\u001b[0m\u001b[0;34m:\u001b[0m\u001b[0;34m\u001b[0m\u001b[0m\n\u001b[1;32m    325\u001b[0m         warnings.warn(\"The max_iter was reached which means \"\n",
      "\u001b[0;31mKeyboardInterrupt\u001b[0m: "
     ]
    }
   ],
   "source": [
    "from sklearn.linear_model import LogisticRegression\n",
    "import time\n",
    "\n",
    "solver = 'saga'\n",
    "\n",
    "models = {'ovr': {'name': 'One versus Rest', 'iters': [1, 3, 7, 20, 40, 80, 400]},\n",
    "          'multinomial': {'name': 'Multinomial', 'iters': [1, 5, 21, 80, 200, 400]}}\n",
    "\n",
    "t0 = time.clock()\n",
    "n_classes = 4\n",
    "for model in models:\n",
    "    # Add initial chance-level values for plotting purpose\n",
    "    accuracies = [1 / n_classes]\n",
    "    times = [0]\n",
    "    densities = [1]\n",
    "\n",
    "    model_params = models[model]\n",
    "\n",
    "    # Small number of epochs for fast runtime\n",
    "    for this_max_iter in model_params['iters']:\n",
    "        print('[model=%s, solver=%s] Number of epochs: %s' %\n",
    "              (model_params['name'], solver, this_max_iter))\n",
    "        lr = LogisticRegression(solver=solver,\n",
    "                                multi_class=model,\n",
    "                                C=0.5,\n",
    "                                penalty='l1',\n",
    "                                fit_intercept=True,\n",
    "                                max_iter=this_max_iter,\n",
    "                                random_state=42,\n",
    "                                )\n",
    "        t1 = time.clock()\n",
    "        lr.fit(X_train, y_train)\n",
    "        train_time = time.clock() - t1\n",
    "\n",
    "        y_pred = lr.predict(X_test)\n",
    "        accuracy = np.sum(y_pred == y_test) / y_test.shape[0]\n",
    "        density = np.mean(lr.coef_ != 0, axis=1) * 100\n",
    "        accuracies.append(accuracy)\n",
    "        densities.append(density)\n",
    "        times.append(train_time)\n",
    "    models[model]['times'] = times\n",
    "    models[model]['densities'] = densities\n",
    "    models[model]['accuracies'] = accuracies\n",
    "    print('Test accuracy for model %s: %.4f' % (model, accuracies[-1]))\n",
    "    print('%% non-zero coefficients for model %s, '\n",
    "          'per class:\\n %s' % (model, densities[-1]))\n",
    "    print('Run time (%i epochs) for model %s:'\n",
    "          '%.2f' % (model_params['iters'][-1], model, times[-1]))\n",
    "\n",
    "fig = plt.figure()\n",
    "ax = fig.add_subplot(111)\n",
    "\n",
    "for model in models:\n",
    "    name = models[model]['name']\n",
    "    times = models[model]['times']\n",
    "    accuracies = models[model]['accuracies']\n",
    "    ax.plot(times, accuracies, marker='o',\n",
    "            label='Model: %s' % name)\n",
    "    ax.set_xlabel('Train time (s)')\n",
    "    ax.set_ylabel('Test accuracy')\n",
    "ax.legend()\n",
    "fig.suptitle('Multinomial vs One-vs-Rest Logistic L1\\n'\n",
    "             'Dataset %s' % '20newsgroups')\n",
    "fig.tight_layout()\n",
    "fig.subplots_adjust(top=0.85)\n",
    "run_time = time.clock() - t0\n",
    "print('Example run in %.3f s' % run_time)\n",
    "plt.show()\n"
   ]
  },
  {
   "cell_type": "code",
   "execution_count": 116,
   "metadata": {},
   "outputs": [
    {
     "name": "stdout",
     "output_type": "stream",
     "text": [
      "0.432527693856999\n",
      "0.5055387713997986\n",
      "0.526183282980866\n",
      "0.5281973816717019\n",
      "0.5558912386706949\n",
      "0.540785498489426\n",
      "0.5427995971802618\n",
      "0.5634441087613293\n",
      "0.5563947633434039\n",
      "0.5649546827794562\n",
      "0.5790533736153072\n",
      "0.5840886203423967\n"
     ]
    }
   ],
   "source": [
    "#from sklearn.model_selection import GridSearchCV\n",
    "#parameters = {'max_depth':range(3,20)}\n",
    "#clf = GridSearchCV(tree.DecisionTreeClassifier(), parameters, n_jobs=4)\n",
    "#clf.fit(X=X_train, y=y_train)\n",
    "#tree_model = clf.best_estimator_\n",
    "#print (clf.best_score_, clf.best_params_) \n",
    "\n",
    "\n",
    "#clf = tree.DecisionTreeClassifier(max_depth = 5)\n",
    "#clf = clf.fit(X_train, y_train)\n",
    "\n",
    "from sklearn.ensemble import RandomForestClassifier\n",
    "rf_clf = RandomForestClassifier(n_estimators=20)\n",
    "for i in range(100,4500, 400):\n",
    "    rand_start = random.randint(0,4500 - i)\n",
    "    rf_clf = rf_clf.fit(X_train[rand_start:rand_start + i], y_train[rand_start:rand_start + i])\n",
    "\n",
    "    print(rf_clf.score(X_test, y_test))\n",
    "rf_clf = rf_clf.fit(X_train, y_train)\n",
    "print(rf_clf.score(X_test, y_test))\n",
    "\n",
    "y_pred = rf_clf.predict(X_test)\n",
    "#chance = [0 if random.random() > 0.5 else 1 for _ in range(len(y_pred))]"
   ]
  },
  {
   "cell_type": "code",
   "execution_count": 117,
   "metadata": {},
   "outputs": [
    {
     "name": "stdout",
     "output_type": "stream",
     "text": [
      "0.6435045317220544\n"
     ]
    }
   ],
   "source": [
    "from sklearn.ensemble import GradientBoostingClassifier\n",
    "\n",
    "xg_clf = GradientBoostingClassifier(n_estimators=100, learning_rate=0.25,\n",
    "                                 max_depth=5, random_state=0).fit(X_train, y_train)\n",
    "print(xg_clf.score(X_test, y_test))\n",
    "\n",
    "y_pred = xg_clf.predict(X_test)\n"
   ]
  },
  {
   "cell_type": "code",
   "execution_count": 118,
   "metadata": {},
   "outputs": [
    {
     "name": "stdout",
     "output_type": "stream",
     "text": [
      "Normalized confusion matrix\n",
      "[[0.71 0.04 0.11 0.14]\n",
      " [0.03 0.73 0.11 0.13]\n",
      " [0.15 0.15 0.55 0.15]\n",
      " [0.1  0.13 0.2  0.58]]\n"
     ]
    },
    {
     "data": {
      "image/png": "[encoded data removed]",
      "text/plain": [
       "<Figure size 432x288 with 2 Axes>"
      ]
     },
     "metadata": {},
     "output_type": "display_data"
    }
   ],
   "source": [
    "from sklearn.metrics import confusion_matrix\n",
    "import itertools\n",
    "class_names = ['New York Times', 'Breitbart', 'Washington Post', 'Guardian']\n",
    "\n",
    "def plot_confusion_matrix(cm, classes,\n",
    "                          normalize=False,\n",
    "                          title='Confusion matrix',\n",
    "                          cmap=plt.cm.Blues):\n",
    "    \"\"\"\n",
    "    This function prints and plots the confusion matrix.\n",
    "    Normalization can be applied by setting `normalize=True`.\n",
    "    \"\"\"\n",
    "    if normalize:\n",
    "        cm = cm.astype('float') / cm.sum(axis=1)[:, np.newaxis]\n",
    "        print(\"Normalized confusion matrix\")\n",
    "    else:\n",
    "        print('Confusion matrix, without normalization')\n",
    "\n",
    "    print(cm)\n",
    "\n",
    "    plt.imshow(cm, interpolation='nearest', cmap=cmap)\n",
    "    plt.title(title)\n",
    "    plt.colorbar()\n",
    "    tick_marks = np.arange(len(classes))\n",
    "    plt.xticks(tick_marks, classes, rotation=45, ha = 'right')\n",
    "    plt.yticks(tick_marks, classes)\n",
    "\n",
    "    fmt = '.2f' if normalize else 'd'\n",
    "    thresh = cm.max() / 2.\n",
    "    for i, j in itertools.product(range(cm.shape[0]), range(cm.shape[1])):\n",
    "        plt.text(j, i, format(cm[i, j], fmt),\n",
    "                 horizontalalignment=\"center\",\n",
    "                 color=\"white\" if cm[i, j] > thresh else \"black\")\n",
    "\n",
    "    plt.tight_layout()\n",
    "    plt.ylabel('True label')\n",
    "    plt.xlabel('Predicted label')\n",
    "\n",
    "# Compute confusion matrix\n",
    "cnf_matrix = confusion_matrix(y_test, y_pred)\n",
    "np.set_printoptions(precision=2)\n",
    "\n",
    "# Plot non-normalized confusion matrix\n",
    "plt.figure()\n",
    "plot_confusion_matrix(cnf_matrix, classes=class_names,\n",
    "                      title='Confusion matrix', normalize = True)\n"
   ]
  },
  {
   "cell_type": "code",
   "execution_count": 119,
   "metadata": {},
   "outputs": [
    {
     "name": "stdout",
     "output_type": "stream",
     "text": [
      "Feature ranking:\n",
      "1. feature 0 (0.091577)\n",
      "2. feature 4 (0.074570)\n",
      "3. feature 9 (0.062136)\n",
      "4. feature 5 (0.055962)\n",
      "5. feature 2 (0.053497)\n",
      "6. feature 15 (0.048788)\n",
      "7. feature 1 (0.046968)\n",
      "8. feature 3 (0.046357)\n",
      "9. feature 23 (0.045117)\n",
      "10. feature 19 (0.039217)\n",
      "11. feature 10 (0.038920)\n",
      "12. feature 14 (0.038111)\n",
      "13. feature 17 (0.037075)\n",
      "14. feature 20 (0.035807)\n",
      "15. feature 18 (0.033272)\n",
      "16. feature 24 (0.032603)\n",
      "17. feature 16 (0.028322)\n",
      "18. feature 25 (0.028281)\n",
      "19. feature 22 (0.028111)\n",
      "20. feature 11 (0.028077)\n",
      "21. feature 13 (0.026449)\n",
      "22. feature 21 (0.021993)\n",
      "23. feature 12 (0.016848)\n",
      "24. feature 6 (0.016224)\n",
      "25. feature 7 (0.013142)\n",
      "26. feature 8 (0.012574)\n",
      "[ 0  4  9  5  2 15  1  3 23 19 10 14 17 20 18 24 16 25 22 11 13 21 12  6\n",
      "  7  8]\n"
     ]
    },
    {
     "data": {
      "image/png": "[encoded data removed]",
      "text/plain": [
       "<Figure size 432x288 with 1 Axes>"
      ]
     },
     "metadata": {},
     "output_type": "display_data"
    }
   ],
   "source": [
    "importances = xg_clf.feature_importances_\n",
    "#std = np.std([tree.feature_importances_ for tree in xg_clf.estimators_],\n",
    "#             axis=0)\n",
    "indices = np.argsort(importances)[::-1]\n",
    "\n",
    "# Print the feature ranking\n",
    "print(\"Feature ranking:\")\n",
    "\n",
    "for f in range(len(X[0])):#.shape[1]):\n",
    "    print(\"%d. feature %d (%f)\" % (f + 1, indices[f], importances[indices[f]]))\n",
    "\n",
    "    # Plot the feature importances of the forest\n",
    "plt.figure()\n",
    "plt.title(\"Feature importances\")\n",
    "plt.bar(range(len(X[0])), importances[indices],\n",
    "       color=\"r\", align='center')#, yerr=std[indices], align=\"center\")\n",
    "print(indices)\n",
    "plt.xticks(range(len(X[0])), [feature_names[i] for i in indices], rotation = 45, ha = 'right')\n",
    "plt.xlim([-1, len(X[0])])\n",
    "plt.show()\n"
   ]
  },
  {
   "cell_type": "code",
   "execution_count": null,
   "metadata": {},
   "outputs": [],
   "source": [
    "conf_mat = np.zeros((4,4))\n",
    "count = 0\n",
    "for pred, true in zip(y_pred, y_test):\n",
    "    if pred == 0 and true == 3:\n",
    "            print(pred, true, count, 'mismatch')\n",
    "            print(' '.join(text_list[idx_test[count]]))\n",
    "            input()\n",
    "    conf_mat[pred,true] += 1.\n",
    "    count += 1\n",
    "print(count)\n",
    "#conf_mat[2,1] += 1000\n",
    "#[y,x] format (first index (predicted) is on the vertical, second index (truth) is on the horizontal)\n",
    "plt.imshow(conf_mat)\n",
    "plt.colorbar()\n",
    "print(conf_mat, np.sum(conf_mat))\n",
    "print(Counter(y_test))"
   ]
  },
  {
   "cell_type": "markdown",
   "metadata": {},
   "source": [
    "# adventures in clustering"
   ]
  },
  {
   "cell_type": "code",
   "execution_count": null,
   "metadata": {},
   "outputs": [],
   "source": [
    "from sklearn.cluster import KMeans\n",
    "from sklearn.decomposition import PCA\n",
    "\n",
    "\n",
    "#pca = PCA(n_components=2).fit(X)\n",
    "#print(pca)\n",
    "y_pred = KMeans(init='k-means++', n_clusters=4, n_init = 10, max_iter = 1000).fit_predict(X)\n",
    "\n",
    "\n",
    "print(Counter(y_pred))\n"
   ]
  },
  {
   "cell_type": "code",
   "execution_count": null,
   "metadata": {},
   "outputs": [],
   "source": [
    "from sklearn.metrics import confusion_matrix\n",
    "import itertools\n",
    "class_names = ['New York Times', 'Breitbart', 'Washington Post', 'Guardian']\n",
    "\n",
    "def plot_confusion_matrix(cm, classes,\n",
    "                          normalize=False,\n",
    "                          title='Confusion matrix',\n",
    "                          cmap=plt.cm.Blues):\n",
    "    \"\"\"\n",
    "    This function prints and plots the confusion matrix.\n",
    "    Normalization can be applied by setting `normalize=True`.\n",
    "    \"\"\"\n",
    "    if normalize:\n",
    "        cm = cm.astype('float') / cm.sum(axis=1)[:, np.newaxis]\n",
    "        print(\"Normalized confusion matrix\")\n",
    "    else:\n",
    "        print('Confusion matrix, without normalization')\n",
    "\n",
    "    print(cm)\n",
    "\n",
    "    plt.imshow(cm, interpolation='nearest', cmap=cmap)\n",
    "    plt.title(title)\n",
    "    plt.colorbar()\n",
    "    tick_marks = np.arange(len(classes))\n",
    "    plt.xticks(tick_marks, classes, rotation=45, ha = 'right')\n",
    "    plt.yticks(tick_marks, classes)\n",
    "\n",
    "    fmt = '.2f' if normalize else 'd'\n",
    "    thresh = cm.max() / 2.\n",
    "    for i, j in itertools.product(range(cm.shape[0]), range(cm.shape[1])):\n",
    "        plt.text(j, i, format(cm[i, j], fmt),\n",
    "                 horizontalalignment=\"center\",\n",
    "                 color=\"white\" if cm[i, j] > thresh else \"black\")\n",
    "\n",
    "    plt.tight_layout()\n",
    "    plt.ylabel('True label')\n",
    "    plt.xlabel('Predicted label')\n",
    "\n",
    "# Compute confusion matrix\n",
    "cnf_matrix = confusion_matrix(Y, y_pred)\n",
    "np.set_printoptions(precision=2)\n",
    "\n",
    "# Plot non-normalized confusion matrix\n",
    "plt.figure()\n",
    "plot_confusion_matrix(cnf_matrix, classes=class_names,\n",
    "                      title='Confusion matrix', normalize = True)\n"
   ]
  },
  {
   "cell_type": "markdown",
   "metadata": {},
   "source": [
    "# Section for testing new article against mean features"
   ]
  },
  {
   "cell_type": "code",
   "execution_count": null,
   "metadata": {},
   "outputs": [],
   "source": [
    "def compare_article(text_features):\n",
    "    #pub_list = [nyt, breit, wapo]\n",
    "    wc_mean = [np.mean(i.word_count) for i in pub_list]\n",
    "    print(wc_mean)\n",
    "    #wc_mean1 = [np.mean(nyt_wc), np.mean(breit_wc), np.mean(wapo_wc)]\n",
    "    #print(wc_mean, wc_mean1)\n",
    "    sent_len_mean = [np.mean(i.sent_len) for i in pub_list]#, np.mean(breit_sent_len), np.mean(wapo_sent_len)]\n",
    "    sent_len_std_mean = [np.mean(i.sent_len_std) for i in pub_list]#, np.mean(breit_sent_len_std), np.mean(wapo_sent_len_std)]\n",
    "    unique_word_frac_mean = [np.mean(i.unique_word_frac) for i in pub_list]#, np.mean(breit_unique_word_frac), np.mean(wapo_unique_word_frac)]\n",
    "    word_len_mean = [np.mean(i.word_len) for i in pub_list]#, np.mean(breit_word_len), np.mean(wapo_word_len)]\n",
    "    cps_mean = [np.mean(i.cps) for i in pub_list]#, np.mean(breit_cps), np.mean(wapo_cps)]\n",
    "    features = ['sentence length', 'sentence length distribution', 'unique word fraction', 'word length', 'commas per sentence']\n",
    "    mean_features = [[i, j, k, l, m] for i, j, k, l, m in zip(sent_len_mean, sent_len_std_mean, unique_word_frac_mean, word_len_mean, cps_mean)]\n",
    "    print(mean_features)\n",
    "    pickle.dump(mean_features, open('mean_features.p', 'wb'))\n",
    "    return [[float(i/j) for i,j in zip(text_features, pub_features)] for pub_features in mean_features]"
   ]
  },
  {
   "cell_type": "code",
   "execution_count": null,
   "metadata": {},
   "outputs": [],
   "source": [
    "#generate features for a single text (THIS NEEDS TO GO INTO THE CLASS)\n",
    "def generate_features(text):\n",
    "    sent_tok, word_tok, string_counts = prepare_text(text)\n",
    "    sent_tok = sent_tok[0]\n",
    "    word_tok = word_tok[0]\n",
    "    string_counts = string_counts[0]\n",
    "    \n",
    "    punctuation_set = set(string.punctuation)\n",
    "    word_count = len([word for word in word_tok if word not in punctuation_set])\n",
    "    sent_count = len(sent_tok)\n",
    "    sent_len = float(word_count / sent_count)\n",
    "    sent_std = np.std([len(sent) for sent in sent_tok])\n",
    "\n",
    "    unique_word_count = len(set([word for word in word_tok if word not in punctuation_set]))\n",
    "    unique_word_frac = float(unique_word_count / word_count)\n",
    "    mean_word_length = np.mean([len(word) for word in word_tok if word not in punctuation_set])\n",
    "\n",
    "    cps = string_counts[',']/sent_count\n",
    "    return [sent_len, sent_std, unique_word_frac, mean_word_length, cps]"
   ]
  },
  {
   "cell_type": "code",
   "execution_count": null,
   "metadata": {},
   "outputs": [],
   "source": [
    "#print(' '.join(nyt_sent[0]))\n",
    "features = generate_features([' '.join(nyt_sent[10])])\n",
    "\n",
    "print(features)\n",
    "features_compare_to_mean = compare_article(features)\n",
    "features = ['sentence length', 'sentence length distribution', 'unique word fraction', 'word length', 'commas per sentence']\n",
    "plt.title('Features compared to average for {}'.format(\"New York Times\"))\n",
    "plt.bar(list(range(5)), features_compare_to_mean[2], color = 'r')\n",
    "plt.bar(list(range(5)), [1 for _ in range(5)], color = 'black', alpha = 0.5)\n",
    "#plt.ylim((0,1.2))\n",
    "plt.xticks(range(5), features, rotation = 45, ha = 'right')\n",
    "#plt.bar(list(range(5)), features_compare_to_mean[1], alpha = 0.5)\n",
    "\n",
    "#plt.bar(list(range(5)), features_compare_to_mean[2], alpha = 0.5)"
   ]
  },
  {
   "cell_type": "code",
   "execution_count": null,
   "metadata": {},
   "outputs": [],
   "source": [
    "from sklearn.externals import joblib\n",
    "joblib.dump(clf, 'decision_tree_10.pkl') "
   ]
  },
  {
   "cell_type": "code",
   "execution_count": null,
   "metadata": {},
   "outputs": [],
   "source": [
    "from sklearn.externals.six import StringIO  \n",
    "from IPython.display import Image  \n",
    "from sklearn.tree import export_graphviz\n",
    "import pydotplus\n",
    "\n",
    "dot_data = StringIO()\n",
    "\n",
    "export_graphviz(clf, out_file=dot_data,  \n",
    "                filled=True, rounded=True,\n",
    "                special_characters=True)\n",
    "\n",
    "graph = pydotplus.graph_from_dot_data(dot_data.getvalue())  \n",
    "Image(graph.create_png())"
   ]
  },
  {
   "cell_type": "code",
   "execution_count": null,
   "metadata": {},
   "outputs": [],
   "source": []
  }
 ],
 "metadata": {
  "kernelspec": {
   "display_name": "Python 3",
   "language": "python",
   "name": "python3"
  },
  "language_info": {
   "codemirror_mode": {
    "name": "ipython",
    "version": 3
   },
   "file_extension": ".py",
   "mimetype": "text/x-python",
   "name": "python",
   "nbconvert_exporter": "python",
   "pygments_lexer": "ipython3",
   "version": "3.6.5"
  }
 },
 "nbformat": 4,
 "nbformat_minor": 2
}
