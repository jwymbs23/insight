{
 "cells": [
  {
   "cell_type": "code",
   "execution_count": 1,
   "metadata": {},
   "outputs": [],
   "source": [
    "import pandas as pd\n",
    "import numpy\n",
    "import matplotlib.pyplot as plt\n",
    "%matplotlib inline\n",
    "\n",
    "import pickle\n",
    "import string\n",
    "import numpy as np\n",
    "import random\n",
    "from collections import Counter"
   ]
  },
  {
   "cell_type": "code",
   "execution_count": 2,
   "metadata": {},
   "outputs": [
    {
     "name": "stdout",
     "output_type": "stream",
     "text": [
      "[nltk_data] Downloading package punkt to /home/joseph/nltk_data...\n",
      "[nltk_data]   Package punkt is already up-to-date!\n"
     ]
    }
   ],
   "source": [
    "import nltk\n",
    "nltk.download('punkt')\n",
    "#from nltk.tokenize import sent_tokenize\n",
    "import nltk.data\n",
    "sent_detector = nltk.data.load('tokenizers/punkt/english.pickle')"
   ]
  },
  {
   "cell_type": "code",
   "execution_count": 59,
   "metadata": {},
   "outputs": [],
   "source": [
    "try:\n",
    "    total_df = pd.read_pickle('total_df.p')\n",
    "except:\n",
    "    df_1 = pd.read_csv('articles1.csv')\n",
    "    df_2 = pd.read_csv('articles2.csv')\n",
    "    df_3 = pd.read_csv('articles3.csv')\n",
    "    #print(df_1.head(1))\n",
    "    print(df_1.shape)\n",
    "\n",
    "    #print(df_1.publication.unique())\n",
    "    #print(df_2.publication.unique())\n",
    "    #print(df_3.publication.unique())\n",
    "    #merge dataframes\n",
    "    total_df = pd.concat([df_1, df_2, df_3])\n",
    "    df_1 = 0\n",
    "    df_2 = 0\n",
    "    df_3 = 0\n",
    "    total_df['sentence_count'] = 0\n",
    "    total_df['word_count'] = 0\n",
    "    total_df.to_pickle('total_df.p')\n",
    "publication_names = total_df.publication.unique()"
   ]
  },
  {
   "cell_type": "code",
   "execution_count": null,
   "metadata": {},
   "outputs": [],
   "source": [
    "total_df.publication.value_counts().plot(kind='bar')"
   ]
  },
  {
   "cell_type": "code",
   "execution_count": null,
   "metadata": {},
   "outputs": [],
   "source": [
    "#print(list(total_df))\n",
    "#print(total_df.loc[total_df['publication'] == 'New York Times']['title'])"
   ]
  },
  {
   "cell_type": "code",
   "execution_count": 66,
   "metadata": {},
   "outputs": [],
   "source": [
    "#nyt_list = total_df.loc[total_df['publication'] == 'New York Times']['content'].tolist()\n",
    "nyt_df = total_df.loc[total_df['publication'] == 'New York Times']\n",
    "nyt_semic = nyt_df[nyt_df['content'].str.contains(\";\")]\n",
    "#breit_list = total_df.loc[total_df['publication'] == 'Breitbart']['content'].tolist()\n",
    "#wapo_list = total_df.loc[total_df['publication'] == 'Washington Post']['content'].tolist()"
   ]
  },
  {
   "cell_type": "code",
   "execution_count": 67,
   "metadata": {},
   "outputs": [
    {
     "name": "stdout",
     "output_type": "stream",
     "text": [
      "(0, 12)\n"
     ]
    }
   ],
   "source": [
    "print(nyt_semic.shape)"
   ]
  },
  {
   "cell_type": "code",
   "execution_count": 18,
   "metadata": {},
   "outputs": [],
   "source": [
    "def rand_list(num_articles):\n",
    "    return [random.random() for _ in range(num_articles)]"
   ]
  },
  {
   "cell_type": "code",
   "execution_count": 21,
   "metadata": {},
   "outputs": [],
   "source": [
    "def get_id_content_list(pubname, num_articles):\n",
    "    df_cont_list = total_df.loc[total_df['publication'] == pubname]['content'].tolist()\n",
    "    df_id_list = total_df.loc[total_df['publication'] == pubname]['id'].tolist()\n",
    "    num_articles_in_set = len(df_id_list)\n",
    "    num_rand_to_get = num_articles_in_set if num_articles > num_articles_in_set else num_articles\n",
    "    if num_articles > num_articles_in_set:\n",
    "        print('Warning!', pubname, 'only has ', str(len(df_id_list)), ' articles, but you are asking for ', str(num_articles))\n",
    "    random_num_list = rand_list(num_articles_in_set)\n",
    "    cont_list = [i for ci,i in enumerate(df_cont_list) if random_num_list[ci] > 1-num_rand_to_get/num_articles_in_set]\n",
    "    id_list =   [i for ci,i in enumerate(df_id_list)   if random_num_list[ci] > 1-num_rand_to_get/num_articles_in_set]\n",
    "    return cont_list, id_list"
   ]
  },
  {
   "cell_type": "code",
   "execution_count": 23,
   "metadata": {},
   "outputs": [
    {
     "name": "stdout",
     "output_type": "stream",
     "text": [
      "3040 2990 3056\n",
      "After the bullet shells get counted, the blood dries and the votive candles burn out, people peer down from   windows and see crime scenes gone cold: a band of yellow police tape blowing in the breeze 17284\n"
     ]
    }
   ],
   "source": [
    "num_articles = 3000\n",
    "\n",
    "nyt_list, nyt_id = get_id_content_list('New York Times', num_articles)\n",
    "\n",
    "breit_list, breit_id = get_id_content_list('Breitbart', num_articles)\n",
    "wapo_list, wapo_id = get_id_content_list('Washington Post', num_articles)\n",
    "print(len(nyt_list), len(breit_list), len(wapo_list))\n",
    "print(nyt_list[0][:200], nyt_id[0])"
   ]
  },
  {
   "cell_type": "code",
   "execution_count": 24,
   "metadata": {},
   "outputs": [],
   "source": [
    "def prepare_text(publication_content_list):\n",
    "    #lower case text\n",
    "    lower_case = [text.strip().lower() for text in publication_content_list]\n",
    "    #replace strange quote characters with normal ones \n",
    "    replace_quotes = [text.replace('“', '\"').replace('”', '\"') for text in lower_case]\n",
    "    #do punkt sentence tokenization\n",
    "    sentence_tokenize = [sent_detector.tokenize(text.strip()) for text in replace_quotes]\n",
    "    #do nltk word tokenization\n",
    "    word_tokenize = [nltk.word_tokenize(text) for text in replace_quotes]\n",
    "    #get unique string counts\n",
    "    string_counts = [Counter(text) for text in word_tokenize]\n",
    "    return sentence_tokenize, word_tokenize, string_counts"
   ]
  },
  {
   "cell_type": "code",
   "execution_count": 25,
   "metadata": {},
   "outputs": [],
   "source": [
    "nyt_sent, nyt_word, nyt_string_count = prepare_text(nyt_list)"
   ]
  },
  {
   "cell_type": "code",
   "execution_count": 26,
   "metadata": {},
   "outputs": [],
   "source": [
    "breit_sent, breit_word, breit_string_count = prepare_text(breit_list)"
   ]
  },
  {
   "cell_type": "code",
   "execution_count": 27,
   "metadata": {},
   "outputs": [],
   "source": [
    "wapo_sent, wapo_word, wapo_string_count = prepare_text(wapo_list)"
   ]
  },
  {
   "cell_type": "code",
   "execution_count": 28,
   "metadata": {},
   "outputs": [],
   "source": [
    "pickle.dump( ['nyt', nyt_id, nyt_sent, nyt_word, nyt_string_count], open( \"nyt_tokenized_strings.p\", \"wb\" ) )\n",
    "pickle.dump( ['breit', breit_id, breit_sent, breit_word, breit_string_count], open( \"breit_tokenized_strings.p\", \"wb\" ) )\n",
    "pickle.dump( ['wapo', wapo_id, wapo_sent, wapo_word, wapo_string_count], open( \"wapo_tokenized_strings.p\", \"wb\" ) )\n",
    "\n",
    "# ['breit', breit_sent, breit_word, breit_string_count],\n",
    "# ['wapo', wapo_sent, wapo_word, wapo_string_count]]"
   ]
  },
  {
   "cell_type": "markdown",
   "metadata": {},
   "source": [
    "# Can start here if you don't care about which articles you got, and you have the article pickle files"
   ]
  },
  {
   "cell_type": "code",
   "execution_count": 3,
   "metadata": {},
   "outputs": [],
   "source": [
    "#unpickle files\n",
    "pub, nyt_id, nyt_sent, nyt_word, nyt_string_count = pickle.load( open( \"nyt_tokenized_strings.p\", \"rb\" ) )\n",
    "pub, breit_id, breit_sent, breit_word, breit_string_count = pickle.load( open( \"breit_tokenized_strings.p\", \"rb\" ) )\n",
    "pub, wapo_id, wapo_sent, wapo_word, wapo_string_count = pickle.load( open( \"wapo_tokenized_strings.p\", \"rb\" ) )"
   ]
  },
  {
   "cell_type": "markdown",
   "metadata": {},
   "source": [
    "# word count"
   ]
  },
  {
   "cell_type": "code",
   "execution_count": 5,
   "metadata": {},
   "outputs": [],
   "source": [
    "nyt_wc = [len(text) for text in nyt_word]\n",
    "breit_wc = [len(text) for text in breit_word]\n",
    "wapo_wc = [len(text) for text in wapo_word]"
   ]
  },
  {
   "cell_type": "code",
   "execution_count": 6,
   "metadata": {},
   "outputs": [
    {
     "name": "stderr",
     "output_type": "stream",
     "text": [
      "/home/joseph/anaconda3/envs/insight/lib/python3.6/site-packages/matplotlib/axes/_axes.py:6462: UserWarning: The 'normed' kwarg is deprecated, and has been replaced by the 'density' kwarg.\n",
      "  warnings.warn(\"The 'normed' kwarg is deprecated, and has been \"\n"
     ]
    },
    {
     "data": {
      "text/plain": [
       "(array([1.78082192e-04, 1.98630137e-04, 7.53424658e-05, 1.02739726e-04,\n",
       "        1.43835616e-04, 2.80821918e-04, 3.08219178e-04, 2.32876712e-04,\n",
       "        2.67123288e-04, 5.13698630e-04, 5.00000000e-04, 5.27397260e-04,\n",
       "        6.71232877e-04, 7.53424658e-04, 6.36986301e-04, 7.12328767e-04,\n",
       "        4.86301370e-04, 7.39726027e-04, 1.09589041e-03, 1.38356164e-03,\n",
       "        1.19178082e-03, 9.31506849e-04, 6.43835616e-04, 5.82191781e-04,\n",
       "        6.09589041e-04, 5.06849315e-04, 4.86301370e-04, 5.34246575e-04,\n",
       "        3.83561644e-04, 4.93150685e-04, 4.58904110e-04, 3.63013699e-04,\n",
       "        3.01369863e-04, 3.01369863e-04, 2.67123288e-04, 3.49315068e-04,\n",
       "        3.15068493e-04, 2.12328767e-04, 2.46575342e-04, 1.78082192e-04,\n",
       "        1.43835616e-04, 6.84931507e-05, 1.36986301e-04, 1.23287671e-04,\n",
       "        6.84931507e-05, 8.90410959e-05, 8.21917808e-05, 6.84931507e-05,\n",
       "        5.47945205e-05]),\n",
       " array([   0,   50,  100,  150,  200,  250,  300,  350,  400,  450,  500,\n",
       "         550,  600,  650,  700,  750,  800,  850,  900,  950, 1000, 1050,\n",
       "        1100, 1150, 1200, 1250, 1300, 1350, 1400, 1450, 1500, 1550, 1600,\n",
       "        1650, 1700, 1750, 1800, 1850, 1900, 1950, 2000, 2050, 2100, 2150,\n",
       "        2200, 2250, 2300, 2350, 2400, 2450]),\n",
       " <a list of 49 Patch objects>)"
      ]
     },
     "execution_count": 6,
     "metadata": {},
     "output_type": "execute_result"
    },
    {
     "data": {
      "image/png": "[encoded data removed]",
      "text/plain": [
       "<Figure size 432x288 with 1 Axes>"
      ]
     },
     "metadata": {},
     "output_type": "display_data"
    }
   ],
   "source": [
    "plt.hist(nyt_wc, bins = list(range(0,2500,50)),   normed = True, alpha = 0.7)\n",
    "plt.hist(breit_wc, bins = list(range(0,2500,50)), normed = True, alpha = 0.7)\n",
    "plt.hist(wapo_wc, bins = list(range(0,2500,50)),  normed = True, alpha = 0.7)"
   ]
  },
  {
   "cell_type": "markdown",
   "metadata": {},
   "source": [
    "# Sentence Count"
   ]
  },
  {
   "cell_type": "code",
   "execution_count": 7,
   "metadata": {},
   "outputs": [],
   "source": [
    "nyt_sent_count = [len(text) for text in nyt_sent]\n",
    "breit_sent_count = [len(text) for text in breit_sent]\n",
    "wapo_sent_count = [len(text) for text in wapo_sent]"
   ]
  },
  {
   "cell_type": "code",
   "execution_count": 8,
   "metadata": {},
   "outputs": [
    {
     "name": "stderr",
     "output_type": "stream",
     "text": [
      "/home/joseph/anaconda3/envs/insight/lib/python3.6/site-packages/matplotlib/axes/_axes.py:6462: UserWarning: The 'normed' kwarg is deprecated, and has been replaced by the 'density' kwarg.\n",
      "  warnings.warn(\"The 'normed' kwarg is deprecated, and has been \"\n"
     ]
    },
    {
     "data": {
      "text/plain": [
       "(array([3.75989446e-03, 2.90237467e-03, 6.06860158e-03, 8.44327177e-03,\n",
       "        1.36543536e-02, 1.51055409e-02, 1.53034301e-02, 1.91292876e-02,\n",
       "        1.84696570e-02, 1.76781003e-02, 1.43799472e-02, 1.25329815e-02,\n",
       "        1.00923483e-02, 8.44327177e-03, 6.59630607e-03, 6.53034301e-03,\n",
       "        4.22163588e-03, 2.63852243e-03, 2.04485488e-03, 1.71503958e-03,\n",
       "        2.17678100e-03, 4.61741425e-04, 9.23482850e-04, 9.23482850e-04,\n",
       "        8.57519789e-04, 5.27704485e-04, 8.57519789e-04, 2.63852243e-04,\n",
       "        2.63852243e-04, 3.95778364e-04, 2.63852243e-04, 2.63852243e-04,\n",
       "        2.63852243e-04, 1.31926121e-04, 2.63852243e-04, 6.59630607e-05,\n",
       "        1.31926121e-04, 6.59630607e-05, 1.31926121e-04, 0.00000000e+00,\n",
       "        1.97889182e-04, 2.63852243e-04, 6.59630607e-05, 0.00000000e+00,\n",
       "        1.31926121e-04, 6.59630607e-05, 6.59630607e-05, 1.31926121e-04,\n",
       "        1.31926121e-04]),\n",
       " array([  0,   5,  10,  15,  20,  25,  30,  35,  40,  45,  50,  55,  60,\n",
       "         65,  70,  75,  80,  85,  90,  95, 100, 105, 110, 115, 120, 125,\n",
       "        130, 135, 140, 145, 150, 155, 160, 165, 170, 175, 180, 185, 190,\n",
       "        195, 200, 205, 210, 215, 220, 225, 230, 235, 240, 245]),\n",
       " <a list of 49 Patch objects>)"
      ]
     },
     "execution_count": 8,
     "metadata": {},
     "output_type": "execute_result"
    },
    {
     "data": {
      "image/png": "[encoded data removed]",
      "text/plain": [
       "<Figure size 432x288 with 1 Axes>"
      ]
     },
     "metadata": {},
     "output_type": "display_data"
    }
   ],
   "source": [
    "plt.hist(nyt_sent_count,   bins = list(range(0,250,5)), normed = True, alpha = 0.7)\n",
    "plt.hist(breit_sent_count, bins = list(range(0,250,5)), normed = True, alpha = 0.7)\n",
    "plt.hist(wapo_sent_count,  bins = list(range(0,250,5)), normed = True, alpha = 0.7)"
   ]
  },
  {
   "cell_type": "markdown",
   "metadata": {},
   "source": [
    "# Sentence Length"
   ]
  },
  {
   "cell_type": "code",
   "execution_count": 9,
   "metadata": {},
   "outputs": [],
   "source": [
    "nyt_sent_len = [i/j for i,j in zip(nyt_wc, nyt_sent_count)]\n",
    "breit_sent_len = [i/j for i,j in zip(breit_wc, breit_sent_count)]\n",
    "wapo_sent_len = [i/j for i,j in zip(wapo_wc, wapo_sent_count)]"
   ]
  },
  {
   "cell_type": "code",
   "execution_count": 10,
   "metadata": {},
   "outputs": [
    {
     "name": "stderr",
     "output_type": "stream",
     "text": [
      "/home/joseph/anaconda3/envs/insight/lib/python3.6/site-packages/matplotlib/axes/_axes.py:6462: UserWarning: The 'normed' kwarg is deprecated, and has been replaced by the 'density' kwarg.\n",
      "  warnings.warn(\"The 'normed' kwarg is deprecated, and has been \"\n"
     ]
    },
    {
     "data": {
      "text/plain": [
       "(array([0.        , 0.        , 0.        , 0.        , 0.        ,\n",
       "        0.        , 0.        , 0.        , 0.00065638, 0.00065638,\n",
       "        0.00131277, 0.00131277, 0.00361011, 0.00459468, 0.00656383,\n",
       "        0.01542501, 0.02166065, 0.02691172, 0.04069577, 0.04955694,\n",
       "        0.06990482, 0.06924844, 0.08368887, 0.08500164, 0.09287824,\n",
       "        0.08631441, 0.078766  , 0.06531014, 0.04758779, 0.04069577,\n",
       "        0.03610108, 0.02592714, 0.0157532 , 0.00754841, 0.00492287,\n",
       "        0.00492287, 0.00295372, 0.00295372, 0.00295372, 0.00032819,\n",
       "        0.00065638, 0.00032819, 0.00065638, 0.        , 0.00032819,\n",
       "        0.00032819, 0.00032819, 0.00032819, 0.00032819]),\n",
       " array([ 0,  1,  2,  3,  4,  5,  6,  7,  8,  9, 10, 11, 12, 13, 14, 15, 16,\n",
       "        17, 18, 19, 20, 21, 22, 23, 24, 25, 26, 27, 28, 29, 30, 31, 32, 33,\n",
       "        34, 35, 36, 37, 38, 39, 40, 41, 42, 43, 44, 45, 46, 47, 48, 49]),\n",
       " <a list of 49 Patch objects>)"
      ]
     },
     "execution_count": 10,
     "metadata": {},
     "output_type": "execute_result"
    },
    {
     "data": {
      "image/png": "[encoded data removed]",
      "text/plain": [
       "<Figure size 432x288 with 1 Axes>"
      ]
     },
     "metadata": {},
     "output_type": "display_data"
    }
   ],
   "source": [
    "plt.hist(nyt_sent_len,   bins = list(range(0,50,1)), normed = True, alpha = 0.7)\n",
    "plt.hist(breit_sent_len, bins = list(range(0,50,1)), normed = True, alpha = 0.7)\n",
    "plt.hist(wapo_sent_len,  bins = list(range(0,50,1)), normed = True, alpha = 0.7)"
   ]
  },
  {
   "cell_type": "markdown",
   "metadata": {},
   "source": [
    "# Unique Word Count and Fraction"
   ]
  },
  {
   "cell_type": "code",
   "execution_count": 11,
   "metadata": {},
   "outputs": [
    {
     "name": "stdout",
     "output_type": "stream",
     "text": [
      "!\"#$%&'()*+,-./:;<=>?@[\\]^_`{|}~\n"
     ]
    }
   ],
   "source": [
    "translator = str.maketrans('', '', string.punctuation + '”“')\n",
    "print(string.punctuation)\n",
    "punctuation_set = set(string.punctuation)"
   ]
  },
  {
   "cell_type": "code",
   "execution_count": 12,
   "metadata": {},
   "outputs": [],
   "source": [
    "nyt_unique_wc = [len(set([word for word in text if word not in punctuation_set])) for text in nyt_word]\n",
    "#nyt_unique_wc_old = [len(set(text.lower().translate(translator).split())) for text in nyt_list]\n",
    "#print(nyt_unique_wc[:10], nyt_unique_wc_old[:10])\n",
    "breit_unique_wc = [len(set([word for word in text if word not in punctuation_set])) for text in breit_word]\n",
    "wapo_unique_wc = [len(set([word for word in text if word not in punctuation_set])) for text in wapo_word]\n",
    "\n",
    "\n",
    "#breit_unique_wc = [len(set(text.lower().translate(translator).split())) for text in breit_list]\n",
    "#wapo_unique_wc = [len(set(text.lower().translate(translator).split())) for text in wapo_list]"
   ]
  },
  {
   "cell_type": "code",
   "execution_count": 13,
   "metadata": {},
   "outputs": [],
   "source": [
    "nyt_unique_word_frac = [float(i/j) for i,j in zip(nyt_unique_wc, nyt_wc)]\n",
    "breit_unique_word_frac = [float(i/j) for i,j in zip(breit_unique_wc, breit_wc)]\n",
    "wapo_unique_word_frac = [float(i/j) for i,j in zip(wapo_unique_wc, wapo_wc)]"
   ]
  },
  {
   "cell_type": "code",
   "execution_count": 14,
   "metadata": {},
   "outputs": [
    {
     "name": "stderr",
     "output_type": "stream",
     "text": [
      "/home/joseph/anaconda3/envs/insight/lib/python3.6/site-packages/matplotlib/axes/_axes.py:6462: UserWarning: The 'normed' kwarg is deprecated, and has been replaced by the 'density' kwarg.\n",
      "  warnings.warn(\"The 'normed' kwarg is deprecated, and has been \"\n"
     ]
    },
    {
     "data": {
      "text/plain": [
       "(array([0.        , 0.        , 0.        , 0.        , 0.        ,\n",
       "        0.        , 0.03274394, 0.03274394, 0.        , 0.03274394,\n",
       "        0.03274394, 0.        , 0.03274394, 0.        , 0.03274394,\n",
       "        0.06548788, 0.        , 0.03274394, 0.06548788, 0.13097577,\n",
       "        0.03274394, 0.06548788, 0.16371971, 0.13097577, 0.        ,\n",
       "        0.32743942, 0.29469548, 0.39292731, 0.65487885, 0.81859856,\n",
       "        1.11329404, 1.80091683, 2.35756385, 3.0124427 , 4.19122462,\n",
       "        5.92665357, 6.31958088, 6.58153242, 6.58153242, 6.97445972,\n",
       "        6.38506876, 7.69482646, 5.89390963, 5.53372626, 4.55140799,\n",
       "        3.66732155, 3.79829731, 2.1611002 , 1.63719712, 1.702685  ,\n",
       "        1.63719712, 0.68762279, 0.88408644, 0.52390308, 0.45841519,\n",
       "        0.42567125, 0.29469548, 0.29469548, 0.2292076 , 0.39292731,\n",
       "        0.32743942, 0.13097577, 0.16371971, 0.13097577, 0.09823183,\n",
       "        0.09823183, 0.19646365, 0.06548788, 0.09823183, 0.06548788,\n",
       "        0.        , 0.13097577, 0.09823183, 0.09823183, 0.16371971,\n",
       "        0.13097577, 0.09823183, 0.03274394, 0.06548788, 0.16371971,\n",
       "        0.16371971, 0.03274394, 0.06548788, 0.        , 0.        ,\n",
       "        0.13097577, 0.03274394, 0.03274394, 0.06548788, 0.        ,\n",
       "        0.03274394, 0.        , 0.        , 0.        , 0.        ,\n",
       "        0.        , 0.        , 0.        , 0.        ]),\n",
       " array([0.  , 0.01, 0.02, 0.03, 0.04, 0.05, 0.06, 0.07, 0.08, 0.09, 0.1 ,\n",
       "        0.11, 0.12, 0.13, 0.14, 0.15, 0.16, 0.17, 0.18, 0.19, 0.2 , 0.21,\n",
       "        0.22, 0.23, 0.24, 0.25, 0.26, 0.27, 0.28, 0.29, 0.3 , 0.31, 0.32,\n",
       "        0.33, 0.34, 0.35, 0.36, 0.37, 0.38, 0.39, 0.4 , 0.41, 0.42, 0.43,\n",
       "        0.44, 0.45, 0.46, 0.47, 0.48, 0.49, 0.5 , 0.51, 0.52, 0.53, 0.54,\n",
       "        0.55, 0.56, 0.57, 0.58, 0.59, 0.6 , 0.61, 0.62, 0.63, 0.64, 0.65,\n",
       "        0.66, 0.67, 0.68, 0.69, 0.7 , 0.71, 0.72, 0.73, 0.74, 0.75, 0.76,\n",
       "        0.77, 0.78, 0.79, 0.8 , 0.81, 0.82, 0.83, 0.84, 0.85, 0.86, 0.87,\n",
       "        0.88, 0.89, 0.9 , 0.91, 0.92, 0.93, 0.94, 0.95, 0.96, 0.97, 0.98,\n",
       "        0.99]),\n",
       " <a list of 99 Patch objects>)"
      ]
     },
     "execution_count": 14,
     "metadata": {},
     "output_type": "execute_result"
    },
    {
     "data": {
      "image/png": "[encoded data removed]",
      "text/plain": [
       "<Figure size 432x288 with 1 Axes>"
      ]
     },
     "metadata": {},
     "output_type": "display_data"
    }
   ],
   "source": [
    "plt.hist(nyt_unique_word_frac,   bins = [i/100. for i in list(range(0,100,1))], normed = True, alpha=0.7)\n",
    "plt.hist(breit_unique_word_frac, bins = [i/100. for i in list(range(0,100,1))], normed = True, alpha = 0.7)\n",
    "plt.hist(wapo_unique_word_frac,  bins = [i/100. for i in list(range(0,100,1))], normed = True, alpha = 0.7)"
   ]
  },
  {
   "cell_type": "markdown",
   "metadata": {},
   "source": [
    "# Mean word length"
   ]
  },
  {
   "cell_type": "code",
   "execution_count": 15,
   "metadata": {},
   "outputs": [],
   "source": [
    "nyt_word_len = [np.mean([len(word) for word in text if word not in punctuation_set]) for text in nyt_word]\n",
    "breit_word_len = [np.mean([len(word) for word in text if word not in punctuation_set]) for text in breit_word]\n",
    "wapo_word_len = [np.mean([len(word) for word in text if word not in punctuation_set]) for text in wapo_word]"
   ]
  },
  {
   "cell_type": "code",
   "execution_count": 16,
   "metadata": {},
   "outputs": [
    {
     "name": "stderr",
     "output_type": "stream",
     "text": [
      "/home/joseph/anaconda3/envs/insight/lib/python3.6/site-packages/matplotlib/axes/_axes.py:6462: UserWarning: The 'normed' kwarg is deprecated, and has been replaced by the 'density' kwarg.\n",
      "  warnings.warn(\"The 'normed' kwarg is deprecated, and has been \"\n"
     ]
    },
    {
     "data": {
      "text/plain": [
       "(array([0.        , 0.        , 0.        , 0.        , 0.        ,\n",
       "        0.        , 0.        , 0.        , 0.        , 0.        ,\n",
       "        0.        , 0.0065445 , 0.0065445 , 0.01308901, 0.01963351,\n",
       "        0.0065445 , 0.05235602, 0.05890052, 0.07198953, 0.10471204,\n",
       "        0.09162304, 0.20942408, 0.32068063, 0.34685864, 0.41230366,\n",
       "        0.62827225, 0.69371728, 0.79842932, 0.9947644 , 1.34162304,\n",
       "        1.34162304, 1.66884817, 1.77356021, 1.68193717, 1.38743455,\n",
       "        1.31544503, 1.23036649, 0.95549738, 0.64790576, 0.64136126,\n",
       "        0.32722513, 0.28795812, 0.19633508, 0.09816754, 0.06544503,\n",
       "        0.03272251, 0.01963351, 0.02617801, 0.0065445 , 0.03272251,\n",
       "        0.01963351, 0.0065445 , 0.01308901, 0.0065445 , 0.0065445 ,\n",
       "        0.        , 0.0065445 , 0.        , 0.0065445 , 0.        ,\n",
       "        0.0065445 , 0.        , 0.        , 0.        , 0.        ,\n",
       "        0.        , 0.        , 0.        , 0.        , 0.        ,\n",
       "        0.0065445 , 0.0065445 , 0.        , 0.        , 0.        ,\n",
       "        0.        , 0.        , 0.        , 0.        , 0.        ,\n",
       "        0.        , 0.        , 0.        , 0.        , 0.        ,\n",
       "        0.        , 0.        , 0.        , 0.        , 0.        ,\n",
       "        0.        , 0.        , 0.        , 0.        , 0.        ,\n",
       "        0.        , 0.        , 0.        , 0.        ]),\n",
       " array([3.  , 3.05, 3.1 , 3.15, 3.2 , 3.25, 3.3 , 3.35, 3.4 , 3.45, 3.5 ,\n",
       "        3.55, 3.6 , 3.65, 3.7 , 3.75, 3.8 , 3.85, 3.9 , 3.95, 4.  , 4.05,\n",
       "        4.1 , 4.15, 4.2 , 4.25, 4.3 , 4.35, 4.4 , 4.45, 4.5 , 4.55, 4.6 ,\n",
       "        4.65, 4.7 , 4.75, 4.8 , 4.85, 4.9 , 4.95, 5.  , 5.05, 5.1 , 5.15,\n",
       "        5.2 , 5.25, 5.3 , 5.35, 5.4 , 5.45, 5.5 , 5.55, 5.6 , 5.65, 5.7 ,\n",
       "        5.75, 5.8 , 5.85, 5.9 , 5.95, 6.  , 6.05, 6.1 , 6.15, 6.2 , 6.25,\n",
       "        6.3 , 6.35, 6.4 , 6.45, 6.5 , 6.55, 6.6 , 6.65, 6.7 , 6.75, 6.8 ,\n",
       "        6.85, 6.9 , 6.95, 7.  , 7.05, 7.1 , 7.15, 7.2 , 7.25, 7.3 , 7.35,\n",
       "        7.4 , 7.45, 7.5 , 7.55, 7.6 , 7.65, 7.7 , 7.75, 7.8 , 7.85, 7.9 ,\n",
       "        7.95]),\n",
       " <a list of 99 Patch objects>)"
      ]
     },
     "execution_count": 16,
     "metadata": {},
     "output_type": "execute_result"
    },
    {
     "data": {
      "image/png": "[encoded data removed]",
      "text/plain": [
       "<Figure size 432x288 with 1 Axes>"
      ]
     },
     "metadata": {},
     "output_type": "display_data"
    }
   ],
   "source": [
    "plt.hist(nyt_word_len,   bins = [i/100. for i in list(range(300,800,5))], normed = True, alpha=0.7)\n",
    "plt.hist(breit_word_len, bins = [i/100. for i in list(range(300,800,5))], normed = True, alpha = 0.7)\n",
    "plt.hist(wapo_word_len,  bins = [i/100. for i in list(range(300,800,5))], normed = True, alpha = 0.7)"
   ]
  },
  {
   "cell_type": "markdown",
   "metadata": {},
   "source": [
    "# Sentence length distribution"
   ]
  },
  {
   "cell_type": "code",
   "execution_count": 17,
   "metadata": {},
   "outputs": [],
   "source": [
    "nyt_sent_len_std = [np.std([len(sent) for sent in text]) for text in nyt_sent]\n",
    "breit_sent_len_std = [np.std([len(sent) for sent in text]) for text in breit_sent]\n",
    "wapo_sent_len_std = [np.std([len(sent) for sent in text]) for text in wapo_sent]"
   ]
  },
  {
   "cell_type": "code",
   "execution_count": 18,
   "metadata": {},
   "outputs": [
    {
     "name": "stdout",
     "output_type": "stream",
     "text": [
      "[201, 190, 94, 223, 83, 272, 215, 59, 90, 83, 115, 200, 114, 142, 141, 48, 179, 105, 131, 53, 126, 126, 329, 34, 84, 20, 194, 200, 297, 228, 32, 109, 174, 83, 217, 111, 18, 128, 117, 204, 89, 253, 117, 53, 162, 321, 20, 100, 77, 50, 239, 105, 130, 282, 253, 86, 262, 169, 185, 78, 65, 112, 30, 90, 244, 287, 41, 81, 86, 142, 127, 197, 153, 81, 94, 87, 161, 161, 86, 61, 66, 82, 142, 53, 141, 75, 86, 245, 232, 317, 124, 129, 25, 140, 133, 52, 76, 346, 60, 107, 152, 105, 318, 162, 242, 65, 70, 41, 184, 192, 112, 94, 155, 278, 78, 187, 181, 197, 134, 208, 232, 335, 71, 177, 262, 123, 94, 134, 192, 194, 131, 166, 129, 169, 119, 43, 251, 235, 172, 196, 74, 57, 30, 47, 141, 203, 273, 203, 104, 67, 121, 80, 155, 71, 85, 142, 112, 217, 99, 93, 163, 213, 64, 115, 97, 34, 121, 70, 119, 66, 244, 75, 60, 132, 22, 70, 84, 159, 77, 57, 85, 23, 86, 80, 54, 127, 48, 63, 75, 112, 86, 47, 71, 60, 168, 52, 58, 52, 129, 106, 177, 166, 75, 60, 193, 193, 107, 128, 190, 64, 36, 37] [73.44184736191093, 96.94813117777375, 49.59180314099812, 60.640929363339964, 70.89270645823599, 54.298401496247635, 52.055075728413925, 65.95808683620679, 71.16727205847431, 59.20119753551386]\n"
     ]
    }
   ],
   "source": [
    "print([len(sent) for sent in nyt_sent[0]],nyt_sent_len_std[:10])"
   ]
  },
  {
   "cell_type": "code",
   "execution_count": 19,
   "metadata": {},
   "outputs": [
    {
     "name": "stderr",
     "output_type": "stream",
     "text": [
      "/home/joseph/anaconda3/envs/insight/lib/python3.6/site-packages/matplotlib/axes/_axes.py:6462: UserWarning: The 'normed' kwarg is deprecated, and has been replaced by the 'density' kwarg.\n",
      "  warnings.warn(\"The 'normed' kwarg is deprecated, and has been \"\n"
     ]
    },
    {
     "data": {
      "text/plain": [
       "(array([0.0019685 , 0.00016404, 0.        , 0.00032808, 0.        ,\n",
       "        0.00016404, 0.00032808, 0.00016404, 0.00016404, 0.        ,\n",
       "        0.        , 0.00016404, 0.        , 0.00016404, 0.00016404,\n",
       "        0.00016404, 0.00114829, 0.00032808, 0.00098425, 0.00164042,\n",
       "        0.00360892, 0.00328084, 0.00410105, 0.00574147, 0.00524934,\n",
       "        0.00770997, 0.01213911, 0.01312336, 0.01689633, 0.02099738,\n",
       "        0.0214895 , 0.02542651, 0.02345801, 0.02870735, 0.03248031,\n",
       "        0.02559055, 0.02952756, 0.0265748 , 0.02378609, 0.02526247,\n",
       "        0.02296588, 0.01755249, 0.01541995, 0.01246719, 0.01295932,\n",
       "        0.00951444, 0.00738189, 0.00787402, 0.00492126, 0.00410105,\n",
       "        0.00180446, 0.00492126, 0.00213255, 0.00262467, 0.0019685 ,\n",
       "        0.00180446, 0.00032808, 0.00065617, 0.00082021, 0.00098425,\n",
       "        0.        , 0.        , 0.00032808, 0.        , 0.00016404,\n",
       "        0.00032808, 0.00032808, 0.        , 0.00032808, 0.00016404,\n",
       "        0.00016404, 0.        , 0.00016404, 0.        , 0.        ,\n",
       "        0.        , 0.00016404, 0.        , 0.        , 0.00032808,\n",
       "        0.        , 0.00016404, 0.00016404, 0.00016404, 0.00016404,\n",
       "        0.        , 0.        , 0.00016404, 0.        , 0.        ,\n",
       "        0.        , 0.        , 0.        , 0.        , 0.        ,\n",
       "        0.00016404, 0.        , 0.00016404, 0.        ]),\n",
       " array([  0.,   2.,   4.,   6.,   8.,  10.,  12.,  14.,  16.,  18.,  20.,\n",
       "         22.,  24.,  26.,  28.,  30.,  32.,  34.,  36.,  38.,  40.,  42.,\n",
       "         44.,  46.,  48.,  50.,  52.,  54.,  56.,  58.,  60.,  62.,  64.,\n",
       "         66.,  68.,  70.,  72.,  74.,  76.,  78.,  80.,  82.,  84.,  86.,\n",
       "         88.,  90.,  92.,  94.,  96.,  98., 100., 102., 104., 106., 108.,\n",
       "        110., 112., 114., 116., 118., 120., 122., 124., 126., 128., 130.,\n",
       "        132., 134., 136., 138., 140., 142., 144., 146., 148., 150., 152.,\n",
       "        154., 156., 158., 160., 162., 164., 166., 168., 170., 172., 174.,\n",
       "        176., 178., 180., 182., 184., 186., 188., 190., 192., 194., 196.,\n",
       "        198.]),\n",
       " <a list of 99 Patch objects>)"
      ]
     },
     "execution_count": 19,
     "metadata": {},
     "output_type": "execute_result"
    },
    {
     "data": {
      "image/png": "[encoded data removed]",
      "text/plain": [
       "<Figure size 432x288 with 1 Axes>"
      ]
     },
     "metadata": {},
     "output_type": "display_data"
    }
   ],
   "source": [
    "plt.hist(nyt_sent_len_std,   bins = [i/1. for i in list(range(0,200,2))], normed = True, alpha=0.7)\n",
    "plt.hist(breit_sent_len_std, bins = [i/1. for i in list(range(0,200,2))], normed = True, alpha = 0.7)\n",
    "plt.hist(wapo_sent_len_std,  bins = [i/1. for i in list(range(0,200,2))], normed = True, alpha = 0.7)"
   ]
  },
  {
   "cell_type": "markdown",
   "metadata": {},
   "source": [
    "# Commas per sentence"
   ]
  },
  {
   "cell_type": "code",
   "execution_count": 20,
   "metadata": {},
   "outputs": [],
   "source": [
    "nyt_cps = [counter[',']/sent_num for counter, sent_num in zip(nyt_string_count, nyt_sent_count)]\n",
    "breit_cps = [counter[',']/sent_num for counter, sent_num in zip(breit_string_count, breit_sent_count)]\n",
    "wapo_cps = [counter[',']/sent_num for counter, sent_num in zip(wapo_string_count, wapo_sent_count)]"
   ]
  },
  {
   "cell_type": "code",
   "execution_count": 21,
   "metadata": {},
   "outputs": [
    {
     "name": "stderr",
     "output_type": "stream",
     "text": [
      "/home/joseph/anaconda3/envs/insight/lib/python3.6/site-packages/matplotlib/axes/_axes.py:6462: UserWarning: The 'normed' kwarg is deprecated, and has been replaced by the 'density' kwarg.\n",
      "  warnings.warn(\"The 'normed' kwarg is deprecated, and has been \"\n"
     ]
    },
    {
     "data": {
      "text/plain": [
       "(array([0.04593176, 0.        , 0.        , 0.01312336, 0.00656168,\n",
       "        0.03937008, 0.11811024, 0.04593176, 0.0984252 , 0.10498688,\n",
       "        0.26246719, 0.24278215, 0.41994751, 0.5183727 , 0.55774278,\n",
       "        0.80708661, 0.99081365, 1.1023622 , 1.12204724, 1.02362205,\n",
       "        1.73228346, 1.41076115, 1.37139108, 1.06299213, 1.10892388,\n",
       "        1.01706037, 0.81364829, 0.78740157, 0.67585302, 0.52493438,\n",
       "        0.46587927, 0.22309711, 0.30839895, 0.14435696, 0.13779528,\n",
       "        0.14435696, 0.11154856, 0.0656168 , 0.0656168 , 0.0328084 ,\n",
       "        0.10498688, 0.01968504, 0.03937008, 0.00656168, 0.        ,\n",
       "        0.02624672, 0.02624672, 0.01312336, 0.01312336, 0.        ,\n",
       "        0.01312336, 0.        , 0.        , 0.00656168, 0.00656168,\n",
       "        0.        , 0.        , 0.        , 0.        ]),\n",
       " array([0.  , 0.05, 0.1 , 0.15, 0.2 , 0.25, 0.3 , 0.35, 0.4 , 0.45, 0.5 ,\n",
       "        0.55, 0.6 , 0.65, 0.7 , 0.75, 0.8 , 0.85, 0.9 , 0.95, 1.  , 1.05,\n",
       "        1.1 , 1.15, 1.2 , 1.25, 1.3 , 1.35, 1.4 , 1.45, 1.5 , 1.55, 1.6 ,\n",
       "        1.65, 1.7 , 1.75, 1.8 , 1.85, 1.9 , 1.95, 2.  , 2.05, 2.1 , 2.15,\n",
       "        2.2 , 2.25, 2.3 , 2.35, 2.4 , 2.45, 2.5 , 2.55, 2.6 , 2.65, 2.7 ,\n",
       "        2.75, 2.8 , 2.85, 2.9 , 2.95]),\n",
       " <a list of 59 Patch objects>)"
      ]
     },
     "execution_count": 21,
     "metadata": {},
     "output_type": "execute_result"
    },
    {
     "data": {
      "image/png": "[encoded data removed]",
      "text/plain": [
       "<Figure size 432x288 with 1 Axes>"
      ]
     },
     "metadata": {},
     "output_type": "display_data"
    }
   ],
   "source": [
    "plt.hist(nyt_cps,   bins = [i/100. for i in list(range(0,300,5))], normed = True, alpha = 0.7)\n",
    "plt.hist(breit_cps, bins = [i/100. for i in list(range(0,300,5))], normed = True, alpha = 0.7)\n",
    "plt.hist(wapo_cps,  bins = [i/100. for i in list(range(0,300,5))], normed = True, alpha = 0.7)"
   ]
  },
  {
   "cell_type": "markdown",
   "metadata": {},
   "source": [
    "# semicolons per sentence"
   ]
  },
  {
   "cell_type": "code",
   "execution_count": 35,
   "metadata": {},
   "outputs": [
    {
     "name": "stdout",
     "output_type": "stream",
     "text": [
      "0.007860312566494502 0.008560954135035758 0.007897949009766132\n"
     ]
    }
   ],
   "source": [
    "#print( nyt_sent[0])\n",
    "nyt_semic_ps = [float(counter['really']/sent_num) for counter, sent_num in zip(nyt_string_count, nyt_sent_count)]\n",
    "breit_semic_ps = [float(counter['really']/sent_num) for counter, sent_num in zip(breit_string_count, breit_sent_count)]\n",
    "wapo_semic_ps = [float(counter['really']/sent_num) for counter, sent_num in zip(wapo_string_count, wapo_sent_count)]\n",
    "print(np.mean(nyt_semic_ps), np.mean(breit_semic_ps), np.mean(wapo_semic_ps))\n",
    "#print(nyt_semic_ps[:1000])"
   ]
  },
  {
   "cell_type": "code",
   "execution_count": 40,
   "metadata": {},
   "outputs": [
    {
     "name": "stderr",
     "output_type": "stream",
     "text": [
      "/home/joseph/anaconda3/envs/insight/lib/python3.6/site-packages/matplotlib/axes/_axes.py:6462: UserWarning: The 'normed' kwarg is deprecated, and has been replaced by the 'density' kwarg.\n",
      "  warnings.warn(\"The 'normed' kwarg is deprecated, and has been \"\n"
     ]
    },
    {
     "data": {
      "text/plain": [
       "(array([3.64980289e+02, 1.64257556e-01, 1.14980289e+00, 2.95663601e+00,\n",
       "        4.10643890e+00, 3.44940867e+00, 1.06767411e+01, 1.08409987e+01,\n",
       "        1.16622865e+01, 8.04862024e+00, 1.14980289e+01, 1.06767411e+01,\n",
       "        6.40604468e+00, 5.91327201e+00, 6.07752957e+00, 4.27069645e+00,\n",
       "        4.76346912e+00, 3.94218134e+00, 2.79237845e+00, 2.13534823e+00,\n",
       "        3.28515112e+00, 1.64257556e+00, 1.97109067e+00, 1.47831800e+00,\n",
       "        3.28515112e-01, 1.97109067e+00, 1.47831800e+00, 1.47831800e+00,\n",
       "        8.21287779e-01, 1.64257556e+00, 6.57030223e-01, 1.14980289e+00,\n",
       "        4.92772668e-01, 1.64257556e-01, 6.57030223e-01, 3.28515112e-01,\n",
       "        0.00000000e+00, 3.28515112e-01, 1.47831800e+00, 3.28515112e-01,\n",
       "        4.92772668e-01, 1.64257556e-01, 3.28515112e-01, 0.00000000e+00,\n",
       "        1.64257556e-01, 4.92772668e-01, 0.00000000e+00, 1.64257556e-01,\n",
       "        0.00000000e+00]),\n",
       " array([0.   , 0.002, 0.004, 0.006, 0.008, 0.01 , 0.012, 0.014, 0.016,\n",
       "        0.018, 0.02 , 0.022, 0.024, 0.026, 0.028, 0.03 , 0.032, 0.034,\n",
       "        0.036, 0.038, 0.04 , 0.042, 0.044, 0.046, 0.048, 0.05 , 0.052,\n",
       "        0.054, 0.056, 0.058, 0.06 , 0.062, 0.064, 0.066, 0.068, 0.07 ,\n",
       "        0.072, 0.074, 0.076, 0.078, 0.08 , 0.082, 0.084, 0.086, 0.088,\n",
       "        0.09 , 0.092, 0.094, 0.096, 0.098]),\n",
       " <a list of 49 Patch objects>)"
      ]
     },
     "execution_count": 40,
     "metadata": {},
     "output_type": "execute_result"
    },
    {
     "data": {
      "image/png": "[encoded data removed]",
      "text/plain": [
       "<Figure size 432x288 with 1 Axes>"
      ]
     },
     "metadata": {},
     "output_type": "display_data"
    }
   ],
   "source": [
    "plt.hist(nyt_semic_ps,   bins = [i/500. for i in list(range(0,50,1))], normed = True, alpha = 0.7)\n",
    "plt.hist(breit_semic_ps, bins = [i/500. for i in list(range(0,50,1))], normed = True, alpha = 0.7)\n",
    "plt.hist(wapo_semic_ps,  bins = [i/500. for i in list(range(0,50,1))], normed = True, alpha = 0.7)"
   ]
  },
  {
   "cell_type": "code",
   "execution_count": null,
   "metadata": {},
   "outputs": [],
   "source": []
  },
  {
   "cell_type": "code",
   "execution_count": null,
   "metadata": {},
   "outputs": [],
   "source": []
  },
  {
   "cell_type": "code",
   "execution_count": null,
   "metadata": {},
   "outputs": [],
   "source": []
  },
  {
   "cell_type": "code",
   "execution_count": 41,
   "metadata": {},
   "outputs": [],
   "source": [
    "from sklearn import tree\n",
    "#X = [[0, 0], [1, 1]]\n",
    "#Y = [0, 1]\n",
    "#clf = tree.DecisionTreeClassifier()\n",
    "#clf = clf.fit(X, Y)"
   ]
  },
  {
   "cell_type": "code",
   "execution_count": 75,
   "metadata": {},
   "outputs": [],
   "source": [
    "#join data\n",
    "wc = nyt_wc + breit_wc + wapo_wc\n",
    "sent_len = nyt_sent_len + breit_sent_len + wapo_sent_len\n",
    "sent_len_std = nyt_sent_len_std + breit_sent_len_std + wapo_sent_len_std\n",
    "unique_word_frac = nyt_unique_word_frac + breit_unique_word_frac + wapo_unique_word_frac\n",
    "word_len = nyt_word_len + breit_word_len + wapo_word_len\n",
    "cps = nyt_cps + breit_cps + wapo_cps\n",
    "semic_ps = nyt_semic_ps + breit_semic_ps + wapo_semic_ps\n",
    "#print(len(wc), len(word_length))"
   ]
  },
  {
   "cell_type": "code",
   "execution_count": 141,
   "metadata": {},
   "outputs": [],
   "source": [
    "#combine features\n",
    "X = [[i, j, k, l, m] for i, j, k, l, m in zip(sent_len, sent_len_std, unique_word_frac, word_len, cps)]"
   ]
  },
  {
   "cell_type": "code",
   "execution_count": 142,
   "metadata": {},
   "outputs": [
    {
     "name": "stdout",
     "output_type": "stream",
     "text": [
      "9086\n"
     ]
    }
   ],
   "source": [
    "#labels\n",
    "Y = [0 for i in range(len(nyt_wc))] + [1 for i in range(len(breit_wc))] + [2 for i in range(len(wapo_wc))]\n",
    "print(len(Y))"
   ]
  },
  {
   "cell_type": "code",
   "execution_count": 177,
   "metadata": {},
   "outputs": [],
   "source": [
    "#test train split\n",
    "from sklearn.model_selection import train_test_split\n",
    "\n",
    "X_train, X_test, y_train, y_test = train_test_split(X[:len(Y)], Y, test_size=0.6)"
   ]
  },
  {
   "cell_type": "code",
   "execution_count": 178,
   "metadata": {},
   "outputs": [],
   "source": [
    "#from sklearn.model_selection import GridSearchCV\n",
    "#parameters = {'max_depth':range(3,20)}\n",
    "#clf = GridSearchCV(tree.DecisionTreeClassifier(), parameters, n_jobs=4)\n",
    "#clf.fit(X=X_train, y=y_train)\n",
    "#tree_model = clf.best_estimator_\n",
    "#print (clf.best_score_, clf.best_params_) \n",
    "\n",
    "\n",
    "#clf = tree.DecisionTreeClassifier(max_depth = 5)\n",
    "#clf = clf.fit(X_train, y_train)\n",
    "\n",
    "from sklearn.ensemble import RandomForestClassifier\n",
    "clf = RandomForestClassifier(n_estimators=10)\n",
    "clf = clf.fit(X_train, y_train)"
   ]
  },
  {
   "cell_type": "code",
   "execution_count": 181,
   "metadata": {},
   "outputs": [],
   "source": [
    "y_pred = clf.predict(X_test)\n",
    "#chance = [0 if random.random() > 0.5 else 1 for _ in range(len(y_pred))]"
   ]
  },
  {
   "cell_type": "code",
   "execution_count": 182,
   "metadata": {},
   "outputs": [
    {
     "name": "stdout",
     "output_type": "stream",
     "text": [
      "[[1213.  246.  467.]\n",
      " [ 267. 1157.  460.]\n",
      " [ 377.  366.  899.]] 5452.0\n",
      "Counter({0: 1857, 2: 1826, 1: 1769})\n"
     ]
    },
    {
     "data": {
      "image/png": "[encoded data removed]",
      "text/plain": [
       "<Figure size 432x288 with 2 Axes>"
      ]
     },
     "metadata": {},
     "output_type": "display_data"
    }
   ],
   "source": [
    "conf_mat = np.zeros((3,3))\n",
    "for pred, true in zip(y_pred, y_test):\n",
    "    conf_mat[pred,true] += 1.\n",
    "#conf_mat[2,1] += 1000\n",
    "#[y,x] format (first index (predicted) is on the vertical, second index (truth) is on the horizontal)\n",
    "plt.imshow(conf_mat)\n",
    "plt.colorbar()\n",
    "print(conf_mat, np.sum(conf_mat))\n",
    "print(Counter(y_test))"
   ]
  },
  {
   "cell_type": "code",
   "execution_count": 183,
   "metadata": {},
   "outputs": [
    {
     "data": {
      "text/plain": [
       "['decision_tree_10.pkl']"
      ]
     },
     "execution_count": 183,
     "metadata": {},
     "output_type": "execute_result"
    }
   ],
   "source": [
    "from sklearn.externals import joblib\n",
    "joblib.dump(clf, 'decision_tree_10.pkl') "
   ]
  },
  {
   "cell_type": "code",
   "execution_count": 176,
   "metadata": {},
   "outputs": [
    {
     "ename": "NotFittedError",
     "evalue": "This RandomForestClassifier instance is not fitted yet. Call 'fit' with appropriate arguments before using this method.",
     "output_type": "error",
     "traceback": [
      "\u001b[0;31m---------------------------------------------------------------------------\u001b[0m",
      "\u001b[0;31mNotFittedError\u001b[0m                            Traceback (most recent call last)",
      "\u001b[0;32m<ipython-input-176-26372a4bac5e>\u001b[0m in \u001b[0;36m<module>\u001b[0;34m()\u001b[0m\n\u001b[1;32m      8\u001b[0m export_graphviz(clf, out_file=dot_data,  \n\u001b[1;32m      9\u001b[0m                 \u001b[0mfilled\u001b[0m\u001b[0;34m=\u001b[0m\u001b[0;32mTrue\u001b[0m\u001b[0;34m,\u001b[0m \u001b[0mrounded\u001b[0m\u001b[0;34m=\u001b[0m\u001b[0;32mTrue\u001b[0m\u001b[0;34m,\u001b[0m\u001b[0;34m\u001b[0m\u001b[0m\n\u001b[0;32m---> 10\u001b[0;31m                 special_characters=True)\n\u001b[0m\u001b[1;32m     11\u001b[0m \u001b[0;34m\u001b[0m\u001b[0m\n\u001b[1;32m     12\u001b[0m \u001b[0mgraph\u001b[0m \u001b[0;34m=\u001b[0m \u001b[0mpydotplus\u001b[0m\u001b[0;34m.\u001b[0m\u001b[0mgraph_from_dot_data\u001b[0m\u001b[0;34m(\u001b[0m\u001b[0mdot_data\u001b[0m\u001b[0;34m.\u001b[0m\u001b[0mgetvalue\u001b[0m\u001b[0;34m(\u001b[0m\u001b[0;34m)\u001b[0m\u001b[0;34m)\u001b[0m\u001b[0;34m\u001b[0m\u001b[0m\n",
      "\u001b[0;32m~/anaconda3/envs/insight/lib/python3.6/site-packages/sklearn/tree/export.py\u001b[0m in \u001b[0;36mexport_graphviz\u001b[0;34m(decision_tree, out_file, max_depth, feature_names, class_names, label, filled, leaves_parallel, impurity, node_ids, proportion, rotate, rounded, special_characters, precision)\u001b[0m\n\u001b[1;32m    390\u001b[0m                 \u001b[0mout_file\u001b[0m\u001b[0;34m.\u001b[0m\u001b[0mwrite\u001b[0m\u001b[0;34m(\u001b[0m\u001b[0;34m'%d -> %d ;\\n'\u001b[0m \u001b[0;34m%\u001b[0m \u001b[0;34m(\u001b[0m\u001b[0mparent\u001b[0m\u001b[0;34m,\u001b[0m \u001b[0mnode_id\u001b[0m\u001b[0;34m)\u001b[0m\u001b[0;34m)\u001b[0m\u001b[0;34m\u001b[0m\u001b[0m\n\u001b[1;32m    391\u001b[0m \u001b[0;34m\u001b[0m\u001b[0m\n\u001b[0;32m--> 392\u001b[0;31m     \u001b[0mcheck_is_fitted\u001b[0m\u001b[0;34m(\u001b[0m\u001b[0mdecision_tree\u001b[0m\u001b[0;34m,\u001b[0m \u001b[0;34m'tree_'\u001b[0m\u001b[0;34m)\u001b[0m\u001b[0;34m\u001b[0m\u001b[0m\n\u001b[0m\u001b[1;32m    393\u001b[0m     \u001b[0mown_file\u001b[0m \u001b[0;34m=\u001b[0m \u001b[0;32mFalse\u001b[0m\u001b[0;34m\u001b[0m\u001b[0m\n\u001b[1;32m    394\u001b[0m     \u001b[0mreturn_string\u001b[0m \u001b[0;34m=\u001b[0m \u001b[0;32mFalse\u001b[0m\u001b[0;34m\u001b[0m\u001b[0m\n",
      "\u001b[0;32m~/anaconda3/envs/insight/lib/python3.6/site-packages/sklearn/utils/validation.py\u001b[0m in \u001b[0;36mcheck_is_fitted\u001b[0;34m(estimator, attributes, msg, all_or_any)\u001b[0m\n\u001b[1;32m    766\u001b[0m \u001b[0;34m\u001b[0m\u001b[0m\n\u001b[1;32m    767\u001b[0m     \u001b[0;32mif\u001b[0m \u001b[0;32mnot\u001b[0m \u001b[0mall_or_any\u001b[0m\u001b[0;34m(\u001b[0m\u001b[0;34m[\u001b[0m\u001b[0mhasattr\u001b[0m\u001b[0;34m(\u001b[0m\u001b[0mestimator\u001b[0m\u001b[0;34m,\u001b[0m \u001b[0mattr\u001b[0m\u001b[0;34m)\u001b[0m \u001b[0;32mfor\u001b[0m \u001b[0mattr\u001b[0m \u001b[0;32min\u001b[0m \u001b[0mattributes\u001b[0m\u001b[0;34m]\u001b[0m\u001b[0;34m)\u001b[0m\u001b[0;34m:\u001b[0m\u001b[0;34m\u001b[0m\u001b[0m\n\u001b[0;32m--> 768\u001b[0;31m         \u001b[0;32mraise\u001b[0m \u001b[0mNotFittedError\u001b[0m\u001b[0;34m(\u001b[0m\u001b[0mmsg\u001b[0m \u001b[0;34m%\u001b[0m \u001b[0;34m{\u001b[0m\u001b[0;34m'name'\u001b[0m\u001b[0;34m:\u001b[0m \u001b[0mtype\u001b[0m\u001b[0;34m(\u001b[0m\u001b[0mestimator\u001b[0m\u001b[0;34m)\u001b[0m\u001b[0;34m.\u001b[0m\u001b[0m__name__\u001b[0m\u001b[0;34m}\u001b[0m\u001b[0;34m)\u001b[0m\u001b[0;34m\u001b[0m\u001b[0m\n\u001b[0m\u001b[1;32m    769\u001b[0m \u001b[0;34m\u001b[0m\u001b[0m\n\u001b[1;32m    770\u001b[0m \u001b[0;34m\u001b[0m\u001b[0m\n",
      "\u001b[0;31mNotFittedError\u001b[0m: This RandomForestClassifier instance is not fitted yet. Call 'fit' with appropriate arguments before using this method."
     ]
    }
   ],
   "source": [
    "from sklearn.externals.six import StringIO  \n",
    "from IPython.display import Image  \n",
    "from sklearn.tree import export_graphviz\n",
    "import pydotplus\n",
    "\n",
    "dot_data = StringIO()\n",
    "\n",
    "export_graphviz(clf, out_file=dot_data,  \n",
    "                filled=True, rounded=True,\n",
    "                special_characters=True)\n",
    "\n",
    "graph = pydotplus.graph_from_dot_data(dot_data.getvalue())  \n",
    "Image(graph.create_png())"
   ]
  },
  {
   "cell_type": "code",
   "execution_count": 61,
   "metadata": {},
   "outputs": [
    {
     "name": "stdout",
     "output_type": "stream",
     "text": [
      "[[0.25628141 0.24221106 0.        ]\n",
      " [0.26582915 0.23567839 0.        ]\n",
      " [0.         0.         0.        ]] 1.0000000000000127\n"
     ]
    },
    {
     "data": {
      "image/png": "[encoded data removed]",
      "text/plain": [
       "<Figure size 432x288 with 2 Axes>"
      ]
     },
     "metadata": {},
     "output_type": "display_data"
    }
   ],
   "source": [
    "conf_mat = np.zeros((3,3))\n",
    "for pred_chance, true in zip(chance, y_test):\n",
    "    conf_mat[pred_chance,true] += 1./len(y_pred)\n",
    "\n",
    "plt.imshow(conf_mat)\n",
    "plt.colorbar()\n",
    "print(conf_mat, np.sum(conf_mat))"
   ]
  },
  {
   "cell_type": "code",
   "execution_count": null,
   "metadata": {},
   "outputs": [],
   "source": [
    "total_df = 0"
   ]
  },
  {
   "cell_type": "code",
   "execution_count": null,
   "metadata": {},
   "outputs": [],
   "source": [
    "#import graphviz \n",
    "#dot_data = tree.export_graphviz(clf, out_file='graph') \n",
    "#graph = graphviz.Source(dot_data) \n",
    "#graph.render(\"iris\") "
   ]
  },
  {
   "cell_type": "code",
   "execution_count": null,
   "metadata": {},
   "outputs": [],
   "source": [
    "print(wapo_collect[0])"
   ]
  },
  {
   "cell_type": "code",
   "execution_count": null,
   "metadata": {},
   "outputs": [],
   "source": []
  },
  {
   "cell_type": "code",
   "execution_count": null,
   "metadata": {},
   "outputs": [],
   "source": []
  },
  {
   "cell_type": "code",
   "execution_count": null,
   "metadata": {},
   "outputs": [],
   "source": []
  },
  {
   "cell_type": "code",
   "execution_count": null,
   "metadata": {},
   "outputs": [],
   "source": []
  },
  {
   "cell_type": "code",
   "execution_count": null,
   "metadata": {},
   "outputs": [],
   "source": [
    "#get content column into list\n",
    "article_list = total_df['content'].tolist()\n",
    "print(article_list[:10])"
   ]
  },
  {
   "cell_type": "code",
   "execution_count": null,
   "metadata": {},
   "outputs": [],
   "source": [
    "word_count_list = [len(text.split()) for text in article_list[:10000]]\n",
    "print(word_count_list[:100])"
   ]
  },
  {
   "cell_type": "code",
   "execution_count": null,
   "metadata": {},
   "outputs": [],
   "source": [
    "translator = str.maketrans('', '', string.punctuation)\n",
    "unique_word_list = [set(text.lower().translate(translator).split()) for text in article_list[:10000]]\n",
    "print(unique_word_list[:1])\n",
    "#df.loc[row, column] = pd.DataFrame({'fake_key': list})"
   ]
  },
  {
   "cell_type": "markdown",
   "metadata": {},
   "source": [
    "ADD WORDCOUNT COLUMN"
   ]
  },
  {
   "cell_type": "code",
   "execution_count": null,
   "metadata": {},
   "outputs": [],
   "source": [
    "def word_count(pub_name):\n",
    "    total_df.loc[total_df['publication'] == pub_name, 'word_count'] = total_df.loc[total_df['publication'] == pub_name, 'content'].str.split().str.len()\n",
    "    #nyt_group['word_count'] = nyt_group['content'].str.split().str.len()\n",
    "    #print(nyt_group.head(10))\n",
    "    print(list(total_df))\n",
    "    #print(total_df.loc[total_df['publication'] == pub_name])"
   ]
  },
  {
   "cell_type": "code",
   "execution_count": null,
   "metadata": {},
   "outputs": [],
   "source": [
    "word_count('Washington Post')\n",
    "word_count('New York Times')\n",
    "word_count('Vox')\n",
    "word_count('Fox News')\n",
    "#print(total_df.loc[total_df['publication'] == 'Washington Post']['word_count'].head(20))\n",
    "#wapo_group['word_count'] = wapo_group['content'].str.split().str.len()\n",
    "#print(wapo_group['word_count'].head(20))"
   ]
  },
  {
   "cell_type": "code",
   "execution_count": null,
   "metadata": {},
   "outputs": [],
   "source": [
    "print(total_df.groupby('publication')['word_count'].describe())"
   ]
  },
  {
   "cell_type": "markdown",
   "metadata": {},
   "source": [
    "ADD SENTENCE LENGTH COLUMN"
   ]
  },
  {
   "cell_type": "code",
   "execution_count": null,
   "metadata": {},
   "outputs": [],
   "source": [
    "def sentence_count(pub_name):\n",
    "    total_df.loc[total_df['publication'] == pub_name, 'sentence_count'] = total_df.loc[total_df['publication'] == pub_name]['content'].apply(lambda row: len(sent_detector.tokenize(row.strip())))\n",
    "    #nyt_group['word_count'] = nyt_group['content'].str.split().str.len()\n",
    "    #print(nyt_group.head(10))\n",
    "    print(list(total_df))\n",
    "    #print(total_df.loc[total_df['publication'] == pub_name])\n",
    "\n",
    "#nyt_group['sentence_count'] = nyt_group['content']\n",
    "#print(nyt_group.sentence_count)"
   ]
  },
  {
   "cell_type": "code",
   "execution_count": null,
   "metadata": {},
   "outputs": [],
   "source": [
    "sentence_count('Washington Post')\n",
    "sentence_count('New York Times')\n",
    "sentence_count('Vox')\n",
    "sentence_count('Fox News')\n",
    "#sentence_count('')"
   ]
  },
  {
   "cell_type": "code",
   "execution_count": null,
   "metadata": {},
   "outputs": [],
   "source": [
    "print(total_df.groupby('publication')['sentence_count'].describe())\n",
    "#print(total_df.head(2))"
   ]
  },
  {
   "cell_type": "code",
   "execution_count": null,
   "metadata": {},
   "outputs": [],
   "source": [
    "#plot word count vs sentence length\n",
    "#total_df.groupby('publication').plot(x='word_count', y='sentence_count', style='o')\n",
    "plt.scatter(total_df.loc[total_df['publication'] == 'New York Times','word_count'], total_df.loc[total_df['publication'] == 'New York Times','sentence_count'])\n",
    "plt.scatter(total_df.loc[total_df['publication'] == 'Washington Post','word_count'], total_df.loc[total_df['publication'] == 'Washington Post','sentence_count'])\n",
    "plt.scatter(total_df.loc[total_df['publication'] == 'Vox','word_count'], total_df.loc[total_df['publication'] == 'Vox','sentence_count'])\n",
    "plt.scatter(total_df.loc[total_df['publication'] == 'Fox News','word_count'], total_df.loc[total_df['publication'] == 'Fox News','sentence_count'])\n",
    "\n",
    "plt.xlim((0,5000))\n",
    "\n",
    "plt.ylim((0,200))\n",
    "plt.show()"
   ]
  },
  {
   "cell_type": "code",
   "execution_count": null,
   "metadata": {},
   "outputs": [],
   "source": [
    "#total_df['unique_word_count'] = 0"
   ]
  },
  {
   "cell_type": "code",
   "execution_count": null,
   "metadata": {},
   "outputs": [],
   "source": [
    "def unique_word_count(pub_name):\n",
    "    col_name = 'unique_word_count'\n",
    "    total_df.loc[total_df['publication'] == pub_name, col_name] = total_df.loc[total_df['publication'] == pub_name]['content'].apply(lambda row: len(set(row.lower().split())))\n",
    "    #nyt_group['word_count'] = nyt_group['content'].str.split().str.len()\n",
    "    #print(nyt_group.head(10))\n",
    "    print(list(total_df))\n",
    "    #print(total_df.loc[total_df['publication'] == pub_name])\n",
    "\n",
    "#nyt_group['sentence_count'] = nyt_group['content']\n",
    "#print(nyt_group.sentence_count)"
   ]
  },
  {
   "cell_type": "code",
   "execution_count": null,
   "metadata": {},
   "outputs": [],
   "source": [
    "#unique_word_count('New York Times')\n",
    "#unique_word_count('Vox')\n",
    "#unique_word_count('Washington Post')\n",
    "unique_word_count('Fox News')\n",
    "print(total_df.groupby('publication')['unique_word_count'].describe())"
   ]
  },
  {
   "cell_type": "code",
   "execution_count": null,
   "metadata": {},
   "outputs": [],
   "source": [
    "#total_df.groupby('publication').plot(x='word_count', y='sentence_count', style='o')\n",
    "plt.scatter(total_df.loc[total_df['publication'] == 'New York Times','sentence_count'], total_df.loc[total_df['publication'] == 'New York Times','unique_word_count'], s=4)\n",
    "plt.scatter(total_df.loc[total_df['publication'] == 'Washington Post','sentence_count'], total_df.loc[total_df['publication'] == 'Washington Post','unique_word_count'], s=4)\n",
    "plt.scatter(total_df.loc[total_df['publication'] == 'Vox','sentence_count'], total_df.loc[total_df['publication'] == 'Vox','unique_word_count'], s=4)\n",
    "plt.scatter(total_df.loc[total_df['publication'] == 'Fox News','sentence_count'], total_df.loc[total_df['publication'] == 'Fox News','unique_word_count'], s=4)\n",
    "\n",
    "plt.xlim((0,200))\n",
    "\n",
    "plt.ylim((0,1000))\n",
    "plt.show()"
   ]
  },
  {
   "cell_type": "code",
   "execution_count": null,
   "metadata": {},
   "outputs": [],
   "source": []
  },
  {
   "cell_type": "code",
   "execution_count": null,
   "metadata": {
    "scrolled": true
   },
   "outputs": [],
   "source": []
  },
  {
   "cell_type": "code",
   "execution_count": null,
   "metadata": {},
   "outputs": [],
   "source": [
    "#sub_df_max_wordcount = sub_df\n",
    "total_df.groupby('publication')['word_count'].hist(bins = 100, alpha = 0.5, normed = True)"
   ]
  },
  {
   "cell_type": "code",
   "execution_count": null,
   "metadata": {},
   "outputs": [],
   "source": []
  }
 ],
 "metadata": {
  "kernelspec": {
   "display_name": "Python 3",
   "language": "python",
   "name": "python3"
  },
  "language_info": {
   "codemirror_mode": {
    "name": "ipython",
    "version": 3
   },
   "file_extension": ".py",
   "mimetype": "text/x-python",
   "name": "python",
   "nbconvert_exporter": "python",
   "pygments_lexer": "ipython3",
   "version": "3.6.5"
  }
 },
 "nbformat": 4,
 "nbformat_minor": 2
}
