{
 "cells": [
  {
   "cell_type": "code",
   "execution_count": 3,
   "metadata": {},
   "outputs": [],
   "source": [
    "import pandas as pd\n",
    "import numpy\n",
    "import matplotlib.pyplot as plt\n",
    "%matplotlib inline\n",
    "\n",
    "import pickle\n",
    "import string\n",
    "import numpy as np\n",
    "import random\n",
    "from collections import Counter"
   ]
  },
  {
   "cell_type": "code",
   "execution_count": 4,
   "metadata": {},
   "outputs": [],
   "source": [
    "#import nltk\n",
    "#nltk.download('punkt')\n",
    "#from nltk.tokenize import sent_tokenize\n",
    "import nltk.data\n",
    "sent_detector = nltk.data.load('tokenizers/punkt/english.pickle')"
   ]
  },
  {
   "cell_type": "markdown",
   "metadata": {},
   "source": [
    "# Can skip ahead if you're just dealing with nyt, breit, wapo test data"
   ]
  },
  {
   "cell_type": "code",
   "execution_count": 59,
   "metadata": {},
   "outputs": [],
   "source": [
    "try:\n",
    "    total_df = pd.read_pickle('total_df.p')\n",
    "except:\n",
    "    df_1 = pd.read_csv('articles1.csv')\n",
    "    df_2 = pd.read_csv('articles2.csv')\n",
    "    df_3 = pd.read_csv('articles3.csv')\n",
    "    #print(df_1.head(1))\n",
    "    print(df_1.shape)\n",
    "\n",
    "    #print(df_1.publication.unique())\n",
    "    #print(df_2.publication.unique())\n",
    "    #print(df_3.publication.unique())\n",
    "    #merge dataframes\n",
    "    total_df = pd.concat([df_1, df_2, df_3])\n",
    "    df_1 = 0\n",
    "    df_2 = 0\n",
    "    df_3 = 0\n",
    "    total_df['sentence_count'] = 0\n",
    "    total_df['word_count'] = 0\n",
    "    total_df.to_pickle('total_df.p')\n",
    "publication_names = total_df.publication.unique()"
   ]
  },
  {
   "cell_type": "code",
   "execution_count": null,
   "metadata": {},
   "outputs": [],
   "source": [
    "total_df.publication.value_counts().plot(kind='bar')"
   ]
  },
  {
   "cell_type": "code",
   "execution_count": null,
   "metadata": {},
   "outputs": [],
   "source": [
    "#print(list(total_df))\n",
    "#print(total_df.loc[total_df['publication'] == 'New York Times']['title'])"
   ]
  },
  {
   "cell_type": "code",
   "execution_count": 66,
   "metadata": {},
   "outputs": [],
   "source": [
    "#nyt_list = total_df.loc[total_df['publication'] == 'New York Times']['content'].tolist()\n",
    "nyt_df = total_df.loc[total_df['publication'] == 'New York Times']\n",
    "nyt_semic = nyt_df[nyt_df['content'].str.contains(\";\")]\n",
    "#breit_list = total_df.loc[total_df['publication'] == 'Breitbart']['content'].tolist()\n",
    "#wapo_list = total_df.loc[total_df['publication'] == 'Washington Post']['content'].tolist()"
   ]
  },
  {
   "cell_type": "code",
   "execution_count": 67,
   "metadata": {},
   "outputs": [
    {
     "name": "stdout",
     "output_type": "stream",
     "text": [
      "(0, 12)\n"
     ]
    }
   ],
   "source": [
    "print(nyt_semic.shape)"
   ]
  },
  {
   "cell_type": "code",
   "execution_count": 18,
   "metadata": {},
   "outputs": [],
   "source": [
    "def rand_list(num_articles):\n",
    "    return [random.random() for _ in range(num_articles)]"
   ]
  },
  {
   "cell_type": "code",
   "execution_count": 21,
   "metadata": {},
   "outputs": [],
   "source": [
    "def get_id_content_list(pubname, num_articles):\n",
    "    df_cont_list = total_df.loc[total_df['publication'] == pubname]['content'].tolist()\n",
    "    df_id_list = total_df.loc[total_df['publication'] == pubname]['id'].tolist()\n",
    "    num_articles_in_set = len(df_id_list)\n",
    "    num_rand_to_get = num_articles_in_set if num_articles > num_articles_in_set else num_articles\n",
    "    if num_articles > num_articles_in_set:\n",
    "        print('Warning!', pubname, 'only has ', str(len(df_id_list)), ' articles, but you are asking for ', str(num_articles))\n",
    "    random_num_list = rand_list(num_articles_in_set)\n",
    "    cont_list = [i for ci,i in enumerate(df_cont_list) if random_num_list[ci] > 1-num_rand_to_get/num_articles_in_set]\n",
    "    id_list =   [i for ci,i in enumerate(df_id_list)   if random_num_list[ci] > 1-num_rand_to_get/num_articles_in_set]\n",
    "    return cont_list, id_list"
   ]
  },
  {
   "cell_type": "code",
   "execution_count": 23,
   "metadata": {},
   "outputs": [
    {
     "name": "stdout",
     "output_type": "stream",
     "text": [
      "3040 2990 3056\n",
      "After the bullet shells get counted, the blood dries and the votive candles burn out, people peer down from   windows and see crime scenes gone cold: a band of yellow police tape blowing in the breeze 17284\n"
     ]
    }
   ],
   "source": [
    "num_articles = 3000\n",
    "\n",
    "nyt_list, nyt_id = get_id_content_list('New York Times', num_articles)\n",
    "\n",
    "breit_list, breit_id = get_id_content_list('Breitbart', num_articles)\n",
    "wapo_list, wapo_id = get_id_content_list('Washington Post', num_articles)\n",
    "print(len(nyt_list), len(breit_list), len(wapo_list))\n",
    "print(nyt_list[0][:200], nyt_id[0])"
   ]
  },
  {
   "cell_type": "code",
   "execution_count": 111,
   "metadata": {},
   "outputs": [],
   "source": [
    "def prepare_text(publication_content_list):\n",
    "    if type(publication_content_list) is not list:\n",
    "        publication_content_list = [publication_content_list]\n",
    "    #lower case text\n",
    "    lower_case = [text.strip().lower() for text in publication_content_list]\n",
    "    #replace strange quote characters with normal ones \n",
    "    replace_quotes = [text.replace('“', '\"').replace('”', '\"') for text in lower_case]\n",
    "    #do punkt sentence tokenization\n",
    "    sentence_tokenize = [sent_detector.tokenize(text.strip()) for text in replace_quotes]\n",
    "    #do nltk word tokenization\n",
    "    word_tokenize = [nltk.word_tokenize(text) for text in replace_quotes]\n",
    "    #get unique string counts\n",
    "    string_counts = [Counter(text) for text in word_tokenize]\n",
    "    return sentence_tokenize, word_tokenize, string_counts"
   ]
  },
  {
   "cell_type": "code",
   "execution_count": 25,
   "metadata": {},
   "outputs": [],
   "source": [
    "nyt_sent, nyt_word, nyt_string_count = prepare_text(nyt_list)"
   ]
  },
  {
   "cell_type": "code",
   "execution_count": 26,
   "metadata": {},
   "outputs": [],
   "source": [
    "breit_sent, breit_word, breit_string_count = prepare_text(breit_list)"
   ]
  },
  {
   "cell_type": "code",
   "execution_count": 27,
   "metadata": {},
   "outputs": [],
   "source": [
    "wapo_sent, wapo_word, wapo_string_count = prepare_text(wapo_list)"
   ]
  },
  {
   "cell_type": "code",
   "execution_count": 28,
   "metadata": {},
   "outputs": [],
   "source": [
    "pickle.dump( ['nyt', nyt_id, nyt_sent, nyt_word, nyt_string_count], open( \"nyt_tokenized_strings.p\", \"wb\" ) )\n",
    "pickle.dump( ['breit', breit_id, breit_sent, breit_word, breit_string_count], open( \"breit_tokenized_strings.p\", \"wb\" ) )\n",
    "pickle.dump( ['wapo', wapo_id, wapo_sent, wapo_word, wapo_string_count], open( \"wapo_tokenized_strings.p\", \"wb\" ) )\n",
    "\n",
    "# ['breit', breit_sent, breit_word, breit_string_count],\n",
    "# ['wapo', wapo_sent, wapo_word, wapo_string_count]]"
   ]
  },
  {
   "cell_type": "markdown",
   "metadata": {},
   "source": [
    "# Can start here if you don't care about which articles you got, and you have the article pickle files"
   ]
  },
  {
   "cell_type": "code",
   "execution_count": 5,
   "metadata": {},
   "outputs": [],
   "source": [
    "#unpickle files\n",
    "pub, nyt_id, nyt_sent, nyt_word, nyt_string_count = pickle.load( open( \"nyt_tokenized_strings.p\", \"rb\" ) )\n",
    "pub, breit_id, breit_sent, breit_word, breit_string_count = pickle.load( open( \"breit_tokenized_strings.p\", \"rb\" ) )\n",
    "pub, wapo_id, wapo_sent, wapo_word, wapo_string_count = pickle.load( open( \"wapo_tokenized_strings.p\", \"rb\" ) )"
   ]
  },
  {
   "cell_type": "code",
   "execution_count": 6,
   "metadata": {},
   "outputs": [],
   "source": [
    "translator = str.maketrans('', '', string.punctuation + '”“')\n",
    "punctuation_set = set(string.punctuation + '”“')"
   ]
  },
  {
   "cell_type": "code",
   "execution_count": 7,
   "metadata": {},
   "outputs": [],
   "source": [
    "class Publication():\n",
    "    \n",
    "    def __init__(self, pub_id = '', pub_id_list = [], pub_sent = [], pub_word = [], pub_string_count = []):\n",
    "        self.publication_name = pub_id\n",
    "        self.id_list = pub_id_list\n",
    "        self.sent_tok = pub_sent\n",
    "        self.word_tok = pub_word\n",
    "        self.string_count = pub_string_count\n",
    "    \n",
    "    def calc_word_count(self):\n",
    "        self.word_count = [len(text) for text in self.word_tok]\n",
    "        \n",
    "    def calc_sent_count(self):\n",
    "        self.sent_count = [len(text) for text in self.sent_tok]\n",
    "        \n",
    "    def calc_sent_len(self):\n",
    "        if not self.word_count:\n",
    "            self.calc_word_count()\n",
    "        if not self.sent_count:\n",
    "            self.calc_sent_count\n",
    "        self.sent_len = [i/j for i,j in zip(self.word_count, self.sent_count)]\n",
    "        \n",
    "    def calc_unique_words(self):\n",
    "        self.unique_wc = [len(set([word for word in text if word not in punctuation_set])) for text in self.word_tok]\n",
    "        self.unique_word_frac = [float(i/j) for i,j in zip(self.unique_wc, self.word_count)]\n",
    "\n",
    "    def calc_word_length(self):\n",
    "        self.word_len = [np.mean([len(word) for word in text if word not in punctuation_set]) for text in self.word_tok]\n",
    "\n",
    "    def calc_sent_len_std(self):\n",
    "        self.sent_len_std = [np.std([len(sent) for sent in text]) for text in self.sent_tok]\n",
    "        \n",
    "    def calc_cps(self):\n",
    "        if not self.sent_count:\n",
    "            self.calc_sent_count()\n",
    "        self.cps = [counter[',']/sent_num for counter, sent_num in zip(self.string_count, self.sent_count)]\n",
    "\n",
    "#feature names: word_count, sent_count, sent_len, unique_word_frac, word_len, sent_len_std, cps\n",
    "    "
   ]
  },
  {
   "cell_type": "markdown",
   "metadata": {},
   "source": [
    "# New York Times"
   ]
  },
  {
   "cell_type": "code",
   "execution_count": 8,
   "metadata": {},
   "outputs": [],
   "source": [
    "nyt = Publication(\"New York Times\", nyt_id, nyt_sent, nyt_word, nyt_string_count)\n",
    "nyt.calc_word_count()\n",
    "nyt.calc_sent_count()\n",
    "nyt.calc_sent_len()\n",
    "nyt.calc_unique_words()\n",
    "nyt.calc_word_length()\n",
    "nyt.calc_sent_len_std()\n",
    "nyt.calc_cps()\n",
    "#for i in [nyt]:\n",
    "#    print(i.word_count)\n",
    "#print([i - j for i,j in zip(nyt_wc, nyt.word_count)])\n",
    "#breit_wc = [len(text) for text in breit_word]\n",
    "#wapo_wc = [len(text) for text in wapo_word]"
   ]
  },
  {
   "cell_type": "markdown",
   "metadata": {},
   "source": [
    "# Breitbart"
   ]
  },
  {
   "cell_type": "code",
   "execution_count": 9,
   "metadata": {},
   "outputs": [],
   "source": [
    "breit = Publication(\"Breitbart\", breit_id, breit_sent, breit_word, breit_string_count)\n",
    "breit.calc_word_count()\n",
    "breit.calc_sent_count()\n",
    "breit.calc_sent_len()\n",
    "breit.calc_unique_words()\n",
    "breit.calc_word_length()\n",
    "breit.calc_sent_len_std()\n",
    "breit.calc_cps()"
   ]
  },
  {
   "cell_type": "markdown",
   "metadata": {},
   "source": [
    "# Wapo"
   ]
  },
  {
   "cell_type": "code",
   "execution_count": 10,
   "metadata": {},
   "outputs": [],
   "source": [
    "wapo = Publication(\"Washington Post\", wapo_id, wapo_sent, wapo_word, wapo_string_count)\n",
    "wapo.calc_word_count()\n",
    "wapo.calc_sent_count()\n",
    "wapo.calc_sent_len()\n",
    "wapo.calc_unique_words()\n",
    "wapo.calc_word_length()\n",
    "wapo.calc_sent_len_std()\n",
    "wapo.calc_cps()"
   ]
  },
  {
   "cell_type": "code",
   "execution_count": 72,
   "metadata": {},
   "outputs": [],
   "source": [
    "pub_list = [nyt, breit, wapo]\n",
    "pub_list_labels = ['NYT', 'Breitbart', 'Washington Post']"
   ]
  },
  {
   "cell_type": "markdown",
   "metadata": {},
   "source": [
    "# Plot Data"
   ]
  },
  {
   "cell_type": "code",
   "execution_count": 9,
   "metadata": {},
   "outputs": [
    {
     "name": "stderr",
     "output_type": "stream",
     "text": [
      "/home/joseph/anaconda3/envs/insight/lib/python3.6/site-packages/matplotlib/axes/_axes.py:6462: UserWarning: The 'normed' kwarg is deprecated, and has been replaced by the 'density' kwarg.\n",
      "  warnings.warn(\"The 'normed' kwarg is deprecated, and has been \"\n"
     ]
    },
    {
     "data": {
      "image/png": "[encoded data removed]",
      "text/plain": [
       "<Figure size 432x288 with 1 Axes>"
      ]
     },
     "metadata": {},
     "output_type": "display_data"
    },
    {
     "data": {
      "image/png": "[encoded data removed]",
      "text/plain": [
       "<Figure size 432x288 with 1 Axes>"
      ]
     },
     "metadata": {},
     "output_type": "display_data"
    },
    {
     "data": {
      "image/png": "[encoded data removed]",
      "text/plain": [
       "<Figure size 432x288 with 1 Axes>"
      ]
     },
     "metadata": {},
     "output_type": "display_data"
    },
    {
     "data": {
      "image/png": "[encoded data removed]",
      "text/plain": [
       "<Figure size 432x288 with 1 Axes>"
      ]
     },
     "metadata": {},
     "output_type": "display_data"
    },
    {
     "data": {
      "image/png": "[encoded data removed]",
      "text/plain": [
       "<Figure size 432x288 with 1 Axes>"
      ]
     },
     "metadata": {},
     "output_type": "display_data"
    },
    {
     "data": {
      "image/png": "[encoded data removed]",
      "text/plain": [
       "<Figure size 432x288 with 1 Axes>"
      ]
     },
     "metadata": {},
     "output_type": "display_data"
    },
    {
     "data": {
      "image/png": "[encoded data removed]",
      "text/plain": [
       "<Figure size 432x288 with 1 Axes>"
      ]
     },
     "metadata": {},
     "output_type": "display_data"
    }
   ],
   "source": [
    "# Word Count\n",
    "\n",
    "for i in pub_list:\n",
    "    plt.hist(i.word_count, bins = list(range(0,3000,50)), normed = True, alpha = 0.7)\n",
    "plt.legend(labels = pub_list_labels)\n",
    "plt.title(\"Word count\")\n",
    "plt.show()\n",
    "\n",
    "# Sentence Count\n",
    "\n",
    "for i in pub_list:\n",
    "    plt.hist(i.sent_count, bins = list(range(0,250,5)), normed = True, alpha = 0.7)\n",
    "plt.legend(labels = pub_list_labels)\n",
    "plt.title(\"Sentence count\")\n",
    "plt.show()\n",
    "# Sentence Length\n",
    "\n",
    "for i in pub_list:\n",
    "    plt.hist(i.sent_len, bins = list(range(0,50,1)), normed = True, alpha = 0.7)\n",
    "plt.legend(labels = pub_list_labels)\n",
    "plt.title(\"Sentence length\")\n",
    "plt.show()\n",
    "# Unique Word Count and Fraction\n",
    "\n",
    "for i in pub_list:\n",
    "    plt.hist(i.unique_word_frac, bins = [i/100. for i in list(range(0,100,1))], normed = True, alpha = 0.7)\n",
    "plt.legend(labels = pub_list_labels)\n",
    "plt.title(\"Unique word fraction\")\n",
    "plt.show()\n",
    "\n",
    "# Mean word length\n",
    "\n",
    "for i in pub_list:\n",
    "    plt.hist(i.word_len, bins = [i/100. for i in list(range(300,650,5))], normed = True, alpha = 0.7)\n",
    "plt.legend(labels = pub_list_labels)\n",
    "plt.title(\"Mean word length\")\n",
    "plt.show()\n",
    "\n",
    "# Sentence length distribution\n",
    "\n",
    "for i in pub_list:\n",
    "    plt.hist(i.sent_len_std, bins = list(range(0,170,2)), normed = True, alpha = 0.7)\n",
    "plt.legend(labels = pub_list_labels)\n",
    "plt.title(\"Sentence length variability\")\n",
    "plt.show()\n",
    "\n",
    "# Commas per sentence\n",
    "\n",
    "for i in pub_list:\n",
    "    plt.hist(i.cps, bins = [i/100. for i in list(range(0,300,5))], normed = True, alpha = 0.7)\n",
    "plt.legend(labels = pub_list_labels)\n",
    "plt.title(\"Commas per sentence\")\n",
    "plt.show()"
   ]
  },
  {
   "cell_type": "markdown",
   "metadata": {},
   "source": [
    "# compare given article to mean values of publications"
   ]
  },
  {
   "cell_type": "code",
   "execution_count": 119,
   "metadata": {},
   "outputs": [],
   "source": [
    "def compare_article(text_features):\n",
    "    #pub_list = [nyt, breit, wapo]\n",
    "    wc_mean = [np.mean(i.word_count) for i in pub_list]\n",
    "    print(wc_mean)\n",
    "    #wc_mean1 = [np.mean(nyt_wc), np.mean(breit_wc), np.mean(wapo_wc)]\n",
    "    #print(wc_mean, wc_mean1)\n",
    "    sent_len_mean = [np.mean(i.sent_len) for i in pub_list]#, np.mean(breit_sent_len), np.mean(wapo_sent_len)]\n",
    "    sent_len_std_mean = [np.mean(i.sent_len_std) for i in pub_list]#, np.mean(breit_sent_len_std), np.mean(wapo_sent_len_std)]\n",
    "    unique_word_frac_mean = [np.mean(i.unique_word_frac) for i in pub_list]#, np.mean(breit_unique_word_frac), np.mean(wapo_unique_word_frac)]\n",
    "    word_len_mean = [np.mean(i.word_len) for i in pub_list]#, np.mean(breit_word_len), np.mean(wapo_word_len)]\n",
    "    cps_mean = [np.mean(i.cps) for i in pub_list]#, np.mean(breit_cps), np.mean(wapo_cps)]\n",
    "    features = ['sentence length', 'sentence length distribution', 'unique word fraction', 'word length', 'commas per sentence']\n",
    "    mean_features = [[i, j, k, l, m] for i, j, k, l, m in zip(sent_len_mean, sent_len_std_mean, unique_word_frac_mean, word_len_mean, cps_mean)]\n",
    "    print(mean_features)\n",
    "    pickle.dump(mean_features, open('mean_features.p', 'wb'))\n",
    "    return [[float(i/j) for i,j in zip(text_features, pub_features)] for pub_features in mean_features]"
   ]
  },
  {
   "cell_type": "code",
   "execution_count": 120,
   "metadata": {},
   "outputs": [],
   "source": [
    "def generate_features(text):\n",
    "    sent_tok, word_tok, string_counts = prepare_text(text)\n",
    "    sent_tok = sent_tok[0]\n",
    "    word_tok = word_tok[0]\n",
    "    string_counts = string_counts[0]\n",
    "    \n",
    "    punctuation_set = set(string.punctuation)\n",
    "    word_count = len([word for word in word_tok if word not in punctuation_set])\n",
    "    sent_count = len(sent_tok)\n",
    "    sent_len = float(word_count / sent_count)\n",
    "    sent_std = np.std([len(sent) for sent in sent_tok])\n",
    "\n",
    "    unique_word_count = len(set([word for word in word_tok if word not in punctuation_set]))\n",
    "    unique_word_frac = float(unique_word_count / word_count)\n",
    "    mean_word_length = np.mean([len(word) for word in word_tok if word not in punctuation_set])\n",
    "\n",
    "    cps = string_counts[',']/sent_count\n",
    "    return [sent_len, sent_std, unique_word_frac, mean_word_length, cps]\n"
   ]
  },
  {
   "cell_type": "code",
   "execution_count": 121,
   "metadata": {},
   "outputs": [
    {
     "name": "stdout",
     "output_type": "stream",
     "text": [
      "[20.197183098591548, 69.01703931587748, 0.4302649930264993, 4.46652719665272, 1.3098591549295775]\n",
      "[1347.7601973684211, 587.0765886287626, 1216.7300392670156]\n",
      "[[26.312734925852087, 71.14091839782522, 0.3932280585672628, 4.568412788243869, 1.4453067284338383], [25.35519315101246, 74.23027062214763, 0.47902840537547725, 4.616356193633785, 1.1402077779191107], [24.386067322366973, 73.09051896151644, 0.4120775036811656, 4.6154456218211894, 1.1079407332000408]]\n"
     ]
    },
    {
     "data": {
      "text/plain": [
       "([<matplotlib.axis.XTick at 0x7fedf8fbfe80>,\n",
       "  <matplotlib.axis.XTick at 0x7fedf8b6f128>,\n",
       "  <matplotlib.axis.XTick at 0x7fedf8b6f208>,\n",
       "  <matplotlib.axis.XTick at 0x7fedf8d87f60>,\n",
       "  <matplotlib.axis.XTick at 0x7fedf8ec10f0>],\n",
       " <a list of 5 Text xticklabel objects>)"
      ]
     },
     "execution_count": 121,
     "metadata": {},
     "output_type": "execute_result"
    },
    {
     "data": {
      "image/png": "[encoded data removed]",
      "text/plain": [
       "<Figure size 432x288 with 1 Axes>"
      ]
     },
     "metadata": {},
     "output_type": "display_data"
    }
   ],
   "source": [
    "#print(' '.join(nyt_sent[0]))\n",
    "features = generate_features([' '.join(nyt_sent[10])])\n",
    "\n",
    "print(features)\n",
    "features_compare_to_mean = compare_article(features)\n",
    "features = ['sentence length', 'sentence length distribution', 'unique word fraction', 'word length', 'commas per sentence']\n",
    "plt.title('Features compared to average for {}'.format(\"New York Times\"))\n",
    "plt.bar(list(range(5)), features_compare_to_mean[2], color = 'r')\n",
    "plt.bar(list(range(5)), [1 for _ in range(5)], color = 'black', alpha = 0.5)\n",
    "#plt.ylim((0,1.2))\n",
    "plt.xticks(range(5), features, rotation = 45, ha = 'right')\n",
    "#plt.bar(list(range(5)), features_compare_to_mean[1], alpha = 0.5)\n",
    "\n",
    "#plt.bar(list(range(5)), features_compare_to_mean[2], alpha = 0.5)\n"
   ]
  },
  {
   "cell_type": "markdown",
   "metadata": {},
   "source": [
    "### from sklearn import tree\n",
    "#X = [[0, 0], [1, 1]]\n",
    "#Y = [0, 1]\n",
    "#clf = tree.DecisionTreeClassifier()\n",
    "#clf = clf.fit(X, Y)"
   ]
  },
  {
   "cell_type": "code",
   "execution_count": 11,
   "metadata": {},
   "outputs": [],
   "source": [
    "#join data\n",
    "wc = []\n",
    "sent_len = []\n",
    "sent_len_std = []\n",
    "unique_word_frac = []\n",
    "word_len = []\n",
    "cps = []\n",
    "#feature names: word_count, sent_count, sent_len, unique_word_frac, word_len, sent_len_std, cps\n",
    "for i in pub_list:\n",
    "    wc += i.word_count\n",
    "    sent_len += i.sent_len\n",
    "    word_len += i.word_len\n",
    "    sent_len_std += i.sent_len_std\n",
    "    unique_word_frac += i.unique_word_frac\n",
    "    cps += i.cps\n",
    "#wc = nyt_wc + breit_wc + wapo_wc\n",
    "#sent_len = nyt_sent_len + breit_sent_len + wapo_sent_len\n",
    "#sent_len_std = nyt_sent_len_std + breit_sent_len_std + wapo_sent_len_std\n",
    "#unique_word_frac = nyt_unique_word_frac + breit_unique_word_frac + wapo_unique_word_frac\n",
    "#word_len = nyt_word_len + breit_word_len + wapo_word_len\n",
    "#cps = nyt_cps + breit_cps + wapo_cps\n",
    "#print(len(wc), len(word_length))"
   ]
  },
  {
   "cell_type": "code",
   "execution_count": 50,
   "metadata": {},
   "outputs": [
    {
     "name": "stdout",
     "output_type": "stream",
     "text": [
      "[3040, 2990, 3056]\n",
      "[0, 3040, 6030, 9086]\n",
      "9086\n"
     ]
    }
   ],
   "source": [
    "#combine features\n",
    "X = [[i, j, k, l, m, n] for i, j, k, l, m, n in zip(wc, sent_len, sent_len_std, unique_word_frac, word_len, cps)]\n",
    "n_samples = len(X)\n",
    "data_boundaries = [len(i.word_count) for i in pub_list]\n",
    "print(data_boundaries)\n",
    "cumulative_bounds = [0]\n",
    "for ci, i in enumerate(data_boundaries):\n",
    "    cumulative_bounds.append(i+cumulative_bounds[ci])\n",
    "print(cumulative_bounds)\n",
    "#cumulative_bounds = [0]\n",
    "#cumulative_bounds = [cumulative_bounds[i-1] + i for i in data_boundaries]\n",
    "print(len(X))"
   ]
  },
  {
   "cell_type": "code",
   "execution_count": 37,
   "metadata": {},
   "outputs": [
    {
     "name": "stdout",
     "output_type": "stream",
     "text": [
      "9086\n"
     ]
    }
   ],
   "source": [
    "#labels\n",
    "Y = [0 for i in range(len(nyt.word_count))] + [1 for i in range(len(breit.word_count))] + [2 for i in range(len(wapo.word_count))]\n",
    "print(len(Y))"
   ]
  },
  {
   "cell_type": "code",
   "execution_count": 64,
   "metadata": {},
   "outputs": [
    {
     "name": "stdout",
     "output_type": "stream",
     "text": [
      "[6497 3573 4499 ... 6186 1472 2609]\n",
      "[8404 1369 5826 ... 3167 6538 3656]\n"
     ]
    }
   ],
   "source": [
    "#test train split\n",
    "from sklearn.model_selection import train_test_split\n",
    "\n",
    "indices = np.arange(n_samples)\n",
    "\n",
    "X_train, X_test, y_train, y_test, idx_train, idx_test = train_test_split(X, Y, indices, test_size=0.2)\n",
    "print(idx_train)\n",
    "print(idx_test)"
   ]
  },
  {
   "cell_type": "code",
   "execution_count": 65,
   "metadata": {},
   "outputs": [],
   "source": [
    "#from sklearn.model_selection import GridSearchCV\n",
    "#parameters = {'max_depth':range(3,20)}\n",
    "#clf = GridSearchCV(tree.DecisionTreeClassifier(), parameters, n_jobs=4)\n",
    "#clf.fit(X=X_train, y=y_train)\n",
    "#tree_model = clf.best_estimator_\n",
    "#print (clf.best_score_, clf.best_params_) \n",
    "\n",
    "\n",
    "#clf = tree.DecisionTreeClassifier(max_depth = 5)\n",
    "#clf = clf.fit(X_train, y_train)\n",
    "\n",
    "from sklearn.ensemble import RandomForestClassifier\n",
    "clf = RandomForestClassifier(n_estimators=10)\n",
    "clf = clf.fit(X_train, y_train)"
   ]
  },
  {
   "cell_type": "code",
   "execution_count": 66,
   "metadata": {},
   "outputs": [],
   "source": [
    "y_pred = clf.predict(X_test)\n",
    "#chance = [0 if random.random() > 0.5 else 1 for _ in range(len(y_pred))]"
   ]
  },
  {
   "cell_type": "code",
   "execution_count": 67,
   "metadata": {},
   "outputs": [
    {
     "name": "stdout",
     "output_type": "stream",
     "text": [
      "Normalized confusion matrix\n",
      "[[0.74 0.09 0.16]\n",
      " [0.11 0.73 0.16]\n",
      " [0.25 0.22 0.53]]\n"
     ]
    },
    {
     "data": {
      "image/png": "[encoded data removed]",
      "text/plain": [
       "<Figure size 432x288 with 2 Axes>"
      ]
     },
     "metadata": {},
     "output_type": "display_data"
    }
   ],
   "source": [
    "from sklearn.metrics import confusion_matrix\n",
    "import itertools\n",
    "class_names = ['New York Times', 'Breitbart', 'Washington Post']\n",
    "\n",
    "def plot_confusion_matrix(cm, classes,\n",
    "                          normalize=False,\n",
    "                          title='Confusion matrix',\n",
    "                          cmap=plt.cm.Blues):\n",
    "    \"\"\"\n",
    "    This function prints and plots the confusion matrix.\n",
    "    Normalization can be applied by setting `normalize=True`.\n",
    "    \"\"\"\n",
    "    if normalize:\n",
    "        cm = cm.astype('float') / cm.sum(axis=1)[:, np.newaxis]\n",
    "        print(\"Normalized confusion matrix\")\n",
    "    else:\n",
    "        print('Confusion matrix, without normalization')\n",
    "\n",
    "    print(cm)\n",
    "\n",
    "    plt.imshow(cm, interpolation='nearest', cmap=cmap)\n",
    "    plt.title(title)\n",
    "    plt.colorbar()\n",
    "    tick_marks = np.arange(len(classes))\n",
    "    plt.xticks(tick_marks, classes, rotation=45, ha = 'right')\n",
    "    plt.yticks(tick_marks, classes)\n",
    "\n",
    "    fmt = '.2f' if normalize else 'd'\n",
    "    thresh = cm.max() / 2.\n",
    "    for i, j in itertools.product(range(cm.shape[0]), range(cm.shape[1])):\n",
    "        plt.text(j, i, format(cm[i, j], fmt),\n",
    "                 horizontalalignment=\"center\",\n",
    "                 color=\"white\" if cm[i, j] > thresh else \"black\")\n",
    "\n",
    "    plt.tight_layout()\n",
    "    plt.ylabel('True label')\n",
    "    plt.xlabel('Predicted label')\n",
    "\n",
    "# Compute confusion matrix\n",
    "cnf_matrix = confusion_matrix(y_test, y_pred)\n",
    "np.set_printoptions(precision=2)\n",
    "\n",
    "# Plot non-normalized confusion matrix\n",
    "plt.figure()\n",
    "plot_confusion_matrix(cnf_matrix, classes=class_names,\n",
    "                      title='Confusion matrix', normalize = True)\n"
   ]
  },
  {
   "cell_type": "code",
   "execution_count": 70,
   "metadata": {},
   "outputs": [
    {
     "name": "stdout",
     "output_type": "stream",
     "text": [
      "2 1 27 mismatch\n",
      "everything in the lab gleams. there is no smell and no sound but the insectlike whir of the machine that pumps nitrogen gas into the dozen or so glass storage tanks lining the walls. the pressure of the gas inflates the white rubber gloves attached to the tanks and makes them reach, ghostlike, toward the center of the room. the national museum of natural history’s support center in suitland, md. contains some of the rarest and most precious objects owned by the american people: 17, 000 rocks. they represent the bulk of the nation’s antarctic meteorite collection, an assortment that includes pieces of other planets, shrapnel from the collisions that shaped the solar system, rubble older than anything on earth and crystals possibly older than the sun. retrieved from the bottom of the world and stored for decades in inert nitrogen gas, the collection offers clues to some of the biggest mysteries of existence. \"each meteorite is a piece of the bigger puzzle about how our solar system formed,\" said cari corrigan, the smithsonian geologist who oversees the collection. \"they can tell us where we came from. \" shuffling around the lab in a white gown, hair net and blue cloth bootees (you can’t do anything but shuffle in bootees) corrigan looks like a grim character in \"the andromeda strain\"  —   until she runs down the row of tanks and   the rubber gloves sticking out of them. she fits her hands in a pair of gloves, reaches inside a tank, pulls a tub off a shelf, passes it through the air lock, then yanks open the door. sifting through the meteorites, each encased in its own protective plastic bag, corrigan explains what they indicate about the origins of our world. cari corrigan examines a meteorite in the nmnh clean room. (gillian   washington post)  the oldest rocks are chondrites  —   meteorites that clumped together in the swirl of dust and gas that surrounded the sun as the planets began to form. some include pale flecks called \"calcium aluminum inclusions\" that are thought to be the most primitive substances in the solar system  —   some of their crystals may predate the sun. at a venerable 4. 5 billion years old, chondrites are as old as our planet and substantially older than anything else on it. tectonic activity on earth means that most material is churned back into the interior before it gets too old  —   the most ancient rock known to science was formed 4 billion years ago. these space rocks offer insight into the conditions that created our planet that can’t be found anywhere else on earth. iron meteorites come from the heavy cores of asteroids or   planets. the smallest of these have the surprising heft of a paperweight; the larger ones feel like a cannon ball. \"people study these to figure out what’s going on at the center of the earth,\" corrigan said. \"we are never going to get samples from the core of the earth,\"  —   no human drilling operation has even gotten halfway through the crust to the mantle  —   but these are the next best thing. corrigan specializes in the rocks that result from collisions between asteroids, planets and other bits of space junk. the melt patterns on these meteorites hint at a period called the \"late heavy bombardment,\" 3. 9 billion years ago, when a mysterious gravitational disturbance swung through the solar system and sent rocky bodies slamming into each other with cataclysmic results. rarest of all are meteorites from other, known bodies in our solar system, like the moon and mars. \"it’s like it’s own planetary mission every time we get one of those,\" corrigan said. \"you can learn what the climate was like, the temperature, the history of the surface . .. all from one rock you can hold in your hand. \" top: antarctic search for meteorites scientists recover meteorite samples from the miller range of the transantarctic mountains. bottom: the sterile ice fields of antarctica are among the best places on earth to search for meteorites. (nasa)  though meteorites fall all over the planet  —   on cities, on deserts, on cars, on the hips of women asleep on their couches  —   antarctica is far and away the best place to look for them. the flow of ice across the continent sweeps the rocks into piles. meanwhile, the cold, dry conditions keep the rocks pristine. \"when the only things around you are white snow and blue ice, and then you see that black and brown rock, it’s exciting,\" said corrigan, who has spent two field seasons working on the frozen continent with the antarctic search for meteorites (ansmet). \"you’re the first person ever to see a piece of another planet. \" twenty years ago this august, nasa scientists announced a \"startling discovery\": a martian meteorite collected near the antarctic coast held small structures that looked like the fossilized forms of tiny microbes. it also contained organic molecules that are almost always the result of biological processes. the rock was named allan hills 84001 for the spot (antarctica’s allan hills) and year (1984) in which it was found. encased in a glass sphere that corrigan stores in a   black briefcase, the small, dark rock is among the ansmet’s most precious finds. it formed during the first few hundred thousand years of mars’s history, was blasted off the surface during an impact 16 million years ago and fell to earth at the end of the last ice age. it sat unnoticed in the meteorite collection for years, until scientists realized it came from mars. then geologist dave mckay spotted the strange, wormlike structures buried in the rock. \"today, rock 84001 speaks to us across all those billions of years and millions of miles,\"   bill clinton said at a news conference the day of nasa’s announcement. \"it speaks of the possibility of life. if this discovery is confirmed, it will surely be one of the most stunning insights into our universe that science has ever uncovered. \" allan hills 84001 (nasa)  corrigan, then a graduate fellow at nasa’s johnson space center, witnessed the tense excitement that gripped the space community. this was the kind of discovery that many scientists spend their lives dreaming about, sure to win a nobel prize and change the world. and, taken together, the lines of evidence defined by the researchers made a compelling case for life. but there was no unequivocal confirmation that living beings once dwelled in the rock. it ran up against the scientific truism that \"extraordinary claims require extraordinary evidence. \" did nasa really have the extraordinary evidence required? it didn’t. one by one, each of the lines of evidence thought to point to life inside allan hills 84001 were refuted. the structures that looked like microfossils might have been introduced when the meteorite was treated in the lab or they could have been caused by chemical reactions with no life required. the organic compounds embedded in the rock could have come from the exhaust of the snowmobiles the original collectors were driving. within a decade, scientists had more or less settled the issue: the odd forms inside the meteorite almost certainly are not martians. but they were left with a new question  —   one that many researchers had not previously considered: if a meteorite containing martians did fall to earth, would we even recognize them as such? \"you could argue that the whole field of astrobiology came out of this,\" corrigan said, gesturing toward the unlikely chunk of rock secured inside its glass case. partly in response to the allan hills debate, biologists and planetary scientists began working together to figure out how organisms could live on mars and what they might look like. in 1999, nasa’s mars global surveyor began mapping the planet and found suggestions of liquid water on its surface. it was followed by spirit, opportunity and curiosity, rovers whose mission was to seek out signs of habitability on the red planet. closer to home, biologists began to find more and more organisms living in the darkest caves, the depths of the oceans, wisps of cloud and newly formed rocks still hot from the planet’s interior. there may not have been organisms in allan hills 84001, but they were almost everywhere else on earth. \"it opened up so many new questions and lines of study we didn’t even know existed then,\" corrigan said. \"you can do a study and have it not necessarily be correct in the end . .. but you end up changing the face of science. \" in november, six of corrigan’s colleagues headed to antarctica for their 40th season of meteorite collecting. bundled up against the wind and brutal cold, they’ll spend weeks out on the ice, scouring the blue and white landscape for tiny bits of black. they go back year after year, retrieving rock after rock, because there’s no knowing which one will be the next to change everything. or perhaps, like allan hills, that rock is already sitting in the smithsonian’s collection, locked in a tank and preserved in nitrogen, waiting for someone to reach in and grab it. tales from the vault: science museums are home to vast research collections, most of which the public never gets to see  —   until now. once a month, speaking of science will go behind the scenes at our favorite museums to introduce readers to the fascinating objects and people we find there. read past installments here.\n"
     ]
    },
    {
     "name": "stdout",
     "output_type": "stream",
     "text": [
      "\n",
      "2 1 51 mismatch\n",
      "the white man charged with killing nine black parishioners at a church in charleston, s. c. last year will be allowed to represent himself in his federal   trial, a judge said monday. this means that dylann roof, 22, could question survivors of the attack if they are called to testify in the case, one of two trials he faces for the massacre at emanuel ame church. in addition to being indicted on federal   charges, roof has been charged with murder and attempted murder in state court, and he faces potential death sentences in both trials. u. s. district judge richard gergel’s decision monday came as jury selection is getting underway in the federal trial after a   delay. jury selection was initially scheduled to begin earlier this month, but it was abruptly postponed after   questions arose about roof’s ability to understand the proceedings and assist in his own defense. on friday, gergel ruled that roof was competent to stand trial, although he kept sealed his exact reasons for doing so, and hearings and filings on the matter also were shielded from public view. a federal judge has ruled that dylann roof, suspected of shooting and killing nine black parishioners at a south carolina church, is mentally competent to stand trial. roof faces 33 federal counts of hate crimes and faces the death sentence in a separate state murder trial scheduled for 2017. (reuters)    there were other sealed filings over the weekend in the case, which may have reflected debate about roof’s request to represent himself. it is unclear how his decision to represent himself could affect the timetable for the trial, which is expected to last months. gergel is expected to issue a written order later monday, according to the justice department. attorneys for roof have said that he had planned to plead guilty if the federal government did not seek a death sentence. david bruck, an attorney for roof, did not respond to a message seeking comment about roof’s decision to represent himself. roof told gergel that he wanted his attorneys to continue sitting at his table during the trial and act as his \"standby counsel,\" according to the post and courier newspaper. prosecutors say that roof \" \" online, absorbing violent white supremacist beliefs through the internet, rather than from any personal experiences or associations. after the church massacre, authorities found a manifesto online that belonged to roof and was filled with racist characterizations of black people. it also contained images of roof holding a confederate battle flag and standing in front of a confederate museum. authorities say they have found two handwritten manifestos from roof, one in his jail cell and the other in his car. they also say they located a list of churches. further reading: accused charleston church shooter dylann roof competent to stand trial, judge rules police probe threatening letters in charleston, at least one of which referred to roof the justice dept. decided this year to seek a death sentence for roof\n",
      "\n",
      "2 1 58 mismatch\n",
      "it’s always wise to have a plan b. and because plan a  —   the oval office  —   is looking less and less likely, donald trump surely has something else in mind. will that something else be a new     venture? as the candidate himself might phrase it, \"a lot of people think so. \" after all, trump is good buddies with the recently deposed roger ailes,   of fox news, and just brought over stephen bannon, chairman of breitbart news, to run his campaign. trump’s    jared kushner, brings more media experience as the owner and publisher of the weekly new york observer. and trump has found a big (if not quite big enough) and voracious audience to follow him wherever he leads. \"they’ll turn the campaign into a news network,\" predicts ben shapiro, the former editor at large of breitbart and a conservative commentator and author. and just where on the spectrum might such a venture position itself? \"bannon and trump see an opening to the right of fox,\" shapiro said. there’s no love lost between shapiro and bannon. in march, shapiro resigned after breitbart news sided with the trump campaign rather than defend its reporter michelle fields, who (credibly) said she was roughed up by   manager corey lewandowski. he has since called breitbart news \"trump’s personal pravda. \" shapiro has a dim but entertaining view of the programming that trump tv, shall we call it, might offer. the venture might start fairly small, he said, and buy a   block on newsmax, the conservative cable channel. he envisions this opening lineup: \"an hour of ‘the sean hannity show,’ an hour of ‘the ann coulter show,’ an hour of ‘the milo yiannopoulos show’ and ‘the steve bannon yells at you for an hour show.’ \" one element would be unavoidable, of course  —   the star of the show. \"we would get lots and lots of trump,\" predicts erick erickson, the conservative radio host. the candidate already has proved himself adept at social media with his combative judgments and media criticisms on twitter. erickson, however, thinks a   tv network is \"more of a pipe dream\" and that \"another   book to get him back in the good graces of a lot of republicans\" is more likely. or, he thinks, trump might decide on another   show, perhaps with a political spin. glenn beck, who left fox in 2011 to start what is now called theblaze, told buzzfeed last week that he thinks trump will go the route not of a cable network but, as beck did, that of an online,   video channel. indeed, there are serious questions about whether the candidate really could form a new tv network  —   an extraordinarily expensive proposition that requires a kind of   discipline and attention span trump rarely exhibits. (the direct involvement of ailes is problematic, because his departure from fox after recent allegations of sexual harassment reportedly included a   agreement not to compete with the network he founded.) erickson wonders who would advertise on such a network  —   he thinks the pickings would be very slim. but there is no question that trump and tv go together like michael phelps and chlorinated water. in the new book \"trump revealed,\" the washington post’s marc fisher and michael kranish explore how trump’s   show, \"the apprentice,\" transformed his image and unexpectedly gave him a political platform and base. \" ‘the apprentice’ turned trump from a blowhard richie rich who had just gone through his most difficult decade into an unlikely symbol of straight talk, an evangelist for the american gospel of success,\" they wrote. and that translated straight into politics: mark burnett, the show’s creator, \"came to believe that if trump ever ran for president, it wouldn’t be a result of ‘the apprentice,’ but without ‘the apprentice’ there could be no candidacy. \" after november, with a base of support revved up and angry at what probably will be billed as a stolen election, what would make more sense than for the trump pendulum to swing back to tv? sarah ellison of vanity fair, whose june article brought the speculation about a   media venture to a full boil, quoted a    source: \"win or lose, we are onto something here. we’ve triggered a base of the population that hasn’t had a voice in a long time. \" many of the pieces, therefore, are in place: an eager audience whose politics demand feeding, an experienced corps of media experts already on board and trump himself, who craves the constant attention that such an enterprise could bring. bannon, a former investment banker, could begin lining up investors for the venture immediately. whatever happens, it seems unlikely that trump simply would slink off to the golf courses near    should things not go his way nov. 8. his brand  —     than ever before, if less admired by many  —   needs constant polishing and exposure. whatever its size and scope, a   media venture of some sort makes all too much sense. as the future nominee said himself in a 1990 playboy interview, \"the show is trump, and it’s   performances everywhere. \" i wouldn’t bet against it for a second. and i wouldn’t want to watch it for any longer than that. for more by margaret sullivan, visit wapo. .\n",
      "\n",
      "2 1 59 mismatch\n",
      "herders select and sort reindeer inside the enclosure. (sergei  )  in about a week, children across america will be staring at the sky in hopes of catching a glimpse of rudolph or one of his reindeer friends. but for the people snuggled in russia’s remote arctic regions there are usually so many reindeer  —   an estimated 730, 000  —   that for centuries people have had to herd these creatures to keep the population manageable. that said, 2016 has not been a good year for reindeer in the nenets autonomous district, a  subdivision of siberia made up mostly of flat,   tundra, that is the size of california, texas, montana and both dakotas combined. in august, a lighting strike killed a few hundred; a few thousand more were killed by anthrax  —   a result of the region’s soaring temperature; and in october, russia proposed killing a   to prevent the anthrax outbreak from spreading. but for the village of krasnoye, the only settlement in the nenets region connected by road to the region’s capital, the herding tradition lives on. igor ledkov, who works at the harp agricultural cooperative in krasnoye, told reuters photographer sergei karpukhin, who photographed the practice last month, \"this year we plan to cull more than 3, 000 reindeer. \" ledkov said the herders try to ensure the population doesn’t exceed 17, 000. although karpukhin’s stunning and spirited images capture the art and craft of reindeer culling, he isn’t the first photographer to document the ritual. the washington post featured sebastiao salgado’s stark black and white images four years ago. a lot has changed, but much has remained the same. a man stands at a site that local residents consider holy, during the sunrise in the nenets autonomous district. (sergei  )     (sergei  )     (sergei  )     (sergei  )     herders select and sort reindeer inside the enclosure. (sergei  )     a herder sits inside the enclosure where he and others select and sort reindeer in krasnoye. (sergei  )     herders cut off reindeer antlers inside the enclosure in the settlement. (sergei  )     a girl watches herders selecting and sorting reindeer near the enclosure. (sergei  )     reindeer antlers cut off by herders lie inside the enclosure. (sergei  )     farm employees process reindeer carcasses in the settlement of krasnoye. (sergei  )     reindeer herders cook and eat inside a tent in the tundra area in the nenets autonomous district. (sergei  )     (sergei  )     a church in krasnoye. (sergei  )\n"
     ]
    },
    {
     "name": "stdout",
     "output_type": "stream",
     "text": [
      "\n",
      "2 1 129 mismatch\n",
      "the crowd rose to its feet and roared its approval as sen. jeff sessions bounded onto the stage at the breakers, an exclusive resort in palm beach, fla. stephen miller, an aide to the alabama republican, handed him a glass trophy honoring his bravery as a lawmaker. \"heyyyy!\" sessions yelled out to the crowd. the ceremony that day, in november 2014, turned out to be a harbinger: it brought together an array of   activists and a   charity whose ideas would soon move from the fringes of the conservative movement into the heart of the nation’s government. the man behind the event was david horowitz, a former ’60s radical who became an intellectual godfather to the far right through his writings and his work at a charity, the david horowitz freedom center. since its formation in 1988, the freedom center has helped cultivate a generation of political warriors seeking to upend the washington establishment. these warriors include some of the most powerful and influential figures in the trump administration: attorney general sessions, senior policy adviser miller and white house chief strategist stephen k. bannon. long before trump promised to build a wall, ban muslims and abandon the paris climate accord, horowitz used his   group to rail against illegal immigrants, the spread of islam and global warming. center officials described hillary clinton as evil, president barack obama as a secret communist and the democratic party as a front for enemies of the united states. the freedom center has declared itself a \"school for political warfare,\" and it is part of a loose nationwide network of   charities linked together by ideology, personalities, conservative funders and websites, including the   breitbart news. horowitz’s story shows how charities have become essential to modern political campaigns, amid lax enforcement of the federal limits on their involvement in politics, while taking advantage of millions of dollars in what amount to taxpayer subsidies. in interviews with the washington post, horowitz, 78, acknowledged the freedom center’s partisan mission and said its aim is to protect \"traditional american values\" against adversaries on the left, who operate their own network of charities. \"this is a shadow political universe,\" he said. horowitz makes a good living as the freedom center chief executive, earning $583, 000 from a charity that received $5. 4 million in donations in 2015, according to the latest available records. but he said he has come to believe that his group and others across the political spectrum ought to be reined in to ensure they fulfill the original spirit of the internal revenue service’s charitable rules, even though such overhauls would be \"personally devastating for me. \" \"they should redefine what a charity is,\" he said. \"a charity should be something that helps everybody. \" the irs prohibits charities from directly or indirectly participating in political campaigns, for or against candidates. in an essay he published online in response to the post’s questions after refusing further interviews, horowitz wrote the center \"does not engage in political activities in the narrow sense used in the i. r. s. code. \" david horowitz, founder of the david horowitz freedom center, speaks to a reporter after a speech by   gov. george w. bush at the beverly hills hotel in beverly hills, calif. in 1998. (reed   press)  a lefty moves right horowitz looks like a professor, with a    goatee and small oval glasses. he speaks with a scratchy voice that carries strong hints of his new york roots. he is quick to use fiery rhetoric and    tactics he had learned as a student radical. horowitz was a \"red diaper baby\" of communist parents in new york city. after attending columbia university in the 1950s, he enrolled as a graduate student at the university of california at berkeley, an anchor of leftist thinking. over the next two decades, he took on prominent roles in the new left. he served as an editor of ramparts, an influential muckraking magazine in san francisco. but by the late 1970s, he had decided that the left represented a profound threat to the united states. on march 17, 1985, he and a writing partner came out as conservatives in a surprising washington post magazine article headlined \"lefties for reagan. \" in august 1988, horowitz launched the center for the study of popular culture in los angeles, a nonprofit group that would become the freedom center. charities have been around since the nation’s beginning, as citizens sought to help schools, churches and the poor. decades ago, congress created a special section of the irs code to define and regulate charities, which are known as 501( c)(3) groups under the code. they have a special allure for donors: they can deduct contributions from their taxes. irs rules give charities wide latitude, but they may not devote a \"substantial part\" of their resources or activities to lobbying or \"carrying on propaganda. \" and they \"are absolutely prohibited from directly or indirectly participating in, or intervening in, any political campaign on behalf of (or in opposition to) any candidate for elective public office,\" according to the irs. in his irs application for   status in august 1988, horowitz wrote his center would be \"entirely   \" according to records obtained through a public records request. \"it will not be organized to promote any particular political program. \" twenty years later, a brochure for one of the charity’s events would sharply contradict that claim: \"in 1988, horowitz created the center for the study of popular culture to institutionalize his campaigns against the left and its   agendas. \" from the start, horowitz was supported by contributions from stalwart conservative groups, including the john m. olin foundation and the lynde and harry bradley foundation, along with donations from the wealthy scaife family of pittsburgh. in 1989, he   \"destructive generation: second thoughts about the sixties,\" a harsh critique of the radical left. he also began hosting events. a gathering called the wednesday morning club catered to conservatives in liberal los angeles. in the 1990s, one of the regular guests was bannon, then a former wall street investor seeking to make his mark in hollywood, according to lionel chetwynd, the event’s  . \"conservatives are nervous around me, and they’re nervous because i’m very outspoken,\" horowitz told the post. \"steve bannon was not nervous because he’s like me. \" bannon did not respond to requests for interviews. stephen miller, president trump’s senior policy adviser, listens during the daily press briefing at the white house in washington on march 27. (jabin   washington post)  the origin of stephen miller after the sept. 11, 2001, terrorist attacks, horowitz and his center argued that liberals had been too tolerant of radical islam and illegal immigration. open to that message was stephen miller, a    high school student in santa monica, calif. in the fall of 2001, miller asked horowitz for help in disputes with administrators at his school. miller complained his teachers and classmates were insufficiently patriotic and refused to say the pledge of allegiance. horowitz’s charity launched a group called students for academic freedom, framing it as a counterweight to the dominance of the left in high schools and on college campuses. miller formed a chapter and sought permission from school officials to invite horowitz to the school to speak. when administrators delayed, miller and horowitz accused them of stifling free speech. horowitz eventually spoke at the school, and in november 2002, miller wrote about the visit in an essay in frontpagemag. com, the online news and opinion site run by the center. miller portrayed himself as the victim of indoctrination and called on the system’s superintendent to ensure \"that his schools stress inclusive patriotism, rather than a multiculturalism. \" when miller went on to duke university, he formed another chapter of students for academic freedom and again invited horowitz to speak. at the time, horowitz had just published \"the professors: the 101 most dangerous academics in america,\" a book some condemned as a political blacklist. after graduation, miller wanted to work in washington. horowitz reached out to conservatives on capitol hill who had supported his group. he helped miller land jobs with four lawmakers, including former representative michele bachmann ( .) and sessions. \"i highly recommended him to jeff,\" horowitz told the post. miller did not respond to requests for interviews. by 2006, horowitz’s charity, now operating as the david horowitz freedom center, was staging events, publishing books and pamphlets, and operating a website devoted to \"news on the war at home and abroad\" against the left. that same year, horowitz wrote \"the shadow party: how george soros, hillary clinton, and sixties radicals seized control of the democratic party. \" he and a   argued that soros, a hedge fund billionaire, was a \"political manipulator\" who financed a vast movement on the left, with help from charities and other nonprofit groups. the freedom center stepped up its   rhetoric, sponsoring an \"islamofascism awareness week\" on college campuses. horowitz accused u. s. college campuses of fostering \"jew hatred\" and supporting islamist militant terror. it also formed an alliance with another charity called jihad watch, which would become a leading voice in calling for restrictions on muslim immigrants. \"our work at jihad watch relates to dispelling falsehoods and disinformation spread by the washington post and others regarding the motivating ideology, nature and magnitude of the jihad threat worldwide and within the u. s.,\" the group’s chief, robert spencer, told the post in a statement last month. in the 2000s, the freedom center continued receiving millions in support from conservative donors, more than $4 million annually. the election of barack obama in 2008 provided an extra boost to fundraising. it also affirmed the center’s belief that \"the political left has declared war on america and its constitutional system, and is willing to collaborate with america’s enemies abroad,\" according to the center’s website. \"for most of those years the center was a voice crying in the wilderness with few willing to recognize the threat from the enemy within, a fifth column force that was steadily expanding its influence within the democratic party. \" this was all too much for some prominent mainstream conservatives such as william kristol and george will, who formerly sat on the board of the bradley foundation. \"some people seem not to feel fully alive unless they are furious,\" will wrote in an email to the post. [will writes a   column for the post] \"perhaps this is because they gain derivative significance from the feeling that they are personally involved in momentous events. \" the exclusive breakers resort in palm beach, fla. hosted the annual \"david horowitz’s restoration weekend. \" (joe   images)  minimal irs regulation the freedom center was among a growing group of allied charities that received funding from large, conservative foundations such as donors capital fund, donors trust, the bradley foundation and the scaife family. for decades, those foundations and others had financed nonprofit organizations that promoted free enterprise and small government and opposed the environmental movement and other issues favored by progressives. in general, charities have been able to operate with little scrutiny by regulators. the number of enforcement officials at the irs and the audits they conduct have dwindled over the past decade. the irs became especially reluctant to enforce limitations on political activity, following a furious backlash from conservatives and republicans in congress in 2013 over allegations the agency was illegally targeting tea party groups seeking   status. an irs spokesman declined to comment. cleta mitchell, a lawyer, bradley foundation board member and recipient of a freedom center award, said conservative charities \"take great pains to stay within their lanes from a legal perspective. \" matthew vadum, senior vice president of the   capital research center and a prolific contributor to the freedom center’s frontpagemag. com, said there is no question the conservative charities work in concert. but the irs rules are open to interpretation and unclear about the limits, he said. \"it’s a network,\" vadum said. \"[c]onservative activist groups try to push the envelope. and it’s not always clear how far they should go. \" ron robinson, president of young america’s foundation and another ally of the freedom center, said ideological alliances and shared financial support are commonplace across the political spectrum, not just on the right. \"this is a reality of the modern world,\" robinson said. \"i don’t view it as pernicious. they make it possible to enrich the world of ideas. \" by 2008, the freedom center had assumed a leading role in the   branch of the network, spending $2. 7 million on seminars and meetings that routinely attracted the luminaries of the conservative movement. the most popular of these annual gatherings was \"david horowitz’s restoration weekend,\" which was often held at the breakers in palm beach, a stunning hotel complex modeled on the medici palaces of renaissance italy. these were lavish affairs. in november 2009, the center paid $438, 000 to produce the event at the breakers, an irs filing shows. that covered   videos and cocktail parties and, for major donors, spa and golf privileges. a marquee event that weekend was the citizens united film festival. it included a documentary written and directed by bannon about the ravages of the financial meltdown called \"generation zero. \" the citizens united foundation, another conservative   charity, would soon pay bannon hundreds of thousands for fundraising and film consulting. bannon was becoming an important ally for horowitz and a pivotal figure in the growing network. bannon and a partner once suggested including horowitz in a proposed documentary to be called \"destroying the great satan: the rise of islamic fascism in america. \" the movie’s draft outline warned of an islamic takeover of the united states. in march 2012, bannon was named the executive chairman of the online breitbart news site, following the unexpected death of his friend and collaborator, andrew breitbart. bannon immediately began steering the site even deeper into the   movement. from left, counselor to the president kellyanne conway, chief strategist stephen k. bannon and senior adviser jared kushner arrive in the east room of the white house before president trump’s joint news conference with british prime minister theresa may on jan. 27. (melina   washington post)  the    on nov. 12, 2013, bannon hosted a book party for horowitz at a washington, d. c. townhouse that served as breitbart’s capital office and bannon’s living quarters. horowitz had just published a compendium of   writings called the \"black book of the american left. \" as horowitz mingled, bannon introduced himself to ronald radosh, a prominent conservative intellectual and historian. radosh had known horowitz for a   and also worked his way through the ranks of the new left before becoming a conservative. \"i’m steve bannon and this is my house,\" bannon said, according to an account that radosh wrote about for the daily beast in august and discussed with the post. \"i’m a leninist,\" bannon said, according to radosh. \"lenin wanted to destroy the state, and that’s my goal, too. i want to bring everything crashing down, and destroy all of today’s establishment. \" a few days later, horowitz traveled to palm beach to host another restoration weekend at the breakers. bannon was going, too  —   in part to raise money for a documentary film about horowitz. bannon said he needed $1 million and there were few venues better for finding wealthy donors. as it happened, bannon could not raise the money, according to two attendees who heard his pitch. but he received an unexpected gift. it came from patrick caddell, a veteran democratic pollster who had once worked for president jimmy carter. he was speaking about his recent study of americans’ sentiments toward washington, the economy and the nation’s future. he said americans were feeling glum:   blamed   elites in both parties for their troubles. they craved an outsider to shake things up. his findings thrilled the crowd, caddell told the post in a lengthy interview. he earlier gave a similar account to the new yorker. caddell said bannon arranged for a private briefing the next day, to include robert and rebekah mercer, a hedge fund billionaire and his daughter. for two years, bannon had worked with the mercers, who invested millions in breitbart news. the family also helped bannon launch a   charity called the government accountability institute, which describes itself as a nonpartisan investigative organization. bannon and the mercers huddled with caddell in a   lounge at the breakers. the mercers were entranced by what they were hearing, caddell told the post, and bannon \"was ecstatic. \" \"being a basic   it fit his views,\" caddell said. robert mercer asked caddell to confirm the poll’s findings, offering to pay the costs. caddell told the post the   poll did just that. the charities and their media allies began to coalesce around the discontent that caddell documented. \"you don’t find a lot of cooperation between conservative groups, but now this network, we have breitbart, drudge . . . \" horowitz told the 2013 restoration weekend attendees, according to video of the speech. \"it’s going to be very, very powerful over time. \" sen. jeff sessions ( .) then a nominee for u. s. attorney general, walks through the halls of the capitol in washington on feb. 1. (melina   washington post)  ‘fighting fire with fire’ by late 2013, the freedom center barely resembled the charity the irs had approved for tax exemption. when it began, he told the irs that it planned to serve the \"broad public community as an educational institution. \" now it was openly involved in fighting a political war with the left. \"you can counter their attacks by turning their guns around,\" horowitz said in a speech at the time. \"you can neutralize them by fighting fire with fire. \" among the center’s targets was climate change, which it attacked repeatedly as a ruse by the left. frontpagemag. com writers made fun of global warming in stories with headlines such as \"new study says global warming is good for polar bears\" and \"global warming ended in 1996. \" the site also ran stories insinuating that democrats were cooperating with islamist militants: \"jihad migrating to red states  —   with obama’s blessing,\" \"the left’s embrace of islamic rape,\" and \" ‘sanctuary cities’ or ‘safe havens’ for terrorists?\" in march 2014, the center made the first of $175, 000 in contributions to the party for freedom, a group founded by geert wilders, one of europe’s most ardent   politicians, according to documents released by the dutch government and originally described by the new york times and the intercept. he was campaigning on a platform of preventing the \"islamization of the netherlands,\" proposing a ban on muslim immigration and the shuttering of mosques. later that year, wilders spoke at restoration weekend. \"the truth is that our own western culture  —   based on christianity, based on judaism and humanism  —   is far superior, far superior, than the islamic culture that immigrants have adopted,\" wilders said to applause. on hand that weekend was jeff sessions, a regular at the annual retreat. he was honored with a glass trophy for helping to derail a bipartisan bill aimed at overhauling u. s. immigration law. he acknowledged horowitz from the stage. \"i’ve seen some great people receive this, david. and it’s a special treat and pleasure for me, david, because you know how much i admire you as we battle for right and justice and law,\" sessions said. later that night, sessions and miller went to a lounge at the resort. joining them was ann coulter, another regular and a contributor to frontpagemag. com. she was writing a book called \"adios, america: the left’s plan to turn our country into a third world hellhole. \" as sessions sipped on a drink, she and miller batted around ideas about how to crack down on immigration until long after midnight. \"there was obviously a major meeting of the minds,\" said one person in the lounge at the time who spoke on the condition of anonymity out of fear of repercussions. \"they thought immigration was the single most important issue in the country. \" coulter did not respond to requests for comment. from left, senior adviser jared kushner, senior policy adviser stephen miller and chief strategist stephen k. bannon, shown in the oval office of the white house on april 20, are part of president trump’s key inner circle. (jabin   washington post)  ‘it’s quite an impressive list’ as the presidential campaign heated up, horowitz’s group and the conservative network shifted into high gear. \"hillary clinton may go to prison,\" said a breitbart headline in august 2015, when bannon was still its chief. that same month, frontpagemag. com ran stories titled \"hillary under siege\" and \"the last days of hillary. \" peter schweizer, president of the government accountability institute, bannon’s charity, published \"clinton cash,\" a searing critique of bill and hillary clinton’s foundation and personal enrichment. schweizer worked with bannon as an editor at large at breitbart, and the two men were preparing to make a documentary based on the book. for his part, horowitz fired off contentious remarks about the race at every turn, and not only about hillary clinton. he also denounced the republicans who branded themselves \"never trump. \" in may 2016, when it became clear trump would be the republican nominee, he called conservative columnist william kristol a \"republican spoiler\" and \"renegade jew\" in breitbart news because of his opposition to trump. \"to weaken the only party that stands between the jews and their annihilation, and between america and the forces intent on destroying her, is a political miscalculation so great and a betrayal so profound as to not be easily forgiven,\" horowitz wrote. the article created an uproar, with some critics accusing the jewish horowitz of making   remarks. in response to questions from the post, kristol played down the episode and dismissed horowitz as a bombastic  . \"david is an angry man. he thinks he’s been denied the power and recognition he deserves. so he lashes out. i shudder to think of david’s rage when he realizes he’s been taken for a ride by a con man,\" kristol said. \"i look forward to the day when american conservatism regains its moral health and political sanity, and the david horowitz center is back on the fringe, where i’m afraid it belongs. \" but the freedom center and others in the network were rising on the trump tide. the campaign named bannon the chief executive, david bossie of citizens united the vice president and miller an adviser. in august, horowitz took advantage of his ties to the campaign to offer a proposal for spending billions on school vouchers for poor, largely minority children  —   who horowitz said had been underserved by democrats. miller made sure it became part of trump’s platform  —   along with a proposed ban on muslims, a border wall and other ideas long supported by the freedom center and its ideological allies. on dec. 14, 2016, during a videotaped event, horowitz expressed happiness about trump’s victory and said republicans had finally woken up to his approach to politics. he pulled from his suit coat a piece of paper listing freedom center supporters already in the administration. \"it’s quite an impressive list,\" horowitz said, rattling off the names: sessions, bannon, vice president pence, reince priebus, kellyanne conway and at least six others. \"my personal favorite is steve miller, because steve, who was today appointed the senior policy adviser in the white house . . . is a kind of protege of mine,\" he said. \"so the center has a big stake in this administration. \" the white house and justice department did not respond to requests for comment. two weeks later, the freedom center named bannon its man of the year. \"over the years people would refer to my freedom center as a ‘think tank’ and i would correct them, ‘no, it’s a battle tank,’ because that is what i felt was missing most in the conservative cause  —   troops ready and willing to fight fire with fire,\" horowitz wrote in breitbart in february. \"the trump administration may be only a few weeks old, but it is already clear that the new white house is a battle tank. \"\n"
     ]
    },
    {
     "name": "stdout",
     "output_type": "stream",
     "text": [
      "\n",
      "2 1 143 mismatch\n",
      "to taste a cronut  —   an actual, legit cronut  —   you must be willing to brave the sea of humanity that amasses each morning outside dominique ansel bakery in manhattan. you can also go to a dunkin’ donuts in pretty much any city and order something that’s kind of like ansel’s iconic pastry, cut from croissant dough and then deep fried. or, in sacramento, you could have a doissant. in san francisco, you can scarf down a cruffin, which is not a doughnut at all, but hey, close enough. given how fast food trends emerge and travel, it’s not surprising that there’s a cronut, or  . but the hottest food trend of the past five years may be copycatting. call it food plagiarism. and the examples go way beyond the cronut. kimchi quesadillas and   tacos were the brilliant pairings that launched los angeles’s roy choi and the kogi food trucks  —   and then set off an   of   knockoffs. new york’s doughnut plant claims to have cooked up square jelly doughnuts nearly a decade ago; but now you can have one at washington’s astro doughnuts. do you drool over the    cakes with ganache drippings that australian home baker katherine sabbath posts for her nearly 300, 000 instagram followers? buzz bakery can sell you an \"homage,\" and so can plenty of other shops from new york to california. and for a doughy bun overstuffed with a slab of fatty pork belly and a schmear of hoisin, you can head to one of the restaurants in david chang’s growing momofuku empire, or any of the quintillion american ramen shops made in momofuku’s image. \"once upon a time, a chef produced something, and it slowly made its way around, by people eating there, by    by traditional media,\" says david sax, author of \"the tastemakers,\" which traces the evolution of food crazes. this is how it worked in the days of the caesar salad and the baked alaska. but if cooking has always revolved around adapting and perfecting existing dishes, why does this feel different? one word: speed. \"it’s happening so quickly, it’s impossible to control,\" says sax. point a    finger at instagram, which provides the blueprints for bakers in ohio and jakarta to start   perfectly good bagels the unholy hues of a grateful dead  . and don’t forget the foodies, eager and willing to gobble up the edible equivalent of a fake fendi bag. but unlike the purses of canal street, food copycats may even affirm the value of the real deals and turn an unknown chef who spawns a trend into a household name. if no one copies your pork bun or your rainbow bagel, \"if nobody cared enough to even imitate it,\" says sax, that means \"it doesn’t resonate with anyone. \" washington’s takorean makes korean tacos, including this one with caramelized tofu and spiced kale with lime crema. (kate patterson)     little sesame, a new washington hummus shop, offers a bowl topped with beets, hazelnuts and herbs that’s similar to a dish served at philadelphia’s dizengoff. (lavanya   washington post)    copyright vs. copycats james beard   chef mike solomonov and his business partner, steven cook, have opened several popular philadelphia eateries: israeli restaurant zahav; a hummus place known as dizengoff; and a     joint called federal donuts. and his fans, he says, email him when they spot what look like plagiarists. dizengoff serves a hummus bowl with beets and hazelnuts, and in washington, hummus restaurant little sesame serves a hummus bowl with beets and hazelnuts. phoenix’s welcome chicken + doughnuts looks a lot like federal donuts. \"it’s sometimes a little bit weird,\" solomonov confesses. \"you’re, like, ‘wow, they’re doing korean fried chicken and doughnuts?’ wouldn’t they want to do something different?\" but he’s learned to shrug it off. \"we didn’t invent korean fried chicken, and we didn’t invent cake doughnuts,\" he says. in fact, he’s convinced that somewhere in israel, a chef is looking at his restaurants and yelling, \"what the $*#)?\" \"we all copy each other anyway,\" he says. \"especially when you’re young and inexperienced  —   you do what you know is going to make people happy. \" sometimes, however, the plagiarist isn’t a naive young chef. burger king boldly hawks the big king, which is exactly what it sounds like: an uncanny match, double patty for double patty,   bun for   bun, for mcdonald’s big mac. another burger chain, red robin, has begun serving a towering new sammy that unabashedly apes new york chef keizo shimamoto’s behemoth trend food, the ramen burger. in march,   chain 16 handles unveiled mmmilk & cereal, a   treat that chief executive solomon choi proudly declared \"you won’t see anywhere else. \" but we have: at milk bar dessert shops, where christina tosi’s cereal milk   has been one of the most iconic sugar rushes of the past decade. \"mmmilk & cereal\" was hastily renamed \"cereal bowl,\" but it remained on 16 handles’ taps. how is that possible? cereal milk has been a staple   flavor at christina tosi’s milk bar for years. last month,   chain 16 handles unveiled a flavor it called mmmilk & cereal. (katherine   washington post)  chefs can protect the names of their unique creations  —   think boardwalk fries, the cronut or    —   says michael f. snyder, a philadelphia lawyer experienced in food industry intellectual property law. it’s far harder, he says, to prove that someone’s dish is a knockoff, mostly because it’s a high bar to prove that yours is original. what about a recipe? forget it. in the eyes of the u. s. copyright office (and the courts) recipes are just lists of ingredients that can’t be copyrighted; neither can a chef copyright a work derived from something that already existed. and what chef can argue that they’ve created not only a new dish, but also the cooking techniques that went into it? designs, like the ridges in a ruffles potato chip, can be copyrighted if they’re unique, snyder says, but once a chef cooks a dish on a television show or publishes a cookbook, a business secret becomes fair game. even so, ansel published a version of his cronut recipe for home cooks. \"i don’t think worrying about imitators is a healthy way to create,\" he says by email. \"protecting yourself and your intellectual property is something i’ve had to learn to do. \" ansel trademarked the cronut name, but not for the reasons you might expect. he was prompted, he says, by \"trademark trolls, who sweep in and trademark something they didn’t create and later prevent the creators from using the name. \" and he doesn’t think that plagiarism is just part of the business. \"quite the opposite, actually,\" he says. \"i think the nature of the business is for chefs to create and express their own styles. \" who started it? for eons, dining has evolved as ideas are built upon ideas. a new dish tweaking some stale old dish emerges. chefs also pass on techniques to their underlings. \"plenty of people know how to make our hummus,\" solomonov says of his former chefs. \"there are no secrets. \" a restaurant’s real intellectual property, he argues, are the intangibles: service, consistency, mood and ambience. \"it isn’t the recipes at all. \" philadelphia chef mike solomonov says that fans write him when they see knockoffs of his dishes around the country. (mike persico)      chef keizo shimamoto created the ramen burger, modeled after japanese street food and the fare at    burger. now, chain red robin offers a version. (aaron   images for food network sobe wine & food festival)    perhaps this is why chefs rarely call one another out publicly for food plagiarism but do frequently accuse each other of stealing a concept, a name or a restaurant’s look. often, they do it in a good   legal filing, says snyder. in one of the most memorable cases, the u. s. supreme court weighed in on whether one texas   chain, two pesos, had mimicked the appearance of another, taco cabana. it awarded millions to taco cabana. in new york, the kati roll company sued in 2014 when a competitor opened with a similar name and common colors in its logos and interior design, not to mention dishes that smacked of food plagiarism. the rival’s response? if the food was similar, wasn’t it because both restaurants served traditional indian food, which is thousands of years old? the other restaurant eventually changed its name, but it had a point. who can lay claim to dishes that seem to have appeared out of nowhere and spread like wildfire? who knows who fried the first batch of crispy brussels sprouts, or who first eyed a flavorless   salad and decided to use kale instead? it’s an \"industry where no idea is truly original,\" says sax, although these days, chefs do \"take credit for stuff. they instagram it, and they hashtag it. that’s the currency by which they’re building their brand. \" david chang, he says, didn’t create ramen. \"dominque ansel did not invent doughnuts or croissants, or even some   proofed dough pastry. \" of their copycats, sax says, \"while it may seem like intellectual thievery and   fundamentally, this is how the culture of food moves forward. \" \"if a chef puts something on their menu that they weren’t the first to do, that’s not a crime. that’s cuisine. \"\n"
     ]
    },
    {
     "name": "stdout",
     "output_type": "stream",
     "text": [
      "\n",
      "2 1 150 mismatch\n",
      "as donald trump marches towards the gop nomination, it’s worth pointing out two stories from this past week about what the next president can do as the foreign policy leader of the nation. in the atlantic, conor friedersdorf discusses what the president can do on the security front without any congressional constraint  …     and walks away terrified: let me put things more starkly: under current precedent, the commander in chief can give a secret order to kill an american citizen with a drone strike without charges or trial. should donald trump have that power? …     before moving into a new house, parents of small children engage in  . before leaving the white house, obama should engage in  . for eight years, he has evinced a high opinion of his own ability to exercise power morally, even in situations where senator obama thought that the president should be restrained. at this point, better to flatter his ego than to resist it. you’ll be gone soon, mr. president, and for all our disagreements, i think your successor is highly likely to be less trustworthy and more corruptible than you were. meanwhile, in the wall street journal, greg ip looks at the protectionist powers of a sitting president  …     and walks away terrified: as mr. trump closes in on the republican presidential nomination by promising voters he’ll crack down on foreign competitors, the rest of the world should take stock of the extraordinary power a president has to take the country in a protectionist direction  …    . while the candidates haven’t delved into the details of trade enforcement, a president has enormous leverage through several broader powerful tools, such as section 301 of the trade act of 1974, which authorizes the president to take \"all appropriate and feasible steps\" against any \"unjustifiable or unreasonable\" discrimination against u. s. exports, and section 201, under which he can seek to protect industry from surging imports  …    . though the law is murky, a president can probably pull the u. s. out of the wto or nafta on six months’ notice, says gary horlick, a veteran trade lawyer, though that would leave in place many of the laws enacting their provisions, such as on tariff cuts and   rights. so, in other words, over time the president has amassed significant levers of power with fewer checks and balances than americans commonly realize. [to be fair, there have been valid reasons for some of these shifts in power from the legislative to the executive. if you think presidents are bad at foreign economic policy, you haven’t paid attention to legislative history. but still, this is a thing.] as much as obama decried overreaching executive power as a candidate in 2008, he has become part of the problem as president. this president has concentrated control over foreign policy within the white house to a far greater degree than anyone since richard nixon. in response to an actively hostile   congress, obama has simply bypassed the legislative branch through executive action. while many of obama’s supporters embraced this strategy in the face of an implacable congress, it creates an office ripe for abuse if, say, a vainglorious blowhard were to get elected. i’m probably overreacting to the concentration of power in the executive branch. the system is designed for the president to think about the national interest more than other elected officials. and for obvious reasons, trump probably won’t win. probably. but even if the next president is hillary clinton or bernie sanders, it is worth thinking hard about whether the prerogatives of foreign policy have become too concentrated over time.\n",
      "\n",
      "2 1 156 mismatch\n",
      "the   man facing murder charges in the slayings of two college women is expected to plead guilty this week, according to a letter released by the albemarle county prosecutor’s office. jesse l. matthew jr. 33, is set to enter pleas wednesday involving hannah graham, a university of virginia sophomore who was found dead in 2014, and morgan harrington, a virginia tech student whose body was discovered in a field in albemarle county in 2010, the letter said. [how police linked jesse matthew to the slaying of hannah graham]  matthew faced the possibility of the death penalty in the graham case, and he was scheduled to go to trial this year in harrington’s slaying. in a letter to the news media, albemarle county commonwealth’s attorney robert n. tracci wrote that matthew \"will be entering pleas of guilty to resolve both the hannah graham and morgan harrington abduction and murder cases. \" the letter did not describe details of the plea agreement, which would not be final until approved by a judge. tracci did not return calls for comment, and administrators in his office declined to elaborate. douglas ramseur, the public defender assigned to matthew, also declined to comment. [read tracci’s letter to the media]  gil harrington, whose daughter vanished in charlottesville after a metallica concert in 2009 and was found dead months later, said she has spoken to officials in the prosecutor’s office about their efforts to resolve the case. \"i’ve known that this eventuality was in the works and that both sides were working toward this as a logical outcome,\" harrington said monday. she said it will spare the families from what probably would have been a long and   legal process, including a trial. it will also bring to a close a   wait for the harringtons, who have sought justice on behalf of their daughter. \"it is not a   time of celebrations,\" harrington said. \"our daughter is still as dead as she was six and a half years ago  —   nothing can change that. \" authorities have described matthew as a predator who managed to go undetected for years. he grew up in albemarle county and was a standout athlete in high school. he briefly attended liberty university and christopher newport university to play football. in charlottesville, he worked as a cabdriver and later as an orderly at the university of virginia hospital. jesse l. matthew jr. (ap)  he was convicted in june 2015 of charges related to a vicious 2005 sex assault in fairfax city. in that case, matthew did not admit guilt but instead entered an alford plea, acknowledging that prosecutors had enough evidence to convict him for the assault that left the female victim clinging to life. he was sentenced to three life terms. although authorities had collected dna evidence in the fairfax assault and harrington’s case, both crimes remained unsolved for years. it was only after matthew was arrested in 2014 on charges related to graham’s disappearance that police said they were able to link him to the earlier crimes. [the three cases police say are linked to jesse l. matthew jr.]  graham, 18, disappeared early into her second year at  . and police quickly found that surveillance footage showed that matthew was the last person seen with graham on the september night she vanished. after a nationwide manhunt, matthew was apprehended on a beach near galveston, tex. an   swab taken after his arrest later showed that matthew was linked to dna evidence recovered from under the fingernails of the 2005   victim. police also found that matthew’s dna was connected to evidence found in the harrington slaying. [jesse matthew convicted in 2005 sex assault case in fairfax]  that matthew will now enter guilty pleas to resolve both cases, while long overdue, brings some solace for harrington’s parents. the result of their patience, her mother said, is that \"a violent sexual predator has been removed from the community, and that makes the community a safer place. \" the hearing is scheduled for 1:30 p. m. in albemarle county court in charlottesville.\n"
     ]
    },
    {
     "ename": "KeyboardInterrupt",
     "evalue": "",
     "output_type": "error",
     "traceback": [
      "\u001b[0;31m---------------------------------------------------------------------------\u001b[0m",
      "\u001b[0;31mKeyboardInterrupt\u001b[0m                         Traceback (most recent call last)",
      "\u001b[0;32m~/anaconda3/envs/insight/lib/python3.6/site-packages/ipykernel/kernelbase.py\u001b[0m in \u001b[0;36m_input_request\u001b[0;34m(self, prompt, ident, parent, password)\u001b[0m\n\u001b[1;32m    728\u001b[0m             \u001b[0;32mtry\u001b[0m\u001b[0;34m:\u001b[0m\u001b[0;34m\u001b[0m\u001b[0m\n\u001b[0;32m--> 729\u001b[0;31m                 \u001b[0mident\u001b[0m\u001b[0;34m,\u001b[0m \u001b[0mreply\u001b[0m \u001b[0;34m=\u001b[0m \u001b[0mself\u001b[0m\u001b[0;34m.\u001b[0m\u001b[0msession\u001b[0m\u001b[0;34m.\u001b[0m\u001b[0mrecv\u001b[0m\u001b[0;34m(\u001b[0m\u001b[0mself\u001b[0m\u001b[0;34m.\u001b[0m\u001b[0mstdin_socket\u001b[0m\u001b[0;34m,\u001b[0m \u001b[0;36m0\u001b[0m\u001b[0;34m)\u001b[0m\u001b[0;34m\u001b[0m\u001b[0m\n\u001b[0m\u001b[1;32m    730\u001b[0m             \u001b[0;32mexcept\u001b[0m \u001b[0mException\u001b[0m\u001b[0;34m:\u001b[0m\u001b[0;34m\u001b[0m\u001b[0m\n",
      "\u001b[0;32m~/anaconda3/envs/insight/lib/python3.6/site-packages/jupyter_client/session.py\u001b[0m in \u001b[0;36mrecv\u001b[0;34m(self, socket, mode, content, copy)\u001b[0m\n\u001b[1;32m    802\u001b[0m         \u001b[0;32mtry\u001b[0m\u001b[0;34m:\u001b[0m\u001b[0;34m\u001b[0m\u001b[0m\n\u001b[0;32m--> 803\u001b[0;31m             \u001b[0mmsg_list\u001b[0m \u001b[0;34m=\u001b[0m \u001b[0msocket\u001b[0m\u001b[0;34m.\u001b[0m\u001b[0mrecv_multipart\u001b[0m\u001b[0;34m(\u001b[0m\u001b[0mmode\u001b[0m\u001b[0;34m,\u001b[0m \u001b[0mcopy\u001b[0m\u001b[0;34m=\u001b[0m\u001b[0mcopy\u001b[0m\u001b[0;34m)\u001b[0m\u001b[0;34m\u001b[0m\u001b[0m\n\u001b[0m\u001b[1;32m    804\u001b[0m         \u001b[0;32mexcept\u001b[0m \u001b[0mzmq\u001b[0m\u001b[0;34m.\u001b[0m\u001b[0mZMQError\u001b[0m \u001b[0;32mas\u001b[0m \u001b[0me\u001b[0m\u001b[0;34m:\u001b[0m\u001b[0;34m\u001b[0m\u001b[0m\n",
      "\u001b[0;32m~/anaconda3/envs/insight/lib/python3.6/site-packages/zmq/sugar/socket.py\u001b[0m in \u001b[0;36mrecv_multipart\u001b[0;34m(self, flags, copy, track)\u001b[0m\n\u001b[1;32m    465\u001b[0m         \"\"\"\n\u001b[0;32m--> 466\u001b[0;31m         \u001b[0mparts\u001b[0m \u001b[0;34m=\u001b[0m \u001b[0;34m[\u001b[0m\u001b[0mself\u001b[0m\u001b[0;34m.\u001b[0m\u001b[0mrecv\u001b[0m\u001b[0;34m(\u001b[0m\u001b[0mflags\u001b[0m\u001b[0;34m,\u001b[0m \u001b[0mcopy\u001b[0m\u001b[0;34m=\u001b[0m\u001b[0mcopy\u001b[0m\u001b[0;34m,\u001b[0m \u001b[0mtrack\u001b[0m\u001b[0;34m=\u001b[0m\u001b[0mtrack\u001b[0m\u001b[0;34m)\u001b[0m\u001b[0;34m]\u001b[0m\u001b[0;34m\u001b[0m\u001b[0m\n\u001b[0m\u001b[1;32m    467\u001b[0m         \u001b[0;31m# have first part already, only loop while more to receive\u001b[0m\u001b[0;34m\u001b[0m\u001b[0;34m\u001b[0m\u001b[0m\n",
      "\u001b[0;32mzmq/backend/cython/socket.pyx\u001b[0m in \u001b[0;36mzmq.backend.cython.socket.Socket.recv\u001b[0;34m()\u001b[0m\n",
      "\u001b[0;32mzmq/backend/cython/socket.pyx\u001b[0m in \u001b[0;36mzmq.backend.cython.socket.Socket.recv\u001b[0;34m()\u001b[0m\n",
      "\u001b[0;32mzmq/backend/cython/socket.pyx\u001b[0m in \u001b[0;36mzmq.backend.cython.socket._recv_copy\u001b[0;34m()\u001b[0m\n",
      "\u001b[0;32m~/anaconda3/envs/insight/lib/python3.6/site-packages/zmq/backend/cython/checkrc.pxd\u001b[0m in \u001b[0;36mzmq.backend.cython.checkrc._check_rc\u001b[0;34m()\u001b[0m\n",
      "\u001b[0;31mKeyboardInterrupt\u001b[0m: ",
      "\nDuring handling of the above exception, another exception occurred:\n",
      "\u001b[0;31mKeyboardInterrupt\u001b[0m                         Traceback (most recent call last)",
      "\u001b[0;32m<ipython-input-70-c0e90f867590>\u001b[0m in \u001b[0;36m<module>\u001b[0;34m()\u001b[0m\n\u001b[1;32m      5\u001b[0m             \u001b[0mprint\u001b[0m\u001b[0;34m(\u001b[0m\u001b[0mpred\u001b[0m\u001b[0;34m,\u001b[0m \u001b[0mtrue\u001b[0m\u001b[0;34m,\u001b[0m \u001b[0mcount\u001b[0m\u001b[0;34m,\u001b[0m \u001b[0;34m'mismatch'\u001b[0m\u001b[0;34m)\u001b[0m\u001b[0;34m\u001b[0m\u001b[0m\n\u001b[1;32m      6\u001b[0m             \u001b[0mprint\u001b[0m\u001b[0;34m(\u001b[0m\u001b[0;34m' '\u001b[0m\u001b[0;34m.\u001b[0m\u001b[0mjoin\u001b[0m\u001b[0;34m(\u001b[0m\u001b[0mwapo\u001b[0m\u001b[0;34m.\u001b[0m\u001b[0msent_tok\u001b[0m\u001b[0;34m[\u001b[0m\u001b[0midx_test\u001b[0m\u001b[0;34m[\u001b[0m\u001b[0mcount\u001b[0m\u001b[0;34m]\u001b[0m \u001b[0;34m-\u001b[0m \u001b[0mcumulative_bounds\u001b[0m\u001b[0;34m[\u001b[0m\u001b[0;36m2\u001b[0m\u001b[0;34m]\u001b[0m\u001b[0;34m]\u001b[0m\u001b[0;34m)\u001b[0m\u001b[0;34m)\u001b[0m\u001b[0;34m\u001b[0m\u001b[0m\n\u001b[0;32m----> 7\u001b[0;31m             \u001b[0minput\u001b[0m\u001b[0;34m(\u001b[0m\u001b[0;34m)\u001b[0m\u001b[0;34m\u001b[0m\u001b[0m\n\u001b[0m\u001b[1;32m      8\u001b[0m     \u001b[0mconf_mat\u001b[0m\u001b[0;34m[\u001b[0m\u001b[0mpred\u001b[0m\u001b[0;34m,\u001b[0m\u001b[0mtrue\u001b[0m\u001b[0;34m]\u001b[0m \u001b[0;34m+=\u001b[0m \u001b[0;36m1.\u001b[0m\u001b[0;34m\u001b[0m\u001b[0m\n\u001b[1;32m      9\u001b[0m     \u001b[0mcount\u001b[0m \u001b[0;34m+=\u001b[0m \u001b[0;36m1\u001b[0m\u001b[0;34m\u001b[0m\u001b[0m\n",
      "\u001b[0;32m~/anaconda3/envs/insight/lib/python3.6/site-packages/ipykernel/kernelbase.py\u001b[0m in \u001b[0;36mraw_input\u001b[0;34m(self, prompt)\u001b[0m\n\u001b[1;32m    702\u001b[0m             \u001b[0mself\u001b[0m\u001b[0;34m.\u001b[0m\u001b[0m_parent_ident\u001b[0m\u001b[0;34m,\u001b[0m\u001b[0;34m\u001b[0m\u001b[0m\n\u001b[1;32m    703\u001b[0m             \u001b[0mself\u001b[0m\u001b[0;34m.\u001b[0m\u001b[0m_parent_header\u001b[0m\u001b[0;34m,\u001b[0m\u001b[0;34m\u001b[0m\u001b[0m\n\u001b[0;32m--> 704\u001b[0;31m             \u001b[0mpassword\u001b[0m\u001b[0;34m=\u001b[0m\u001b[0;32mFalse\u001b[0m\u001b[0;34m,\u001b[0m\u001b[0;34m\u001b[0m\u001b[0m\n\u001b[0m\u001b[1;32m    705\u001b[0m         )\n\u001b[1;32m    706\u001b[0m \u001b[0;34m\u001b[0m\u001b[0m\n",
      "\u001b[0;32m~/anaconda3/envs/insight/lib/python3.6/site-packages/ipykernel/kernelbase.py\u001b[0m in \u001b[0;36m_input_request\u001b[0;34m(self, prompt, ident, parent, password)\u001b[0m\n\u001b[1;32m    732\u001b[0m             \u001b[0;32mexcept\u001b[0m \u001b[0mKeyboardInterrupt\u001b[0m\u001b[0;34m:\u001b[0m\u001b[0;34m\u001b[0m\u001b[0m\n\u001b[1;32m    733\u001b[0m                 \u001b[0;31m# re-raise KeyboardInterrupt, to truncate traceback\u001b[0m\u001b[0;34m\u001b[0m\u001b[0;34m\u001b[0m\u001b[0m\n\u001b[0;32m--> 734\u001b[0;31m                 \u001b[0;32mraise\u001b[0m \u001b[0mKeyboardInterrupt\u001b[0m\u001b[0;34m\u001b[0m\u001b[0m\n\u001b[0m\u001b[1;32m    735\u001b[0m             \u001b[0;32melse\u001b[0m\u001b[0;34m:\u001b[0m\u001b[0;34m\u001b[0m\u001b[0m\n\u001b[1;32m    736\u001b[0m                 \u001b[0;32mbreak\u001b[0m\u001b[0;34m\u001b[0m\u001b[0m\n",
      "\u001b[0;31mKeyboardInterrupt\u001b[0m: "
     ]
    }
   ],
   "source": [
    "conf_mat = np.zeros((3,3))\n",
    "count = 0\n",
    "for pred, true in zip(y_pred, y_test):\n",
    "    if pred == 2 and true == 1:\n",
    "            print(pred, true, count, 'mismatch')\n",
    "            print(' '.join(wapo.sent_tok[idx_test[count] - cumulative_bounds[2]]))\n",
    "            input()\n",
    "    conf_mat[pred,true] += 1.\n",
    "    count += 1\n",
    "print(count)\n",
    "#conf_mat[2,1] += 1000\n",
    "#[y,x] format (first index (predicted) is on the vertical, second index (truth) is on the horizontal)\n",
    "plt.imshow(conf_mat)\n",
    "plt.colorbar()\n",
    "print(conf_mat, np.sum(conf_mat))\n",
    "print(Counter(y_test))"
   ]
  },
  {
   "cell_type": "code",
   "execution_count": null,
   "metadata": {},
   "outputs": [],
   "source": [
    "from sklearn.externals import joblib\n",
    "joblib.dump(clf, 'decision_tree_10.pkl') "
   ]
  },
  {
   "cell_type": "code",
   "execution_count": 79,
   "metadata": {},
   "outputs": [
    {
     "name": "stdout",
     "output_type": "stream",
     "text": [
      "Feature ranking:\n",
      "1. feature 2 (0.269717)\n",
      "2. feature 4 (0.235243)\n",
      "3. feature 1 (0.184715)\n",
      "4. feature 0 (0.156361)\n",
      "5. feature 3 (0.153964)\n",
      "[2 4 1 0 3]\n"
     ]
    },
    {
     "data": {
      "image/png": "[encoded data removed]",
      "text/plain": [
       "<Figure size 432x288 with 1 Axes>"
      ]
     },
     "metadata": {},
     "output_type": "display_data"
    }
   ],
   "source": [
    "importances = clf.feature_importances_\n",
    "std = np.std([tree.feature_importances_ for tree in clf.estimators_],\n",
    "             axis=0)\n",
    "indices = np.argsort(importances)[::-1]\n",
    "\n",
    "# Print the feature ranking\n",
    "print(\"Feature ranking:\")\n",
    "\n",
    "for f in range(len(X[0])):#.shape[1]):\n",
    "    print(\"%d. feature %d (%f)\" % (f + 1, indices[f], importances[indices[f]]))\n",
    "feature_names = ['sentence length', 'sentence variability', 'unique word fraction', 'mean word length', 'commas per sentence']\n",
    "# Plot the feature importances of the forest\n",
    "plt.figure()\n",
    "plt.title(\"Feature importances\")\n",
    "plt.bar(range(len(X[0])), importances[indices],\n",
    "       color=\"r\", yerr=std[indices], align=\"center\")\n",
    "print(indices)\n",
    "plt.xticks(range(len(X[0])), [feature_names[i] for i in indices], rotation = 45, ha = 'right')\n",
    "plt.xlim([-1, len(X[0])])\n",
    "plt.show()\n"
   ]
  },
  {
   "cell_type": "code",
   "execution_count": 176,
   "metadata": {},
   "outputs": [
    {
     "ename": "NotFittedError",
     "evalue": "This RandomForestClassifier instance is not fitted yet. Call 'fit' with appropriate arguments before using this method.",
     "output_type": "error",
     "traceback": [
      "\u001b[0;31m---------------------------------------------------------------------------\u001b[0m",
      "\u001b[0;31mNotFittedError\u001b[0m                            Traceback (most recent call last)",
      "\u001b[0;32m<ipython-input-176-26372a4bac5e>\u001b[0m in \u001b[0;36m<module>\u001b[0;34m()\u001b[0m\n\u001b[1;32m      8\u001b[0m export_graphviz(clf, out_file=dot_data,  \n\u001b[1;32m      9\u001b[0m                 \u001b[0mfilled\u001b[0m\u001b[0;34m=\u001b[0m\u001b[0;32mTrue\u001b[0m\u001b[0;34m,\u001b[0m \u001b[0mrounded\u001b[0m\u001b[0;34m=\u001b[0m\u001b[0;32mTrue\u001b[0m\u001b[0;34m,\u001b[0m\u001b[0;34m\u001b[0m\u001b[0m\n\u001b[0;32m---> 10\u001b[0;31m                 special_characters=True)\n\u001b[0m\u001b[1;32m     11\u001b[0m \u001b[0;34m\u001b[0m\u001b[0m\n\u001b[1;32m     12\u001b[0m \u001b[0mgraph\u001b[0m \u001b[0;34m=\u001b[0m \u001b[0mpydotplus\u001b[0m\u001b[0;34m.\u001b[0m\u001b[0mgraph_from_dot_data\u001b[0m\u001b[0;34m(\u001b[0m\u001b[0mdot_data\u001b[0m\u001b[0;34m.\u001b[0m\u001b[0mgetvalue\u001b[0m\u001b[0;34m(\u001b[0m\u001b[0;34m)\u001b[0m\u001b[0;34m)\u001b[0m\u001b[0;34m\u001b[0m\u001b[0m\n",
      "\u001b[0;32m~/anaconda3/envs/insight/lib/python3.6/site-packages/sklearn/tree/export.py\u001b[0m in \u001b[0;36mexport_graphviz\u001b[0;34m(decision_tree, out_file, max_depth, feature_names, class_names, label, filled, leaves_parallel, impurity, node_ids, proportion, rotate, rounded, special_characters, precision)\u001b[0m\n\u001b[1;32m    390\u001b[0m                 \u001b[0mout_file\u001b[0m\u001b[0;34m.\u001b[0m\u001b[0mwrite\u001b[0m\u001b[0;34m(\u001b[0m\u001b[0;34m'%d -> %d ;\\n'\u001b[0m \u001b[0;34m%\u001b[0m \u001b[0;34m(\u001b[0m\u001b[0mparent\u001b[0m\u001b[0;34m,\u001b[0m \u001b[0mnode_id\u001b[0m\u001b[0;34m)\u001b[0m\u001b[0;34m)\u001b[0m\u001b[0;34m\u001b[0m\u001b[0m\n\u001b[1;32m    391\u001b[0m \u001b[0;34m\u001b[0m\u001b[0m\n\u001b[0;32m--> 392\u001b[0;31m     \u001b[0mcheck_is_fitted\u001b[0m\u001b[0;34m(\u001b[0m\u001b[0mdecision_tree\u001b[0m\u001b[0;34m,\u001b[0m \u001b[0;34m'tree_'\u001b[0m\u001b[0;34m)\u001b[0m\u001b[0;34m\u001b[0m\u001b[0m\n\u001b[0m\u001b[1;32m    393\u001b[0m     \u001b[0mown_file\u001b[0m \u001b[0;34m=\u001b[0m \u001b[0;32mFalse\u001b[0m\u001b[0;34m\u001b[0m\u001b[0m\n\u001b[1;32m    394\u001b[0m     \u001b[0mreturn_string\u001b[0m \u001b[0;34m=\u001b[0m \u001b[0;32mFalse\u001b[0m\u001b[0;34m\u001b[0m\u001b[0m\n",
      "\u001b[0;32m~/anaconda3/envs/insight/lib/python3.6/site-packages/sklearn/utils/validation.py\u001b[0m in \u001b[0;36mcheck_is_fitted\u001b[0;34m(estimator, attributes, msg, all_or_any)\u001b[0m\n\u001b[1;32m    766\u001b[0m \u001b[0;34m\u001b[0m\u001b[0m\n\u001b[1;32m    767\u001b[0m     \u001b[0;32mif\u001b[0m \u001b[0;32mnot\u001b[0m \u001b[0mall_or_any\u001b[0m\u001b[0;34m(\u001b[0m\u001b[0;34m[\u001b[0m\u001b[0mhasattr\u001b[0m\u001b[0;34m(\u001b[0m\u001b[0mestimator\u001b[0m\u001b[0;34m,\u001b[0m \u001b[0mattr\u001b[0m\u001b[0;34m)\u001b[0m \u001b[0;32mfor\u001b[0m \u001b[0mattr\u001b[0m \u001b[0;32min\u001b[0m \u001b[0mattributes\u001b[0m\u001b[0;34m]\u001b[0m\u001b[0;34m)\u001b[0m\u001b[0;34m:\u001b[0m\u001b[0;34m\u001b[0m\u001b[0m\n\u001b[0;32m--> 768\u001b[0;31m         \u001b[0;32mraise\u001b[0m \u001b[0mNotFittedError\u001b[0m\u001b[0;34m(\u001b[0m\u001b[0mmsg\u001b[0m \u001b[0;34m%\u001b[0m \u001b[0;34m{\u001b[0m\u001b[0;34m'name'\u001b[0m\u001b[0;34m:\u001b[0m \u001b[0mtype\u001b[0m\u001b[0;34m(\u001b[0m\u001b[0mestimator\u001b[0m\u001b[0;34m)\u001b[0m\u001b[0;34m.\u001b[0m\u001b[0m__name__\u001b[0m\u001b[0;34m}\u001b[0m\u001b[0;34m)\u001b[0m\u001b[0;34m\u001b[0m\u001b[0m\n\u001b[0m\u001b[1;32m    769\u001b[0m \u001b[0;34m\u001b[0m\u001b[0m\n\u001b[1;32m    770\u001b[0m \u001b[0;34m\u001b[0m\u001b[0m\n",
      "\u001b[0;31mNotFittedError\u001b[0m: This RandomForestClassifier instance is not fitted yet. Call 'fit' with appropriate arguments before using this method."
     ]
    }
   ],
   "source": [
    "from sklearn.externals.six import StringIO  \n",
    "from IPython.display import Image  \n",
    "from sklearn.tree import export_graphviz\n",
    "import pydotplus\n",
    "\n",
    "dot_data = StringIO()\n",
    "\n",
    "export_graphviz(clf, out_file=dot_data,  \n",
    "                filled=True, rounded=True,\n",
    "                special_characters=True)\n",
    "\n",
    "graph = pydotplus.graph_from_dot_data(dot_data.getvalue())  \n",
    "Image(graph.create_png())"
   ]
  },
  {
   "cell_type": "code",
   "execution_count": 61,
   "metadata": {},
   "outputs": [
    {
     "name": "stdout",
     "output_type": "stream",
     "text": [
      "[[0.25628141 0.24221106 0.        ]\n",
      " [0.26582915 0.23567839 0.        ]\n",
      " [0.         0.         0.        ]] 1.0000000000000127\n"
     ]
    },
    {
     "data": {
      "image/png": "[encoded data removed]",
      "text/plain": [
       "<Figure size 432x288 with 2 Axes>"
      ]
     },
     "metadata": {},
     "output_type": "display_data"
    }
   ],
   "source": [
    "conf_mat = np.zeros((3,3))\n",
    "for pred_chance, true in zip(chance, y_test):\n",
    "    conf_mat[pred_chance,true] += 1./len(y_pred)\n",
    "\n",
    "plt.imshow(conf_mat)\n",
    "plt.colorbar()\n",
    "print(conf_mat, np.sum(conf_mat))"
   ]
  },
  {
   "cell_type": "code",
   "execution_count": null,
   "metadata": {},
   "outputs": [],
   "source": [
    "total_df = 0"
   ]
  },
  {
   "cell_type": "code",
   "execution_count": null,
   "metadata": {},
   "outputs": [],
   "source": [
    "#import graphviz \n",
    "#dot_data = tree.export_graphviz(clf, out_file='graph') \n",
    "#graph = graphviz.Source(dot_data) \n",
    "#graph.render(\"iris\") "
   ]
  },
  {
   "cell_type": "code",
   "execution_count": null,
   "metadata": {},
   "outputs": [],
   "source": [
    "print(wapo_collect[0])"
   ]
  },
  {
   "cell_type": "code",
   "execution_count": null,
   "metadata": {},
   "outputs": [],
   "source": []
  },
  {
   "cell_type": "code",
   "execution_count": null,
   "metadata": {},
   "outputs": [],
   "source": []
  },
  {
   "cell_type": "code",
   "execution_count": null,
   "metadata": {},
   "outputs": [],
   "source": []
  },
  {
   "cell_type": "code",
   "execution_count": null,
   "metadata": {},
   "outputs": [],
   "source": []
  },
  {
   "cell_type": "code",
   "execution_count": null,
   "metadata": {},
   "outputs": [],
   "source": [
    "#get content column into list\n",
    "article_list = total_df['content'].tolist()\n",
    "print(article_list[:10])"
   ]
  },
  {
   "cell_type": "code",
   "execution_count": null,
   "metadata": {},
   "outputs": [],
   "source": [
    "word_count_list = [len(text.split()) for text in article_list[:10000]]\n",
    "print(word_count_list[:100])"
   ]
  },
  {
   "cell_type": "code",
   "execution_count": null,
   "metadata": {},
   "outputs": [],
   "source": [
    "translator = str.maketrans('', '', string.punctuation)\n",
    "unique_word_list = [set(text.lower().translate(translator).split()) for text in article_list[:10000]]\n",
    "print(unique_word_list[:1])\n",
    "#df.loc[row, column] = pd.DataFrame({'fake_key': list})"
   ]
  },
  {
   "cell_type": "markdown",
   "metadata": {},
   "source": [
    "ADD WORDCOUNT COLUMN"
   ]
  },
  {
   "cell_type": "code",
   "execution_count": null,
   "metadata": {},
   "outputs": [],
   "source": [
    "def word_count(pub_name):\n",
    "    total_df.loc[total_df['publication'] == pub_name, 'word_count'] = total_df.loc[total_df['publication'] == pub_name, 'content'].str.split().str.len()\n",
    "    #nyt_group['word_count'] = nyt_group['content'].str.split().str.len()\n",
    "    #print(nyt_group.head(10))\n",
    "    print(list(total_df))\n",
    "    #print(total_df.loc[total_df['publication'] == pub_name])"
   ]
  },
  {
   "cell_type": "code",
   "execution_count": null,
   "metadata": {},
   "outputs": [],
   "source": [
    "word_count('Washington Post')\n",
    "word_count('New York Times')\n",
    "word_count('Vox')\n",
    "word_count('Fox News')\n",
    "#print(total_df.loc[total_df['publication'] == 'Washington Post']['word_count'].head(20))\n",
    "#wapo_group['word_count'] = wapo_group['content'].str.split().str.len()\n",
    "#print(wapo_group['word_count'].head(20))"
   ]
  },
  {
   "cell_type": "code",
   "execution_count": null,
   "metadata": {},
   "outputs": [],
   "source": [
    "print(total_df.groupby('publication')['word_count'].describe())"
   ]
  },
  {
   "cell_type": "markdown",
   "metadata": {},
   "source": [
    "ADD SENTENCE LENGTH COLUMN"
   ]
  },
  {
   "cell_type": "code",
   "execution_count": null,
   "metadata": {},
   "outputs": [],
   "source": [
    "def sentence_count(pub_name):\n",
    "    total_df.loc[total_df['publication'] == pub_name, 'sentence_count'] = total_df.loc[total_df['publication'] == pub_name]['content'].apply(lambda row: len(sent_detector.tokenize(row.strip())))\n",
    "    #nyt_group['word_count'] = nyt_group['content'].str.split().str.len()\n",
    "    #print(nyt_group.head(10))\n",
    "    print(list(total_df))\n",
    "    #print(total_df.loc[total_df['publication'] == pub_name])\n",
    "\n",
    "#nyt_group['sentence_count'] = nyt_group['content']\n",
    "#print(nyt_group.sentence_count)"
   ]
  },
  {
   "cell_type": "code",
   "execution_count": null,
   "metadata": {},
   "outputs": [],
   "source": [
    "sentence_count('Washington Post')\n",
    "sentence_count('New York Times')\n",
    "sentence_count('Vox')\n",
    "sentence_count('Fox News')\n",
    "#sentence_count('')"
   ]
  },
  {
   "cell_type": "code",
   "execution_count": null,
   "metadata": {},
   "outputs": [],
   "source": [
    "print(total_df.groupby('publication')['sentence_count'].describe())\n",
    "#print(total_df.head(2))"
   ]
  },
  {
   "cell_type": "code",
   "execution_count": null,
   "metadata": {},
   "outputs": [],
   "source": [
    "#plot word count vs sentence length\n",
    "#total_df.groupby('publication').plot(x='word_count', y='sentence_count', style='o')\n",
    "plt.scatter(total_df.loc[total_df['publication'] == 'New York Times','word_count'], total_df.loc[total_df['publication'] == 'New York Times','sentence_count'])\n",
    "plt.scatter(total_df.loc[total_df['publication'] == 'Washington Post','word_count'], total_df.loc[total_df['publication'] == 'Washington Post','sentence_count'])\n",
    "plt.scatter(total_df.loc[total_df['publication'] == 'Vox','word_count'], total_df.loc[total_df['publication'] == 'Vox','sentence_count'])\n",
    "plt.scatter(total_df.loc[total_df['publication'] == 'Fox News','word_count'], total_df.loc[total_df['publication'] == 'Fox News','sentence_count'])\n",
    "\n",
    "plt.xlim((0,5000))\n",
    "\n",
    "plt.ylim((0,200))\n",
    "plt.show()"
   ]
  },
  {
   "cell_type": "code",
   "execution_count": null,
   "metadata": {},
   "outputs": [],
   "source": [
    "#total_df['unique_word_count'] = 0"
   ]
  },
  {
   "cell_type": "code",
   "execution_count": null,
   "metadata": {},
   "outputs": [],
   "source": [
    "def unique_word_count(pub_name):\n",
    "    col_name = 'unique_word_count'\n",
    "    total_df.loc[total_df['publication'] == pub_name, col_name] = total_df.loc[total_df['publication'] == pub_name]['content'].apply(lambda row: len(set(row.lower().split())))\n",
    "    #nyt_group['word_count'] = nyt_group['content'].str.split().str.len()\n",
    "    #print(nyt_group.head(10))\n",
    "    print(list(total_df))\n",
    "    #print(total_df.loc[total_df['publication'] == pub_name])\n",
    "\n",
    "#nyt_group['sentence_count'] = nyt_group['content']\n",
    "#print(nyt_group.sentence_count)"
   ]
  },
  {
   "cell_type": "code",
   "execution_count": null,
   "metadata": {},
   "outputs": [],
   "source": [
    "#unique_word_count('New York Times')\n",
    "#unique_word_count('Vox')\n",
    "#unique_word_count('Washington Post')\n",
    "unique_word_count('Fox News')\n",
    "print(total_df.groupby('publication')['unique_word_count'].describe())"
   ]
  },
  {
   "cell_type": "code",
   "execution_count": null,
   "metadata": {},
   "outputs": [],
   "source": [
    "#total_df.groupby('publication').plot(x='word_count', y='sentence_count', style='o')\n",
    "plt.scatter(total_df.loc[total_df['publication'] == 'New York Times','sentence_count'], total_df.loc[total_df['publication'] == 'New York Times','unique_word_count'], s=4)\n",
    "plt.scatter(total_df.loc[total_df['publication'] == 'Washington Post','sentence_count'], total_df.loc[total_df['publication'] == 'Washington Post','unique_word_count'], s=4)\n",
    "plt.scatter(total_df.loc[total_df['publication'] == 'Vox','sentence_count'], total_df.loc[total_df['publication'] == 'Vox','unique_word_count'], s=4)\n",
    "plt.scatter(total_df.loc[total_df['publication'] == 'Fox News','sentence_count'], total_df.loc[total_df['publication'] == 'Fox News','unique_word_count'], s=4)\n",
    "\n",
    "plt.xlim((0,200))\n",
    "\n",
    "plt.ylim((0,1000))\n",
    "plt.show()"
   ]
  },
  {
   "cell_type": "code",
   "execution_count": null,
   "metadata": {},
   "outputs": [],
   "source": []
  },
  {
   "cell_type": "code",
   "execution_count": null,
   "metadata": {
    "scrolled": true
   },
   "outputs": [],
   "source": []
  },
  {
   "cell_type": "code",
   "execution_count": null,
   "metadata": {},
   "outputs": [],
   "source": [
    "#sub_df_max_wordcount = sub_df\n",
    "total_df.groupby('publication')['word_count'].hist(bins = 100, alpha = 0.5, normed = True)"
   ]
  },
  {
   "cell_type": "code",
   "execution_count": null,
   "metadata": {},
   "outputs": [],
   "source": []
  }
 ],
 "metadata": {
  "kernelspec": {
   "display_name": "Python 3",
   "language": "python",
   "name": "python3"
  },
  "language_info": {
   "codemirror_mode": {
    "name": "ipython",
    "version": 3
   },
   "file_extension": ".py",
   "mimetype": "text/x-python",
   "name": "python",
   "nbconvert_exporter": "python",
   "pygments_lexer": "ipython3",
   "version": "3.6.5"
  }
 },
 "nbformat": 4,
 "nbformat_minor": 2
}
