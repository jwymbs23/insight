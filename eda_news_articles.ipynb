{
 "cells": [
  {
   "cell_type": "code",
   "execution_count": 1,
   "metadata": {},
   "outputs": [],
   "source": [
    "import pandas as pd\n",
    "import numpy\n",
    "import matplotlib.pyplot as plt\n",
    "%matplotlib inline\n",
    "\n",
    "import pickle\n",
    "import string\n",
    "import numpy as np\n",
    "import random\n",
    "from collections import Counter"
   ]
  },
  {
   "cell_type": "code",
   "execution_count": 2,
   "metadata": {},
   "outputs": [
    {
     "name": "stdout",
     "output_type": "stream",
     "text": [
      "[nltk_data] Downloading package averaged_perceptron_tagger to\n",
      "[nltk_data]     /home/joseph/nltk_data...\n",
      "[nltk_data]   Package averaged_perceptron_tagger is already up-to-\n",
      "[nltk_data]       date!\n",
      "[nltk_data] Downloading package tagsets to /home/joseph/nltk_data...\n",
      "[nltk_data]   Package tagsets is already up-to-date!\n",
      "$: dollar\n",
      "    $ -$ --$ A$ C$ HK$ M$ NZ$ S$ U.S.$ US$\n",
      "'': closing quotation mark\n",
      "    ' ''\n",
      "(: opening parenthesis\n",
      "    ( [ {\n",
      "): closing parenthesis\n",
      "    ) ] }\n",
      ",: comma\n",
      "    ,\n",
      "--: dash\n",
      "    --\n",
      ".: sentence terminator\n",
      "    . ! ?\n",
      ":: colon or ellipsis\n",
      "    : ; ...\n",
      "CC: conjunction, coordinating\n",
      "    & 'n and both but either et for less minus neither nor or plus so\n",
      "    therefore times v. versus vs. whether yet\n",
      "CD: numeral, cardinal\n",
      "    mid-1890 nine-thirty forty-two one-tenth ten million 0.5 one forty-\n",
      "    seven 1987 twenty '79 zero two 78-degrees eighty-four IX '60s .025\n",
      "    fifteen 271,124 dozen quintillion DM2,000 ...\n",
      "DT: determiner\n",
      "    all an another any both del each either every half la many much nary\n",
      "    neither no some such that the them these this those\n",
      "EX: existential there\n",
      "    there\n",
      "FW: foreign word\n",
      "    gemeinschaft hund ich jeux habeas Haementeria Herr K'ang-si vous\n",
      "    lutihaw alai je jour objets salutaris fille quibusdam pas trop Monte\n",
      "    terram fiche oui corporis ...\n",
      "IN: preposition or conjunction, subordinating\n",
      "    astride among uppon whether out inside pro despite on by throughout\n",
      "    below within for towards near behind atop around if like until below\n",
      "    next into if beside ...\n",
      "JJ: adjective or numeral, ordinal\n",
      "    third ill-mannered pre-war regrettable oiled calamitous first separable\n",
      "    ectoplasmic battery-powered participatory fourth still-to-be-named\n",
      "    multilingual multi-disciplinary ...\n",
      "JJR: adjective, comparative\n",
      "    bleaker braver breezier briefer brighter brisker broader bumper busier\n",
      "    calmer cheaper choosier cleaner clearer closer colder commoner costlier\n",
      "    cozier creamier crunchier cuter ...\n",
      "JJS: adjective, superlative\n",
      "    calmest cheapest choicest classiest cleanest clearest closest commonest\n",
      "    corniest costliest crassest creepiest crudest cutest darkest deadliest\n",
      "    dearest deepest densest dinkiest ...\n",
      "LS: list item marker\n",
      "    A A. B B. C C. D E F First G H I J K One SP-44001 SP-44002 SP-44005\n",
      "    SP-44007 Second Third Three Two * a b c d first five four one six three\n",
      "    two\n",
      "MD: modal auxiliary\n",
      "    can cannot could couldn't dare may might must need ought shall should\n",
      "    shouldn't will would\n",
      "NN: noun, common, singular or mass\n",
      "    common-carrier cabbage knuckle-duster Casino afghan shed thermostat\n",
      "    investment slide humour falloff slick wind hyena override subhumanity\n",
      "    machinist ...\n",
      "NNP: noun, proper, singular\n",
      "    Motown Venneboerger Czestochwa Ranzer Conchita Trumplane Christos\n",
      "    Oceanside Escobar Kreisler Sawyer Cougar Yvette Ervin ODI Darryl CTCA\n",
      "    Shannon A.K.C. Meltex Liverpool ...\n",
      "NNPS: noun, proper, plural\n",
      "    Americans Americas Amharas Amityvilles Amusements Anarcho-Syndicalists\n",
      "    Andalusians Andes Andruses Angels Animals Anthony Antilles Antiques\n",
      "    Apache Apaches Apocrypha ...\n",
      "NNS: noun, common, plural\n",
      "    undergraduates scotches bric-a-brac products bodyguards facets coasts\n",
      "    divestitures storehouses designs clubs fragrances averages\n",
      "    subjectivists apprehensions muses factory-jobs ...\n",
      "PDT: pre-determiner\n",
      "    all both half many quite such sure this\n",
      "POS: genitive marker\n",
      "    ' 's\n",
      "PRP: pronoun, personal\n",
      "    hers herself him himself hisself it itself me myself one oneself ours\n",
      "    ourselves ownself self she thee theirs them themselves they thou thy us\n",
      "PRP$: pronoun, possessive\n",
      "    her his mine my our ours their thy your\n",
      "RB: adverb\n",
      "    occasionally unabatingly maddeningly adventurously professedly\n",
      "    stirringly prominently technologically magisterially predominately\n",
      "    swiftly fiscally pitilessly ...\n",
      "RBR: adverb, comparative\n",
      "    further gloomier grander graver greater grimmer harder harsher\n",
      "    healthier heavier higher however larger later leaner lengthier less-\n",
      "    perfectly lesser lonelier longer louder lower more ...\n",
      "RBS: adverb, superlative\n",
      "    best biggest bluntest earliest farthest first furthest hardest\n",
      "    heartiest highest largest least less most nearest second tightest worst\n",
      "RP: particle\n",
      "    aboard about across along apart around aside at away back before behind\n",
      "    by crop down ever fast for forth from go high i.e. in into just later\n",
      "    low more off on open out over per pie raising start teeth that through\n",
      "    under unto up up-pp upon whole with you\n",
      "SYM: symbol\n",
      "    % & ' '' ''. ) ). * + ,. < = > @ A[fj] U.S U.S.S.R * ** ***\n",
      "TO: \"to\" as preposition or infinitive marker\n",
      "    to\n",
      "UH: interjection\n",
      "    Goodbye Goody Gosh Wow Jeepers Jee-sus Hubba Hey Kee-reist Oops amen\n",
      "    huh howdy uh dammit whammo shucks heck anyways whodunnit honey golly\n",
      "    man baby diddle hush sonuvabitch ...\n",
      "VB: verb, base form\n",
      "    ask assemble assess assign assume atone attention avoid bake balkanize\n",
      "    bank begin behold believe bend benefit bevel beware bless boil bomb\n",
      "    boost brace break bring broil brush build ...\n",
      "VBD: verb, past tense\n",
      "    dipped pleaded swiped regummed soaked tidied convened halted registered\n",
      "    cushioned exacted snubbed strode aimed adopted belied figgered\n",
      "    speculated wore appreciated contemplated ...\n",
      "VBG: verb, present participle or gerund\n",
      "    telegraphing stirring focusing angering judging stalling lactating\n",
      "    hankerin' alleging veering capping approaching traveling besieging\n",
      "    encrypting interrupting erasing wincing ...\n",
      "VBN: verb, past participle\n",
      "    multihulled dilapidated aerosolized chaired languished panelized used\n",
      "    experimented flourished imitated reunifed factored condensed sheared\n",
      "    unsettled primed dubbed desired ...\n",
      "VBP: verb, present tense, not 3rd person singular\n",
      "    predominate wrap resort sue twist spill cure lengthen brush terminate\n",
      "    appear tend stray glisten obtain comprise detest tease attract\n",
      "    emphasize mold postpone sever return wag ...\n",
      "VBZ: verb, present tense, 3rd person singular\n",
      "    bases reconstructs marks mixes displeases seals carps weaves snatches\n",
      "    slumps stretches authorizes smolders pictures emerges stockpiles\n",
      "    seduces fizzes uses bolsters slaps speaks pleads ...\n",
      "WDT: WH-determiner\n",
      "    that what whatever which whichever\n",
      "WP: WH-pronoun\n",
      "    that what whatever whatsoever which who whom whosoever\n",
      "WP$: WH-pronoun, possessive\n",
      "    whose\n",
      "WRB: Wh-adverb\n",
      "    how however whence whenever where whereby whereever wherein whereof why\n",
      "``: opening quotation mark\n",
      "    ` ``\n"
     ]
    }
   ],
   "source": [
    "import nltk\n",
    "nltk.download('averaged_perceptron_tagger')\n",
    "nltk.download('tagsets')\n",
    "nltk.help.upenn_tagset()\n"
   ]
  },
  {
   "cell_type": "code",
   "execution_count": 3,
   "metadata": {},
   "outputs": [],
   "source": [
    "#import nltk\n",
    "#nltk.download('punkt')"
   ]
  },
  {
   "cell_type": "code",
   "execution_count": 4,
   "metadata": {},
   "outputs": [
    {
     "name": "stdout",
     "output_type": "stream",
     "text": [
      "[nltk_data] Downloading package vader_lexicon to\n",
      "[nltk_data]     /home/joseph/nltk_data...\n",
      "[nltk_data]   Package vader_lexicon is already up-to-date!\n"
     ]
    },
    {
     "name": "stderr",
     "output_type": "stream",
     "text": [
      "/home/joseph/anaconda3/envs/insight/lib/python3.6/site-packages/nltk/twitter/__init__.py:20: UserWarning: The twython library has not been installed. Some functionality from the twitter package will not be available.\n",
      "  warnings.warn(\"The twython library has not been installed. \"\n"
     ]
    }
   ],
   "source": [
    "from nltk.tokenize import sent_tokenize\n",
    "from nltk.sentiment import SentimentIntensityAnalyzer\n",
    "nltk.download('vader_lexicon')\n",
    "\n",
    "sid = SentimentIntensityAnalyzer()\n",
    "import nltk.data\n",
    "sent_detector = nltk.data.load('tokenizers/punkt/english.pickle')\n",
    "\n",
    "from nltk.tag.stanford import StanfordPOSTagger"
   ]
  },
  {
   "cell_type": "markdown",
   "metadata": {},
   "source": [
    "# Can skip ahead if you're just dealing with nyt, breit, wapo test data"
   ]
  },
  {
   "cell_type": "code",
   "execution_count": 5,
   "metadata": {},
   "outputs": [],
   "source": [
    "try:\n",
    "    total_df = pd.read_pickle('total_df.p')\n",
    "except:\n",
    "    df_1 = pd.read_csv('articles1.csv')\n",
    "    df_2 = pd.read_csv('articles2.csv')\n",
    "    df_3 = pd.read_csv('articles3.csv')\n",
    "    #print(df_1.head(1))\n",
    "    print(df_1.shape)\n",
    "\n",
    "    #print(df_1.publication.unique())\n",
    "    #print(df_2.publication.unique())\n",
    "    #print(df_3.publication.unique())\n",
    "    #merge dataframes\n",
    "    total_df = pd.concat([df_1, df_2, df_3])\n",
    "    df_1 = 0\n",
    "    df_2 = 0\n",
    "    df_3 = 0\n",
    "    total_df['sentence_count'] = 0\n",
    "    total_df['word_count'] = 0\n",
    "    total_df.to_pickle('total_df.p')\n",
    "publication_names = total_df.publication.unique()"
   ]
  },
  {
   "cell_type": "code",
   "execution_count": null,
   "metadata": {},
   "outputs": [],
   "source": [
    "total_df.publication.value_counts().plot(kind='bar')"
   ]
  },
  {
   "cell_type": "code",
   "execution_count": null,
   "metadata": {},
   "outputs": [],
   "source": [
    "#print(list(total_df))\n",
    "#print(total_df.loc[total_df['publication'] == 'New York Times']['title'])"
   ]
  },
  {
   "cell_type": "code",
   "execution_count": 66,
   "metadata": {},
   "outputs": [],
   "source": [
    "#nyt_list = total_df.loc[total_df['publication'] == 'New York Times']['content'].tolist()\n",
    "nyt_df = total_df.loc[total_df['publication'] == 'New York Times']\n",
    "nyt_semic = nyt_df[nyt_df['content'].str.contains(\";\")]\n",
    "#breit_list = total_df.loc[total_df['publication'] == 'Breitbart']['content'].tolist()\n",
    "#wapo_list = total_df.loc[total_df['publication'] == 'Washington Post']['content'].tolist()"
   ]
  },
  {
   "cell_type": "code",
   "execution_count": 67,
   "metadata": {},
   "outputs": [
    {
     "name": "stdout",
     "output_type": "stream",
     "text": [
      "(0, 12)\n"
     ]
    }
   ],
   "source": [
    "print(nyt_semic.shape)"
   ]
  },
  {
   "cell_type": "code",
   "execution_count": 6,
   "metadata": {},
   "outputs": [],
   "source": [
    "def rand_list(num_articles):\n",
    "    return [random.random() for _ in range(num_articles)]"
   ]
  },
  {
   "cell_type": "code",
   "execution_count": 7,
   "metadata": {},
   "outputs": [],
   "source": [
    "def get_id_content_list(pubname, num_articles):\n",
    "    df_cont_list = total_df.loc[total_df['publication'] == pubname]['content'].tolist()\n",
    "    df_id_list = total_df.loc[total_df['publication'] == pubname]['id'].tolist()\n",
    "    num_articles_in_set = len(df_id_list)\n",
    "    num_rand_to_get = num_articles_in_set if num_articles > num_articles_in_set else num_articles\n",
    "    if num_articles > num_articles_in_set:\n",
    "        print('Warning!', pubname, 'only has ', str(len(df_id_list)), ' articles, but you are asking for ', str(num_articles))\n",
    "    random_num_list = rand_list(num_articles_in_set)\n",
    "    cont_list = [i for ci,i in enumerate(df_cont_list) if random_num_list[ci] > 1-num_rand_to_get/num_articles_in_set]\n",
    "    id_list =   [i for ci,i in enumerate(df_id_list)   if random_num_list[ci] > 1-num_rand_to_get/num_articles_in_set]\n",
    "    return cont_list, id_list"
   ]
  },
  {
   "cell_type": "code",
   "execution_count": 10,
   "metadata": {},
   "outputs": [],
   "source": [
    "def prepare_text(publication_content_list):\n",
    "    if type(publication_content_list) is not list:\n",
    "        publication_content_list = [publication_content_list]\n",
    "    #lower case text\n",
    "    lower_case = [text.strip().lower() for text in publication_content_list]\n",
    "    #replace strange quote characters with normal ones \n",
    "    replace_quotes = [text.replace('“', '\"').replace('”', '\"') for text in lower_case]\n",
    "    #do punkt sentence tokenization\n",
    "    sentence_tokenize = [sent_detector.tokenize(text.strip()) for text in replace_quotes]\n",
    "    #do nltk word tokenization\n",
    "    word_tokenize = [nltk.word_tokenize(text) for text in replace_quotes]\n",
    "    #get unique string counts\n",
    "    string_counts = [Counter(text) for text in word_tokenize]\n",
    "    return sentence_tokenize, word_tokenize, string_counts"
   ]
  },
  {
   "cell_type": "code",
   "execution_count": 9,
   "metadata": {},
   "outputs": [
    {
     "name": "stdout",
     "output_type": "stream",
     "text": [
      "5006 4914 5063\n",
      "WASHINGTON  —   Congressional Republicans have a new fear when it comes to their    health care lawsuit against the Obama administration: They might win. The incoming Trump administration could choose 17283 A pair of Australian oil paintings believed to be the first in the country have been discovered at the Royal College of Surgeons in London. The two canvases, showing groups of amiable kangaroos sittin\n"
     ]
    }
   ],
   "source": [
    "num_articles = 5000\n",
    "\n",
    "nyt_list, nyt_id = get_id_content_list('New York Times', num_articles)\n",
    "guard_list, guard_id = get_id_content_list('Guardian', num_articles)\n",
    "breit_list, breit_id = get_id_content_list('Breitbart', num_articles)\n",
    "wapo_list, wapo_id = get_id_content_list('Washington Post', num_articles)\n",
    "print(len(nyt_list), len(breit_list), len(wapo_list))\n",
    "print(nyt_list[0][:200], nyt_id[0], guard_list[0][:200])"
   ]
  },
  {
   "cell_type": "code",
   "execution_count": 11,
   "metadata": {},
   "outputs": [],
   "source": [
    "nyt_sent, nyt_word, nyt_string_count = prepare_text(nyt_list)"
   ]
  },
  {
   "cell_type": "code",
   "execution_count": 12,
   "metadata": {},
   "outputs": [],
   "source": [
    "breit_sent, breit_word, breit_string_count = prepare_text(breit_list)"
   ]
  },
  {
   "cell_type": "code",
   "execution_count": 13,
   "metadata": {},
   "outputs": [],
   "source": [
    "wapo_sent, wapo_word, wapo_string_count = prepare_text(wapo_list)"
   ]
  },
  {
   "cell_type": "code",
   "execution_count": 14,
   "metadata": {},
   "outputs": [],
   "source": [
    "guard_sent, guard_word, guard_string_count = prepare_text(guard_list)"
   ]
  },
  {
   "cell_type": "code",
   "execution_count": 15,
   "metadata": {},
   "outputs": [],
   "source": [
    "pickle.dump( ['nyt', nyt_id, nyt_sent, nyt_word, nyt_string_count], open( \"nyt_tokenized_strings.p\", \"wb\" ) )\n",
    "pickle.dump( ['breit', breit_id, breit_sent, breit_word, breit_string_count], open( \"breit_tokenized_strings.p\", \"wb\" ) )\n",
    "pickle.dump( ['wapo', wapo_id, wapo_sent, wapo_word, wapo_string_count], open( \"wapo_tokenized_strings.p\", \"wb\" ) )\n",
    "pickle.dump( ['guard', guard_id, guard_sent, guard_word, guard_string_count], open( \"guard_tokenized_strings.p\", \"wb\"))\n",
    "# ['breit', breit_sent, breit_word, breit_string_count],\n",
    "# ['wapo', wapo_sent, wapo_word, wapo_string_count]]"
   ]
  },
  {
   "cell_type": "markdown",
   "metadata": {},
   "source": [
    "# Can start here if you don't care about which articles you got, and you have the article pickle files"
   ]
  },
  {
   "cell_type": "code",
   "execution_count": 5,
   "metadata": {},
   "outputs": [],
   "source": [
    "#unpickle files\n",
    "pub, nyt_id, nyt_sent, nyt_word, nyt_string_count = pickle.load( open( \"nyt_tokenized_strings.p\", \"rb\" ) )\n",
    "pub, breit_id, breit_sent, breit_word, breit_string_count = pickle.load( open( \"breit_tokenized_strings.p\", \"rb\" ) )\n",
    "pub, wapo_id, wapo_sent, wapo_word, wapo_string_count = pickle.load( open( \"wapo_tokenized_strings.p\", \"rb\" ) )\n",
    "pub, guard_id, guard_sent, guard_word, guard_string_count = pickle.load( open( \"guard_tokenized_strings.p\", \"rb\" ) )"
   ]
  },
  {
   "cell_type": "code",
   "execution_count": 6,
   "metadata": {},
   "outputs": [],
   "source": [
    "translator = str.maketrans('', '', string.punctuation + '”“')\n",
    "punctuation_set = set(string.punctuation + '”“')"
   ]
  },
  {
   "cell_type": "code",
   "execution_count": 152,
   "metadata": {},
   "outputs": [
    {
     "ename": "TypeError",
     "evalue": "sequence item 0: expected str instance, list found",
     "output_type": "error",
     "traceback": [
      "\u001b[0;31m---------------------------------------------------------------------------\u001b[0m",
      "\u001b[0;31mTypeError\u001b[0m                                 Traceback (most recent call last)",
      "\u001b[0;32m<ipython-input-152-1b7c61286a2d>\u001b[0m in \u001b[0;36m<module>\u001b[0;34m()\u001b[0m\n\u001b[1;32m      1\u001b[0m \u001b[0mstanford_pos\u001b[0m \u001b[0;34m=\u001b[0m \u001b[0mStanfordPOSTagger\u001b[0m\u001b[0;34m(\u001b[0m\u001b[0;34m'postagger/models/english-bidirectional-distsim.tagger'\u001b[0m\u001b[0;34m,\u001b[0m \u001b[0;34m'postagger/stanford-postagger.jar'\u001b[0m\u001b[0;34m)\u001b[0m\u001b[0;34m\u001b[0m\u001b[0m\n\u001b[0;32m----> 2\u001b[0;31m \u001b[0mstanford_pos\u001b[0m\u001b[0;34m.\u001b[0m\u001b[0mtag\u001b[0m\u001b[0;34m(\u001b[0m\u001b[0;34m[\u001b[0m\u001b[0;34m[\u001b[0m\u001b[0;34m'after the bullet shells get counted, the blood dries and the votive candles burn out, people peer down from   windows and see crime scenes gone cold: a band of yellow police tape blowing in the breeze.'\u001b[0m\u001b[0;34m]\u001b[0m\u001b[0;34m,\u001b[0m \u001b[0;34m[\u001b[0m\u001b[0;34m'the south bronx, just across the harlem river from manhattan and once shorthand for urban dysfunction, still suffers violence at levels long ago slashed in many other parts of new york city.'\u001b[0m\u001b[0;34m]\u001b[0m\u001b[0;34m]\u001b[0m\u001b[0;34m)\u001b[0m\u001b[0;34m\u001b[0m\u001b[0m\n\u001b[0m",
      "\u001b[0;32m~/anaconda3/envs/insight/lib/python3.6/site-packages/nltk/tag/stanford.py\u001b[0m in \u001b[0;36mtag\u001b[0;34m(self, tokens)\u001b[0m\n\u001b[1;32m     79\u001b[0m     \u001b[0;32mdef\u001b[0m \u001b[0mtag\u001b[0m\u001b[0;34m(\u001b[0m\u001b[0mself\u001b[0m\u001b[0;34m,\u001b[0m \u001b[0mtokens\u001b[0m\u001b[0;34m)\u001b[0m\u001b[0;34m:\u001b[0m\u001b[0;34m\u001b[0m\u001b[0m\n\u001b[1;32m     80\u001b[0m         \u001b[0;31m# This function should return list of tuple rather than list of list\u001b[0m\u001b[0;34m\u001b[0m\u001b[0;34m\u001b[0m\u001b[0m\n\u001b[0;32m---> 81\u001b[0;31m         \u001b[0;32mreturn\u001b[0m \u001b[0msum\u001b[0m\u001b[0;34m(\u001b[0m\u001b[0mself\u001b[0m\u001b[0;34m.\u001b[0m\u001b[0mtag_sents\u001b[0m\u001b[0;34m(\u001b[0m\u001b[0;34m[\u001b[0m\u001b[0mtokens\u001b[0m\u001b[0;34m]\u001b[0m\u001b[0;34m)\u001b[0m\u001b[0;34m,\u001b[0m \u001b[0;34m[\u001b[0m\u001b[0;34m]\u001b[0m\u001b[0;34m)\u001b[0m\u001b[0;34m\u001b[0m\u001b[0m\n\u001b[0m\u001b[1;32m     82\u001b[0m \u001b[0;34m\u001b[0m\u001b[0m\n\u001b[1;32m     83\u001b[0m     \u001b[0;32mdef\u001b[0m \u001b[0mtag_sents\u001b[0m\u001b[0;34m(\u001b[0m\u001b[0mself\u001b[0m\u001b[0;34m,\u001b[0m \u001b[0msentences\u001b[0m\u001b[0;34m)\u001b[0m\u001b[0;34m:\u001b[0m\u001b[0;34m\u001b[0m\u001b[0m\n",
      "\u001b[0;32m~/anaconda3/envs/insight/lib/python3.6/site-packages/nltk/tag/stanford.py\u001b[0m in \u001b[0;36mtag_sents\u001b[0;34m(self, sentences)\u001b[0m\n\u001b[1;32m     94\u001b[0m         \u001b[0;31m# Write the actual sentences to the temporary input file\u001b[0m\u001b[0;34m\u001b[0m\u001b[0;34m\u001b[0m\u001b[0m\n\u001b[1;32m     95\u001b[0m         \u001b[0m_input_fh\u001b[0m \u001b[0;34m=\u001b[0m \u001b[0mos\u001b[0m\u001b[0;34m.\u001b[0m\u001b[0mfdopen\u001b[0m\u001b[0;34m(\u001b[0m\u001b[0m_input_fh\u001b[0m\u001b[0;34m,\u001b[0m \u001b[0;34m'wb'\u001b[0m\u001b[0;34m)\u001b[0m\u001b[0;34m\u001b[0m\u001b[0m\n\u001b[0;32m---> 96\u001b[0;31m         \u001b[0m_input\u001b[0m \u001b[0;34m=\u001b[0m \u001b[0;34m'\\n'\u001b[0m\u001b[0;34m.\u001b[0m\u001b[0mjoin\u001b[0m\u001b[0;34m(\u001b[0m\u001b[0;34m(\u001b[0m\u001b[0;34m' '\u001b[0m\u001b[0;34m.\u001b[0m\u001b[0mjoin\u001b[0m\u001b[0;34m(\u001b[0m\u001b[0mx\u001b[0m\u001b[0;34m)\u001b[0m \u001b[0;32mfor\u001b[0m \u001b[0mx\u001b[0m \u001b[0;32min\u001b[0m \u001b[0msentences\u001b[0m\u001b[0;34m)\u001b[0m\u001b[0;34m)\u001b[0m\u001b[0;34m\u001b[0m\u001b[0m\n\u001b[0m\u001b[1;32m     97\u001b[0m         \u001b[0;32mif\u001b[0m \u001b[0misinstance\u001b[0m\u001b[0;34m(\u001b[0m\u001b[0m_input\u001b[0m\u001b[0;34m,\u001b[0m \u001b[0mtext_type\u001b[0m\u001b[0;34m)\u001b[0m \u001b[0;32mand\u001b[0m \u001b[0mencoding\u001b[0m\u001b[0;34m:\u001b[0m\u001b[0;34m\u001b[0m\u001b[0m\n\u001b[1;32m     98\u001b[0m             \u001b[0m_input\u001b[0m \u001b[0;34m=\u001b[0m \u001b[0m_input\u001b[0m\u001b[0;34m.\u001b[0m\u001b[0mencode\u001b[0m\u001b[0;34m(\u001b[0m\u001b[0mencoding\u001b[0m\u001b[0;34m)\u001b[0m\u001b[0;34m\u001b[0m\u001b[0m\n",
      "\u001b[0;32m~/anaconda3/envs/insight/lib/python3.6/site-packages/nltk/tag/stanford.py\u001b[0m in \u001b[0;36m<genexpr>\u001b[0;34m(.0)\u001b[0m\n\u001b[1;32m     94\u001b[0m         \u001b[0;31m# Write the actual sentences to the temporary input file\u001b[0m\u001b[0;34m\u001b[0m\u001b[0;34m\u001b[0m\u001b[0m\n\u001b[1;32m     95\u001b[0m         \u001b[0m_input_fh\u001b[0m \u001b[0;34m=\u001b[0m \u001b[0mos\u001b[0m\u001b[0;34m.\u001b[0m\u001b[0mfdopen\u001b[0m\u001b[0;34m(\u001b[0m\u001b[0m_input_fh\u001b[0m\u001b[0;34m,\u001b[0m \u001b[0;34m'wb'\u001b[0m\u001b[0;34m)\u001b[0m\u001b[0;34m\u001b[0m\u001b[0m\n\u001b[0;32m---> 96\u001b[0;31m         \u001b[0m_input\u001b[0m \u001b[0;34m=\u001b[0m \u001b[0;34m'\\n'\u001b[0m\u001b[0;34m.\u001b[0m\u001b[0mjoin\u001b[0m\u001b[0;34m(\u001b[0m\u001b[0;34m(\u001b[0m\u001b[0;34m' '\u001b[0m\u001b[0;34m.\u001b[0m\u001b[0mjoin\u001b[0m\u001b[0;34m(\u001b[0m\u001b[0mx\u001b[0m\u001b[0;34m)\u001b[0m \u001b[0;32mfor\u001b[0m \u001b[0mx\u001b[0m \u001b[0;32min\u001b[0m \u001b[0msentences\u001b[0m\u001b[0;34m)\u001b[0m\u001b[0;34m)\u001b[0m\u001b[0;34m\u001b[0m\u001b[0m\n\u001b[0m\u001b[1;32m     97\u001b[0m         \u001b[0;32mif\u001b[0m \u001b[0misinstance\u001b[0m\u001b[0;34m(\u001b[0m\u001b[0m_input\u001b[0m\u001b[0;34m,\u001b[0m \u001b[0mtext_type\u001b[0m\u001b[0;34m)\u001b[0m \u001b[0;32mand\u001b[0m \u001b[0mencoding\u001b[0m\u001b[0;34m:\u001b[0m\u001b[0;34m\u001b[0m\u001b[0m\n\u001b[1;32m     98\u001b[0m             \u001b[0m_input\u001b[0m \u001b[0;34m=\u001b[0m \u001b[0m_input\u001b[0m\u001b[0;34m.\u001b[0m\u001b[0mencode\u001b[0m\u001b[0;34m(\u001b[0m\u001b[0mencoding\u001b[0m\u001b[0;34m)\u001b[0m\u001b[0;34m\u001b[0m\u001b[0m\n",
      "\u001b[0;31mTypeError\u001b[0m: sequence item 0: expected str instance, list found"
     ]
    }
   ],
   "source": [
    "stanford_pos = StanfordPOSTagger('postagger/models/english-bidirectional-distsim.tagger', 'postagger/stanford-postagger.jar')"
   ]
  },
  {
   "cell_type": "code",
   "execution_count": 464,
   "metadata": {},
   "outputs": [],
   "source": [
    "class Publication():\n",
    "    \n",
    "    def __init__(self, pub_id = '', pub_id_list = [], pub_sent = [], pub_word = [], pub_string_count = []):\n",
    "        self.publication_name = pub_id\n",
    "        self.id_list = pub_id_list\n",
    "        self.sent_tok = pub_sent\n",
    "        self.word_tok = pub_word\n",
    "        self.string_count = pub_string_count\n",
    "    \n",
    "    def calc_word_count(self):\n",
    "        self.word_count = [len(text) for text in self.word_tok]\n",
    "        \n",
    "    def calc_sent_count(self):\n",
    "        self.sent_count = [len(text) for text in self.sent_tok]\n",
    "        \n",
    "    def calc_sent_len(self):\n",
    "        if not self.word_count:\n",
    "            self.calc_word_count()\n",
    "        if not self.sent_count:\n",
    "            self.calc_sent_count\n",
    "        self.sent_len = [i/j for i,j in zip(self.word_count, self.sent_count)]\n",
    "        \n",
    "    def calc_unique_words(self):\n",
    "        self.unique_wc = [len(set([word for word in text if word not in punctuation_set])) for text in self.word_tok]\n",
    "        self.unique_word_frac = [float(i/j) for i,j in zip(self.unique_wc, self.word_count)]\n",
    "\n",
    "    def calc_word_length(self):\n",
    "        self.word_len = [np.mean([len(word) for word in text if word not in punctuation_set]) for text in self.word_tok]\n",
    "\n",
    "    def calc_sent_len_std(self):\n",
    "        self.sent_len_std = [np.std([len(sent) for sent in text]) for text in self.sent_tok]\n",
    "        \n",
    "    def calc_punc_ps(self):\n",
    "        if not self.sent_count:\n",
    "            self.calc_sent_count()\n",
    "        self.cps = [float(counter[',']/sent_num) for counter, sent_num in zip(self.string_count, self.sent_count)]\n",
    "        self.qps = [float(counter['?']/sent_num) for counter, sent_num in zip(self.string_count, self.sent_count)]\n",
    "        self.exps = [float(counter['!']/sent_num) for counter, sent_num in zip(self.string_count, self.sent_count)]\n",
    "\n",
    "    def calc_pos_counts(self):\n",
    "        #tag text:\n",
    "        self.adverb_count = []\n",
    "        self.verb_count = []\n",
    "        for ci, article in enumerate(self.sent_tok):\n",
    "            if not ci%1000:\n",
    "                print(ci)\n",
    "            article_adverb_dict = {'RB': 0, 'RBR': 0, 'RBS': 0, 'WRB': 0}\n",
    "            article_verb_dict = {'VB': 0, 'VBD': 0, 'VBG': 0, 'VBN': 0 , 'VBZ': 0, 'VBP': 0}\n",
    "            for sentence in article:\n",
    "                #pos_tag = stanford_pos.tag([sentence])\n",
    "                pos_tag = nltk.pos_tag(nltk.word_tokenize(sentence))\n",
    "                #adverbs\n",
    "                for word in pos_tag:\n",
    "                    if 'RB' in word[1]:\n",
    "                        #print(word[0], word[1])\n",
    "                        #RB: adverb\n",
    "                        #    occasionally unabatingly maddeningly adventurously professedly\n",
    "                        #    stirringly prominently technologically magisterially predominately\n",
    "                        #    swiftly fiscally pitilessly ...\n",
    "                        #RBR: adverb, comparative\n",
    "                        #    further gloomier grander graver greater grimmer harder harsher\n",
    "                        #    healthier heavier higher however larger later leaner lengthier less-\n",
    "                        #    perfectly lesser lonelier longer louder lower more ...\n",
    "                        #RBS: adverb, superlative\n",
    "                        #    best biggest bluntest earliest farthest first furthest hardest\n",
    "                        #    heartiest highest largest least\n",
    "                        #WRB: what, where, who, when\n",
    "                        article_adverb_dict[word[1]] += 1\n",
    "                        #article_adv_count += 1\n",
    "                    if 'VB' in word[1]:\n",
    "                        #VB: verb, base form\n",
    "                        #    ask assemble assess assign assume atone attention avoid bake balkanize\n",
    "                        #    bank begin behold believe bend benefit bevel beware bless boil bomb\n",
    "                        #    boost brace break bring broil brush build ...\n",
    "                        #VBD: verb, past tense\n",
    "                        #    dipped pleaded swiped regummed soaked tidied convened halted registered\n",
    "                        #    cushioned exacted snubbed strode aimed adopted belied figgered\n",
    "                        #    speculated wore appreciated contemplated ...\n",
    "                        #VBG: verb, present participle or gerund\n",
    "                        #    telegraphing stirring focusing angering judging stalling lactating\n",
    "                        #    hankerin' alleging veering capping approaching traveling besieging\n",
    "                        #    encrypting interrupting erasing wincing ...\n",
    "                        #VBN: verb, past participle\n",
    "                        #    multihulled dilapidated aerosolized chaired languished panelized used\n",
    "                        #    experimented flourished imitated reunifed factored condensed sheared\n",
    "                        #    unsettled primed dubbed desired ...\n",
    "                        #VBP: verb, present tense, not 3rd person singular\n",
    "                        #    predominate wrap resort sue twist spill cure lengthen brush terminate\n",
    "                        #    appear tend stray glisten obtain comprise detest tease attract\n",
    "                        #    emphasize mold postpone sever return wag ...\n",
    "                        #VBZ: verb, present tense, 3rd person singular\n",
    "                        #    bases reconstructs marks mixes displeases seals carps weaves snatches\n",
    "                        #    slumps stretches authorizes smolders pictures emerges stockpiles\n",
    "                        #    seduces fizzes uses bolsters slaps speaks pleads\n",
    "                        article_verb_dict[word[1]] += 1\n",
    "                        #article_verb_count += 1\n",
    "            self.adverb_count.append(article_adverb_dict)\n",
    "            self.verb_count.append(article_verb_dict)\n",
    "            #input()\n",
    "        #verb count:\n",
    "        \n",
    "        #noun count:\n",
    "            \n",
    "    def calc_sentiment_polarity(self):\n",
    "        self.sentiment_vec = []\n",
    "        for ci, article in enumerate(self.sent_tok):\n",
    "            if not ci%1000:\n",
    "                print(ci)\n",
    "            sentence_count = len(article)\n",
    "            #compound, positive, neutral, negative\n",
    "            document_score = [0,0,0,0]\n",
    "            for sentence in article:\n",
    "                #print(sentence)\n",
    "                ss = sid.polarity_scores(sentence)\n",
    "                document_score[0] += ss['compound']\n",
    "                document_score[1] += ss['pos']\n",
    "                document_score[2] += ss['neu']\n",
    "                document_score[3] += ss['neg']\n",
    "                #print(ss)\n",
    "                #for k in sorted(ss):\n",
    "                #    print('{0}: {1}, '.format(k, ss[k]), end='')\n",
    "                #    print()\n",
    "                #input()\n",
    "            document_score = [float(i/sentence_count) for i in document_score]\n",
    "            self.sentiment_vec.append(document_score)\n",
    "        \n",
    "        \n",
    "#feature names: word_count, sent_count, sent_len, unique_word_frac, word_len, sent_len_std, cps\n",
    "    "
   ]
  },
  {
   "cell_type": "markdown",
   "metadata": {},
   "source": [
    "# New York Times"
   ]
  },
  {
   "cell_type": "code",
   "execution_count": 466,
   "metadata": {},
   "outputs": [
    {
     "name": "stdout",
     "output_type": "stream",
     "text": [
      "0\n",
      "1000\n",
      "2000\n",
      "3000\n",
      "0\n",
      "1000\n",
      "2000\n",
      "0\n",
      "1000\n",
      "2000\n",
      "3000\n"
     ]
    }
   ],
   "source": [
    "nyt = Publication(\"New York Times\", nyt_id, nyt_sent, nyt_word, nyt_string_count)\n",
    "nyt.calc_word_count()\n",
    "nyt.calc_sent_count()\n",
    "nyt.calc_sent_len()\n",
    "nyt.calc_unique_words()\n",
    "nyt.calc_word_length()\n",
    "nyt.calc_sent_len_std()\n",
    "nyt.calc_punc_ps()\n",
    "#nyt.calc_pos_counts()\n",
    "#print(nyt.adverb_count)\n",
    "nyt.calc_sentiment_polarity()\n",
    "\n",
    "\n",
    "\n",
    "breit = Publication(\"Breitbart\", breit_id, breit_sent, breit_word, breit_string_count)\n",
    "breit.calc_word_count()\n",
    "breit.calc_sent_count()\n",
    "breit.calc_sent_len()\n",
    "breit.calc_unique_words()\n",
    "breit.calc_word_length()\n",
    "breit.calc_sent_len_std()\n",
    "breit.calc_punc_ps()\n",
    "#breit.calc_pos_counts()\n",
    "breit.calc_sentiment_polarity()\n",
    "\n",
    "\n",
    "\n",
    "wapo = Publication(\"Washington Post\", wapo_id, wapo_sent, wapo_word, wapo_string_count)\n",
    "wapo.calc_word_count()\n",
    "wapo.calc_sent_count()\n",
    "wapo.calc_sent_len()\n",
    "wapo.calc_unique_words()\n",
    "wapo.calc_word_length()\n",
    "wapo.calc_sent_len_std()\n",
    "wapo.calc_punc_ps()\n",
    "#wapo.calc_pos_counts()\n",
    "wapo.calc_sentiment_polarity()"
   ]
  },
  {
   "cell_type": "markdown",
   "metadata": {},
   "source": [
    "# Breitbart"
   ]
  },
  {
   "cell_type": "code",
   "execution_count": 211,
   "metadata": {},
   "outputs": [
    {
     "name": "stdout",
     "output_type": "stream",
     "text": [
      "0\n",
      "1000\n",
      "2000\n"
     ]
    }
   ],
   "source": [
    "breit = Publication(\"Breitbart\", breit_id, breit_sent, breit_word, breit_string_count)\n",
    "#breit.calc_word_count()\n",
    "#breit.calc_sent_count()\n",
    "#breit.calc_sent_len()\n",
    "#breit.calc_unique_words()\n",
    "#breit.calc_word_length()\n",
    "#breit.calc_sent_len_std()\n",
    "#breit.calc_cps()\n",
    "#breit.calc_pos_counts()\n",
    "breit.calc_sentiment_polarity()\n"
   ]
  },
  {
   "cell_type": "markdown",
   "metadata": {},
   "source": [
    "# Wapo"
   ]
  },
  {
   "cell_type": "code",
   "execution_count": 216,
   "metadata": {},
   "outputs": [
    {
     "name": "stdout",
     "output_type": "stream",
     "text": [
      "0\n",
      "1000\n",
      "2000\n",
      "3000\n"
     ]
    }
   ],
   "source": [
    "wapo = Publication(\"Washington Post\", wapo_id, wapo_sent, wapo_word, wapo_string_count)\n",
    "#wapo.calc_word_count()\n",
    "#wapo.calc_sent_count()\n",
    "#wapo.calc_sent_len()\n",
    "#wapo.calc_unique_words()\n",
    "#wapo.calc_word_length()\n",
    "#wapo.calc_sent_len_std()\n",
    "#wapo.calc_cps()\n",
    "#wapo.calc_pos_counts()\n",
    "wapo.calc_sentiment_polarity()"
   ]
  },
  {
   "cell_type": "code",
   "execution_count": 282,
   "metadata": {},
   "outputs": [
    {
     "name": "stderr",
     "output_type": "stream",
     "text": [
      "/home/joseph/anaconda3/envs/insight/lib/python3.6/site-packages/matplotlib/axes/_axes.py:6462: UserWarning: The 'normed' kwarg is deprecated, and has been replaced by the 'density' kwarg.\n",
      "  warnings.warn(\"The 'normed' kwarg is deprecated, and has been \"\n"
     ]
    },
    {
     "data": {
      "image/png": "[encoded data removed]",
      "text/plain": [
       "<Figure size 432x288 with 1 Axes>"
      ]
     },
     "metadata": {},
     "output_type": "display_data"
    }
   ],
   "source": [
    "#adverb_count\n",
    "#wapo.calc_sent_count()\n",
    "#nyt.calc_sent_count()\n",
    "#breit.calc_sent_count()\n",
    "for i in [nyt, breit, wapo]:\n",
    "    #print(breit.adverb_count)\n",
    "    #VB, VBD, VBG, VBN, VBP, VBZ\n",
    "\n",
    "    plt.hist([k['VB']/j for k,j in zip(nyt.verb_count, i.sent_count)], bins = [i/100. for i in list(range(0,900,10))], normed = True, alpha = 0.7)\n",
    "plt.legend(labels = pub_list_labels)\n",
    "plt.title(\"Adverbs per sentence\")\n",
    "plt.show()"
   ]
  },
  {
   "cell_type": "code",
   "execution_count": 246,
   "metadata": {},
   "outputs": [
    {
     "data": {
      "image/png": "[encoded data removed]",
      "text/plain": [
       "<Figure size 432x288 with 1 Axes>"
      ]
     },
     "metadata": {},
     "output_type": "display_data"
    }
   ],
   "source": [
    "#sentiment score\n",
    "for i in [nyt, breit, wapo]:\n",
    "    #print(breit.adverb_count)\n",
    "    #plt.hist([component[1]+component[3] for component in i.sentiment_vec], bins = [i/100. for i in list(range(0,200,1))], normed = True, alpha = 0.5)\n",
    "    plt.scatter([component[1] for component in i.sentiment_vec], [component[3] for component in i.sentiment_vec], s = 1, alpha = 0.8)\n",
    "plt.legend(labels = pub_list_labels)\n",
    "plt.title(\"Sentiment score metrics (vader)\")\n",
    "plt.show()"
   ]
  },
  {
   "cell_type": "markdown",
   "metadata": {},
   "source": [
    "# Finished features go into the plotting box below, in progress ones go above"
   ]
  },
  {
   "cell_type": "code",
   "execution_count": 194,
   "metadata": {},
   "outputs": [],
   "source": [
    "pub_list = [nyt, breit, wapo]\n",
    "pub_list_labels = ['NYT', 'Breitbart', 'Washington Post']"
   ]
  },
  {
   "cell_type": "markdown",
   "metadata": {},
   "source": [
    "# Plot Data"
   ]
  },
  {
   "cell_type": "code",
   "execution_count": 471,
   "metadata": {},
   "outputs": [
    {
     "name": "stderr",
     "output_type": "stream",
     "text": [
      "/home/joseph/anaconda3/envs/insight/lib/python3.6/site-packages/matplotlib/axes/_axes.py:6462: UserWarning: The 'normed' kwarg is deprecated, and has been replaced by the 'density' kwarg.\n",
      "  warnings.warn(\"The 'normed' kwarg is deprecated, and has been \"\n",
      "/home/joseph/anaconda3/envs/insight/lib/python3.6/site-packages/matplotlib/axes/_axes.py:6462: UserWarning: The 'normed' kwarg is deprecated, and has been replaced by the 'density' kwarg.\n",
      "  warnings.warn(\"The 'normed' kwarg is deprecated, and has been \"\n",
      "/home/joseph/anaconda3/envs/insight/lib/python3.6/site-packages/matplotlib/axes/_axes.py:6462: UserWarning: The 'normed' kwarg is deprecated, and has been replaced by the 'density' kwarg.\n",
      "  warnings.warn(\"The 'normed' kwarg is deprecated, and has been \"\n"
     ]
    },
    {
     "data": {
      "image/png": "[encoded data removed]",
      "text/plain": [
       "<Figure size 432x288 with 1 Axes>"
      ]
     },
     "metadata": {},
     "output_type": "display_data"
    },
    {
     "name": "stderr",
     "output_type": "stream",
     "text": [
      "/home/joseph/anaconda3/envs/insight/lib/python3.6/site-packages/matplotlib/axes/_axes.py:6462: UserWarning: The 'normed' kwarg is deprecated, and has been replaced by the 'density' kwarg.\n",
      "  warnings.warn(\"The 'normed' kwarg is deprecated, and has been \"\n",
      "/home/joseph/anaconda3/envs/insight/lib/python3.6/site-packages/matplotlib/axes/_axes.py:6462: UserWarning: The 'normed' kwarg is deprecated, and has been replaced by the 'density' kwarg.\n",
      "  warnings.warn(\"The 'normed' kwarg is deprecated, and has been \"\n",
      "/home/joseph/anaconda3/envs/insight/lib/python3.6/site-packages/matplotlib/axes/_axes.py:6462: UserWarning: The 'normed' kwarg is deprecated, and has been replaced by the 'density' kwarg.\n",
      "  warnings.warn(\"The 'normed' kwarg is deprecated, and has been \"\n"
     ]
    },
    {
     "data": {
      "image/png": "[encoded data removed]",
      "text/plain": [
       "<Figure size 432x288 with 1 Axes>"
      ]
     },
     "metadata": {},
     "output_type": "display_data"
    },
    {
     "name": "stderr",
     "output_type": "stream",
     "text": [
      "/home/joseph/anaconda3/envs/insight/lib/python3.6/site-packages/matplotlib/axes/_axes.py:6462: UserWarning: The 'normed' kwarg is deprecated, and has been replaced by the 'density' kwarg.\n",
      "  warnings.warn(\"The 'normed' kwarg is deprecated, and has been \"\n",
      "/home/joseph/anaconda3/envs/insight/lib/python3.6/site-packages/matplotlib/axes/_axes.py:6462: UserWarning: The 'normed' kwarg is deprecated, and has been replaced by the 'density' kwarg.\n",
      "  warnings.warn(\"The 'normed' kwarg is deprecated, and has been \"\n",
      "/home/joseph/anaconda3/envs/insight/lib/python3.6/site-packages/matplotlib/axes/_axes.py:6462: UserWarning: The 'normed' kwarg is deprecated, and has been replaced by the 'density' kwarg.\n",
      "  warnings.warn(\"The 'normed' kwarg is deprecated, and has been \"\n"
     ]
    },
    {
     "data": {
      "image/png": "[encoded data removed]",
      "text/plain": [
       "<Figure size 432x288 with 1 Axes>"
      ]
     },
     "metadata": {},
     "output_type": "display_data"
    },
    {
     "name": "stderr",
     "output_type": "stream",
     "text": [
      "/home/joseph/anaconda3/envs/insight/lib/python3.6/site-packages/matplotlib/axes/_axes.py:6462: UserWarning: The 'normed' kwarg is deprecated, and has been replaced by the 'density' kwarg.\n",
      "  warnings.warn(\"The 'normed' kwarg is deprecated, and has been \"\n",
      "/home/joseph/anaconda3/envs/insight/lib/python3.6/site-packages/matplotlib/axes/_axes.py:6462: UserWarning: The 'normed' kwarg is deprecated, and has been replaced by the 'density' kwarg.\n",
      "  warnings.warn(\"The 'normed' kwarg is deprecated, and has been \"\n",
      "/home/joseph/anaconda3/envs/insight/lib/python3.6/site-packages/matplotlib/axes/_axes.py:6462: UserWarning: The 'normed' kwarg is deprecated, and has been replaced by the 'density' kwarg.\n",
      "  warnings.warn(\"The 'normed' kwarg is deprecated, and has been \"\n"
     ]
    },
    {
     "data": {
      "image/png": "[encoded data removed]",
      "text/plain": [
       "<Figure size 432x288 with 1 Axes>"
      ]
     },
     "metadata": {},
     "output_type": "display_data"
    },
    {
     "name": "stderr",
     "output_type": "stream",
     "text": [
      "/home/joseph/anaconda3/envs/insight/lib/python3.6/site-packages/matplotlib/axes/_axes.py:6462: UserWarning: The 'normed' kwarg is deprecated, and has been replaced by the 'density' kwarg.\n",
      "  warnings.warn(\"The 'normed' kwarg is deprecated, and has been \"\n",
      "/home/joseph/anaconda3/envs/insight/lib/python3.6/site-packages/matplotlib/axes/_axes.py:6462: UserWarning: The 'normed' kwarg is deprecated, and has been replaced by the 'density' kwarg.\n",
      "  warnings.warn(\"The 'normed' kwarg is deprecated, and has been \"\n",
      "/home/joseph/anaconda3/envs/insight/lib/python3.6/site-packages/matplotlib/axes/_axes.py:6462: UserWarning: The 'normed' kwarg is deprecated, and has been replaced by the 'density' kwarg.\n",
      "  warnings.warn(\"The 'normed' kwarg is deprecated, and has been \"\n"
     ]
    },
    {
     "data": {
      "image/png": "[encoded data removed]",
      "text/plain": [
       "<Figure size 432x288 with 1 Axes>"
      ]
     },
     "metadata": {},
     "output_type": "display_data"
    },
    {
     "name": "stderr",
     "output_type": "stream",
     "text": [
      "/home/joseph/anaconda3/envs/insight/lib/python3.6/site-packages/matplotlib/axes/_axes.py:6462: UserWarning: The 'normed' kwarg is deprecated, and has been replaced by the 'density' kwarg.\n",
      "  warnings.warn(\"The 'normed' kwarg is deprecated, and has been \"\n",
      "/home/joseph/anaconda3/envs/insight/lib/python3.6/site-packages/matplotlib/axes/_axes.py:6462: UserWarning: The 'normed' kwarg is deprecated, and has been replaced by the 'density' kwarg.\n",
      "  warnings.warn(\"The 'normed' kwarg is deprecated, and has been \"\n",
      "/home/joseph/anaconda3/envs/insight/lib/python3.6/site-packages/matplotlib/axes/_axes.py:6462: UserWarning: The 'normed' kwarg is deprecated, and has been replaced by the 'density' kwarg.\n",
      "  warnings.warn(\"The 'normed' kwarg is deprecated, and has been \"\n"
     ]
    },
    {
     "data": {
      "image/png": "[encoded data removed]",
      "text/plain": [
       "<Figure size 432x288 with 1 Axes>"
      ]
     },
     "metadata": {},
     "output_type": "display_data"
    },
    {
     "name": "stderr",
     "output_type": "stream",
     "text": [
      "/home/joseph/anaconda3/envs/insight/lib/python3.6/site-packages/matplotlib/axes/_axes.py:6462: UserWarning: The 'normed' kwarg is deprecated, and has been replaced by the 'density' kwarg.\n",
      "  warnings.warn(\"The 'normed' kwarg is deprecated, and has been \"\n",
      "/home/joseph/anaconda3/envs/insight/lib/python3.6/site-packages/matplotlib/axes/_axes.py:6462: UserWarning: The 'normed' kwarg is deprecated, and has been replaced by the 'density' kwarg.\n",
      "  warnings.warn(\"The 'normed' kwarg is deprecated, and has been \"\n",
      "/home/joseph/anaconda3/envs/insight/lib/python3.6/site-packages/matplotlib/axes/_axes.py:6462: UserWarning: The 'normed' kwarg is deprecated, and has been replaced by the 'density' kwarg.\n",
      "  warnings.warn(\"The 'normed' kwarg is deprecated, and has been \"\n"
     ]
    },
    {
     "data": {
      "image/png": "[encoded data removed]",
      "text/plain": [
       "<Figure size 432x288 with 1 Axes>"
      ]
     },
     "metadata": {},
     "output_type": "display_data"
    },
    {
     "name": "stderr",
     "output_type": "stream",
     "text": [
      "/home/joseph/anaconda3/envs/insight/lib/python3.6/site-packages/matplotlib/axes/_axes.py:6462: UserWarning: The 'normed' kwarg is deprecated, and has been replaced by the 'density' kwarg.\n",
      "  warnings.warn(\"The 'normed' kwarg is deprecated, and has been \"\n",
      "/home/joseph/anaconda3/envs/insight/lib/python3.6/site-packages/matplotlib/axes/_axes.py:6462: UserWarning: The 'normed' kwarg is deprecated, and has been replaced by the 'density' kwarg.\n",
      "  warnings.warn(\"The 'normed' kwarg is deprecated, and has been \"\n",
      "/home/joseph/anaconda3/envs/insight/lib/python3.6/site-packages/matplotlib/axes/_axes.py:6462: UserWarning: The 'normed' kwarg is deprecated, and has been replaced by the 'density' kwarg.\n",
      "  warnings.warn(\"The 'normed' kwarg is deprecated, and has been \"\n"
     ]
    },
    {
     "data": {
      "image/png": "[encoded data removed]",
      "text/plain": [
       "<Figure size 432x288 with 1 Axes>"
      ]
     },
     "metadata": {},
     "output_type": "display_data"
    },
    {
     "name": "stderr",
     "output_type": "stream",
     "text": [
      "/home/joseph/anaconda3/envs/insight/lib/python3.6/site-packages/matplotlib/axes/_axes.py:6462: UserWarning: The 'normed' kwarg is deprecated, and has been replaced by the 'density' kwarg.\n",
      "  warnings.warn(\"The 'normed' kwarg is deprecated, and has been \"\n",
      "/home/joseph/anaconda3/envs/insight/lib/python3.6/site-packages/matplotlib/axes/_axes.py:6462: UserWarning: The 'normed' kwarg is deprecated, and has been replaced by the 'density' kwarg.\n",
      "  warnings.warn(\"The 'normed' kwarg is deprecated, and has been \"\n",
      "/home/joseph/anaconda3/envs/insight/lib/python3.6/site-packages/matplotlib/axes/_axes.py:6462: UserWarning: The 'normed' kwarg is deprecated, and has been replaced by the 'density' kwarg.\n",
      "  warnings.warn(\"The 'normed' kwarg is deprecated, and has been \"\n"
     ]
    },
    {
     "data": {
      "image/png": "[encoded data removed]",
      "text/plain": [
       "<Figure size 432x288 with 1 Axes>"
      ]
     },
     "metadata": {},
     "output_type": "display_data"
    }
   ],
   "source": [
    "# Word Count\n",
    "\n",
    "for i in [nyt, breit, wapo]:\n",
    "    plt.hist(i.word_count, bins = list(range(0,3000,50)), normed = True, alpha = 0.7)\n",
    "plt.legend(labels = pub_list_labels)\n",
    "plt.title(\"Word count\")\n",
    "plt.show()\n",
    "\n",
    "# Sentence Count\n",
    "\n",
    "for i in [nyt, breit, wapo]:\n",
    "    plt.hist(i.sent_count, bins = list(range(0,250,5)), normed = True, alpha = 0.7)\n",
    "plt.legend(labels = pub_list_labels)\n",
    "plt.title(\"Sentence count\")\n",
    "plt.show()\n",
    "# Sentence Length\n",
    "\n",
    "for i in [nyt, breit, wapo]:\n",
    "    plt.hist(i.sent_len, bins = list(range(0,50,1)), normed = True, alpha = 0.7)\n",
    "plt.legend(labels = pub_list_labels)\n",
    "plt.title(\"Sentence length\")\n",
    "plt.show()\n",
    "# Unique Word Count and Fraction\n",
    "\n",
    "for i in [nyt, breit, wapo]:\n",
    "    plt.hist(i.unique_word_frac, bins = [i/100. for i in list(range(0,100,1))], normed = True, alpha = 0.7)\n",
    "plt.legend(labels = pub_list_labels)\n",
    "plt.title(\"Unique word fraction\")\n",
    "plt.show()\n",
    "\n",
    "# Mean word length\n",
    "\n",
    "for i in [nyt, breit, wapo]:\n",
    "    plt.hist(i.word_len, bins = [i/100. for i in list(range(300,650,5))], normed = True, alpha = 0.7)\n",
    "plt.legend(labels = pub_list_labels)\n",
    "plt.title(\"Mean word length\")\n",
    "plt.show()\n",
    "\n",
    "# Sentence length distribution\n",
    "\n",
    "for i in [nyt, breit, wapo]:\n",
    "    plt.hist(i.sent_len_std, bins = list(range(0,170,2)), normed = True, alpha = 0.7)\n",
    "plt.legend(labels = pub_list_labels)\n",
    "plt.title(\"Sentence length variability\")\n",
    "plt.show()\n",
    "\n",
    "# Commas per sentence\n",
    "\n",
    "for i in [nyt, breit, wapo]:\n",
    "    plt.hist(i.cps, bins = [i/100. for i in list(range(0,300,5))], normed = True, alpha = 0.7)\n",
    "plt.legend(labels = pub_list_labels)\n",
    "plt.title(\"Commas per sentence\")\n",
    "plt.show()\n",
    "\n",
    "\n",
    "for i in [nyt, breit, wapo]:\n",
    "    plt.hist(i.qps, bins = [i/1000. for i in list(range(0,200,5))], normed = True, alpha = 0.7)\n",
    "plt.legend(labels = pub_list_labels)\n",
    "plt.title(\"Question marks per sentence\")\n",
    "plt.show()\n",
    "\n",
    "\n",
    "for i in [nyt, breit, wapo]:\n",
    "    plt.hist(i.exps, bins = [i/1000. for i in list(range(0,100,5))], normed = True, alpha = 0.7)\n",
    "plt.legend(labels = pub_list_labels)\n",
    "plt.title(\"Exclamation marks per sentence\")\n",
    "plt.show()"
   ]
  },
  {
   "cell_type": "markdown",
   "metadata": {},
   "source": [
    "# Measure correlations "
   ]
  },
  {
   "cell_type": "code",
   "execution_count": 474,
   "metadata": {},
   "outputs": [
    {
     "data": {
      "text/plain": [
       "<matplotlib.axes._subplots.AxesSubplot at 0x7f3fa2cb1550>"
      ]
     },
     "execution_count": 474,
     "metadata": {},
     "output_type": "execute_result"
    },
    {
     "data": {
      "image/png": "[encoded data removed]",
      "text/plain": [
       "<Figure size 432x288 with 2 Axes>"
      ]
     },
     "metadata": {},
     "output_type": "display_data"
    }
   ],
   "source": [
    "import seaborn as sns\n",
    "\n",
    "#put features into a pandas df\n",
    "nyt_feature_df = pd.DataFrame(\n",
    "    {'word_count': breit.word_count,\n",
    "     'sent_len': breit.sent_len,\n",
    "     'word_len': breit.word_len,\n",
    "     'sent_len_std': breit.sent_len_std,\n",
    "     'unique_word_frac': breit.unique_word_frac,\n",
    "     'cps': breit.cps,\n",
    "     'qps': breit.qps,\n",
    "     'exps': breit.exps,\n",
    "     #'adverb_ps': [float(sum(dict_vals.values())/sl) for dict_vals, sl in zip(breit.adverb_count, breit.sent_count)],\n",
    "     #'verb_ps': [float(sum(dict_vals.values())/sl) for dict_vals, sl in zip(breit.verb_count, breit.sent_count)],\n",
    "     'sent_compound': [vec[0] for vec in breit.sentiment_vec]\n",
    "    })\n",
    "\n",
    "#wc += i.word_count\n",
    "#sent_len += i.sent_len\n",
    "#word_len += i.word_len\n",
    "#sent_len_std += i.sent_len_std\n",
    "#unique_word_frac += i.unique_word_frac\n",
    "#cps += i.cps\n",
    "#adverb_ps += [float(sum(dict_vals.values())/sl) for dict_vals, sl in zip(i.adverb_count, i.sent_count)]\n",
    "#sup_adv_ps += [float(dict_vals['WRB']/sl) for dict_vals, sl in zip(i.adverb_count, i.sent_count)]\n",
    "#verb_ps += [float(dict_vals['VBZ']/sl) for dict_vals, sl in zip(i.verb_count, i.sent_count)]\n",
    "#sent_compound += [vec[2] if vec[1] + vec[3] == 0 else vec[2]/(vec[1] + vec[3]) for vec in i.sentiment_vec]\n",
    "\n",
    "corr = nyt_feature_df.corr()\n",
    "\n",
    "mask = np.zeros_like(corr, dtype=np.bool)\n",
    "mask[np.triu_indices_from(mask)] = True\n",
    "\n",
    "cmap = sns.diverging_palette(220, 10, as_cmap=True)\n",
    "\n",
    "# Draw the heatmap with the mask and correct aspect ratio\n",
    "sns.heatmap(corr,cmap=cmap, center=0,\n",
    "            square=True, linewidths=.5, cbar_kws={\"shrink\": .5})"
   ]
  },
  {
   "cell_type": "markdown",
   "metadata": {},
   "source": [
    "### from sklearn import tree\n",
    "#X = [[0, 0], [1, 1]]\n",
    "#Y = [0, 1]\n",
    "#clf = tree.DecisionTreeClassifier()\n",
    "#clf = clf.fit(X, Y)"
   ]
  },
  {
   "cell_type": "code",
   "execution_count": 524,
   "metadata": {},
   "outputs": [
    {
     "name": "stdout",
     "output_type": "stream",
     "text": [
      "[]\n",
      "[]\n"
     ]
    }
   ],
   "source": [
    "#join data\n",
    "wc = []\n",
    "sent_len = []\n",
    "sent_len_std = []\n",
    "unique_word_frac = []\n",
    "word_len = []\n",
    "cps = []\n",
    "qps = []\n",
    "exps = []\n",
    "adverb_ps = []\n",
    "sup_adv_ps = []\n",
    "verb_ps = []\n",
    "sent_compound = []\n",
    "#VB, VBD, VBG, VBN, VBP, VBZ\n",
    "#RB, WRB, RBR, RBS\n",
    "#feature names: word_count, sent_count, sent_len, unique_word_frac, word_len, sent_len_std, cps\n",
    "for i in [nyt, breit, wapo]:\n",
    "    wc += i.word_count\n",
    "    sent_len += i.sent_len\n",
    "    word_len += i.word_len\n",
    "    sent_len_std += i.sent_len_std\n",
    "    unique_word_frac += i.unique_word_frac\n",
    "    cps += i.cps\n",
    "    qps += i.qps\n",
    "    exps += i.exps\n",
    "    #adverb_ps += [float(sum(dict_vals.values())/sl) for dict_vals, sl in zip(i.adverb_count, i.sent_count)]\n",
    "    #sup_adv_ps += [float(dict_vals['WRB']/sl) for dict_vals, sl in zip(i.adverb_count, i.sent_count)]\n",
    "    #verb_ps += [float(dict_vals['VBZ']/sl) for dict_vals, sl in zip(i.verb_count, i.sent_count)]\n",
    "    #sent_compound += [vec[2] if vec[1] + vec[3] == 0 else vec[2]/(vec[1] + vec[3]) for vec in i.sentiment_vec]\n",
    "print(sup_adv_ps[:10])\n",
    "print(sent_compound[:10])\n",
    "#print(nyt.adverb_count)\n",
    "#print(total_adverb_ps[:10])\n",
    "#wc = nyt_wc + breit_wc + wapo_wc\n",
    "#sent_len = nyt_sent_len + breit_sent_len + wapo_sent_len\n",
    "#sent_len_std = nyt_sent_len_std + breit_sent_len_std + wapo_sent_len_std\n",
    "#unique_word_frac = nyt_unique_word_frac + breit_unique_word_frac + wapo_unique_word_frac\n",
    "#word_len = nyt_word_len + breit_word_len + wapo_word_len\n",
    "#cps = nyt_cps + breit_cps + wapo_cps\n",
    "#print(len(wc), len(word_length))"
   ]
  },
  {
   "cell_type": "code",
   "execution_count": 550,
   "metadata": {},
   "outputs": [
    {
     "name": "stdout",
     "output_type": "stream",
     "text": [
      "[3040, 2990, 3056]\n",
      "[0, 3040, 6030, 9086]\n",
      "9086\n"
     ]
    }
   ],
   "source": [
    "#combine features\n",
    "X = [[i, j, k, l, m, n, o] for i, j, k, l, m, n, o in zip(\n",
    "    sent_len_std, unique_word_frac, word_len, cps, qps, exps, wc)]#, sup_adv_ps, verb_ps, sent_compound)]\n",
    "\n",
    "feature_names = ['sentence variability', 'unique word fraction', \n",
    "                 'mean word length', 'commas per sentence', 'questions per sentence', \n",
    "                 'exclamations per sentence']#, 'adverbs per sentence', \n",
    "                 #'verbs per sentence', 'sent_compound']\n",
    "\n",
    "n_samples = len(X)\n",
    "data_boundaries = [len(i.word_count) for i in [nyt, breit, wapo]]\n",
    "print(data_boundaries)\n",
    "cumulative_bounds = [0]\n",
    "for ci, i in enumerate(data_boundaries):\n",
    "    cumulative_bounds.append(i+cumulative_bounds[ci])\n",
    "print(cumulative_bounds)\n",
    "#cumulative_bounds = [0]\n",
    "#cumulative_bounds = [cumulative_bounds[i-1] + i for i in data_boundaries]\n",
    "print(len(X))\n",
    "#X = np.asarray(wc).reshape(-1,1)"
   ]
  },
  {
   "cell_type": "code",
   "execution_count": 551,
   "metadata": {},
   "outputs": [
    {
     "name": "stdout",
     "output_type": "stream",
     "text": [
      "9086\n"
     ]
    }
   ],
   "source": [
    "#labels\n",
    "Y = [0 for i in range(len(nyt.word_count))] + [1 for i in range(len(breit.word_count))] + [2 for i in range(len(wapo.word_count))]\n",
    "print(len(Y))"
   ]
  },
  {
   "cell_type": "code",
   "execution_count": 552,
   "metadata": {},
   "outputs": [
    {
     "name": "stdout",
     "output_type": "stream",
     "text": [
      "[7868 7826 8402 ... 3030 5164  618]\n",
      "[2622 8452 1101 ...  367 1454 3954]\n",
      "9086\n"
     ]
    }
   ],
   "source": [
    "#test train split\n",
    "from sklearn.model_selection import train_test_split\n",
    "\n",
    "indices = np.arange(n_samples)\n",
    "\n",
    "X_train, X_test, y_train, y_test, idx_train, idx_test = train_test_split(X, Y, indices, test_size=0.4)\n",
    "print(idx_train)\n",
    "print(idx_test)\n",
    "\n",
    "text_list = nyt_sent + breit_sent + wapo_sent\n",
    "print(len(text_list))"
   ]
  },
  {
   "cell_type": "code",
   "execution_count": 553,
   "metadata": {},
   "outputs": [],
   "source": [
    "#from sklearn.model_selection import GridSearchCV\n",
    "#parameters = {'max_depth':range(3,20)}\n",
    "#clf = GridSearchCV(tree.DecisionTreeClassifier(), parameters, n_jobs=4)\n",
    "#clf.fit(X=X_train, y=y_train)\n",
    "#tree_model = clf.best_estimator_\n",
    "#print (clf.best_score_, clf.best_params_) \n",
    "\n",
    "\n",
    "#clf = tree.DecisionTreeClassifier(max_depth = 5)\n",
    "#clf = clf.fit(X_train, y_train)\n",
    "\n",
    "from sklearn.ensemble import RandomForestClassifier\n",
    "clf = RandomForestClassifier(n_estimators=10)\n",
    "clf = clf.fit(X_train, y_train)\n",
    "\n",
    "y_pred = clf.predict(X_test)\n",
    "#chance = [0 if random.random() > 0.5 else 1 for _ in range(len(y_pred))]"
   ]
  },
  {
   "cell_type": "code",
   "execution_count": 554,
   "metadata": {},
   "outputs": [
    {
     "name": "stdout",
     "output_type": "stream",
     "text": [
      "Normalized confusion matrix\n",
      "[[0.69 0.11 0.2 ]\n",
      " [0.11 0.74 0.15]\n",
      " [0.24 0.21 0.55]]\n"
     ]
    },
    {
     "data": {
      "image/png": "[encoded data removed]",
      "text/plain": [
       "<Figure size 432x288 with 2 Axes>"
      ]
     },
     "metadata": {},
     "output_type": "display_data"
    }
   ],
   "source": [
    "from sklearn.metrics import confusion_matrix\n",
    "import itertools\n",
    "class_names = ['New York Times', 'Breitbart', 'Washington Post']\n",
    "\n",
    "def plot_confusion_matrix(cm, classes,\n",
    "                          normalize=False,\n",
    "                          title='Confusion matrix',\n",
    "                          cmap=plt.cm.Blues):\n",
    "    \"\"\"\n",
    "    This function prints and plots the confusion matrix.\n",
    "    Normalization can be applied by setting `normalize=True`.\n",
    "    \"\"\"\n",
    "    if normalize:\n",
    "        cm = cm.astype('float') / cm.sum(axis=1)[:, np.newaxis]\n",
    "        print(\"Normalized confusion matrix\")\n",
    "    else:\n",
    "        print('Confusion matrix, without normalization')\n",
    "\n",
    "    print(cm)\n",
    "\n",
    "    plt.imshow(cm, interpolation='nearest', cmap=cmap)\n",
    "    plt.title(title)\n",
    "    plt.colorbar()\n",
    "    tick_marks = np.arange(len(classes))\n",
    "    plt.xticks(tick_marks, classes, rotation=45, ha = 'right')\n",
    "    plt.yticks(tick_marks, classes)\n",
    "\n",
    "    fmt = '.2f' if normalize else 'd'\n",
    "    thresh = cm.max() / 2.\n",
    "    for i, j in itertools.product(range(cm.shape[0]), range(cm.shape[1])):\n",
    "        plt.text(j, i, format(cm[i, j], fmt),\n",
    "                 horizontalalignment=\"center\",\n",
    "                 color=\"white\" if cm[i, j] > thresh else \"black\")\n",
    "\n",
    "    plt.tight_layout()\n",
    "    plt.ylabel('True label')\n",
    "    plt.xlabel('Predicted label')\n",
    "\n",
    "# Compute confusion matrix\n",
    "cnf_matrix = confusion_matrix(y_test, y_pred)\n",
    "np.set_printoptions(precision=2)\n",
    "\n",
    "# Plot non-normalized confusion matrix\n",
    "plt.figure()\n",
    "plot_confusion_matrix(cnf_matrix, classes=class_names,\n",
    "                      title='Confusion matrix', normalize = True)\n"
   ]
  },
  {
   "cell_type": "code",
   "execution_count": 533,
   "metadata": {},
   "outputs": [
    {
     "name": "stdout",
     "output_type": "stream",
     "text": [
      "Feature ranking:\n",
      "1. feature 0 (1.000000)\n",
      "[0]\n"
     ]
    },
    {
     "data": {
      "image/png": "[encoded data removed]",
      "text/plain": [
       "<Figure size 432x288 with 1 Axes>"
      ]
     },
     "metadata": {},
     "output_type": "display_data"
    }
   ],
   "source": [
    "importances = clf.feature_importances_\n",
    "std = np.std([tree.feature_importances_ for tree in clf.estimators_],\n",
    "             axis=0)\n",
    "indices = np.argsort(importances)[::-1]\n",
    "\n",
    "# Print the feature ranking\n",
    "print(\"Feature ranking:\")\n",
    "\n",
    "for f in range(len(X[0])):#.shape[1]):\n",
    "    print(\"%d. feature %d (%f)\" % (f + 1, indices[f], importances[indices[f]]))\n",
    "\n",
    "    # Plot the feature importances of the forest\n",
    "plt.figure()\n",
    "plt.title(\"Feature importances\")\n",
    "plt.bar(range(len(X[0])), importances[indices],\n",
    "       color=\"r\", yerr=std[indices], align=\"center\")\n",
    "print(indices)\n",
    "plt.xticks(range(len(X[0])), [feature_names[i] for i in indices], rotation = 45, ha = 'right')\n",
    "plt.xlim([-1, len(X[0])])\n",
    "plt.show()\n"
   ]
  },
  {
   "cell_type": "code",
   "execution_count": 534,
   "metadata": {},
   "outputs": [
    {
     "name": "stdout",
     "output_type": "stream",
     "text": [
      "2 1 17 mismatch\n",
      "the latest addition to donald trump’s team of advisers,    breitbart reporter julia hahn, may strike fear in the hearts of house speaker paul ryan and his allies, according to a story by robert costa in the washington post. breitbart eic alex marlow says, \"with julia hahn, the white house just gained a champion for trump’s   base.\" —   gabriel sherman (@gabrielsherman) january 24, 2017,\n"
     ]
    },
    {
     "ename": "KeyboardInterrupt",
     "evalue": "",
     "output_type": "error",
     "traceback": [
      "\u001b[0;31m---------------------------------------------------------------------------\u001b[0m",
      "\u001b[0;31mKeyboardInterrupt\u001b[0m                         Traceback (most recent call last)",
      "\u001b[0;32m~/anaconda3/envs/insight/lib/python3.6/site-packages/ipykernel/kernelbase.py\u001b[0m in \u001b[0;36m_input_request\u001b[0;34m(self, prompt, ident, parent, password)\u001b[0m\n\u001b[1;32m    728\u001b[0m             \u001b[0;32mtry\u001b[0m\u001b[0;34m:\u001b[0m\u001b[0;34m\u001b[0m\u001b[0m\n\u001b[0;32m--> 729\u001b[0;31m                 \u001b[0mident\u001b[0m\u001b[0;34m,\u001b[0m \u001b[0mreply\u001b[0m \u001b[0;34m=\u001b[0m \u001b[0mself\u001b[0m\u001b[0;34m.\u001b[0m\u001b[0msession\u001b[0m\u001b[0;34m.\u001b[0m\u001b[0mrecv\u001b[0m\u001b[0;34m(\u001b[0m\u001b[0mself\u001b[0m\u001b[0;34m.\u001b[0m\u001b[0mstdin_socket\u001b[0m\u001b[0;34m,\u001b[0m \u001b[0;36m0\u001b[0m\u001b[0;34m)\u001b[0m\u001b[0;34m\u001b[0m\u001b[0m\n\u001b[0m\u001b[1;32m    730\u001b[0m             \u001b[0;32mexcept\u001b[0m \u001b[0mException\u001b[0m\u001b[0;34m:\u001b[0m\u001b[0;34m\u001b[0m\u001b[0m\n",
      "\u001b[0;32m~/anaconda3/envs/insight/lib/python3.6/site-packages/jupyter_client/session.py\u001b[0m in \u001b[0;36mrecv\u001b[0;34m(self, socket, mode, content, copy)\u001b[0m\n\u001b[1;32m    802\u001b[0m         \u001b[0;32mtry\u001b[0m\u001b[0;34m:\u001b[0m\u001b[0;34m\u001b[0m\u001b[0m\n\u001b[0;32m--> 803\u001b[0;31m             \u001b[0mmsg_list\u001b[0m \u001b[0;34m=\u001b[0m \u001b[0msocket\u001b[0m\u001b[0;34m.\u001b[0m\u001b[0mrecv_multipart\u001b[0m\u001b[0;34m(\u001b[0m\u001b[0mmode\u001b[0m\u001b[0;34m,\u001b[0m \u001b[0mcopy\u001b[0m\u001b[0;34m=\u001b[0m\u001b[0mcopy\u001b[0m\u001b[0;34m)\u001b[0m\u001b[0;34m\u001b[0m\u001b[0m\n\u001b[0m\u001b[1;32m    804\u001b[0m         \u001b[0;32mexcept\u001b[0m \u001b[0mzmq\u001b[0m\u001b[0;34m.\u001b[0m\u001b[0mZMQError\u001b[0m \u001b[0;32mas\u001b[0m \u001b[0me\u001b[0m\u001b[0;34m:\u001b[0m\u001b[0;34m\u001b[0m\u001b[0m\n",
      "\u001b[0;32m~/anaconda3/envs/insight/lib/python3.6/site-packages/zmq/sugar/socket.py\u001b[0m in \u001b[0;36mrecv_multipart\u001b[0;34m(self, flags, copy, track)\u001b[0m\n\u001b[1;32m    465\u001b[0m         \"\"\"\n\u001b[0;32m--> 466\u001b[0;31m         \u001b[0mparts\u001b[0m \u001b[0;34m=\u001b[0m \u001b[0;34m[\u001b[0m\u001b[0mself\u001b[0m\u001b[0;34m.\u001b[0m\u001b[0mrecv\u001b[0m\u001b[0;34m(\u001b[0m\u001b[0mflags\u001b[0m\u001b[0;34m,\u001b[0m \u001b[0mcopy\u001b[0m\u001b[0;34m=\u001b[0m\u001b[0mcopy\u001b[0m\u001b[0;34m,\u001b[0m \u001b[0mtrack\u001b[0m\u001b[0;34m=\u001b[0m\u001b[0mtrack\u001b[0m\u001b[0;34m)\u001b[0m\u001b[0;34m]\u001b[0m\u001b[0;34m\u001b[0m\u001b[0m\n\u001b[0m\u001b[1;32m    467\u001b[0m         \u001b[0;31m# have first part already, only loop while more to receive\u001b[0m\u001b[0;34m\u001b[0m\u001b[0;34m\u001b[0m\u001b[0m\n",
      "\u001b[0;32mzmq/backend/cython/socket.pyx\u001b[0m in \u001b[0;36mzmq.backend.cython.socket.Socket.recv\u001b[0;34m()\u001b[0m\n",
      "\u001b[0;32mzmq/backend/cython/socket.pyx\u001b[0m in \u001b[0;36mzmq.backend.cython.socket.Socket.recv\u001b[0;34m()\u001b[0m\n",
      "\u001b[0;32mzmq/backend/cython/socket.pyx\u001b[0m in \u001b[0;36mzmq.backend.cython.socket._recv_copy\u001b[0;34m()\u001b[0m\n",
      "\u001b[0;32m~/anaconda3/envs/insight/lib/python3.6/site-packages/zmq/backend/cython/checkrc.pxd\u001b[0m in \u001b[0;36mzmq.backend.cython.checkrc._check_rc\u001b[0;34m()\u001b[0m\n",
      "\u001b[0;31mKeyboardInterrupt\u001b[0m: ",
      "\nDuring handling of the above exception, another exception occurred:\n",
      "\u001b[0;31mKeyboardInterrupt\u001b[0m                         Traceback (most recent call last)",
      "\u001b[0;32m<ipython-input-534-76702bbdf7d8>\u001b[0m in \u001b[0;36m<module>\u001b[0;34m()\u001b[0m\n\u001b[1;32m      5\u001b[0m             \u001b[0mprint\u001b[0m\u001b[0;34m(\u001b[0m\u001b[0mpred\u001b[0m\u001b[0;34m,\u001b[0m \u001b[0mtrue\u001b[0m\u001b[0;34m,\u001b[0m \u001b[0mcount\u001b[0m\u001b[0;34m,\u001b[0m \u001b[0;34m'mismatch'\u001b[0m\u001b[0;34m)\u001b[0m\u001b[0;34m\u001b[0m\u001b[0m\n\u001b[1;32m      6\u001b[0m             \u001b[0mprint\u001b[0m\u001b[0;34m(\u001b[0m\u001b[0;34m' '\u001b[0m\u001b[0;34m.\u001b[0m\u001b[0mjoin\u001b[0m\u001b[0;34m(\u001b[0m\u001b[0mtext_list\u001b[0m\u001b[0;34m[\u001b[0m\u001b[0midx_test\u001b[0m\u001b[0;34m[\u001b[0m\u001b[0mcount\u001b[0m\u001b[0;34m]\u001b[0m\u001b[0;34m]\u001b[0m\u001b[0;34m)\u001b[0m\u001b[0;34m)\u001b[0m\u001b[0;34m\u001b[0m\u001b[0m\n\u001b[0;32m----> 7\u001b[0;31m             \u001b[0minput\u001b[0m\u001b[0;34m(\u001b[0m\u001b[0;34m)\u001b[0m\u001b[0;34m\u001b[0m\u001b[0m\n\u001b[0m\u001b[1;32m      8\u001b[0m     \u001b[0mconf_mat\u001b[0m\u001b[0;34m[\u001b[0m\u001b[0mpred\u001b[0m\u001b[0;34m,\u001b[0m\u001b[0mtrue\u001b[0m\u001b[0;34m]\u001b[0m \u001b[0;34m+=\u001b[0m \u001b[0;36m1.\u001b[0m\u001b[0;34m\u001b[0m\u001b[0m\n\u001b[1;32m      9\u001b[0m     \u001b[0mcount\u001b[0m \u001b[0;34m+=\u001b[0m \u001b[0;36m1\u001b[0m\u001b[0;34m\u001b[0m\u001b[0m\n",
      "\u001b[0;32m~/anaconda3/envs/insight/lib/python3.6/site-packages/ipykernel/kernelbase.py\u001b[0m in \u001b[0;36mraw_input\u001b[0;34m(self, prompt)\u001b[0m\n\u001b[1;32m    702\u001b[0m             \u001b[0mself\u001b[0m\u001b[0;34m.\u001b[0m\u001b[0m_parent_ident\u001b[0m\u001b[0;34m,\u001b[0m\u001b[0;34m\u001b[0m\u001b[0m\n\u001b[1;32m    703\u001b[0m             \u001b[0mself\u001b[0m\u001b[0;34m.\u001b[0m\u001b[0m_parent_header\u001b[0m\u001b[0;34m,\u001b[0m\u001b[0;34m\u001b[0m\u001b[0m\n\u001b[0;32m--> 704\u001b[0;31m             \u001b[0mpassword\u001b[0m\u001b[0;34m=\u001b[0m\u001b[0;32mFalse\u001b[0m\u001b[0;34m,\u001b[0m\u001b[0;34m\u001b[0m\u001b[0m\n\u001b[0m\u001b[1;32m    705\u001b[0m         )\n\u001b[1;32m    706\u001b[0m \u001b[0;34m\u001b[0m\u001b[0m\n",
      "\u001b[0;32m~/anaconda3/envs/insight/lib/python3.6/site-packages/ipykernel/kernelbase.py\u001b[0m in \u001b[0;36m_input_request\u001b[0;34m(self, prompt, ident, parent, password)\u001b[0m\n\u001b[1;32m    732\u001b[0m             \u001b[0;32mexcept\u001b[0m \u001b[0mKeyboardInterrupt\u001b[0m\u001b[0;34m:\u001b[0m\u001b[0;34m\u001b[0m\u001b[0m\n\u001b[1;32m    733\u001b[0m                 \u001b[0;31m# re-raise KeyboardInterrupt, to truncate traceback\u001b[0m\u001b[0;34m\u001b[0m\u001b[0;34m\u001b[0m\u001b[0m\n\u001b[0;32m--> 734\u001b[0;31m                 \u001b[0;32mraise\u001b[0m \u001b[0mKeyboardInterrupt\u001b[0m\u001b[0;34m\u001b[0m\u001b[0m\n\u001b[0m\u001b[1;32m    735\u001b[0m             \u001b[0;32melse\u001b[0m\u001b[0;34m:\u001b[0m\u001b[0;34m\u001b[0m\u001b[0m\n\u001b[1;32m    736\u001b[0m                 \u001b[0;32mbreak\u001b[0m\u001b[0;34m\u001b[0m\u001b[0m\n",
      "\u001b[0;31mKeyboardInterrupt\u001b[0m: "
     ]
    }
   ],
   "source": [
    "conf_mat = np.zeros((3,3))\n",
    "count = 0\n",
    "for pred, true in zip(y_pred, y_test):\n",
    "    if pred == 2 and true == 1:\n",
    "            print(pred, true, count, 'mismatch')\n",
    "            print(' '.join(text_list[idx_test[count]]))\n",
    "            input()\n",
    "    conf_mat[pred,true] += 1.\n",
    "    count += 1\n",
    "print(count)\n",
    "#conf_mat[2,1] += 1000\n",
    "#[y,x] format (first index (predicted) is on the vertical, second index (truth) is on the horizontal)\n",
    "plt.imshow(conf_mat)\n",
    "plt.colorbar()\n",
    "print(conf_mat, np.sum(conf_mat))\n",
    "print(Counter(y_test))"
   ]
  },
  {
   "cell_type": "markdown",
   "metadata": {},
   "source": [
    "# Section for testing new article against mean features"
   ]
  },
  {
   "cell_type": "code",
   "execution_count": null,
   "metadata": {},
   "outputs": [],
   "source": [
    "def compare_article(text_features):\n",
    "    #pub_list = [nyt, breit, wapo]\n",
    "    wc_mean = [np.mean(i.word_count) for i in pub_list]\n",
    "    print(wc_mean)\n",
    "    #wc_mean1 = [np.mean(nyt_wc), np.mean(breit_wc), np.mean(wapo_wc)]\n",
    "    #print(wc_mean, wc_mean1)\n",
    "    sent_len_mean = [np.mean(i.sent_len) for i in pub_list]#, np.mean(breit_sent_len), np.mean(wapo_sent_len)]\n",
    "    sent_len_std_mean = [np.mean(i.sent_len_std) for i in pub_list]#, np.mean(breit_sent_len_std), np.mean(wapo_sent_len_std)]\n",
    "    unique_word_frac_mean = [np.mean(i.unique_word_frac) for i in pub_list]#, np.mean(breit_unique_word_frac), np.mean(wapo_unique_word_frac)]\n",
    "    word_len_mean = [np.mean(i.word_len) for i in pub_list]#, np.mean(breit_word_len), np.mean(wapo_word_len)]\n",
    "    cps_mean = [np.mean(i.cps) for i in pub_list]#, np.mean(breit_cps), np.mean(wapo_cps)]\n",
    "    features = ['sentence length', 'sentence length distribution', 'unique word fraction', 'word length', 'commas per sentence']\n",
    "    mean_features = [[i, j, k, l, m] for i, j, k, l, m in zip(sent_len_mean, sent_len_std_mean, unique_word_frac_mean, word_len_mean, cps_mean)]\n",
    "    print(mean_features)\n",
    "    pickle.dump(mean_features, open('mean_features.p', 'wb'))\n",
    "    return [[float(i/j) for i,j in zip(text_features, pub_features)] for pub_features in mean_features]"
   ]
  },
  {
   "cell_type": "code",
   "execution_count": null,
   "metadata": {},
   "outputs": [],
   "source": [
    "#generate features for a single text (THIS NEEDS TO GO INTO THE CLASS)\n",
    "def generate_features(text):\n",
    "    sent_tok, word_tok, string_counts = prepare_text(text)\n",
    "    sent_tok = sent_tok[0]\n",
    "    word_tok = word_tok[0]\n",
    "    string_counts = string_counts[0]\n",
    "    \n",
    "    punctuation_set = set(string.punctuation)\n",
    "    word_count = len([word for word in word_tok if word not in punctuation_set])\n",
    "    sent_count = len(sent_tok)\n",
    "    sent_len = float(word_count / sent_count)\n",
    "    sent_std = np.std([len(sent) for sent in sent_tok])\n",
    "\n",
    "    unique_word_count = len(set([word for word in word_tok if word not in punctuation_set]))\n",
    "    unique_word_frac = float(unique_word_count / word_count)\n",
    "    mean_word_length = np.mean([len(word) for word in word_tok if word not in punctuation_set])\n",
    "\n",
    "    cps = string_counts[',']/sent_count\n",
    "    return [sent_len, sent_std, unique_word_frac, mean_word_length, cps]"
   ]
  },
  {
   "cell_type": "code",
   "execution_count": 119,
   "metadata": {},
   "outputs": [],
   "source": [
    "#print(' '.join(nyt_sent[0]))\n",
    "features = generate_features([' '.join(nyt_sent[10])])\n",
    "\n",
    "print(features)\n",
    "features_compare_to_mean = compare_article(features)\n",
    "features = ['sentence length', 'sentence length distribution', 'unique word fraction', 'word length', 'commas per sentence']\n",
    "plt.title('Features compared to average for {}'.format(\"New York Times\"))\n",
    "plt.bar(list(range(5)), features_compare_to_mean[2], color = 'r')\n",
    "plt.bar(list(range(5)), [1 for _ in range(5)], color = 'black', alpha = 0.5)\n",
    "#plt.ylim((0,1.2))\n",
    "plt.xticks(range(5), features, rotation = 45, ha = 'right')\n",
    "#plt.bar(list(range(5)), features_compare_to_mean[1], alpha = 0.5)\n",
    "\n",
    "#plt.bar(list(range(5)), features_compare_to_mean[2], alpha = 0.5)"
   ]
  },
  {
   "cell_type": "code",
   "execution_count": null,
   "metadata": {},
   "outputs": [],
   "source": [
    "from sklearn.externals import joblib\n",
    "joblib.dump(clf, 'decision_tree_10.pkl') "
   ]
  },
  {
   "cell_type": "code",
   "execution_count": 176,
   "metadata": {},
   "outputs": [
    {
     "ename": "NotFittedError",
     "evalue": "This RandomForestClassifier instance is not fitted yet. Call 'fit' with appropriate arguments before using this method.",
     "output_type": "error",
     "traceback": [
      "\u001b[0;31m---------------------------------------------------------------------------\u001b[0m",
      "\u001b[0;31mNotFittedError\u001b[0m                            Traceback (most recent call last)",
      "\u001b[0;32m<ipython-input-176-26372a4bac5e>\u001b[0m in \u001b[0;36m<module>\u001b[0;34m()\u001b[0m\n\u001b[1;32m      8\u001b[0m export_graphviz(clf, out_file=dot_data,  \n\u001b[1;32m      9\u001b[0m                 \u001b[0mfilled\u001b[0m\u001b[0;34m=\u001b[0m\u001b[0;32mTrue\u001b[0m\u001b[0;34m,\u001b[0m \u001b[0mrounded\u001b[0m\u001b[0;34m=\u001b[0m\u001b[0;32mTrue\u001b[0m\u001b[0;34m,\u001b[0m\u001b[0;34m\u001b[0m\u001b[0m\n\u001b[0;32m---> 10\u001b[0;31m                 special_characters=True)\n\u001b[0m\u001b[1;32m     11\u001b[0m \u001b[0;34m\u001b[0m\u001b[0m\n\u001b[1;32m     12\u001b[0m \u001b[0mgraph\u001b[0m \u001b[0;34m=\u001b[0m \u001b[0mpydotplus\u001b[0m\u001b[0;34m.\u001b[0m\u001b[0mgraph_from_dot_data\u001b[0m\u001b[0;34m(\u001b[0m\u001b[0mdot_data\u001b[0m\u001b[0;34m.\u001b[0m\u001b[0mgetvalue\u001b[0m\u001b[0;34m(\u001b[0m\u001b[0;34m)\u001b[0m\u001b[0;34m)\u001b[0m\u001b[0;34m\u001b[0m\u001b[0m\n",
      "\u001b[0;32m~/anaconda3/envs/insight/lib/python3.6/site-packages/sklearn/tree/export.py\u001b[0m in \u001b[0;36mexport_graphviz\u001b[0;34m(decision_tree, out_file, max_depth, feature_names, class_names, label, filled, leaves_parallel, impurity, node_ids, proportion, rotate, rounded, special_characters, precision)\u001b[0m\n\u001b[1;32m    390\u001b[0m                 \u001b[0mout_file\u001b[0m\u001b[0;34m.\u001b[0m\u001b[0mwrite\u001b[0m\u001b[0;34m(\u001b[0m\u001b[0;34m'%d -> %d ;\\n'\u001b[0m \u001b[0;34m%\u001b[0m \u001b[0;34m(\u001b[0m\u001b[0mparent\u001b[0m\u001b[0;34m,\u001b[0m \u001b[0mnode_id\u001b[0m\u001b[0;34m)\u001b[0m\u001b[0;34m)\u001b[0m\u001b[0;34m\u001b[0m\u001b[0m\n\u001b[1;32m    391\u001b[0m \u001b[0;34m\u001b[0m\u001b[0m\n\u001b[0;32m--> 392\u001b[0;31m     \u001b[0mcheck_is_fitted\u001b[0m\u001b[0;34m(\u001b[0m\u001b[0mdecision_tree\u001b[0m\u001b[0;34m,\u001b[0m \u001b[0;34m'tree_'\u001b[0m\u001b[0;34m)\u001b[0m\u001b[0;34m\u001b[0m\u001b[0m\n\u001b[0m\u001b[1;32m    393\u001b[0m     \u001b[0mown_file\u001b[0m \u001b[0;34m=\u001b[0m \u001b[0;32mFalse\u001b[0m\u001b[0;34m\u001b[0m\u001b[0m\n\u001b[1;32m    394\u001b[0m     \u001b[0mreturn_string\u001b[0m \u001b[0;34m=\u001b[0m \u001b[0;32mFalse\u001b[0m\u001b[0;34m\u001b[0m\u001b[0m\n",
      "\u001b[0;32m~/anaconda3/envs/insight/lib/python3.6/site-packages/sklearn/utils/validation.py\u001b[0m in \u001b[0;36mcheck_is_fitted\u001b[0;34m(estimator, attributes, msg, all_or_any)\u001b[0m\n\u001b[1;32m    766\u001b[0m \u001b[0;34m\u001b[0m\u001b[0m\n\u001b[1;32m    767\u001b[0m     \u001b[0;32mif\u001b[0m \u001b[0;32mnot\u001b[0m \u001b[0mall_or_any\u001b[0m\u001b[0;34m(\u001b[0m\u001b[0;34m[\u001b[0m\u001b[0mhasattr\u001b[0m\u001b[0;34m(\u001b[0m\u001b[0mestimator\u001b[0m\u001b[0;34m,\u001b[0m \u001b[0mattr\u001b[0m\u001b[0;34m)\u001b[0m \u001b[0;32mfor\u001b[0m \u001b[0mattr\u001b[0m \u001b[0;32min\u001b[0m \u001b[0mattributes\u001b[0m\u001b[0;34m]\u001b[0m\u001b[0;34m)\u001b[0m\u001b[0;34m:\u001b[0m\u001b[0;34m\u001b[0m\u001b[0m\n\u001b[0;32m--> 768\u001b[0;31m         \u001b[0;32mraise\u001b[0m \u001b[0mNotFittedError\u001b[0m\u001b[0;34m(\u001b[0m\u001b[0mmsg\u001b[0m \u001b[0;34m%\u001b[0m \u001b[0;34m{\u001b[0m\u001b[0;34m'name'\u001b[0m\u001b[0;34m:\u001b[0m \u001b[0mtype\u001b[0m\u001b[0;34m(\u001b[0m\u001b[0mestimator\u001b[0m\u001b[0;34m)\u001b[0m\u001b[0;34m.\u001b[0m\u001b[0m__name__\u001b[0m\u001b[0;34m}\u001b[0m\u001b[0;34m)\u001b[0m\u001b[0;34m\u001b[0m\u001b[0m\n\u001b[0m\u001b[1;32m    769\u001b[0m \u001b[0;34m\u001b[0m\u001b[0m\n\u001b[1;32m    770\u001b[0m \u001b[0;34m\u001b[0m\u001b[0m\n",
      "\u001b[0;31mNotFittedError\u001b[0m: This RandomForestClassifier instance is not fitted yet. Call 'fit' with appropriate arguments before using this method."
     ]
    }
   ],
   "source": [
    "from sklearn.externals.six import StringIO  \n",
    "from IPython.display import Image  \n",
    "from sklearn.tree import export_graphviz\n",
    "import pydotplus\n",
    "\n",
    "dot_data = StringIO()\n",
    "\n",
    "export_graphviz(clf, out_file=dot_data,  \n",
    "                filled=True, rounded=True,\n",
    "                special_characters=True)\n",
    "\n",
    "graph = pydotplus.graph_from_dot_data(dot_data.getvalue())  \n",
    "Image(graph.create_png())"
   ]
  },
  {
   "cell_type": "code",
   "execution_count": null,
   "metadata": {},
   "outputs": [],
   "source": []
  }
 ],
 "metadata": {
  "kernelspec": {
   "display_name": "Python 3",
   "language": "python",
   "name": "python3"
  },
  "language_info": {
   "codemirror_mode": {
    "name": "ipython",
    "version": 3
   },
   "file_extension": ".py",
   "mimetype": "text/x-python",
   "name": "python",
   "nbconvert_exporter": "python",
   "pygments_lexer": "ipython3",
   "version": "3.6.5"
  }
 },
 "nbformat": 4,
 "nbformat_minor": 2
}
